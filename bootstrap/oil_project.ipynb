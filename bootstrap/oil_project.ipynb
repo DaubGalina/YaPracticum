{
 "cells": [
  {
   "cell_type": "markdown",
   "metadata": {},
   "source": [
    "# Выбор локации для скважины"
   ]
  },
  {
   "cell_type": "markdown",
   "metadata": {},
   "source": [
    "Нам нужно решить, где бурить новую скважину в добывающей компании.\n",
    "\n",
    "Нам предоставлены пробы нефти в трёх регионах: в каждом 10 000 месторождений, где измерили качество нефти и объём её запасов. Построим модель машинного обучения, которая поможет определить регион, где добыча принесёт наибольшую прибыль. Проанализируем возможную прибыль и риски техникой *Bootstrap.*\n",
    "\n",
    "Шаги для выбора локации:\n",
    "\n",
    "- В избранном регионе найдём месторождения, для каждого определим значения признаков;\n",
    "- Построим модель и оценим объём запасов;\n",
    "- Выберем месторождения с самыми высокими оценками значений. Количество месторождений зависит от бюджета компании и стоимости разработки одной скважины;\n",
    "- Прибыль равна суммарной прибыли отобранных месторождений."
   ]
  },
  {
   "cell_type": "markdown",
   "metadata": {},
   "source": [
    "## Загрузка и подготовка данных"
   ]
  },
  {
   "cell_type": "markdown",
   "metadata": {},
   "source": [
    "### Импортируем библиотеки"
   ]
  },
  {
   "cell_type": "code",
   "execution_count": 1,
   "metadata": {},
   "outputs": [
    {
     "name": "stderr",
     "output_type": "stream",
     "text": [
      "/home/dgv/.local/lib/python3.7/site-packages/pandas/compat/__init__.py:120: UserWarning: Could not import the lzma module. Your installed Python is incomplete. Attempting to use lzma compression will result in a RuntimeError.\n",
      "  warnings.warn(msg)\n"
     ]
    }
   ],
   "source": [
    "import pandas as pd\n",
    "import numpy as np\n",
    "import matplotlib.pyplot as plt\n",
    "from scipy import stats as st\n",
    "\n",
    "import warnings\n",
    "warnings.filterwarnings(\"ignore\")\n",
    "\n",
    "from sklearn.model_selection import train_test_split\n",
    "from sklearn.linear_model import LinearRegression\n",
    "from sklearn.preprocessing import StandardScaler\n",
    "\n",
    "from sklearn.metrics import mean_squared_error"
   ]
  },
  {
   "cell_type": "markdown",
   "metadata": {},
   "source": [
    "Мы импортирловали необходимые библиотеки в начало проекта, что бы в нашей работе не возникало ошибок."
   ]
  },
  {
   "cell_type": "markdown",
   "metadata": {},
   "source": [
    "### Прочитаем таблицы"
   ]
  },
  {
   "cell_type": "markdown",
   "metadata": {},
   "source": [
    "#### Регион 1 (data_0)"
   ]
  },
  {
   "cell_type": "code",
   "execution_count": 2,
   "metadata": {},
   "outputs": [
    {
     "name": "stdout",
     "output_type": "stream",
     "text": [
      "<class 'pandas.core.frame.DataFrame'>\n",
      "RangeIndex: 100000 entries, 0 to 99999\n",
      "Data columns (total 5 columns):\n",
      " #   Column   Non-Null Count   Dtype  \n",
      "---  ------   --------------   -----  \n",
      " 0   id       100000 non-null  object \n",
      " 1   f0       100000 non-null  float64\n",
      " 2   f1       100000 non-null  float64\n",
      " 3   f2       100000 non-null  float64\n",
      " 4   product  100000 non-null  float64\n",
      "dtypes: float64(4), object(1)\n",
      "memory usage: 3.8+ MB\n"
     ]
    },
    {
     "data": {
      "text/html": [
       "<div>\n",
       "<style scoped>\n",
       "    .dataframe tbody tr th:only-of-type {\n",
       "        vertical-align: middle;\n",
       "    }\n",
       "\n",
       "    .dataframe tbody tr th {\n",
       "        vertical-align: top;\n",
       "    }\n",
       "\n",
       "    .dataframe thead th {\n",
       "        text-align: right;\n",
       "    }\n",
       "</style>\n",
       "<table border=\"1\" class=\"dataframe\">\n",
       "  <thead>\n",
       "    <tr style=\"text-align: right;\">\n",
       "      <th></th>\n",
       "      <th>id</th>\n",
       "      <th>f0</th>\n",
       "      <th>f1</th>\n",
       "      <th>f2</th>\n",
       "      <th>product</th>\n",
       "    </tr>\n",
       "  </thead>\n",
       "  <tbody>\n",
       "    <tr>\n",
       "      <th>0</th>\n",
       "      <td>txEyH</td>\n",
       "      <td>0.705745</td>\n",
       "      <td>-0.497823</td>\n",
       "      <td>1.221170</td>\n",
       "      <td>105.280062</td>\n",
       "    </tr>\n",
       "    <tr>\n",
       "      <th>1</th>\n",
       "      <td>2acmU</td>\n",
       "      <td>1.334711</td>\n",
       "      <td>-0.340164</td>\n",
       "      <td>4.365080</td>\n",
       "      <td>73.037750</td>\n",
       "    </tr>\n",
       "    <tr>\n",
       "      <th>2</th>\n",
       "      <td>409Wp</td>\n",
       "      <td>1.022732</td>\n",
       "      <td>0.151990</td>\n",
       "      <td>1.419926</td>\n",
       "      <td>85.265647</td>\n",
       "    </tr>\n",
       "    <tr>\n",
       "      <th>3</th>\n",
       "      <td>iJLyR</td>\n",
       "      <td>-0.032172</td>\n",
       "      <td>0.139033</td>\n",
       "      <td>2.978566</td>\n",
       "      <td>168.620776</td>\n",
       "    </tr>\n",
       "    <tr>\n",
       "      <th>4</th>\n",
       "      <td>Xdl7t</td>\n",
       "      <td>1.988431</td>\n",
       "      <td>0.155413</td>\n",
       "      <td>4.751769</td>\n",
       "      <td>154.036647</td>\n",
       "    </tr>\n",
       "  </tbody>\n",
       "</table>\n",
       "</div>"
      ],
      "text/plain": [
       "      id        f0        f1        f2     product\n",
       "0  txEyH  0.705745 -0.497823  1.221170  105.280062\n",
       "1  2acmU  1.334711 -0.340164  4.365080   73.037750\n",
       "2  409Wp  1.022732  0.151990  1.419926   85.265647\n",
       "3  iJLyR -0.032172  0.139033  2.978566  168.620776\n",
       "4  Xdl7t  1.988431  0.155413  4.751769  154.036647"
      ]
     },
     "execution_count": 2,
     "metadata": {},
     "output_type": "execute_result"
    }
   ],
   "source": [
    "data_0 = pd.read_csv('geo_data_0.csv')\n",
    "data_0.info()\n",
    "data_0.head()"
   ]
  },
  {
   "cell_type": "markdown",
   "metadata": {},
   "source": [
    "#### Регион 2 (data_1)"
   ]
  },
  {
   "cell_type": "code",
   "execution_count": 3,
   "metadata": {},
   "outputs": [
    {
     "name": "stdout",
     "output_type": "stream",
     "text": [
      "<class 'pandas.core.frame.DataFrame'>\n",
      "RangeIndex: 100000 entries, 0 to 99999\n",
      "Data columns (total 5 columns):\n",
      " #   Column   Non-Null Count   Dtype  \n",
      "---  ------   --------------   -----  \n",
      " 0   id       100000 non-null  object \n",
      " 1   f0       100000 non-null  float64\n",
      " 2   f1       100000 non-null  float64\n",
      " 3   f2       100000 non-null  float64\n",
      " 4   product  100000 non-null  float64\n",
      "dtypes: float64(4), object(1)\n",
      "memory usage: 3.8+ MB\n"
     ]
    },
    {
     "data": {
      "text/html": [
       "<div>\n",
       "<style scoped>\n",
       "    .dataframe tbody tr th:only-of-type {\n",
       "        vertical-align: middle;\n",
       "    }\n",
       "\n",
       "    .dataframe tbody tr th {\n",
       "        vertical-align: top;\n",
       "    }\n",
       "\n",
       "    .dataframe thead th {\n",
       "        text-align: right;\n",
       "    }\n",
       "</style>\n",
       "<table border=\"1\" class=\"dataframe\">\n",
       "  <thead>\n",
       "    <tr style=\"text-align: right;\">\n",
       "      <th></th>\n",
       "      <th>id</th>\n",
       "      <th>f0</th>\n",
       "      <th>f1</th>\n",
       "      <th>f2</th>\n",
       "      <th>product</th>\n",
       "    </tr>\n",
       "  </thead>\n",
       "  <tbody>\n",
       "    <tr>\n",
       "      <th>0</th>\n",
       "      <td>kBEdx</td>\n",
       "      <td>-15.001348</td>\n",
       "      <td>-8.276000</td>\n",
       "      <td>-0.005876</td>\n",
       "      <td>3.179103</td>\n",
       "    </tr>\n",
       "    <tr>\n",
       "      <th>1</th>\n",
       "      <td>62mP7</td>\n",
       "      <td>14.272088</td>\n",
       "      <td>-3.475083</td>\n",
       "      <td>0.999183</td>\n",
       "      <td>26.953261</td>\n",
       "    </tr>\n",
       "    <tr>\n",
       "      <th>2</th>\n",
       "      <td>vyE1P</td>\n",
       "      <td>6.263187</td>\n",
       "      <td>-5.948386</td>\n",
       "      <td>5.001160</td>\n",
       "      <td>134.766305</td>\n",
       "    </tr>\n",
       "    <tr>\n",
       "      <th>3</th>\n",
       "      <td>KcrkZ</td>\n",
       "      <td>-13.081196</td>\n",
       "      <td>-11.506057</td>\n",
       "      <td>4.999415</td>\n",
       "      <td>137.945408</td>\n",
       "    </tr>\n",
       "    <tr>\n",
       "      <th>4</th>\n",
       "      <td>AHL4O</td>\n",
       "      <td>12.702195</td>\n",
       "      <td>-8.147433</td>\n",
       "      <td>5.004363</td>\n",
       "      <td>134.766305</td>\n",
       "    </tr>\n",
       "  </tbody>\n",
       "</table>\n",
       "</div>"
      ],
      "text/plain": [
       "      id         f0         f1        f2     product\n",
       "0  kBEdx -15.001348  -8.276000 -0.005876    3.179103\n",
       "1  62mP7  14.272088  -3.475083  0.999183   26.953261\n",
       "2  vyE1P   6.263187  -5.948386  5.001160  134.766305\n",
       "3  KcrkZ -13.081196 -11.506057  4.999415  137.945408\n",
       "4  AHL4O  12.702195  -8.147433  5.004363  134.766305"
      ]
     },
     "execution_count": 3,
     "metadata": {},
     "output_type": "execute_result"
    }
   ],
   "source": [
    "data_1 = pd.read_csv('geo_data_1.csv')\n",
    "data_1.info()\n",
    "data_1.head()"
   ]
  },
  {
   "cell_type": "markdown",
   "metadata": {},
   "source": [
    "#### Регион 3 (data_2)"
   ]
  },
  {
   "cell_type": "code",
   "execution_count": 4,
   "metadata": {},
   "outputs": [
    {
     "name": "stdout",
     "output_type": "stream",
     "text": [
      "<class 'pandas.core.frame.DataFrame'>\n",
      "RangeIndex: 100000 entries, 0 to 99999\n",
      "Data columns (total 5 columns):\n",
      " #   Column   Non-Null Count   Dtype  \n",
      "---  ------   --------------   -----  \n",
      " 0   id       100000 non-null  object \n",
      " 1   f0       100000 non-null  float64\n",
      " 2   f1       100000 non-null  float64\n",
      " 3   f2       100000 non-null  float64\n",
      " 4   product  100000 non-null  float64\n",
      "dtypes: float64(4), object(1)\n",
      "memory usage: 3.8+ MB\n"
     ]
    },
    {
     "data": {
      "text/html": [
       "<div>\n",
       "<style scoped>\n",
       "    .dataframe tbody tr th:only-of-type {\n",
       "        vertical-align: middle;\n",
       "    }\n",
       "\n",
       "    .dataframe tbody tr th {\n",
       "        vertical-align: top;\n",
       "    }\n",
       "\n",
       "    .dataframe thead th {\n",
       "        text-align: right;\n",
       "    }\n",
       "</style>\n",
       "<table border=\"1\" class=\"dataframe\">\n",
       "  <thead>\n",
       "    <tr style=\"text-align: right;\">\n",
       "      <th></th>\n",
       "      <th>id</th>\n",
       "      <th>f0</th>\n",
       "      <th>f1</th>\n",
       "      <th>f2</th>\n",
       "      <th>product</th>\n",
       "    </tr>\n",
       "  </thead>\n",
       "  <tbody>\n",
       "    <tr>\n",
       "      <th>0</th>\n",
       "      <td>fwXo0</td>\n",
       "      <td>-1.146987</td>\n",
       "      <td>0.963328</td>\n",
       "      <td>-0.828965</td>\n",
       "      <td>27.758673</td>\n",
       "    </tr>\n",
       "    <tr>\n",
       "      <th>1</th>\n",
       "      <td>WJtFt</td>\n",
       "      <td>0.262778</td>\n",
       "      <td>0.269839</td>\n",
       "      <td>-2.530187</td>\n",
       "      <td>56.069697</td>\n",
       "    </tr>\n",
       "    <tr>\n",
       "      <th>2</th>\n",
       "      <td>ovLUW</td>\n",
       "      <td>0.194587</td>\n",
       "      <td>0.289035</td>\n",
       "      <td>-5.586433</td>\n",
       "      <td>62.871910</td>\n",
       "    </tr>\n",
       "    <tr>\n",
       "      <th>3</th>\n",
       "      <td>q6cA6</td>\n",
       "      <td>2.236060</td>\n",
       "      <td>-0.553760</td>\n",
       "      <td>0.930038</td>\n",
       "      <td>114.572842</td>\n",
       "    </tr>\n",
       "    <tr>\n",
       "      <th>4</th>\n",
       "      <td>WPMUX</td>\n",
       "      <td>-0.515993</td>\n",
       "      <td>1.716266</td>\n",
       "      <td>5.899011</td>\n",
       "      <td>149.600746</td>\n",
       "    </tr>\n",
       "  </tbody>\n",
       "</table>\n",
       "</div>"
      ],
      "text/plain": [
       "      id        f0        f1        f2     product\n",
       "0  fwXo0 -1.146987  0.963328 -0.828965   27.758673\n",
       "1  WJtFt  0.262778  0.269839 -2.530187   56.069697\n",
       "2  ovLUW  0.194587  0.289035 -5.586433   62.871910\n",
       "3  q6cA6  2.236060 -0.553760  0.930038  114.572842\n",
       "4  WPMUX -0.515993  1.716266  5.899011  149.600746"
      ]
     },
     "execution_count": 4,
     "metadata": {},
     "output_type": "execute_result"
    }
   ],
   "source": [
    "data_2 = pd.read_csv('geo_data_2.csv')\n",
    "data_2.info()\n",
    "data_2.head()"
   ]
  },
  {
   "cell_type": "markdown",
   "metadata": {},
   "source": [
    "Мы прочитали таблицы методом библиотеки pandas `read_csv()` и вывели информацию о таблицах методами `info()` и `head()` и определили 3 региона (Регион 1 (data_0), Регион 2 (data_1), Регион 3 (data_2)). В каждой из таблиц 100000 строк и 5 столбцов. Типы данных *object* и *float64*."
   ]
  },
  {
   "cell_type": "markdown",
   "metadata": {},
   "source": [
    "### Проверим, нет ли одинаковых значений"
   ]
  },
  {
   "cell_type": "code",
   "execution_count": 5,
   "metadata": {},
   "outputs": [
    {
     "data": {
      "text/plain": [
       "10"
      ]
     },
     "execution_count": 5,
     "metadata": {},
     "output_type": "execute_result"
    }
   ],
   "source": [
    "data_0['id'].duplicated().sum()"
   ]
  },
  {
   "cell_type": "code",
   "execution_count": 6,
   "metadata": {},
   "outputs": [
    {
     "data": {
      "text/plain": [
       "4"
      ]
     },
     "execution_count": 6,
     "metadata": {},
     "output_type": "execute_result"
    }
   ],
   "source": [
    "data_1['id'].duplicated().sum()"
   ]
  },
  {
   "cell_type": "code",
   "execution_count": 7,
   "metadata": {},
   "outputs": [
    {
     "data": {
      "text/plain": [
       "4"
      ]
     },
     "execution_count": 7,
     "metadata": {},
     "output_type": "execute_result"
    }
   ],
   "source": [
    "data_2['id'].duplicated().sum()"
   ]
  },
  {
   "cell_type": "code",
   "execution_count": 8,
   "metadata": {},
   "outputs": [
    {
     "data": {
      "text/plain": [
       "Tdehs    2\n",
       "74z30    2\n",
       "fiKDv    2\n",
       "HZww2    2\n",
       "A5aEY    2\n",
       "bxg6G    2\n",
       "QcMuo    2\n",
       "TtcGQ    2\n",
       "AGS9W    2\n",
       "bsk9y    2\n",
       "n5Niq    1\n",
       "zPulK    1\n",
       "Name: id, dtype: int64"
      ]
     },
     "execution_count": 8,
     "metadata": {},
     "output_type": "execute_result"
    }
   ],
   "source": [
    "data_0['id'].value_counts().head(12)"
   ]
  },
  {
   "cell_type": "code",
   "execution_count": 9,
   "metadata": {},
   "outputs": [
    {
     "data": {
      "text/plain": [
       "LHZR0    2\n",
       "bfPNe    2\n",
       "wt4Uk    2\n",
       "5ltQ6    2\n",
       "1qChu    1\n",
       "Name: id, dtype: int64"
      ]
     },
     "execution_count": 9,
     "metadata": {},
     "output_type": "execute_result"
    }
   ],
   "source": [
    "data_1['id'].value_counts().head(5)"
   ]
  },
  {
   "cell_type": "markdown",
   "metadata": {},
   "source": [
    "Удалим дубликаты и проверим таблицу:"
   ]
  },
  {
   "cell_type": "code",
   "execution_count": 10,
   "metadata": {},
   "outputs": [],
   "source": [
    "data_0['id'] = data_0['id'].drop_duplicates().reset_index(drop=True)\n",
    "data_1['id'] = data_1['id'].drop_duplicates().reset_index(drop=True)\n",
    "data_2['id'] = data_2['id'].drop_duplicates().reset_index(drop=True)"
   ]
  },
  {
   "cell_type": "code",
   "execution_count": 11,
   "metadata": {},
   "outputs": [
    {
     "data": {
      "text/plain": [
       "4SOLl    1\n",
       "OG2VU    1\n",
       "RjOKi    1\n",
       "8gkFW    1\n",
       "psgvK    1\n",
       "Name: id, dtype: int64"
      ]
     },
     "execution_count": 11,
     "metadata": {},
     "output_type": "execute_result"
    }
   ],
   "source": [
    "\n",
    "data_0['id'].value_counts().head()"
   ]
  },
  {
   "cell_type": "code",
   "execution_count": 12,
   "metadata": {},
   "outputs": [
    {
     "data": {
      "text/plain": [
       "1qChu    1\n",
       "UQbxu    1\n",
       "PzHzA    1\n",
       "wOb5f    1\n",
       "Ss2n0    1\n",
       "Name: id, dtype: int64"
      ]
     },
     "execution_count": 12,
     "metadata": {},
     "output_type": "execute_result"
    }
   ],
   "source": [
    "data_1['id'].value_counts().head()"
   ]
  },
  {
   "cell_type": "code",
   "execution_count": 13,
   "metadata": {},
   "outputs": [
    {
     "data": {
      "text/plain": [
       "Gnt4J    1\n",
       "i260B    1\n",
       "W3ThG    1\n",
       "jV3MR    1\n",
       "5Hssb    1\n",
       "Name: id, dtype: int64"
      ]
     },
     "execution_count": 13,
     "metadata": {},
     "output_type": "execute_result"
    }
   ],
   "source": [
    "data_2['id'].value_counts().head()"
   ]
  },
  {
   "cell_type": "markdown",
   "metadata": {},
   "source": [
    "Двойных id больше нет."
   ]
  },
  {
   "cell_type": "markdown",
   "metadata": {},
   "source": [
    "### Изучим распределение признаков"
   ]
  },
  {
   "cell_type": "code",
   "execution_count": 14,
   "metadata": {},
   "outputs": [
    {
     "data": {
      "text/html": [
       "<div>\n",
       "<style scoped>\n",
       "    .dataframe tbody tr th:only-of-type {\n",
       "        vertical-align: middle;\n",
       "    }\n",
       "\n",
       "    .dataframe tbody tr th {\n",
       "        vertical-align: top;\n",
       "    }\n",
       "\n",
       "    .dataframe thead th {\n",
       "        text-align: right;\n",
       "    }\n",
       "</style>\n",
       "<table border=\"1\" class=\"dataframe\">\n",
       "  <thead>\n",
       "    <tr style=\"text-align: right;\">\n",
       "      <th></th>\n",
       "      <th>id</th>\n",
       "      <th>f0</th>\n",
       "      <th>f1</th>\n",
       "      <th>f2</th>\n",
       "      <th>product</th>\n",
       "    </tr>\n",
       "  </thead>\n",
       "  <tbody>\n",
       "    <tr>\n",
       "      <th>8826</th>\n",
       "      <td>0gk3U</td>\n",
       "      <td>1.797736</td>\n",
       "      <td>0.098212</td>\n",
       "      <td>6.148260</td>\n",
       "      <td>185.364347</td>\n",
       "    </tr>\n",
       "    <tr>\n",
       "      <th>99818</th>\n",
       "      <td>WvrJy</td>\n",
       "      <td>0.518445</td>\n",
       "      <td>-0.412790</td>\n",
       "      <td>4.951916</td>\n",
       "      <td>185.362690</td>\n",
       "    </tr>\n",
       "    <tr>\n",
       "      <th>94175</th>\n",
       "      <td>nOLPm</td>\n",
       "      <td>0.351428</td>\n",
       "      <td>-0.400244</td>\n",
       "      <td>7.227618</td>\n",
       "      <td>185.355615</td>\n",
       "    </tr>\n",
       "    <tr>\n",
       "      <th>1925</th>\n",
       "      <td>IfqrC</td>\n",
       "      <td>0.624430</td>\n",
       "      <td>-0.469312</td>\n",
       "      <td>5.753677</td>\n",
       "      <td>185.354980</td>\n",
       "    </tr>\n",
       "    <tr>\n",
       "      <th>45291</th>\n",
       "      <td>wmojx</td>\n",
       "      <td>1.758787</td>\n",
       "      <td>-0.395038</td>\n",
       "      <td>6.719085</td>\n",
       "      <td>185.352015</td>\n",
       "    </tr>\n",
       "    <tr>\n",
       "      <th>...</th>\n",
       "      <td>...</td>\n",
       "      <td>...</td>\n",
       "      <td>...</td>\n",
       "      <td>...</td>\n",
       "      <td>...</td>\n",
       "    </tr>\n",
       "    <tr>\n",
       "      <th>55969</th>\n",
       "      <td>lNCWM</td>\n",
       "      <td>-0.792553</td>\n",
       "      <td>0.439711</td>\n",
       "      <td>-0.696314</td>\n",
       "      <td>0.021781</td>\n",
       "    </tr>\n",
       "    <tr>\n",
       "      <th>5105</th>\n",
       "      <td>kmJjD</td>\n",
       "      <td>-0.701882</td>\n",
       "      <td>0.570246</td>\n",
       "      <td>2.288005</td>\n",
       "      <td>0.009428</td>\n",
       "    </tr>\n",
       "    <tr>\n",
       "      <th>58769</th>\n",
       "      <td>USvaF</td>\n",
       "      <td>-0.702486</td>\n",
       "      <td>0.523053</td>\n",
       "      <td>-1.224802</td>\n",
       "      <td>0.006114</td>\n",
       "    </tr>\n",
       "    <tr>\n",
       "      <th>97721</th>\n",
       "      <td>dBXdU</td>\n",
       "      <td>0.701532</td>\n",
       "      <td>0.808797</td>\n",
       "      <td>-2.221334</td>\n",
       "      <td>0.004022</td>\n",
       "    </tr>\n",
       "    <tr>\n",
       "      <th>57263</th>\n",
       "      <td>AK4bR</td>\n",
       "      <td>-0.702064</td>\n",
       "      <td>0.375992</td>\n",
       "      <td>0.236572</td>\n",
       "      <td>0.000000</td>\n",
       "    </tr>\n",
       "  </tbody>\n",
       "</table>\n",
       "<p>100000 rows × 5 columns</p>\n",
       "</div>"
      ],
      "text/plain": [
       "          id        f0        f1        f2     product\n",
       "8826   0gk3U  1.797736  0.098212  6.148260  185.364347\n",
       "99818  WvrJy  0.518445 -0.412790  4.951916  185.362690\n",
       "94175  nOLPm  0.351428 -0.400244  7.227618  185.355615\n",
       "1925   IfqrC  0.624430 -0.469312  5.753677  185.354980\n",
       "45291  wmojx  1.758787 -0.395038  6.719085  185.352015\n",
       "...      ...       ...       ...       ...         ...\n",
       "55969  lNCWM -0.792553  0.439711 -0.696314    0.021781\n",
       "5105   kmJjD -0.701882  0.570246  2.288005    0.009428\n",
       "58769  USvaF -0.702486  0.523053 -1.224802    0.006114\n",
       "97721  dBXdU  0.701532  0.808797 -2.221334    0.004022\n",
       "57263  AK4bR -0.702064  0.375992  0.236572    0.000000\n",
       "\n",
       "[100000 rows x 5 columns]"
      ]
     },
     "execution_count": 14,
     "metadata": {},
     "output_type": "execute_result"
    }
   ],
   "source": [
    "data_0.sort_values('product', ascending=False)"
   ]
  },
  {
   "cell_type": "markdown",
   "metadata": {},
   "source": [
    "На такой большой таблице трудно просмотреть зависимость признаков. Нужен график."
   ]
  },
  {
   "cell_type": "markdown",
   "metadata": {},
   "source": [
    "**Построим матрицу корреляции:**"
   ]
  },
  {
   "cell_type": "code",
   "execution_count": 15,
   "metadata": {},
   "outputs": [
    {
     "name": "stdout",
     "output_type": "stream",
     "text": [
      "          product        f0        f1        f2\n",
      "product  1.000000  0.143536 -0.192356  0.483663\n",
      "f0       0.143536  1.000000 -0.440723 -0.003153\n",
      "f1      -0.192356 -0.440723  1.000000  0.001724\n",
      "f2       0.483663 -0.003153  0.001724  1.000000\n"
     ]
    },
    {
     "data": {
      "image/png": "[encoded data removed]",
      "text/plain": [
       "<Figure size 576x576 with 16 Axes>"
      ]
     },
     "metadata": {
      "needs_background": "light"
     },
     "output_type": "display_data"
    }
   ],
   "source": [
    "data_0_multi = data_0[['product', 'f0','f1', 'f2']]\n",
    "\n",
    "print(data_0_multi.corr())\n",
    "pd.plotting.scatter_matrix(data_0_multi, figsize=(8, 8))\n",
    "plt.show()"
   ]
  },
  {
   "cell_type": "markdown",
   "metadata": {},
   "source": [
    "Чем больше сырья в скважине, тем больше показатель f0, f2, и меньше показатель f1. Заметно нормальное распределение продукта и его признаков на гистограммах. Особое внимание стоит уделить зависимости f1 (эта та, что занижается при больших запасах) и f0 (которая при больших запасах растет как будто ступенями).  f1 растёт и пик роста чуть выше максимального значения f0, которое как раз фиксируется под пиком значения f1, затем опускается немного ниже минимального значения f1, где достигает пика спада, затем опять начинает расти. Эти две противоположные параболы очень напоминают галактику. Скорее всего их общий центр - это средний запас продукта, а края - малое и большое значения продукта. А если смотреть зависимость этих показателей от продука, то можно увидеть пороги. \n"
   ]
  },
  {
   "cell_type": "markdown",
   "metadata": {},
   "source": [
    "***Сделаем сводную таблицу, чтобы просмотреть распределение признаков по запасу сырья:***"
   ]
  },
  {
   "cell_type": "code",
   "execution_count": 16,
   "metadata": {},
   "outputs": [
    {
     "name": "stdout",
     "output_type": "stream",
     "text": [
      "На графике зависимости f1 и f0 особенно заметна ступенчатость. \n",
      "Значит проще определить границы категорий: до 25 мало, от 160 много.\n"
     ]
    },
    {
     "data": {
      "image/png": "[encoded data removed]",
      "text/plain": [
       "<Figure size 432x288 with 1 Axes>"
      ]
     },
     "metadata": {
      "needs_background": "light"
     },
     "output_type": "display_data"
    },
    {
     "data": {
      "image/png": "[encoded data removed]",
      "text/plain": [
       "<Figure size 432x288 with 1 Axes>"
      ]
     },
     "metadata": {
      "needs_background": "light"
     },
     "output_type": "display_data"
    }
   ],
   "source": [
    "#Построим график зависимости признаков от продукта:\n",
    "data_0_pivot_p = data_0.pivot_table(index='product', values=['f0','f1'])\n",
    "data_0_pivot_p.plot()\n",
    "plt.title('Зависимость f1 и f0 от продукта')\n",
    "plt.ylabel('значения признаков')\n",
    "plt.xlabel('продукта в скважине, тыс.баррелей.')\n",
    "\n",
    "print('На графике зависимости f1 и f0 особенно заметна ступенчатость. \\nЗначит проще определить границы категорий: до 25 мало, от 160 много.')\n",
    "\n",
    "data_0_pivot_f2 = data_0.pivot_table(index='product', values=['f2'])\n",
    "data_0_pivot_f2.plot()\n",
    "plt.title('Зависимость f2 от продукта')\n",
    "plt.ylabel('значение признака')\n",
    "plt.xlabel('продукта в скважине, тыс.баррелей.')\n",
    "plt.show()\n"
   ]
  },
  {
   "cell_type": "markdown",
   "metadata": {},
   "source": [
    "**Категоризируем данные:**\n",
    "\n",
    "Для столбца *'product'* поделим значения на категории: vного, средне, мало, - исходя из нашей матрицы корреляции и увиденных \"порогов\" и нормального распределения на гистограмме.\n",
    "\n",
    "Напишем функцию для строки:"
   ]
  },
  {
   "cell_type": "code",
   "execution_count": 17,
   "metadata": {},
   "outputs": [
    {
     "name": "stdout",
     "output_type": "stream",
     "text": [
      "\n",
      "Новая таблица:\n"
     ]
    },
    {
     "data": {
      "text/html": [
       "<div>\n",
       "<style scoped>\n",
       "    .dataframe tbody tr th:only-of-type {\n",
       "        vertical-align: middle;\n",
       "    }\n",
       "\n",
       "    .dataframe tbody tr th {\n",
       "        vertical-align: top;\n",
       "    }\n",
       "\n",
       "    .dataframe thead th {\n",
       "        text-align: right;\n",
       "    }\n",
       "</style>\n",
       "<table border=\"1\" class=\"dataframe\">\n",
       "  <thead>\n",
       "    <tr style=\"text-align: right;\">\n",
       "      <th></th>\n",
       "      <th>id</th>\n",
       "      <th>f0</th>\n",
       "      <th>f1</th>\n",
       "      <th>f2</th>\n",
       "      <th>product</th>\n",
       "      <th>product_category</th>\n",
       "    </tr>\n",
       "  </thead>\n",
       "  <tbody>\n",
       "    <tr>\n",
       "      <th>0</th>\n",
       "      <td>txEyH</td>\n",
       "      <td>0.705745</td>\n",
       "      <td>-0.497823</td>\n",
       "      <td>1.221170</td>\n",
       "      <td>105.280062</td>\n",
       "      <td>мало</td>\n",
       "    </tr>\n",
       "    <tr>\n",
       "      <th>1</th>\n",
       "      <td>2acmU</td>\n",
       "      <td>1.334711</td>\n",
       "      <td>-0.340164</td>\n",
       "      <td>4.365080</td>\n",
       "      <td>73.037750</td>\n",
       "      <td>средне</td>\n",
       "    </tr>\n",
       "    <tr>\n",
       "      <th>2</th>\n",
       "      <td>409Wp</td>\n",
       "      <td>1.022732</td>\n",
       "      <td>0.151990</td>\n",
       "      <td>1.419926</td>\n",
       "      <td>85.265647</td>\n",
       "      <td>средне</td>\n",
       "    </tr>\n",
       "    <tr>\n",
       "      <th>3</th>\n",
       "      <td>iJLyR</td>\n",
       "      <td>-0.032172</td>\n",
       "      <td>0.139033</td>\n",
       "      <td>2.978566</td>\n",
       "      <td>168.620776</td>\n",
       "      <td>много</td>\n",
       "    </tr>\n",
       "    <tr>\n",
       "      <th>4</th>\n",
       "      <td>Xdl7t</td>\n",
       "      <td>1.988431</td>\n",
       "      <td>0.155413</td>\n",
       "      <td>4.751769</td>\n",
       "      <td>154.036647</td>\n",
       "      <td>мало</td>\n",
       "    </tr>\n",
       "  </tbody>\n",
       "</table>\n",
       "</div>"
      ],
      "text/plain": [
       "      id        f0        f1        f2     product product_category\n",
       "0  txEyH  0.705745 -0.497823  1.221170  105.280062             мало\n",
       "1  2acmU  1.334711 -0.340164  4.365080   73.037750           средне\n",
       "2  409Wp  1.022732  0.151990  1.419926   85.265647           средне\n",
       "3  iJLyR -0.032172  0.139033  2.978566  168.620776            много\n",
       "4  Xdl7t  1.988431  0.155413  4.751769  154.036647             мало"
      ]
     },
     "execution_count": 17,
     "metadata": {},
     "output_type": "execute_result"
    }
   ],
   "source": [
    "def product_category(row):\n",
    "    if row['product'] >= 160:\n",
    "        return 'много'\n",
    "    elif 100 > row['product'] >= 25:\n",
    "        return 'средне'\n",
    "    else:\n",
    "        return 'мало'\n",
    "\n",
    "data_0['product_category'] = data_0.apply(product_category, axis=1)\n",
    "data_1['product_category'] = data_1.apply(product_category, axis=1)\n",
    "data_2['product_category'] = data_2.apply(product_category, axis=1)\n",
    "print('\\nНовая таблица:')\n",
    "data_0.head()"
   ]
  },
  {
   "cell_type": "code",
   "execution_count": 18,
   "metadata": {},
   "outputs": [
    {
     "name": "stdout",
     "output_type": "stream",
     "text": [
      "В data_0 запасов сырья:\n"
     ]
    },
    {
     "data": {
      "text/plain": [
       "средне    49314\n",
       "мало      44974\n",
       "много      5712\n",
       "Name: product_category, dtype: int64"
      ]
     },
     "execution_count": 18,
     "metadata": {},
     "output_type": "execute_result"
    }
   ],
   "source": [
    "print('В data_0 запасов сырья:')\n",
    "data_0.product_category.value_counts()"
   ]
  },
  {
   "cell_type": "code",
   "execution_count": 19,
   "metadata": {},
   "outputs": [
    {
     "name": "stdout",
     "output_type": "stream",
     "text": [
      "В data_1 запасов сырья:\n"
     ]
    },
    {
     "data": {
      "text/plain": [
       "средне    50387\n",
       "мало      49613\n",
       "Name: product_category, dtype: int64"
      ]
     },
     "execution_count": 19,
     "metadata": {},
     "output_type": "execute_result"
    }
   ],
   "source": [
    "print('В data_1 запасов сырья:')\n",
    "data_1.product_category.value_counts()"
   ]
  },
  {
   "cell_type": "code",
   "execution_count": 20,
   "metadata": {},
   "outputs": [
    {
     "name": "stdout",
     "output_type": "stream",
     "text": [
      "В data_2 запасов сырья:\n"
     ]
    },
    {
     "data": {
      "text/plain": [
       "средне    47794\n",
       "мало      44771\n",
       "много      7435\n",
       "Name: product_category, dtype: int64"
      ]
     },
     "execution_count": 20,
     "metadata": {},
     "output_type": "execute_result"
    }
   ],
   "source": [
    "print('В data_2 запасов сырья:')\n",
    "data_2.product_category.value_counts()"
   ]
  },
  {
   "cell_type": "markdown",
   "metadata": {},
   "source": [
    "В основном запасов сырья средне или мало, много сырья встречается не часто."
   ]
  },
  {
   "cell_type": "code",
   "execution_count": 21,
   "metadata": {},
   "outputs": [
    {
     "data": {
      "image/png": "[encoded data removed]",
      "text/plain": [
       "<Figure size 432x288 with 1 Axes>"
      ]
     },
     "metadata": {
      "needs_background": "light"
     },
     "output_type": "display_data"
    }
   ],
   "source": [
    "#Посмотрим зависимость признаков от кол-ва продукта:\n",
    "data_0_pivot_pc = data_0.pivot_table(index='product_category', values=['f0','f1', 'f2'])\n",
    "data_0_pivot_pc.plot.bar(grid=True)\n",
    "plt.title('Зависимость признаков от колличества продукта')\n",
    "plt.ylabel('значения признаков')\n",
    "plt.xlabel('колличество сырья в скважине (data_0)')\n",
    "plt.show()"
   ]
  },
  {
   "cell_type": "code",
   "execution_count": 22,
   "metadata": {},
   "outputs": [
    {
     "data": {
      "image/png": "[encoded data removed]",
      "text/plain": [
       "<Figure size 432x288 with 1 Axes>"
      ]
     },
     "metadata": {
      "needs_background": "light"
     },
     "output_type": "display_data"
    }
   ],
   "source": [
    "#Посмотрим зависимость признаков от кол-ва продукта:\n",
    "data_1_pivot_pc = data_1.pivot_table(index='product_category', values=['f0','f1', 'f2'])\n",
    "data_1_pivot_pc.plot.bar(grid=True)\n",
    "plt.title('Зависимость признаков от колличества продукта')\n",
    "plt.ylabel('значения признаков')\n",
    "plt.xlabel('колличество сырья в скважине (data_1)')\n",
    "plt.show()"
   ]
  },
  {
   "cell_type": "code",
   "execution_count": 23,
   "metadata": {},
   "outputs": [
    {
     "data": {
      "image/png": "[encoded data removed]",
      "text/plain": [
       "<Figure size 432x288 with 1 Axes>"
      ]
     },
     "metadata": {
      "needs_background": "light"
     },
     "output_type": "display_data"
    }
   ],
   "source": [
    "#Посмотрим зависимость признаков от кол-ва продукта:\n",
    "data_2_pivot_pc = data_2.pivot_table(index='product_category', values=['f0','f1', 'f2'])\n",
    "data_2_pivot_pc.plot(grid=True)\n",
    "plt.title('Зависимость признаков от колличества продукта')\n",
    "plt.ylabel('значения признаков')\n",
    "plt.xlabel('колличество сырья в скважине (data_2)')\n",
    "plt.show()"
   ]
  },
  {
   "cell_type": "code",
   "execution_count": 24,
   "metadata": {},
   "outputs": [
    {
     "data": {
      "text/html": [
       "<div>\n",
       "<style scoped>\n",
       "    .dataframe tbody tr th:only-of-type {\n",
       "        vertical-align: middle;\n",
       "    }\n",
       "\n",
       "    .dataframe tbody tr th {\n",
       "        vertical-align: top;\n",
       "    }\n",
       "\n",
       "    .dataframe thead th {\n",
       "        text-align: right;\n",
       "    }\n",
       "</style>\n",
       "<table border=\"1\" class=\"dataframe\">\n",
       "  <thead>\n",
       "    <tr style=\"text-align: right;\">\n",
       "      <th></th>\n",
       "      <th>f0</th>\n",
       "      <th>f1</th>\n",
       "      <th>f2</th>\n",
       "      <th>product</th>\n",
       "    </tr>\n",
       "  </thead>\n",
       "  <tbody>\n",
       "    <tr>\n",
       "      <th>count</th>\n",
       "      <td>100000.000000</td>\n",
       "      <td>100000.000000</td>\n",
       "      <td>100000.000000</td>\n",
       "      <td>100000.000000</td>\n",
       "    </tr>\n",
       "    <tr>\n",
       "      <th>mean</th>\n",
       "      <td>0.002023</td>\n",
       "      <td>-0.002081</td>\n",
       "      <td>2.495128</td>\n",
       "      <td>95.000000</td>\n",
       "    </tr>\n",
       "    <tr>\n",
       "      <th>std</th>\n",
       "      <td>1.732045</td>\n",
       "      <td>1.730417</td>\n",
       "      <td>3.473445</td>\n",
       "      <td>44.749921</td>\n",
       "    </tr>\n",
       "    <tr>\n",
       "      <th>min</th>\n",
       "      <td>-8.760004</td>\n",
       "      <td>-7.084020</td>\n",
       "      <td>-11.970335</td>\n",
       "      <td>0.000000</td>\n",
       "    </tr>\n",
       "    <tr>\n",
       "      <th>25%</th>\n",
       "      <td>-1.162288</td>\n",
       "      <td>-1.174820</td>\n",
       "      <td>0.130359</td>\n",
       "      <td>59.450441</td>\n",
       "    </tr>\n",
       "    <tr>\n",
       "      <th>50%</th>\n",
       "      <td>0.009424</td>\n",
       "      <td>-0.009482</td>\n",
       "      <td>2.484236</td>\n",
       "      <td>94.925613</td>\n",
       "    </tr>\n",
       "    <tr>\n",
       "      <th>75%</th>\n",
       "      <td>1.158535</td>\n",
       "      <td>1.163678</td>\n",
       "      <td>4.858794</td>\n",
       "      <td>130.595027</td>\n",
       "    </tr>\n",
       "    <tr>\n",
       "      <th>max</th>\n",
       "      <td>7.238262</td>\n",
       "      <td>7.844801</td>\n",
       "      <td>16.739402</td>\n",
       "      <td>190.029838</td>\n",
       "    </tr>\n",
       "  </tbody>\n",
       "</table>\n",
       "</div>"
      ],
      "text/plain": [
       "                  f0             f1             f2        product\n",
       "count  100000.000000  100000.000000  100000.000000  100000.000000\n",
       "mean        0.002023      -0.002081       2.495128      95.000000\n",
       "std         1.732045       1.730417       3.473445      44.749921\n",
       "min        -8.760004      -7.084020     -11.970335       0.000000\n",
       "25%        -1.162288      -1.174820       0.130359      59.450441\n",
       "50%         0.009424      -0.009482       2.484236      94.925613\n",
       "75%         1.158535       1.163678       4.858794     130.595027\n",
       "max         7.238262       7.844801      16.739402     190.029838"
      ]
     },
     "execution_count": 24,
     "metadata": {},
     "output_type": "execute_result"
    }
   ],
   "source": [
    "data_2.describe() #просмотрим максимальные, минимальные и седние значения признаков"
   ]
  },
  {
   "cell_type": "markdown",
   "metadata": {},
   "source": [
    "*В регионе data_2 настолько низкие показатели f0 и f1, что пришлось сделать линейный график, чтобы их визуализировать. Эти признаки граничат с нулевой отметкой, при чём независимо от f2. Какой-то странный регион.*"
   ]
  },
  {
   "cell_type": "markdown",
   "metadata": {},
   "source": [
    "Чем больше сырья в скважине, тем больше показатель *f0*, *f2*, а показатель *f1* ниже. Чем меньше сырья в скважине, тем *f0*, *f2* ниже, а показатель *f1* выше."
   ]
  },
  {
   "cell_type": "markdown",
   "metadata": {},
   "source": [
    "**Удалим столбец с категориями для дальнейших рассчётов**"
   ]
  },
  {
   "cell_type": "code",
   "execution_count": 25,
   "metadata": {},
   "outputs": [
    {
     "data": {
      "text/html": [
       "<div>\n",
       "<style scoped>\n",
       "    .dataframe tbody tr th:only-of-type {\n",
       "        vertical-align: middle;\n",
       "    }\n",
       "\n",
       "    .dataframe tbody tr th {\n",
       "        vertical-align: top;\n",
       "    }\n",
       "\n",
       "    .dataframe thead th {\n",
       "        text-align: right;\n",
       "    }\n",
       "</style>\n",
       "<table border=\"1\" class=\"dataframe\">\n",
       "  <thead>\n",
       "    <tr style=\"text-align: right;\">\n",
       "      <th></th>\n",
       "      <th>id</th>\n",
       "      <th>f0</th>\n",
       "      <th>f1</th>\n",
       "      <th>f2</th>\n",
       "      <th>product</th>\n",
       "    </tr>\n",
       "  </thead>\n",
       "  <tbody>\n",
       "    <tr>\n",
       "      <th>0</th>\n",
       "      <td>txEyH</td>\n",
       "      <td>0.705745</td>\n",
       "      <td>-0.497823</td>\n",
       "      <td>1.221170</td>\n",
       "      <td>105.280062</td>\n",
       "    </tr>\n",
       "    <tr>\n",
       "      <th>1</th>\n",
       "      <td>2acmU</td>\n",
       "      <td>1.334711</td>\n",
       "      <td>-0.340164</td>\n",
       "      <td>4.365080</td>\n",
       "      <td>73.037750</td>\n",
       "    </tr>\n",
       "    <tr>\n",
       "      <th>2</th>\n",
       "      <td>409Wp</td>\n",
       "      <td>1.022732</td>\n",
       "      <td>0.151990</td>\n",
       "      <td>1.419926</td>\n",
       "      <td>85.265647</td>\n",
       "    </tr>\n",
       "    <tr>\n",
       "      <th>3</th>\n",
       "      <td>iJLyR</td>\n",
       "      <td>-0.032172</td>\n",
       "      <td>0.139033</td>\n",
       "      <td>2.978566</td>\n",
       "      <td>168.620776</td>\n",
       "    </tr>\n",
       "    <tr>\n",
       "      <th>4</th>\n",
       "      <td>Xdl7t</td>\n",
       "      <td>1.988431</td>\n",
       "      <td>0.155413</td>\n",
       "      <td>4.751769</td>\n",
       "      <td>154.036647</td>\n",
       "    </tr>\n",
       "  </tbody>\n",
       "</table>\n",
       "</div>"
      ],
      "text/plain": [
       "      id        f0        f1        f2     product\n",
       "0  txEyH  0.705745 -0.497823  1.221170  105.280062\n",
       "1  2acmU  1.334711 -0.340164  4.365080   73.037750\n",
       "2  409Wp  1.022732  0.151990  1.419926   85.265647\n",
       "3  iJLyR -0.032172  0.139033  2.978566  168.620776\n",
       "4  Xdl7t  1.988431  0.155413  4.751769  154.036647"
      ]
     },
     "execution_count": 25,
     "metadata": {},
     "output_type": "execute_result"
    }
   ],
   "source": [
    "data_0 = data_0.drop('product_category', axis=1)\n",
    "data_1 = data_1.drop('product_category', axis=1)\n",
    "data_2 = data_2.drop('product_category', axis=1)\n",
    "data_0.head()"
   ]
  },
  {
   "cell_type": "markdown",
   "metadata": {},
   "source": [
    "### Вывод "
   ]
  },
  {
   "cell_type": "markdown",
   "metadata": {},
   "source": [
    "Мы импортировали все необходимые для работы с данными библиотеки, прочитали таблицы и выяснили, что все 3 таблицы имеюь одинаковое колличество строк и столбцов (1000, 5), а так же типы данных (*object* и *float64*)."
   ]
  },
  {
   "cell_type": "markdown",
   "metadata": {},
   "source": [
    "## Обучение и проверка модели"
   ]
  },
  {
   "cell_type": "markdown",
   "metadata": {},
   "source": [
    "***Обучим и проверим модель для каждого региона:***"
   ]
  },
  {
   "cell_type": "markdown",
   "metadata": {},
   "source": [
    "###  Разобьём данные на обучающую и валидационную выборки в соотношении 75:25 и определим цели и признаки"
   ]
  },
  {
   "cell_type": "markdown",
   "metadata": {},
   "source": [
    "***Удалим столбец не имеющий значимости для всех регионов:***"
   ]
  },
  {
   "cell_type": "code",
   "execution_count": 26,
   "metadata": {},
   "outputs": [],
   "source": [
    "data_0 = data_0.drop('id', axis=1)\n",
    "data_1 = data_1.drop('id', axis=1)\n",
    "data_2 = data_2.drop('id', axis=1)"
   ]
  },
  {
   "cell_type": "markdown",
   "metadata": {},
   "source": [
    "#### Регион 1 (data_0)"
   ]
  },
  {
   "cell_type": "markdown",
   "metadata": {},
   "source": [
    "Сделаем обучающую и валидационную выборки:"
   ]
  },
  {
   "cell_type": "code",
   "execution_count": 27,
   "metadata": {},
   "outputs": [],
   "source": [
    "data_0_train, data_0_valid = train_test_split(data_0, test_size=0.25, random_state=12345) "
   ]
  },
  {
   "cell_type": "markdown",
   "metadata": {},
   "source": [
    "**Определим цели и признаки:**"
   ]
  },
  {
   "cell_type": "markdown",
   "metadata": {},
   "source": [
    "напишем функцию:"
   ]
  },
  {
   "cell_type": "code",
   "execution_count": 28,
   "metadata": {},
   "outputs": [],
   "source": [
    "#признаки\n",
    "def features(data):\n",
    "    features = data.drop('product', axis=1)\n",
    "    return features\n",
    "#цели\n",
    "def target(data):\n",
    "    target = data['product']\n",
    "    return target\n"
   ]
  },
  {
   "cell_type": "markdown",
   "metadata": {},
   "source": [
    "Тренировочная выборка (data_0_train, features_0_train, target_0_train):"
   ]
  },
  {
   "cell_type": "code",
   "execution_count": 29,
   "metadata": {},
   "outputs": [
    {
     "name": "stdout",
     "output_type": "stream",
     "text": [
      "\n",
      "Признаки:\n"
     ]
    },
    {
     "data": {
      "text/html": [
       "<div>\n",
       "<style scoped>\n",
       "    .dataframe tbody tr th:only-of-type {\n",
       "        vertical-align: middle;\n",
       "    }\n",
       "\n",
       "    .dataframe tbody tr th {\n",
       "        vertical-align: top;\n",
       "    }\n",
       "\n",
       "    .dataframe thead th {\n",
       "        text-align: right;\n",
       "    }\n",
       "</style>\n",
       "<table border=\"1\" class=\"dataframe\">\n",
       "  <thead>\n",
       "    <tr style=\"text-align: right;\">\n",
       "      <th></th>\n",
       "      <th>f0</th>\n",
       "      <th>f1</th>\n",
       "      <th>f2</th>\n",
       "    </tr>\n",
       "  </thead>\n",
       "  <tbody>\n",
       "    <tr>\n",
       "      <th>27212</th>\n",
       "      <td>0.02245</td>\n",
       "      <td>0.951034</td>\n",
       "      <td>2.197333</td>\n",
       "    </tr>\n",
       "  </tbody>\n",
       "</table>\n",
       "</div>"
      ],
      "text/plain": [
       "            f0        f1        f2\n",
       "27212  0.02245  0.951034  2.197333"
      ]
     },
     "execution_count": 29,
     "metadata": {},
     "output_type": "execute_result"
    }
   ],
   "source": [
    "features_0_train = features(data_0_train)\n",
    "print('\\nПризнаки:')\n",
    "features_0_train.head(1)"
   ]
  },
  {
   "cell_type": "code",
   "execution_count": 30,
   "metadata": {},
   "outputs": [
    {
     "name": "stdout",
     "output_type": "stream",
     "text": [
      "\n",
      "Цели:\n"
     ]
    },
    {
     "data": {
      "text/plain": [
       "count    75000.000000\n",
       "mean        92.640468\n",
       "std         44.288688\n",
       "min          0.000000\n",
       "25%         56.652603\n",
       "50%         92.131131\n",
       "75%        128.719821\n",
       "max        185.364347\n",
       "Name: product, dtype: float64"
      ]
     },
     "metadata": {},
     "output_type": "display_data"
    },
    {
     "data": {
      "text/plain": [
       "(75000, 4)"
      ]
     },
     "execution_count": 30,
     "metadata": {},
     "output_type": "execute_result"
    }
   ],
   "source": [
    "target_0_train = target(data_0_train)\n",
    "print('\\nЦели:')\n",
    "display(target_0_train.describe()) \n",
    "data_0_train.shape #проверка выборки"
   ]
  },
  {
   "cell_type": "markdown",
   "metadata": {},
   "source": [
    "Валидационная выборка (data_0_valid, features_0_valid, target_0_valid):"
   ]
  },
  {
   "cell_type": "code",
   "execution_count": 31,
   "metadata": {},
   "outputs": [
    {
     "name": "stdout",
     "output_type": "stream",
     "text": [
      "\n",
      "Признаки:\n"
     ]
    },
    {
     "data": {
      "text/html": [
       "<div>\n",
       "<style scoped>\n",
       "    .dataframe tbody tr th:only-of-type {\n",
       "        vertical-align: middle;\n",
       "    }\n",
       "\n",
       "    .dataframe tbody tr th {\n",
       "        vertical-align: top;\n",
       "    }\n",
       "\n",
       "    .dataframe thead th {\n",
       "        text-align: right;\n",
       "    }\n",
       "</style>\n",
       "<table border=\"1\" class=\"dataframe\">\n",
       "  <thead>\n",
       "    <tr style=\"text-align: right;\">\n",
       "      <th></th>\n",
       "      <th>f0</th>\n",
       "      <th>f1</th>\n",
       "      <th>f2</th>\n",
       "    </tr>\n",
       "  </thead>\n",
       "  <tbody>\n",
       "    <tr>\n",
       "      <th>71751</th>\n",
       "      <td>0.94897</td>\n",
       "      <td>-0.057547</td>\n",
       "      <td>2.095727</td>\n",
       "    </tr>\n",
       "  </tbody>\n",
       "</table>\n",
       "</div>"
      ],
      "text/plain": [
       "            f0        f1        f2\n",
       "71751  0.94897 -0.057547  2.095727"
      ]
     },
     "metadata": {},
     "output_type": "display_data"
    },
    {
     "name": "stdout",
     "output_type": "stream",
     "text": [
      "\n",
      "Цели:\n"
     ]
    },
    {
     "data": {
      "text/plain": [
       "count    25000.000000\n",
       "mean        92.078597\n",
       "std         44.286913\n",
       "min          0.004022\n",
       "25%         56.059494\n",
       "50%         90.897664\n",
       "75%        128.160698\n",
       "max        185.315412\n",
       "Name: product, dtype: float64"
      ]
     },
     "metadata": {},
     "output_type": "display_data"
    },
    {
     "data": {
      "text/plain": [
       "(25000, 4)"
      ]
     },
     "execution_count": 31,
     "metadata": {},
     "output_type": "execute_result"
    }
   ],
   "source": [
    "features_0_valid = features(data_0_valid)\n",
    "print('\\nПризнаки:')\n",
    "display(features_0_valid.head(1))\n",
    "target_0_valid = target(data_0_valid)\n",
    "print('\\nЦели:')\n",
    "display(target_0_valid.describe())\n",
    "data_0_valid.shape #проверка выборки"
   ]
  },
  {
   "cell_type": "markdown",
   "metadata": {},
   "source": [
    "Соотношение тренировочной выборки к валидационной 75:25."
   ]
  },
  {
   "cell_type": "markdown",
   "metadata": {},
   "source": [
    "**Масштабируем признаки:**"
   ]
  },
  {
   "cell_type": "markdown",
   "metadata": {},
   "source": [
    "*Воспользуемся методом StandardScaler()*"
   ]
  },
  {
   "cell_type": "code",
   "execution_count": 32,
   "metadata": {},
   "outputs": [],
   "source": [
    "numeric = ['f0', 'f1', 'f2'] #определим признаки в отдельный список\n",
    "\n",
    "scaler = StandardScaler()"
   ]
  },
  {
   "cell_type": "code",
   "execution_count": 33,
   "metadata": {},
   "outputs": [],
   "source": [
    "scaler.fit(features_0_train[numeric]) \n",
    "\n",
    "features_0_train[numeric] = scaler.transform(features_0_train[numeric])\n",
    "features_0_valid[numeric] = scaler.transform(features_0_valid[numeric])"
   ]
  },
  {
   "cell_type": "markdown",
   "metadata": {},
   "source": [
    "#### Регион 2 (data_1)"
   ]
  },
  {
   "cell_type": "markdown",
   "metadata": {},
   "source": [
    "Сделаем обучающую и валидационную выборки:"
   ]
  },
  {
   "cell_type": "code",
   "execution_count": 34,
   "metadata": {},
   "outputs": [],
   "source": [
    "data_1_train, data_1_valid = train_test_split(data_1, test_size=0.25, random_state=12345) "
   ]
  },
  {
   "cell_type": "markdown",
   "metadata": {},
   "source": [
    "**Определим цели и признаки:**"
   ]
  },
  {
   "cell_type": "markdown",
   "metadata": {},
   "source": [
    "Тренировочная выборка (data_1_train, features_1_train, target_1_train):"
   ]
  },
  {
   "cell_type": "code",
   "execution_count": 35,
   "metadata": {},
   "outputs": [],
   "source": [
    "features_1_train = features(data_1_train)\n",
    "target_1_train = target(data_1_train)"
   ]
  },
  {
   "cell_type": "markdown",
   "metadata": {},
   "source": [
    "Валидационная выборка (data_1_valid, features_1_valid, target_1_valid):"
   ]
  },
  {
   "cell_type": "code",
   "execution_count": 36,
   "metadata": {},
   "outputs": [],
   "source": [
    "features_1_valid = features(data_1_valid)\n",
    "target_1_valid = target(data_1_valid)"
   ]
  },
  {
   "cell_type": "markdown",
   "metadata": {},
   "source": [
    "**Масштабируем признаки:**"
   ]
  },
  {
   "cell_type": "code",
   "execution_count": 37,
   "metadata": {},
   "outputs": [],
   "source": [
    "scaler.fit(features_1_train[numeric]) \n",
    "\n",
    "features_1_train[numeric] = scaler.transform(features_1_train[numeric])\n",
    "features_1_valid[numeric] = scaler.transform(features_1_valid[numeric])"
   ]
  },
  {
   "cell_type": "markdown",
   "metadata": {},
   "source": [
    "#### Регион 3 (data_2)"
   ]
  },
  {
   "cell_type": "markdown",
   "metadata": {},
   "source": [
    "Сделаем обучающую и валидационную выборки:"
   ]
  },
  {
   "cell_type": "code",
   "execution_count": 38,
   "metadata": {},
   "outputs": [],
   "source": [
    "data_2_train, data_2_valid = train_test_split(data_2, test_size=0.25, random_state=12345) "
   ]
  },
  {
   "cell_type": "markdown",
   "metadata": {},
   "source": [
    "**Определим цели и признаки:**"
   ]
  },
  {
   "cell_type": "markdown",
   "metadata": {},
   "source": [
    "Тренировочная выборка (data_2_train, features_2_train, target_2_train):"
   ]
  },
  {
   "cell_type": "code",
   "execution_count": 39,
   "metadata": {},
   "outputs": [],
   "source": [
    "features_2_train = features(data_2_train)\n",
    "target_2_train = target(data_2_train)"
   ]
  },
  {
   "cell_type": "markdown",
   "metadata": {},
   "source": [
    "Валидационная выборка (data_2_valid, features_2_valid, target_2_valid):"
   ]
  },
  {
   "cell_type": "code",
   "execution_count": 40,
   "metadata": {},
   "outputs": [],
   "source": [
    "features_2_valid = features(data_2_valid)\n",
    "target_2_valid = target(data_2_valid)"
   ]
  },
  {
   "cell_type": "markdown",
   "metadata": {},
   "source": [
    "Соотношение тренировочной выборки к валидационной 75:25."
   ]
  },
  {
   "cell_type": "markdown",
   "metadata": {},
   "source": [
    "**Масштабируем признаки:**"
   ]
  },
  {
   "cell_type": "code",
   "execution_count": 41,
   "metadata": {},
   "outputs": [],
   "source": [
    "scaler.fit(features_2_train[numeric]) \n",
    "\n",
    "features_2_train[numeric] = scaler.transform(features_2_train[numeric])\n",
    "features_2_valid[numeric] = scaler.transform(features_2_valid[numeric])"
   ]
  },
  {
   "cell_type": "markdown",
   "metadata": {},
   "source": [
    "#### Проверим получившиеся признаки в выборках всех трёх точек"
   ]
  },
  {
   "cell_type": "code",
   "execution_count": 42,
   "metadata": {},
   "outputs": [
    {
     "name": "stdout",
     "output_type": "stream",
     "text": [
      "тренировочная выборка региона data_0:\n"
     ]
    },
    {
     "data": {
      "text/html": [
       "<div>\n",
       "<style scoped>\n",
       "    .dataframe tbody tr th:only-of-type {\n",
       "        vertical-align: middle;\n",
       "    }\n",
       "\n",
       "    .dataframe tbody tr th {\n",
       "        vertical-align: top;\n",
       "    }\n",
       "\n",
       "    .dataframe thead th {\n",
       "        text-align: right;\n",
       "    }\n",
       "</style>\n",
       "<table border=\"1\" class=\"dataframe\">\n",
       "  <thead>\n",
       "    <tr style=\"text-align: right;\">\n",
       "      <th></th>\n",
       "      <th>f0</th>\n",
       "      <th>f1</th>\n",
       "      <th>f2</th>\n",
       "    </tr>\n",
       "  </thead>\n",
       "  <tbody>\n",
       "    <tr>\n",
       "      <th>3002</th>\n",
       "      <td>1.154146</td>\n",
       "      <td>-1.204066</td>\n",
       "      <td>0.247118</td>\n",
       "    </tr>\n",
       "    <tr>\n",
       "      <th>16346</th>\n",
       "      <td>-0.512959</td>\n",
       "      <td>1.493984</td>\n",
       "      <td>0.423669</td>\n",
       "    </tr>\n",
       "  </tbody>\n",
       "</table>\n",
       "</div>"
      ],
      "text/plain": [
       "             f0        f1        f2\n",
       "3002   1.154146 -1.204066  0.247118\n",
       "16346 -0.512959  1.493984  0.423669"
      ]
     },
     "metadata": {},
     "output_type": "display_data"
    },
    {
     "name": "stdout",
     "output_type": "stream",
     "text": [
      "валидационная выборка региона data_0:\n"
     ]
    },
    {
     "data": {
      "text/html": [
       "<div>\n",
       "<style scoped>\n",
       "    .dataframe tbody tr th:only-of-type {\n",
       "        vertical-align: middle;\n",
       "    }\n",
       "\n",
       "    .dataframe tbody tr th {\n",
       "        vertical-align: top;\n",
       "    }\n",
       "\n",
       "    .dataframe thead th {\n",
       "        text-align: right;\n",
       "    }\n",
       "</style>\n",
       "<table border=\"1\" class=\"dataframe\">\n",
       "  <thead>\n",
       "    <tr style=\"text-align: right;\">\n",
       "      <th></th>\n",
       "      <th>f0</th>\n",
       "      <th>f1</th>\n",
       "      <th>f2</th>\n",
       "    </tr>\n",
       "  </thead>\n",
       "  <tbody>\n",
       "    <tr>\n",
       "      <th>19602</th>\n",
       "      <td>-0.133557</td>\n",
       "      <td>-0.990213</td>\n",
       "      <td>0.050576</td>\n",
       "    </tr>\n",
       "  </tbody>\n",
       "</table>\n",
       "</div>"
      ],
      "text/plain": [
       "             f0        f1        f2\n",
       "19602 -0.133557 -0.990213  0.050576"
      ]
     },
     "metadata": {},
     "output_type": "display_data"
    },
    {
     "name": "stdout",
     "output_type": "stream",
     "text": [
      "тренировочная выборка региона data_1:\n"
     ]
    },
    {
     "data": {
      "text/html": [
       "<div>\n",
       "<style scoped>\n",
       "    .dataframe tbody tr th:only-of-type {\n",
       "        vertical-align: middle;\n",
       "    }\n",
       "\n",
       "    .dataframe tbody tr th {\n",
       "        vertical-align: top;\n",
       "    }\n",
       "\n",
       "    .dataframe thead th {\n",
       "        text-align: right;\n",
       "    }\n",
       "</style>\n",
       "<table border=\"1\" class=\"dataframe\">\n",
       "  <thead>\n",
       "    <tr style=\"text-align: right;\">\n",
       "      <th></th>\n",
       "      <th>f0</th>\n",
       "      <th>f1</th>\n",
       "      <th>f2</th>\n",
       "    </tr>\n",
       "  </thead>\n",
       "  <tbody>\n",
       "    <tr>\n",
       "      <th>3002</th>\n",
       "      <td>0.580988</td>\n",
       "      <td>-0.562024</td>\n",
       "      <td>0.884801</td>\n",
       "    </tr>\n",
       "  </tbody>\n",
       "</table>\n",
       "</div>"
      ],
      "text/plain": [
       "            f0        f1        f2\n",
       "3002  0.580988 -0.562024  0.884801"
      ]
     },
     "metadata": {},
     "output_type": "display_data"
    },
    {
     "name": "stdout",
     "output_type": "stream",
     "text": [
      "валидационная выборка региона data_1:\n"
     ]
    },
    {
     "data": {
      "text/html": [
       "<div>\n",
       "<style scoped>\n",
       "    .dataframe tbody tr th:only-of-type {\n",
       "        vertical-align: middle;\n",
       "    }\n",
       "\n",
       "    .dataframe tbody tr th {\n",
       "        vertical-align: top;\n",
       "    }\n",
       "\n",
       "    .dataframe thead th {\n",
       "        text-align: right;\n",
       "    }\n",
       "</style>\n",
       "<table border=\"1\" class=\"dataframe\">\n",
       "  <thead>\n",
       "    <tr style=\"text-align: right;\">\n",
       "      <th></th>\n",
       "      <th>f0</th>\n",
       "      <th>f1</th>\n",
       "      <th>f2</th>\n",
       "    </tr>\n",
       "  </thead>\n",
       "  <tbody>\n",
       "    <tr>\n",
       "      <th>19602</th>\n",
       "      <td>0.523551</td>\n",
       "      <td>-0.164872</td>\n",
       "      <td>-0.879411</td>\n",
       "    </tr>\n",
       "  </tbody>\n",
       "</table>\n",
       "</div>"
      ],
      "text/plain": [
       "             f0        f1        f2\n",
       "19602  0.523551 -0.164872 -0.879411"
      ]
     },
     "metadata": {},
     "output_type": "display_data"
    },
    {
     "name": "stdout",
     "output_type": "stream",
     "text": [
      "тренировочная выборка региона data_2:\n"
     ]
    },
    {
     "data": {
      "text/html": [
       "<div>\n",
       "<style scoped>\n",
       "    .dataframe tbody tr th:only-of-type {\n",
       "        vertical-align: middle;\n",
       "    }\n",
       "\n",
       "    .dataframe tbody tr th {\n",
       "        vertical-align: top;\n",
       "    }\n",
       "\n",
       "    .dataframe thead th {\n",
       "        text-align: right;\n",
       "    }\n",
       "</style>\n",
       "<table border=\"1\" class=\"dataframe\">\n",
       "  <thead>\n",
       "    <tr style=\"text-align: right;\">\n",
       "      <th></th>\n",
       "      <th>f0</th>\n",
       "      <th>f1</th>\n",
       "      <th>f2</th>\n",
       "    </tr>\n",
       "  </thead>\n",
       "  <tbody>\n",
       "    <tr>\n",
       "      <th>3002</th>\n",
       "      <td>-1.75293</td>\n",
       "      <td>-0.132357</td>\n",
       "      <td>-0.642571</td>\n",
       "    </tr>\n",
       "  </tbody>\n",
       "</table>\n",
       "</div>"
      ],
      "text/plain": [
       "           f0        f1        f2\n",
       "3002 -1.75293 -0.132357 -0.642571"
      ]
     },
     "metadata": {},
     "output_type": "display_data"
    },
    {
     "name": "stdout",
     "output_type": "stream",
     "text": [
      "валидационная выборка региона data_2:\n"
     ]
    },
    {
     "data": {
      "text/html": [
       "<div>\n",
       "<style scoped>\n",
       "    .dataframe tbody tr th:only-of-type {\n",
       "        vertical-align: middle;\n",
       "    }\n",
       "\n",
       "    .dataframe tbody tr th {\n",
       "        vertical-align: top;\n",
       "    }\n",
       "\n",
       "    .dataframe thead th {\n",
       "        text-align: right;\n",
       "    }\n",
       "</style>\n",
       "<table border=\"1\" class=\"dataframe\">\n",
       "  <thead>\n",
       "    <tr style=\"text-align: right;\">\n",
       "      <th></th>\n",
       "      <th>f0</th>\n",
       "      <th>f1</th>\n",
       "      <th>f2</th>\n",
       "    </tr>\n",
       "  </thead>\n",
       "  <tbody>\n",
       "    <tr>\n",
       "      <th>42289</th>\n",
       "      <td>-0.994851</td>\n",
       "      <td>-0.28349</td>\n",
       "      <td>-0.017467</td>\n",
       "    </tr>\n",
       "  </tbody>\n",
       "</table>\n",
       "</div>"
      ],
      "text/plain": [
       "             f0       f1        f2\n",
       "42289 -0.994851 -0.28349 -0.017467"
      ]
     },
     "execution_count": 42,
     "metadata": {},
     "output_type": "execute_result"
    }
   ],
   "source": [
    "print('тренировочная выборка региона data_0:')\n",
    "display(features_0_train.sample(n=2, random_state=1))\n",
    "print('валидационная выборка региона data_0:')\n",
    "display(features_0_valid.sample(random_state=1))\n",
    "print('тренировочная выборка региона data_1:')\n",
    "display(features_1_train.sample(random_state=1))\n",
    "print('валидационная выборка региона data_1:')\n",
    "display(features_1_valid.sample(random_state=1))\n",
    "print('тренировочная выборка региона data_2:')\n",
    "display(features_2_train.sample(random_state=1))\n",
    "print('валидационная выборка региона data_2:')\n",
    "features_2_valid.sample()"
   ]
  },
  {
   "cell_type": "markdown",
   "metadata": {},
   "source": [
    "Везде только нужные нам признаки."
   ]
  },
  {
   "cell_type": "markdown",
   "metadata": {},
   "source": [
    "### Обучим модель и сделаем предсказания на валидационной выборке."
   ]
  },
  {
   "cell_type": "markdown",
   "metadata": {},
   "source": [
    "*В данном проекте мы будем работать только с моделью линейной регрессии, т.к. остальные модели недостаточно предсказуемые.*"
   ]
  },
  {
   "cell_type": "markdown",
   "metadata": {},
   "source": [
    "#### Создадим модель линейной регрессии"
   ]
  },
  {
   "cell_type": "code",
   "execution_count": 43,
   "metadata": {},
   "outputs": [],
   "source": [
    "model = LinearRegression()"
   ]
  },
  {
   "cell_type": "markdown",
   "metadata": {},
   "source": [
    "Мы создали модель линейной регрессии."
   ]
  },
  {
   "cell_type": "markdown",
   "metadata": {},
   "source": [
    "#### Обучим модель на выборках с трёх регионов и узнаем предсказания средних запасов сырья нашей моделью и среднюю квадратичную ошибку нащей модели"
   ]
  },
  {
   "cell_type": "markdown",
   "metadata": {},
   "source": [
    "**Регион 1 (data_0):**"
   ]
  },
  {
   "cell_type": "code",
   "execution_count": 44,
   "metadata": {},
   "outputs": [
    {
     "data": {
      "text/plain": [
       "LinearRegression()"
      ]
     },
     "execution_count": 44,
     "metadata": {},
     "output_type": "execute_result"
    }
   ],
   "source": [
    "model.fit(features_0_train, target_0_train)"
   ]
  },
  {
   "cell_type": "markdown",
   "metadata": {},
   "source": [
    "Получим предсказания модели на валидационной выборке."
   ]
  },
  {
   "cell_type": "code",
   "execution_count": 45,
   "metadata": {},
   "outputs": [
    {
     "name": "stdout",
     "output_type": "stream",
     "text": [
      "Cредний запас предсказанного сырья: 92.59256778438038 тыс. баррелей.\n",
      "RMSE для Региона 1 (data_0): 37.5794217150813\n"
     ]
    }
   ],
   "source": [
    "predictions_0_valid = model.predict(features_0_valid) #Получим предсказания модели\n",
    "mean_0 = predictions_0_valid.mean() #Рассчитаем средний запас сырья\n",
    "result_0 = mean_squared_error(target_0_valid, predictions_0_valid)**0.5 #Рассчитаем RMSE\n",
    "print('Cредний запас предсказанного сырья:', mean_0, 'тыс. баррелей.')\n",
    "print('RMSE для Региона 1 (data_0):', result_0)"
   ]
  },
  {
   "cell_type": "markdown",
   "metadata": {},
   "source": [
    "Повторим эти процедуры с двумя следующими регионами:"
   ]
  },
  {
   "cell_type": "markdown",
   "metadata": {},
   "source": [
    "**Регион 2 (data_1):**"
   ]
  },
  {
   "cell_type": "code",
   "execution_count": 46,
   "metadata": {},
   "outputs": [
    {
     "data": {
      "text/plain": [
       "LinearRegression()"
      ]
     },
     "execution_count": 46,
     "metadata": {},
     "output_type": "execute_result"
    }
   ],
   "source": [
    "model.fit(features_1_train, target_1_train)"
   ]
  },
  {
   "cell_type": "code",
   "execution_count": 47,
   "metadata": {},
   "outputs": [
    {
     "name": "stdout",
     "output_type": "stream",
     "text": [
      "Cредний запас предсказанного сырья: 68.728546895446 тыс. баррелей.\n",
      "RMSE для Региона 2 (data_1): 0.8930992867756159\n"
     ]
    }
   ],
   "source": [
    "model.fit(features_1_train, target_1_train)\n",
    "predictions_1_valid = model.predict(features_1_valid)\n",
    "mean_1 = predictions_1_valid.mean()\n",
    "result_1 = mean_squared_error(target_1_valid, predictions_1_valid)**0.5 \n",
    "print('Cредний запас предсказанного сырья:', mean_1, 'тыс. баррелей.')\n",
    "print('RMSE для Региона 2 (data_1):', result_1)"
   ]
  },
  {
   "cell_type": "markdown",
   "metadata": {},
   "source": [
    "**Регион 3 (data_2):**"
   ]
  },
  {
   "cell_type": "code",
   "execution_count": 48,
   "metadata": {},
   "outputs": [
    {
     "data": {
      "text/plain": [
       "LinearRegression()"
      ]
     },
     "execution_count": 48,
     "metadata": {},
     "output_type": "execute_result"
    }
   ],
   "source": [
    "model.fit(features_2_train, target_2_train)"
   ]
  },
  {
   "cell_type": "code",
   "execution_count": 49,
   "metadata": {},
   "outputs": [
    {
     "name": "stdout",
     "output_type": "stream",
     "text": [
      "Cредний запас предсказанного сырья: 94.96504596800489 тыс. баррелей.\n",
      "RMSE для Региона 3 (data_2): 40.02970873393434\n"
     ]
    }
   ],
   "source": [
    "model.fit(features_2_train, target_2_train)\n",
    "predictions_2_valid = model.predict(features_2_valid)\n",
    "mean_2 = predictions_2_valid.mean()\n",
    "result_2 = mean_squared_error(target_2_valid, predictions_2_valid)**0.5 \n",
    "print('Cредний запас предсказанного сырья:', mean_2, 'тыс. баррелей.')\n",
    "print('RMSE для Региона 3 (data_2):', result_2)"
   ]
  },
  {
   "cell_type": "markdown",
   "metadata": {},
   "source": [
    "Видно, что второй регион отстаёт по запасам нефти, но RMSE минимальный 0.89, в отличие от RMSE третьего региона, которое достигло почти 40."
   ]
  },
  {
   "cell_type": "markdown",
   "metadata": {},
   "source": [
    "### Проанализируем результаты"
   ]
  },
  {
   "cell_type": "markdown",
   "metadata": {},
   "source": [
    "#### Построим график средних запасов предсказанного сырья по регионам:"
   ]
  },
  {
   "cell_type": "markdown",
   "metadata": {},
   "source": [
    "**Создадим общую для 3-х регионов таблицу:**"
   ]
  },
  {
   "cell_type": "markdown",
   "metadata": {},
   "source": [
    "Сначала создадим столбцы по имеющимся данным методом `pd.Series()`:"
   ]
  },
  {
   "cell_type": "code",
   "execution_count": 50,
   "metadata": {},
   "outputs": [],
   "source": [
    "regions = pd.Series(['data_0', 'data_1', 'data_2']) #названия регионов\n",
    "means = pd.Series(np.array([mean_0, mean_1, mean_2])) #средний запас предсказанного сырья\n",
    "results = pd.Series(np.array([result_0, result_1, result_2])) #RMSE\n"
   ]
  },
  {
   "cell_type": "markdown",
   "metadata": {},
   "source": [
    "Объединим Series в таблицу методом `pd.DataFrame()`:"
   ]
  },
  {
   "cell_type": "code",
   "execution_count": 51,
   "metadata": {},
   "outputs": [
    {
     "data": {
      "text/html": [
       "<div>\n",
       "<style scoped>\n",
       "    .dataframe tbody tr th:only-of-type {\n",
       "        vertical-align: middle;\n",
       "    }\n",
       "\n",
       "    .dataframe tbody tr th {\n",
       "        vertical-align: top;\n",
       "    }\n",
       "\n",
       "    .dataframe thead th {\n",
       "        text-align: right;\n",
       "    }\n",
       "</style>\n",
       "<table border=\"1\" class=\"dataframe\">\n",
       "  <thead>\n",
       "    <tr style=\"text-align: right;\">\n",
       "      <th></th>\n",
       "      <th>регионы</th>\n",
       "      <th>средний запас сырья</th>\n",
       "      <th>RMSE</th>\n",
       "    </tr>\n",
       "  </thead>\n",
       "  <tbody>\n",
       "    <tr>\n",
       "      <th>0</th>\n",
       "      <td>data_0</td>\n",
       "      <td>92.592568</td>\n",
       "      <td>37.579422</td>\n",
       "    </tr>\n",
       "    <tr>\n",
       "      <th>1</th>\n",
       "      <td>data_1</td>\n",
       "      <td>68.728547</td>\n",
       "      <td>0.893099</td>\n",
       "    </tr>\n",
       "    <tr>\n",
       "      <th>2</th>\n",
       "      <td>data_2</td>\n",
       "      <td>94.965046</td>\n",
       "      <td>40.029709</td>\n",
       "    </tr>\n",
       "  </tbody>\n",
       "</table>\n",
       "</div>"
      ],
      "text/plain": [
       "  регионы  средний запас сырья       RMSE\n",
       "0  data_0            92.592568  37.579422\n",
       "1  data_1            68.728547   0.893099\n",
       "2  data_2            94.965046  40.029709"
      ]
     },
     "execution_count": 51,
     "metadata": {},
     "output_type": "execute_result"
    }
   ],
   "source": [
    "data = pd.DataFrame({'регионы':regions.values, 'средний запас сырья':means.values, 'RMSE':results.values})\n",
    "data"
   ]
  },
  {
   "cell_type": "markdown",
   "metadata": {},
   "source": [
    "**Построим график запаса сырья по регионам:**"
   ]
  },
  {
   "cell_type": "code",
   "execution_count": 52,
   "metadata": {},
   "outputs": [
    {
     "data": {
      "image/png": "[encoded data removed]",
      "text/plain": [
       "<Figure size 576x288 with 1 Axes>"
      ]
     },
     "metadata": {
      "needs_background": "light"
     },
     "output_type": "display_data"
    }
   ],
   "source": [
    "means_pivot = data.pivot_table(index='регионы', values='средний запас сырья')\n",
    "means_pivot.plot.barh(grid=True, figsize=(8, 4))\n",
    "plt.ylabel('тыс. баррелей')\n",
    "plt.xlabel('регионы')\n",
    "plt.title('Соотношение запасов сырья по регионам')\n",
    "plt.show()"
   ]
  },
  {
   "cell_type": "markdown",
   "metadata": {},
   "source": [
    "Примерно одинаковое колличество запасов сырья в регионе 3 (data_2) и регионе 1 (data_0), а вот 2-й регион (data_1) имеет наименьший объём запасов."
   ]
  },
  {
   "cell_type": "markdown",
   "metadata": {},
   "source": [
    "**Выведем график RMSE по регионам:**"
   ]
  },
  {
   "cell_type": "code",
   "execution_count": 53,
   "metadata": {},
   "outputs": [
    {
     "data": {
      "image/png": "[encoded data removed]",
      "text/plain": [
       "<Figure size 576x288 with 1 Axes>"
      ]
     },
     "metadata": {
      "needs_background": "light"
     },
     "output_type": "display_data"
    }
   ],
   "source": [
    "rmse_pivot = data.pivot_table(index='регионы', values='RMSE')\n",
    "rmse_pivot.plot.barh(color='orange', grid=True, figsize=(8, 4))\n",
    "plt.ylabel('показатель rmse')\n",
    "plt.xlabel('регионы')\n",
    "plt.title('Соотношение RMSE по регионам')\n",
    "plt.xticks([1, 10, 20, 30, 40])\n",
    "plt.show()"
   ]
  },
  {
   "cell_type": "markdown",
   "metadata": {},
   "source": [
    "У data_0 показатель чуть лучше, чем у data_2, а у data_1 этот показатель крайне низкий. Значит наша модель в регионе data_1 довольно точно предсказала запасы сырья."
   ]
  },
  {
   "cell_type": "markdown",
   "metadata": {},
   "source": [
    "**Выведем общий график:**"
   ]
  },
  {
   "cell_type": "code",
   "execution_count": 54,
   "metadata": {},
   "outputs": [
    {
     "data": {
      "image/png": "[encoded data removed]",
      "text/plain": [
       "<Figure size 576x288 with 1 Axes>"
      ]
     },
     "metadata": {
      "needs_background": "light"
     },
     "output_type": "display_data"
    }
   ],
   "source": [
    "\n",
    "data.plot.barh('регионы', grid=True, figsize=(8, 4))\n",
    "plt.xlabel('RMSE / тыс. баррелей')\n",
    "plt.ylabel('регионы')\n",
    "plt.title('Соотношение запасов и RMSE по регионам')\n",
    "plt.xticks([1, 10, 20, 30, 40, 50, 60, 70, 80, 90, 100])\n",
    "plt.show()"
   ]
  },
  {
   "cell_type": "markdown",
   "metadata": {},
   "source": [
    "На графике явно видно, что RMSE у региона data_1 очень маленькая! Хоть и запасов сырья сравнительно меньше, но минимальная ошибка выводит регион в лидеры."
   ]
  },
  {
   "cell_type": "code",
   "execution_count": 55,
   "metadata": {},
   "outputs": [
    {
     "name": "stdout",
     "output_type": "stream",
     "text": [
      "Cредний запас предсказанного сырья: 68.728546895446 тыс. баррелей.\n",
      "RMSE для Региона: 0.8930992867756159\n"
     ]
    },
    {
     "data": {
      "text/plain": [
       "(0         80.859783\n",
       " 1         53.906522\n",
       " 2         30.132364\n",
       " 3         53.906522\n",
       " 4          0.000000\n",
       "             ...    \n",
       " 24995    137.945408\n",
       " 24996    110.992147\n",
       " 24997    137.945408\n",
       " 24998     84.038886\n",
       " 24999     53.906522\n",
       " Name: product, Length: 25000, dtype: float64,\n",
       " 0         82.663314\n",
       " 1         54.431786\n",
       " 2         29.748760\n",
       " 3         53.552133\n",
       " 4          1.243856\n",
       "             ...    \n",
       " 24995    136.869211\n",
       " 24996    110.693465\n",
       " 24997    137.879341\n",
       " 24998     83.761966\n",
       " 24999     53.958466\n",
       " Length: 25000, dtype: float64)"
      ]
     },
     "execution_count": 55,
     "metadata": {},
     "output_type": "execute_result"
    }
   ],
   "source": [
    "def fit_predict(df):\n",
    "    train, valid = train_test_split(df, test_size=0.25, random_state=12345) \n",
    "    X_train = train.drop('product', axis=1)\n",
    "    y_train = train['product']\n",
    "    \n",
    "    X_valid = valid.drop('product', axis=1)\n",
    "    y_valid = valid['product']\n",
    "    \n",
    "    scaler = StandardScaler()\n",
    "    scaler.fit(X_train)\n",
    "    X_train = scaler.transform(X_train)\n",
    "    X_valid = scaler.transform(X_valid)\n",
    "    \n",
    "    clf = LinearRegression().fit(X_train,y_train)\n",
    "    y_pred = clf.predict(X_valid)\n",
    "    \n",
    "    print('Cредний запас предсказанного сырья:', y_pred.mean(), 'тыс. баррелей.')\n",
    "    print('RMSE для Региона:', mean_squared_error(y_valid, y_pred)**0.5)\n",
    "#     и здесь всякие принты можно поставить\n",
    "    \n",
    "    return y_valid.reset_index(drop=True),pd.Series(y_pred)\n",
    "\n",
    "fit_predict(data_1)"
   ]
  },
  {
   "cell_type": "markdown",
   "metadata": {},
   "source": [
    "### Вывод"
   ]
  },
  {
   "cell_type": "markdown",
   "metadata": {},
   "source": [
    "В данном разделе мы определили тренировочную и валидационные выборки, обучили модель линейной регрессии на тренировочной выборке и на валидационной выборке поучили предсказания среднего запаса сырья и RMSE по регионам. \n",
    "\n",
    "***Лучшим регионом на данный момент является регион 2 (data_1), т.к. у него минимальная RMSE, но стандартный запас сырья.***"
   ]
  },
  {
   "cell_type": "markdown",
   "metadata": {},
   "source": [
    "## Подготовка к расчёту прибыли"
   ]
  },
  {
   "cell_type": "markdown",
   "metadata": {},
   "source": [
    "### Все ключевые значения для расчётов сохраним в отдельных переменных. "
   ]
  },
  {
   "cell_type": "markdown",
   "metadata": {},
   "source": [
    "#### Ранее мы сохраняли предсказанный средний запас сырья по каждому региону в отдельных переменных:"
   ]
  },
  {
   "cell_type": "code",
   "execution_count": 56,
   "metadata": {},
   "outputs": [
    {
     "name": "stdout",
     "output_type": "stream",
     "text": [
      "Запасы сырья в регионе data_0: 92.59256778438038\n",
      "Запасы сырья в регионе data_1: 68.728546895446\n",
      "Запасы сырья в регионе data_2: 94.96504596800489\n"
     ]
    }
   ],
   "source": [
    "mean_0 #предсказанный запас в data_0\n",
    "mean_1 #предсказанный запас в data_1\n",
    "mean_2 #предсказанный запас в data_2\n",
    "\n",
    "print('Запасы сырья в регионе data_0:', mean_0)\n",
    "print('Запасы сырья в регионе data_1:', mean_1)\n",
    "print('Запасы сырья в регионе data_2:', mean_2)"
   ]
  },
  {
   "cell_type": "markdown",
   "metadata": {},
   "source": [
    "#### Сохраним в отдельных переменных бюджет, цену за 1 тыс. баррелей и максимально допустимую вероятность убытков:"
   ]
  },
  {
   "cell_type": "code",
   "execution_count": 57,
   "metadata": {},
   "outputs": [
    {
     "name": "stdout",
     "output_type": "stream",
     "text": [
      "Бюджет на разработку скважин: 10000000000 рублей.\n"
     ]
    }
   ],
   "source": [
    "budjet = 10000000000\n",
    "print('Бюджет на разработку скважин:', budjet, 'рублей.')"
   ]
  },
  {
   "cell_type": "code",
   "execution_count": 58,
   "metadata": {},
   "outputs": [
    {
     "name": "stdout",
     "output_type": "stream",
     "text": [
      "Цена за тысячу беррелей: 450000 рублей.\n"
     ]
    }
   ],
   "source": [
    "barrel_price = 450000\n",
    "print('Цена за тысячу беррелей:', barrel_price, 'рублей.')"
   ]
  },
  {
   "cell_type": "code",
   "execution_count": 59,
   "metadata": {},
   "outputs": [
    {
     "name": "stdout",
     "output_type": "stream",
     "text": [
      "Максимально допустимая вероятность убытков: 2.5%\n"
     ]
    }
   ],
   "source": [
    "max_loast = 0.025\n",
    "print('Максимально допустимая вероятность убытков: {:.1%}'.format(max_loast))"
   ]
  },
  {
   "cell_type": "markdown",
   "metadata": {},
   "source": [
    "Рассчитаем бюджет на одну скважину:"
   ]
  },
  {
   "cell_type": "code",
   "execution_count": 60,
   "metadata": {},
   "outputs": [
    {
     "name": "stdout",
     "output_type": "stream",
     "text": [
      "Бюджет на одну скважину 50000000 рублей.\n"
     ]
    }
   ],
   "source": [
    "budjet_1 = budjet / 200\n",
    "print('Бюджет на одну скважину', int(budjet_1), 'рублей.')"
   ]
  },
  {
   "cell_type": "markdown",
   "metadata": {},
   "source": [
    "Рассчитаем минимальное количество продукта:\n",
    "\n",
    "    Поделим бюджет, выделенный на скважину, на цену за тыс.баррелей продукта."
   ]
  },
  {
   "cell_type": "code",
   "execution_count": 61,
   "metadata": {},
   "outputs": [
    {
     "name": "stdout",
     "output_type": "stream",
     "text": [
      "Достаточный объём сырья для безубыточной разработки новой скважины 111 тыс.баррелей\n"
     ]
    }
   ],
   "source": [
    "min_product = budjet_1 / barrel_price \n",
    "print('Достаточный объём сырья для безубыточной разработки новой скважины', int(min_product), 'тыс.баррелей')"
   ]
  },
  {
   "cell_type": "markdown",
   "metadata": {},
   "source": [
    "**Сравним объём сырья для безубыточной разработки новой скважины со средними значениями сырья по регионам:**"
   ]
  },
  {
   "cell_type": "markdown",
   "metadata": {},
   "source": [
    "Рассчитаем средние запасы сырья по регионам:"
   ]
  },
  {
   "cell_type": "code",
   "execution_count": 62,
   "metadata": {},
   "outputs": [],
   "source": [
    "mean_product_0 = data_0['product'].mean() #data_0\n",
    "mean_product_1 = data_1['product'].mean() #data_1\n",
    "mean_product_2 = data_2['product'].mean() #data_2"
   ]
  },
  {
   "cell_type": "code",
   "execution_count": 63,
   "metadata": {},
   "outputs": [
    {
     "name": "stdout",
     "output_type": "stream",
     "text": [
      "Cреднее региона data_0: 92.49999999999976\n",
      "Cреднее региона data_1: 68.82500000002561\n",
      "Cреднее региона data_2: 95.00000000000041\n",
      "Достаточный объём сырья для безубыточной разработки новой скважины: 111\n"
     ]
    }
   ],
   "source": [
    "print(\"Cреднее региона data_0:\", mean_product_0)\n",
    "print(\"Cреднее региона data_1:\", mean_product_1)\n",
    "print(\"Cреднее региона data_2:\", mean_product_2)\n",
    "print(\"Достаточный объём сырья для безубыточной разработки новой скважины:\", int(min_product))"
   ]
  },
  {
   "cell_type": "markdown",
   "metadata": {},
   "source": [
    "Сделаем график для наглядности:"
   ]
  },
  {
   "cell_type": "code",
   "execution_count": 64,
   "metadata": {},
   "outputs": [
    {
     "data": {
      "image/png": "[encoded data removed]",
      "text/plain": [
       "<Figure size 432x288 with 1 Axes>"
      ]
     },
     "metadata": {
      "needs_background": "light"
     },
     "output_type": "display_data"
    }
   ],
   "source": [
    "data_means = pd.DataFrame({'data_region':['data_0', 'data_1', 'data_2'], \n",
    "                           'mean_barrels': [mean_product_0, mean_product_1, mean_product_2], \n",
    "                           'min_product': min_product})\n",
    "data_means.plot.bar()\n",
    "plt.ylabel('тыс. баррелей')\n",
    "plt.xlabel('регионы')\n",
    "plt.title('Соотношение запасов по регионам к минимальному объёму сырья для безубыточной разработки новой скважины')\n",
    "plt.show()"
   ]
  },
  {
   "cell_type": "markdown",
   "metadata": {},
   "source": [
    "По среднему объёму предсказанного сырья в регионах видно, что разработка скважин в регионах будет убыточной. Из этого следует, что точки мы случайно выбирать не можем (тогда разработка скважины просто не окупится) из-за средней низкой концентрации продукта."
   ]
  },
  {
   "cell_type": "markdown",
   "metadata": {},
   "source": [
    "#### Сохраним в переменных предсказания и цели валидационной выборки из data_0"
   ]
  },
  {
   "cell_type": "markdown",
   "metadata": {},
   "source": [
    "Скорректируем таблицу нашего региона, добавив в него предсказанные запасы сырья:"
   ]
  },
  {
   "cell_type": "code",
   "execution_count": 65,
   "metadata": {},
   "outputs": [
    {
     "data": {
      "text/html": [
       "<div>\n",
       "<style scoped>\n",
       "    .dataframe tbody tr th:only-of-type {\n",
       "        vertical-align: middle;\n",
       "    }\n",
       "\n",
       "    .dataframe tbody tr th {\n",
       "        vertical-align: top;\n",
       "    }\n",
       "\n",
       "    .dataframe thead th {\n",
       "        text-align: right;\n",
       "    }\n",
       "</style>\n",
       "<table border=\"1\" class=\"dataframe\">\n",
       "  <thead>\n",
       "    <tr style=\"text-align: right;\">\n",
       "      <th></th>\n",
       "      <th>f0</th>\n",
       "      <th>f1</th>\n",
       "      <th>f2</th>\n",
       "      <th>product</th>\n",
       "      <th>probabilities</th>\n",
       "    </tr>\n",
       "  </thead>\n",
       "  <tbody>\n",
       "    <tr>\n",
       "      <th>71751</th>\n",
       "      <td>0.948970</td>\n",
       "      <td>-0.057547</td>\n",
       "      <td>2.095727</td>\n",
       "      <td>10.038645</td>\n",
       "      <td>95.894952</td>\n",
       "    </tr>\n",
       "    <tr>\n",
       "      <th>80493</th>\n",
       "      <td>0.992974</td>\n",
       "      <td>0.206671</td>\n",
       "      <td>-0.142278</td>\n",
       "      <td>114.551489</td>\n",
       "      <td>77.572583</td>\n",
       "    </tr>\n",
       "    <tr>\n",
       "      <th>2655</th>\n",
       "      <td>1.199854</td>\n",
       "      <td>-0.563356</td>\n",
       "      <td>-1.852991</td>\n",
       "      <td>132.603635</td>\n",
       "      <td>77.892640</td>\n",
       "    </tr>\n",
       "    <tr>\n",
       "      <th>53233</th>\n",
       "      <td>0.691422</td>\n",
       "      <td>-0.433347</td>\n",
       "      <td>0.564974</td>\n",
       "      <td>169.072125</td>\n",
       "      <td>90.175134</td>\n",
       "    </tr>\n",
       "    <tr>\n",
       "      <th>91141</th>\n",
       "      <td>0.420772</td>\n",
       "      <td>0.972638</td>\n",
       "      <td>0.736190</td>\n",
       "      <td>122.325180</td>\n",
       "      <td>70.510088</td>\n",
       "    </tr>\n",
       "  </tbody>\n",
       "</table>\n",
       "</div>"
      ],
      "text/plain": [
       "             f0        f1        f2     product  probabilities\n",
       "71751  0.948970 -0.057547  2.095727   10.038645      95.894952\n",
       "80493  0.992974  0.206671 -0.142278  114.551489      77.572583\n",
       "2655   1.199854 -0.563356 -1.852991  132.603635      77.892640\n",
       "53233  0.691422 -0.433347  0.564974  169.072125      90.175134\n",
       "91141  0.420772  0.972638  0.736190  122.325180      70.510088"
      ]
     },
     "execution_count": 65,
     "metadata": {},
     "output_type": "execute_result"
    }
   ],
   "source": [
    "data_0_valid['probabilities'] = predictions_0_valid #добавили столбец с предсказаниями\n",
    "data_0_valid.head()"
   ]
  },
  {
   "cell_type": "markdown",
   "metadata": {},
   "source": [
    "Сделаем из предсказаний нашего региона Series:"
   ]
  },
  {
   "cell_type": "code",
   "execution_count": 66,
   "metadata": {},
   "outputs": [
    {
     "data": {
      "text/plain": [
       "71751    95.894952\n",
       "80493    77.572583\n",
       "2655     77.892640\n",
       "53233    90.175134\n",
       "91141    70.510088\n",
       "Name: probabilities, dtype: float64"
      ]
     },
     "execution_count": 66,
     "metadata": {},
     "output_type": "execute_result"
    }
   ],
   "source": [
    "probabilities_0 = pd.Series(data_0_valid['probabilities']) #вынесли предсказания в отдельный фрейм\n",
    "probabilities_0.head()"
   ]
  },
  {
   "cell_type": "markdown",
   "metadata": {},
   "source": [
    "Сделаем таблицу целей"
   ]
  },
  {
   "cell_type": "code",
   "execution_count": 67,
   "metadata": {},
   "outputs": [
    {
     "data": {
      "text/plain": [
       "71751     10.038645\n",
       "80493    114.551489\n",
       "2655     132.603635\n",
       "53233    169.072125\n",
       "91141    122.325180\n",
       "Name: product, dtype: float64"
      ]
     },
     "execution_count": 67,
     "metadata": {},
     "output_type": "execute_result"
    }
   ],
   "source": [
    "target_0 = pd.Series(data_0_valid['product'])\n",
    "target_0.head()"
   ]
  },
  {
   "cell_type": "markdown",
   "metadata": {},
   "source": [
    "Все данные для дальнейшего рассчёта прибыли и рисков подготовлены."
   ]
  },
  {
   "cell_type": "markdown",
   "metadata": {},
   "source": [
    "#### Добавим в два других региона столбец с предсказаниями:"
   ]
  },
  {
   "cell_type": "code",
   "execution_count": 68,
   "metadata": {},
   "outputs": [],
   "source": [
    "data_1_valid['probabilities'] = predictions_1_valid\n",
    "data_2_valid['probabilities'] = predictions_2_valid"
   ]
  },
  {
   "cell_type": "markdown",
   "metadata": {},
   "source": [
    "**Вынесем предсказания в Series:**"
   ]
  },
  {
   "cell_type": "code",
   "execution_count": 69,
   "metadata": {},
   "outputs": [],
   "source": [
    "probabilities_1 = pd.Series(data_1_valid['probabilities'])\n",
    "probabilities_2 = pd.Series(data_2_valid['probabilities'])"
   ]
  },
  {
   "cell_type": "markdown",
   "metadata": {},
   "source": [
    "**И вынесем столбцы с продуктом в отдельные Series:**"
   ]
  },
  {
   "cell_type": "code",
   "execution_count": 70,
   "metadata": {},
   "outputs": [],
   "source": [
    "target_1 = pd.Series(data_1_valid['product'])\n",
    "target_2 = pd.Series(data_2_valid['product'])"
   ]
  },
  {
   "cell_type": "markdown",
   "metadata": {},
   "source": [
    "#### Напишем функцию для рассчёта прибыли"
   ]
  },
  {
   "cell_type": "markdown",
   "metadata": {},
   "source": [
    "Напишем функцию для нахождения прибыли со скважин:\n",
    "\n",
    "    profit = прибыль\n",
    "    target - цели (сырьё, продукт)\n",
    "    probabilities - предсказанные моделью запасы сырья\n",
    "    probs_sorted - отсортированные по убыванию предсказанные запасы сырья\n",
    "    selected - скважины отсортированных запасов сырья\n",
    "    budjet - выделенный бюджет на разработку скважин в регионе.\n",
    "    barrel_price - цена за тысячу баррелей\n",
    "    count - колличество лучших скважин (по условию проекта их 200)"
   ]
  },
  {
   "cell_type": "code",
   "execution_count": 71,
   "metadata": {},
   "outputs": [],
   "source": [
    "def profit(target, probabilities, count):\n",
    "    probs_sorted = probabilities.sort_values(ascending=False)\n",
    "    selected = target[probs_sorted.index][:count]\n",
    "    return barrel_price * selected.sum() - budjet"
   ]
  },
  {
   "cell_type": "markdown",
   "metadata": {},
   "source": [
    "### Вывод"
   ]
  },
  {
   "cell_type": "markdown",
   "metadata": {},
   "source": [
    "В данном разделе мы сохранили в переменных необходимые для дальнейших рассчётов прибыли и риска данные, а также узнали, что средние предсказанные запасы сырья по регионам (даже в выбранном нами наилучшем регионе) меньше минимального запаса сырья, который будет окупаться. В связи с этим мы не сможем в дальнейшем брать любые случайные 200 скважин (колличество скважин описано в задании проекта) и вычислять на них прибыль, т.к. нам могут попасться скважины с низкой концентрацией сырья. Поэтому нам нужно брать только 200 самых лучших скважин и рассчитывать прибыль именно по лучшим скважинам. Мы написали функцию для рассчёта прибыли."
   ]
  },
  {
   "cell_type": "markdown",
   "metadata": {},
   "source": [
    "## Расчёт прибыли и рисков "
   ]
  },
  {
   "cell_type": "markdown",
   "metadata": {},
   "source": [
    "Из библиотеки *NumPy* возьмём функцию `RandomState()` что бы находить случайные 500 скважин:"
   ]
  },
  {
   "cell_type": "code",
   "execution_count": 72,
   "metadata": {},
   "outputs": [],
   "source": [
    "state = np.random.RandomState(12345)"
   ]
  },
  {
   "cell_type": "markdown",
   "metadata": {},
   "source": [
    "### Рассчитаем среднюю прибыль на валидационной выборке для нашего региона, применив технику *Bootstrap* "
   ]
  },
  {
   "cell_type": "markdown",
   "metadata": {},
   "source": [
    "**Напишем функцию для техники Bootstrap:**"
   ]
  },
  {
   "cell_type": "markdown",
   "metadata": {},
   "source": [
    "**data_0:**"
   ]
  },
  {
   "cell_type": "code",
   "execution_count": 73,
   "metadata": {},
   "outputs": [],
   "source": [
    "def bootstrap(target, probabilities, r_state):\n",
    "    values = []\n",
    "    for i in range(1000):\n",
    "        target_subsample = target.sample(n=500, replace=True, random_state=r_state)\n",
    "        probs_subsample = probabilities[target_subsample.index]\n",
    "        values.append(profit(target_subsample, probs_subsample, 200))\n",
    "    \n",
    "    values = pd.Series(values)\n",
    "    return values"
   ]
  },
  {
   "cell_type": "markdown",
   "metadata": {},
   "source": [
    "#### Регион 1 (data_0)"
   ]
  },
  {
   "cell_type": "code",
   "execution_count": 74,
   "metadata": {},
   "outputs": [
    {
     "name": "stdout",
     "output_type": "stream",
     "text": [
      "Средняя прибыль в регионе data_0: 425938526.910592 рублей.\n"
     ]
    }
   ],
   "source": [
    "values_0 = bootstrap(target_0, probabilities_0, state)\n",
    "mean_profit_0 = values_0.mean()\n",
    "print(\"Средняя прибыль в регионе data_0:\", mean_profit_0, 'рублей.')"
   ]
  },
  {
   "cell_type": "markdown",
   "metadata": {},
   "source": [
    "### Рассчитаем убыток на валидационной выборке"
   ]
  },
  {
   "cell_type": "markdown",
   "metadata": {},
   "source": [
    "Посчитаем колличество убыточных точек (тех, у которых прибыль отрицательная):"
   ]
  },
  {
   "cell_type": "markdown",
   "metadata": {},
   "source": [
    "**Напишем функцию для определения колличества скважин с отрицательной прибылью:**"
   ]
  },
  {
   "cell_type": "code",
   "execution_count": 75,
   "metadata": {},
   "outputs": [],
   "source": [
    "def bad_profit_count(values):\n",
    "    bad_profit_count = 0\n",
    "    for i in range(len(values)):\n",
    "        if values[i] < 0:\n",
    "            bad_profit_count += 1\n",
    "    return bad_profit_count"
   ]
  },
  {
   "cell_type": "markdown",
   "metadata": {},
   "source": [
    "#### Регион 1 (data_0)"
   ]
  },
  {
   "cell_type": "code",
   "execution_count": 76,
   "metadata": {},
   "outputs": [
    {
     "name": "stdout",
     "output_type": "stream",
     "text": [
      "Скважин с отрицательной прибылью: 60\n"
     ]
    }
   ],
   "source": [
    "bad_profit_v0_count = bad_profit_count(values_0)\n",
    "print('Скважин с отрицательной прибылью:', bad_profit_v0_count)"
   ]
  },
  {
   "cell_type": "markdown",
   "metadata": {},
   "source": [
    "Теперь найдём процент отрицательной прибыли:"
   ]
  },
  {
   "cell_type": "code",
   "execution_count": 77,
   "metadata": {},
   "outputs": [
    {
     "name": "stdout",
     "output_type": "stream",
     "text": [
      "Процент убытка в регионе data_0 на валидационной выборке: 6.0 %\n"
     ]
    }
   ],
   "source": [
    "bad_profit_v0 = bad_profit_v0_count / len(values_0) * 100\n",
    "print('Процент убытка в регионе data_0 на валидационной выборке:',bad_profit_v0, '%')"
   ]
  },
  {
   "cell_type": "markdown",
   "metadata": {},
   "source": [
    "### Рассчитаем 95%-й доверительный интервал на валидационной выборке"
   ]
  },
  {
   "cell_type": "markdown",
   "metadata": {},
   "source": [
    "#### Регион 1 (data_0)"
   ]
  },
  {
   "cell_type": "code",
   "execution_count": 78,
   "metadata": {},
   "outputs": [
    {
     "name": "stdout",
     "output_type": "stream",
     "text": [
      "95%-ый доверительный интервал прибыли в регионе data_0: (408732207.0686983, 443144846.75248575) рублей.\n"
     ]
    }
   ],
   "source": [
    "confidence_interval = st.t.interval(\n",
    "    0.95, len(values_0)-1, loc=values_0.mean(), scale=st.sem(values_0))\n",
    "print(\"95%-ый доверительный интервал прибыли в регионе data_0:\", confidence_interval, 'рублей.')"
   ]
  },
  {
   "cell_type": "markdown",
   "metadata": {},
   "source": [
    "### Рассчитаем те же показатели на валидационных выборках других регионов"
   ]
  },
  {
   "cell_type": "markdown",
   "metadata": {},
   "source": [
    "#### Регион 2 (data_1)"
   ]
  },
  {
   "cell_type": "markdown",
   "metadata": {},
   "source": [
    "Прибыль:"
   ]
  },
  {
   "cell_type": "code",
   "execution_count": 79,
   "metadata": {},
   "outputs": [
    {
     "name": "stdout",
     "output_type": "stream",
     "text": [
      "Средняя прибыль в регионе data_1: 518259493.69732505 рублей.\n"
     ]
    }
   ],
   "source": [
    "values_1 = bootstrap(target_1, probabilities_1, state)\n",
    "mean_profit_1 = values_1.mean()\n",
    "print(\"Средняя прибыль в регионе data_1:\", mean_profit_1, 'рублей.')"
   ]
  },
  {
   "cell_type": "markdown",
   "metadata": {},
   "source": [
    "Доверительный интервал:"
   ]
  },
  {
   "cell_type": "code",
   "execution_count": 80,
   "metadata": {},
   "outputs": [
    {
     "name": "stdout",
     "output_type": "stream",
     "text": [
      "95%-ый доверительный интервал прибыли в регионе data_1: (505249881.5766219, 531269105.8180282) рублей.\n"
     ]
    }
   ],
   "source": [
    "confidence_interval_v1 = st.t.interval(\n",
    "    0.95, len(values_1)-1, loc=values_1.mean(), scale=st.sem(values_1))\n",
    "print(\"95%-ый доверительный интервал прибыли в регионе data_1:\", confidence_interval_v1, 'рублей.')"
   ]
  },
  {
   "cell_type": "markdown",
   "metadata": {},
   "source": [
    "Риск убытка:"
   ]
  },
  {
   "cell_type": "code",
   "execution_count": 81,
   "metadata": {},
   "outputs": [
    {
     "name": "stdout",
     "output_type": "stream",
     "text": [
      "Скважин с отрицательной прибылью: 3\n"
     ]
    }
   ],
   "source": [
    "bad_profit_v1_count = bad_profit_count(values_1)\n",
    "print('Скважин с отрицательной прибылью:', bad_profit_v1_count)"
   ]
  },
  {
   "cell_type": "code",
   "execution_count": 82,
   "metadata": {},
   "outputs": [
    {
     "name": "stdout",
     "output_type": "stream",
     "text": [
      "Процент убытка в регионе data_1 на валидационной выборке: 0.3 %\n"
     ]
    }
   ],
   "source": [
    "bad_profit_v1 = bad_profit_v1_count / len(values_1) * 100\n",
    "print('Процент убытка в регионе data_1 на валидационной выборке:', bad_profit_v1, '%')"
   ]
  },
  {
   "cell_type": "markdown",
   "metadata": {},
   "source": [
    "Прибыль в этом регионе значительно превосходит прошлый регион, риск убытков меньше предельно допустимого, разброс по доверительному интервалу совсем небольшой, наметился лидер среди регионов."
   ]
  },
  {
   "cell_type": "markdown",
   "metadata": {},
   "source": [
    "#### Регион 3 (data_2)"
   ]
  },
  {
   "cell_type": "markdown",
   "metadata": {},
   "source": [
    "Прибыль:"
   ]
  },
  {
   "cell_type": "code",
   "execution_count": 83,
   "metadata": {},
   "outputs": [
    {
     "name": "stdout",
     "output_type": "stream",
     "text": [
      "Средняя прибыль в регионе data_0: 420194005.34404975 рублей.\n"
     ]
    }
   ],
   "source": [
    "values_2 = bootstrap(target_2, probabilities_2, state)\n",
    "mean_profit_2 = values_2.mean()\n",
    "print(\"Средняя прибыль в регионе data_0:\", mean_profit_2, 'рублей.')"
   ]
  },
  {
   "cell_type": "markdown",
   "metadata": {},
   "source": [
    "Доверительный интервал:"
   ]
  },
  {
   "cell_type": "code",
   "execution_count": 84,
   "metadata": {},
   "outputs": [
    {
     "name": "stdout",
     "output_type": "stream",
     "text": [
      "95%-ый доверительный интервал прибыли в регионе data_1: (402528703.6503612, 437859307.0377383) рублей.\n"
     ]
    }
   ],
   "source": [
    "confidence_interval_v2 = st.t.interval(\n",
    "    0.95, len(values_2)-1, loc=values_2.mean(), scale=st.sem(values_2))\n",
    "print(\"95%-ый доверительный интервал прибыли в регионе data_1:\", confidence_interval_v2, 'рублей.')"
   ]
  },
  {
   "cell_type": "markdown",
   "metadata": {},
   "source": [
    "Риск убытка:"
   ]
  },
  {
   "cell_type": "code",
   "execution_count": 85,
   "metadata": {},
   "outputs": [
    {
     "name": "stdout",
     "output_type": "stream",
     "text": [
      "Скважин с отрицательной прибылью: 62\n"
     ]
    }
   ],
   "source": [
    "bad_profit_v2_count = 0\n",
    "for i in range(len(values_2)):\n",
    "    if values_2[i] < 0:\n",
    "        bad_profit_v2_count += 1\n",
    "print('Скважин с отрицательной прибылью:', bad_profit_v2_count)"
   ]
  },
  {
   "cell_type": "code",
   "execution_count": 86,
   "metadata": {},
   "outputs": [
    {
     "name": "stdout",
     "output_type": "stream",
     "text": [
      "Процент убытка в регионе data_1 на валидационной выборке: 6.2 %\n"
     ]
    }
   ],
   "source": [
    "bad_profit_v2 = bad_profit_v2_count / len(values_2) * 100\n",
    "print('Процент убытка в регионе data_1 на валидационной выборке:', bad_profit_v2, '%')"
   ]
  },
  {
   "cell_type": "markdown",
   "metadata": {},
   "source": [
    "Прибыль в данном регионе больше, чем в data_0, но меньше, чем в data_1, риск убытка превышает максимально допустимые 2,5%."
   ]
  },
  {
   "cell_type": "markdown",
   "metadata": {},
   "source": [
    "Сведём в таблицу рассчитаную с тысячи скважин прибыль по регионам и выведем график:"
   ]
  },
  {
   "cell_type": "code",
   "execution_count": 87,
   "metadata": {},
   "outputs": [
    {
     "data": {
      "text/html": [
       "<div>\n",
       "<style scoped>\n",
       "    .dataframe tbody tr th:only-of-type {\n",
       "        vertical-align: middle;\n",
       "    }\n",
       "\n",
       "    .dataframe tbody tr th {\n",
       "        vertical-align: top;\n",
       "    }\n",
       "\n",
       "    .dataframe thead th {\n",
       "        text-align: right;\n",
       "    }\n",
       "</style>\n",
       "<table border=\"1\" class=\"dataframe\">\n",
       "  <thead>\n",
       "    <tr style=\"text-align: right;\">\n",
       "      <th></th>\n",
       "      <th>data_region</th>\n",
       "      <th>прибыль</th>\n",
       "    </tr>\n",
       "  </thead>\n",
       "  <tbody>\n",
       "    <tr>\n",
       "      <th>0</th>\n",
       "      <td>data_0</td>\n",
       "      <td>4.259385e+08</td>\n",
       "    </tr>\n",
       "    <tr>\n",
       "      <th>1</th>\n",
       "      <td>data_1</td>\n",
       "      <td>5.182595e+08</td>\n",
       "    </tr>\n",
       "    <tr>\n",
       "      <th>2</th>\n",
       "      <td>data_2</td>\n",
       "      <td>4.201940e+08</td>\n",
       "    </tr>\n",
       "  </tbody>\n",
       "</table>\n",
       "</div>"
      ],
      "text/plain": [
       "  data_region       прибыль\n",
       "0      data_0  4.259385e+08\n",
       "1      data_1  5.182595e+08\n",
       "2      data_2  4.201940e+08"
      ]
     },
     "metadata": {},
     "output_type": "display_data"
    },
    {
     "data": {
      "image/png": "[encoded data removed]",
      "text/plain": [
       "<Figure size 432x288 with 1 Axes>"
      ]
     },
     "metadata": {
      "needs_background": "light"
     },
     "output_type": "display_data"
    }
   ],
   "source": [
    "data_profit_1000 = pd.DataFrame({'data_region':['data_0', 'data_1', 'data_2'],\n",
    "                           'прибыль': [mean_profit_0, mean_profit_1, mean_profit_2]\n",
    "                                 }\n",
    "                                )\n",
    "display(data_profit_1000)\n",
    "data_profit_1000.plot.bar(grid=True)\n",
    "plt.xlabel('data')\n",
    "plt.title('Прибыль рассчитаная с помощью модели')\n",
    "plt.show()"
   ]
  },
  {
   "cell_type": "markdown",
   "metadata": {},
   "source": [
    "2-й регион (data_1) приносит больше всего прибыли."
   ]
  },
  {
   "cell_type": "markdown",
   "metadata": {},
   "source": [
    "### Проверим наши регионы. Вычислим среднюю прибыль по регионам:"
   ]
  },
  {
   "cell_type": "markdown",
   "metadata": {},
   "source": [
    "для поиска процента риска с регионов мы будем использовать метод библиотеки *pandas* `query()` ."
   ]
  },
  {
   "cell_type": "markdown",
   "metadata": {},
   "source": [
    "#### Регион 1 (data_0)"
   ]
  },
  {
   "cell_type": "markdown",
   "metadata": {},
   "source": [
    "**Рассчитаем среднюю выручку со всего региона data_0:**"
   ]
  },
  {
   "cell_type": "markdown",
   "metadata": {},
   "source": [
    "Рассчитывать прибыль будем с помощью обычных математических операций над столбцами таблицы данного региона, а затем выведем среднее значение прибыли со всего региона методом `mean()`."
   ]
  },
  {
   "cell_type": "code",
   "execution_count": 88,
   "metadata": {},
   "outputs": [
    {
     "name": "stdout",
     "output_type": "stream",
     "text": [
      "Прибыль с региона data_0: 41524999.999999866 рублей.\n"
     ]
    }
   ],
   "source": [
    "data_0['profit'] = data_0['product'] * barrel_price - budjet / len(data_0)\n",
    "print('Прибыль с региона data_0:', data_0['profit'].mean(), 'рублей.')"
   ]
  },
  {
   "cell_type": "markdown",
   "metadata": {},
   "source": [
    "**Найдём 95%-й доверительный интервал для всего региона:**"
   ]
  },
  {
   "cell_type": "code",
   "execution_count": 89,
   "metadata": {},
   "outputs": [
    {
     "name": "stdout",
     "output_type": "stream",
     "text": [
      "95%-ый доверительный интервал прибыли в регионе data_0: (41401473.90647647, 41648526.093523264) рублей.\n"
     ]
    }
   ],
   "source": [
    "confidence_interval_0 = st.t.interval(\n",
    "    0.95, len(data_0)-1, loc=data_0['profit'].mean(), scale=st.sem(data_0['profit']))\n",
    "print(\"95%-ый доверительный интервал прибыли в регионе data_0:\", confidence_interval_0, 'рублей.')"
   ]
  },
  {
   "cell_type": "markdown",
   "metadata": {},
   "source": [
    "Прибыль с региона попадает в доверительный интервал"
   ]
  },
  {
   "cell_type": "markdown",
   "metadata": {},
   "source": [
    "**Вычислим риск убыточной добычи скважин:**"
   ]
  },
  {
   "cell_type": "markdown",
   "metadata": {},
   "source": [
    "Исходя из того, что убыток - это отрицательная прибыль, всю прибыль меньше нулевого значения мы посчитаем как остаток, разделим на длину всей таблицы данного региона, а затем умножим на 100, что бы найти процент убытка."
   ]
  },
  {
   "cell_type": "code",
   "execution_count": 90,
   "metadata": {},
   "outputs": [
    {
     "name": "stdout",
     "output_type": "stream",
     "text": [
      "Процент убытка в регионе data_0: 0.046 %\n"
     ]
    }
   ],
   "source": [
    "bad_data_0 = data_0.query('profit < 0')\n",
    "bad_profit_0 = len(bad_data_0) / len(data_0) * 100\n",
    "print('Процент убытка в регионе data_0:', bad_profit_0, '%')"
   ]
  },
  {
   "cell_type": "markdown",
   "metadata": {},
   "source": [
    "Чрезмерного убытка в регионе нет."
   ]
  },
  {
   "cell_type": "markdown",
   "metadata": {},
   "source": [
    "***Повторим операции с таблицами двух оставшихся регионов:***"
   ]
  },
  {
   "cell_type": "markdown",
   "metadata": {},
   "source": [
    "#### Регион 2 (data_1)"
   ]
  },
  {
   "cell_type": "markdown",
   "metadata": {},
   "source": [
    "**Рассчитаем прибыль:**"
   ]
  },
  {
   "cell_type": "code",
   "execution_count": 91,
   "metadata": {},
   "outputs": [
    {
     "name": "stdout",
     "output_type": "stream",
     "text": [
      "Прибыль с региона data_1: 30871249.999996234 рублей.\n"
     ]
    }
   ],
   "source": [
    "data_1['profit'] = data_1['product'] * barrel_price - budjet / len(data_1)\n",
    "print('Прибыль с региона data_1:', data_1['profit'].mean(), 'рублей.')"
   ]
  },
  {
   "cell_type": "markdown",
   "metadata": {},
   "source": [
    "**Найдём 95%-й доверительный интервал для всего региона:**"
   ]
  },
  {
   "cell_type": "code",
   "execution_count": 92,
   "metadata": {},
   "outputs": [
    {
     "name": "stdout",
     "output_type": "stream",
     "text": [
      "95%-ый доверительный интервал прибыли в регионе data_0: (30743105.88614409, 30999394.113848377) рублей.\n"
     ]
    }
   ],
   "source": [
    "confidence_interval_1 = st.t.interval(\n",
    "    0.95, len(data_2)-1, loc=data_1['profit'].mean(), scale=st.sem(data_1['profit']))\n",
    "print(\"95%-ый доверительный интервал прибыли в регионе data_0:\", confidence_interval_1, 'рублей.')"
   ]
  },
  {
   "cell_type": "markdown",
   "metadata": {},
   "source": [
    "Прибыль с региона попадает в доверительный интервал."
   ]
  },
  {
   "cell_type": "markdown",
   "metadata": {},
   "source": [
    "**Найдём вероятность убытка:**"
   ]
  },
  {
   "cell_type": "code",
   "execution_count": 93,
   "metadata": {},
   "outputs": [
    {
     "name": "stdout",
     "output_type": "stream",
     "text": [
      "Риск убытка в регионе data_1: 8.235000000000001 %\n"
     ]
    }
   ],
   "source": [
    "bad_data_1 = data_1.query('profit < 0')\n",
    "bad_profit_1 = len(bad_data_1) / len(data_1) * 100\n",
    "print('Риск убытка в регионе data_1:', bad_profit_1, '%')"
   ]
  },
  {
   "cell_type": "markdown",
   "metadata": {},
   "source": [
    "Риск убытка в регионе data_1 больше 2,5 %. Данный регион (без работы нашей модели над ним) не подошёл бы для разработки скважин."
   ]
  },
  {
   "cell_type": "markdown",
   "metadata": {},
   "source": [
    "#### Регион 3 (data_2)"
   ]
  },
  {
   "cell_type": "markdown",
   "metadata": {},
   "source": [
    "**Рассчитаем прибыль:**"
   ]
  },
  {
   "cell_type": "code",
   "execution_count": 94,
   "metadata": {},
   "outputs": [
    {
     "name": "stdout",
     "output_type": "stream",
     "text": [
      "Прибыль с региона data_2: 42649999.999999925 рублей.\n"
     ]
    }
   ],
   "source": [
    "data_2['profit'] = data_2['product'] * barrel_price - budjet / len(data_2)\n",
    "print('Прибыль с региона data_2:', data_2['profit'].mean(), 'рублей.')"
   ]
  },
  {
   "cell_type": "markdown",
   "metadata": {},
   "source": [
    "**Найдём 95%-й доверительный интервал для всего региона:**"
   ]
  },
  {
   "cell_type": "code",
   "execution_count": 95,
   "metadata": {},
   "outputs": [
    {
     "name": "stdout",
     "output_type": "stream",
     "text": [
      "95%-ый доверительный интервал прибыли в регионе data_0: (42525187.48481299, 42774812.51518686) рублей.\n"
     ]
    }
   ],
   "source": [
    "confidence_interval_2 = st.t.interval(\n",
    "    0.95, len(data_2)-1, loc=data_2['profit'].mean(), scale=st.sem(data_2['profit']))\n",
    "print(\"95%-ый доверительный интервал прибыли в регионе data_0:\", confidence_interval_2, 'рублей.')"
   ]
  },
  {
   "cell_type": "markdown",
   "metadata": {},
   "source": [
    "Прибыль с региона попадает в доверительный интервал."
   ]
  },
  {
   "cell_type": "markdown",
   "metadata": {},
   "source": [
    "**Найдём риск убытка:**"
   ]
  },
  {
   "cell_type": "code",
   "execution_count": 96,
   "metadata": {},
   "outputs": [
    {
     "name": "stdout",
     "output_type": "stream",
     "text": [
      "Риск убытка в регионе data_2: 0.053 %\n"
     ]
    }
   ],
   "source": [
    "bad_data_2 = data_2.query('profit < 0')\n",
    "bad_profit_2 = len(bad_data_2) / len(data_2) * 100\n",
    "print('Риск убытка в регионе data_2:', bad_profit_2, '%')"
   ]
  },
  {
   "cell_type": "markdown",
   "metadata": {},
   "source": [
    "У региона маленький риск убытка. Разрабатывать скважины можно."
   ]
  },
  {
   "cell_type": "markdown",
   "metadata": {},
   "source": [
    "### Сделаем графики по всем регионам для наглядности"
   ]
  },
  {
   "cell_type": "markdown",
   "metadata": {},
   "source": [
    "#### Прибыль"
   ]
  },
  {
   "cell_type": "code",
   "execution_count": 97,
   "metadata": {},
   "outputs": [
    {
     "data": {
      "text/html": [
       "<div>\n",
       "<style scoped>\n",
       "    .dataframe tbody tr th:only-of-type {\n",
       "        vertical-align: middle;\n",
       "    }\n",
       "\n",
       "    .dataframe tbody tr th {\n",
       "        vertical-align: top;\n",
       "    }\n",
       "\n",
       "    .dataframe thead th {\n",
       "        text-align: right;\n",
       "    }\n",
       "</style>\n",
       "<table border=\"1\" class=\"dataframe\">\n",
       "  <thead>\n",
       "    <tr style=\"text-align: right;\">\n",
       "      <th></th>\n",
       "      <th>data_region</th>\n",
       "      <th>весь регион</th>\n",
       "      <th>валидационная</th>\n",
       "    </tr>\n",
       "  </thead>\n",
       "  <tbody>\n",
       "    <tr>\n",
       "      <th>0</th>\n",
       "      <td>data_0</td>\n",
       "      <td>4.259385e+08</td>\n",
       "      <td>4.152500e+07</td>\n",
       "    </tr>\n",
       "    <tr>\n",
       "      <th>1</th>\n",
       "      <td>data_1</td>\n",
       "      <td>5.182595e+08</td>\n",
       "      <td>3.087125e+07</td>\n",
       "    </tr>\n",
       "    <tr>\n",
       "      <th>2</th>\n",
       "      <td>data_2</td>\n",
       "      <td>4.201940e+08</td>\n",
       "      <td>4.265000e+07</td>\n",
       "    </tr>\n",
       "  </tbody>\n",
       "</table>\n",
       "</div>"
      ],
      "text/plain": [
       "  data_region   весь регион  валидационная\n",
       "0      data_0  4.259385e+08   4.152500e+07\n",
       "1      data_1  5.182595e+08   3.087125e+07\n",
       "2      data_2  4.201940e+08   4.265000e+07"
      ]
     },
     "metadata": {},
     "output_type": "display_data"
    },
    {
     "data": {
      "image/png": "[encoded data removed]",
      "text/plain": [
       "<Figure size 432x288 with 1 Axes>"
      ]
     },
     "metadata": {
      "needs_background": "light"
     },
     "output_type": "display_data"
    }
   ],
   "source": [
    "data_profit_valid = pd.DataFrame({'data_region':['data_0', 'data_1', 'data_2'], \n",
    "                           'весь регион': [mean_profit_0, mean_profit_1, mean_profit_2], \n",
    "                           'валидационная': [data_0['profit'].mean(), data_1['profit'].mean(), data_2['profit'].mean()]\n",
    "                                 }\n",
    "                                )\n",
    "display(data_profit_valid)\n",
    "data_profit_valid.plot.bar(grid=True)\n",
    "plt.ylabel('рублей')\n",
    "plt.xlabel('регионы')\n",
    "plt.title('Средняя прибыль по валидационным и конечным данным регионов')\n",
    "plt.show()"
   ]
  },
  {
   "cell_type": "markdown",
   "metadata": {},
   "source": [
    "Максимальную выручку по валидационным выборкам показывает регион 3 (data_2), вслед за ним идёт регион 1 (data_0). Прибыль по региону 2 (data_1) самая низкая. На полных же таблицах регионов (без вмешательства нашей модели) топ - data_1, за ним data_2, меньше всего приносит прибыли data_0."
   ]
  },
  {
   "cell_type": "markdown",
   "metadata": {},
   "source": [
    "#### Убытки"
   ]
  },
  {
   "cell_type": "code",
   "execution_count": 98,
   "metadata": {},
   "outputs": [
    {
     "data": {
      "text/html": [
       "<div>\n",
       "<style scoped>\n",
       "    .dataframe tbody tr th:only-of-type {\n",
       "        vertical-align: middle;\n",
       "    }\n",
       "\n",
       "    .dataframe tbody tr th {\n",
       "        vertical-align: top;\n",
       "    }\n",
       "\n",
       "    .dataframe thead th {\n",
       "        text-align: right;\n",
       "    }\n",
       "</style>\n",
       "<table border=\"1\" class=\"dataframe\">\n",
       "  <thead>\n",
       "    <tr style=\"text-align: right;\">\n",
       "      <th></th>\n",
       "      <th>data_region</th>\n",
       "      <th>весь регион</th>\n",
       "      <th>валидационная</th>\n",
       "    </tr>\n",
       "  </thead>\n",
       "  <tbody>\n",
       "    <tr>\n",
       "      <th>0</th>\n",
       "      <td>data_0</td>\n",
       "      <td>0.046</td>\n",
       "      <td>6.0</td>\n",
       "    </tr>\n",
       "    <tr>\n",
       "      <th>1</th>\n",
       "      <td>data_1</td>\n",
       "      <td>8.235</td>\n",
       "      <td>0.3</td>\n",
       "    </tr>\n",
       "    <tr>\n",
       "      <th>2</th>\n",
       "      <td>data_2</td>\n",
       "      <td>0.053</td>\n",
       "      <td>6.2</td>\n",
       "    </tr>\n",
       "  </tbody>\n",
       "</table>\n",
       "</div>"
      ],
      "text/plain": [
       "  data_region  весь регион  валидационная\n",
       "0      data_0        0.046            6.0\n",
       "1      data_1        8.235            0.3\n",
       "2      data_2        0.053            6.2"
      ]
     },
     "metadata": {},
     "output_type": "display_data"
    },
    {
     "data": {
      "image/png": "[encoded data removed]",
      "text/plain": [
       "<Figure size 432x288 with 1 Axes>"
      ]
     },
     "metadata": {
      "needs_background": "light"
     },
     "output_type": "display_data"
    }
   ],
   "source": [
    "data_profit_valid = pd.DataFrame({'data_region':['data_0', 'data_1', 'data_2'], \n",
    "                           'весь регион': [bad_profit_0, bad_profit_1, bad_profit_2], \n",
    "                           'валидационная': [bad_profit_v0, bad_profit_v1, bad_profit_v2]\n",
    "                                 }\n",
    "                                )\n",
    "display(data_profit_valid)\n",
    "data_profit_valid.plot.bar(grid=True)\n",
    "plt.ylabel('%')\n",
    "plt.xlabel('data')\n",
    "plt.title('Риск убытков по валидационным и конечным данным регионов')\n",
    "plt.yticks([2.5, 5, 10, 20, 30, 40])\n",
    "plt.show()"
   ]
  },
  {
   "cell_type": "markdown",
   "metadata": {},
   "source": [
    "Риск убыточной добычи демонстрирует регион 3 (data_2) и у регион 3 (data_2) на валидационных, данных риски крайне велики. Самый низкий риск на валидационной выборке показывает регион 2 (data_1) - он меньше 2,5 %, )  \n",
    "\n",
    "Однако на полных данных регион 1 и регион 3 не превышают порог в 2,5% и вроде как подходят для разработки скважин. 2-й же регион нам не подходит, т.к. риск убыточной добычи выше 2,5%.\n",
    "\n",
    "Сравнив эти 2 графика (как бы до и после обучения модели) можно смело говорить о том, что наша модель может предсказать с довольно большой вероятностью наименее убыточный регион для разработки со средним содержанием продукта, хотя на первый взгляд регион кажется убыточным."
   ]
  },
  {
   "cell_type": "markdown",
   "metadata": {},
   "source": [
    "### Вывод"
   ]
  },
  {
   "cell_type": "markdown",
   "metadata": {},
   "source": [
    "В данном пункте мы рассчитали среднюю выручку по регионам, вычислили доверительный интервал по регионам, а также рассчитали риск убытков для рассматриваемых регионов. Мы выяснили, что **самый благоприятный регион** для разработки скважин - это **регион 2 (data_1)** - риск убытков минимальный, прибыль максимальная."
   ]
  },
  {
   "cell_type": "markdown",
   "metadata": {},
   "source": [
    "## Общий вывод"
   ]
  },
  {
   "cell_type": "markdown",
   "metadata": {},
   "source": [
    "Нам была дана задача **найти регион для разработки скважин, который принесёт максимальную прибыль и будет иметь минимальный риск убытков**. Чтобы выполнить эту задачу мы обучили модель линейной регрессии предсказывать объём продукта в регионах. После чего мы использовали полученные моделью данные для поиска самых лучших скважин, что бы по ним рассчитать среднюю прибыль, доверительный интервал и риск убытков. Также мы вычислили эти же параметры на полных таблицах регионов. \n",
    "\n",
    "**Самым лучшим** регионом для разработки оказался **регион 2 (data_1)**: прибыль оказалась максимальной, а риск убытков минимальный.\n",
    "\n",
    "**Исходя из полученных данных регионом для разработки скважин нужно брать регион 2 (data_1), т.к. риски убытков в нём минимальны, а прибыль максимальная.**"
   ]
  },
  {
   "cell_type": "code",
   "execution_count": null,
   "metadata": {},
   "outputs": [],
   "source": []
  }
 ],
 "metadata": {
  "ExecuteTimeLog": [
   {
    "duration": 713,
    "start_time": "2021-07-13T18:55:19.013Z"
   },
   {
    "duration": 82,
    "start_time": "2021-07-13T18:55:21.903Z"
   },
   {
    "duration": 301,
    "start_time": "2021-07-13T18:55:49.419Z"
   },
   {
    "duration": 114,
    "start_time": "2021-07-13T18:56:08.489Z"
   },
   {
    "duration": 368,
    "start_time": "2021-07-13T18:56:22.768Z"
   },
   {
    "duration": 123,
    "start_time": "2021-07-13T18:56:31.676Z"
   },
   {
    "duration": 121,
    "start_time": "2021-07-13T18:56:48.542Z"
   },
   {
    "duration": 126,
    "start_time": "2021-07-13T18:57:19.069Z"
   },
   {
    "duration": 189,
    "start_time": "2021-07-13T18:59:51.981Z"
   },
   {
    "duration": 135,
    "start_time": "2021-07-13T19:00:45.023Z"
   },
   {
    "duration": 273,
    "start_time": "2021-07-13T19:21:18.593Z"
   },
   {
    "duration": 447,
    "start_time": "2021-07-13T19:21:46.806Z"
   },
   {
    "duration": 363,
    "start_time": "2021-07-13T19:21:53.376Z"
   },
   {
    "duration": 17,
    "start_time": "2021-07-13T19:22:01.827Z"
   },
   {
    "duration": 17,
    "start_time": "2021-07-13T19:23:45.122Z"
   },
   {
    "duration": 19,
    "start_time": "2021-07-13T19:23:46.428Z"
   },
   {
    "duration": 17,
    "start_time": "2021-07-13T19:23:47.587Z"
   },
   {
    "duration": 59,
    "start_time": "2021-07-13T19:29:39.783Z"
   },
   {
    "duration": 47,
    "start_time": "2021-07-13T19:35:06.425Z"
   },
   {
    "duration": 44,
    "start_time": "2021-07-13T19:35:16.050Z"
   },
   {
    "duration": 14,
    "start_time": "2021-07-13T19:35:27.225Z"
   },
   {
    "duration": 11,
    "start_time": "2021-07-13T19:37:16.110Z"
   },
   {
    "duration": 9,
    "start_time": "2021-07-13T19:37:52.803Z"
   },
   {
    "duration": 90,
    "start_time": "2021-07-13T19:39:02.535Z"
   },
   {
    "duration": 6,
    "start_time": "2021-07-13T19:40:08.225Z"
   },
   {
    "duration": 9,
    "start_time": "2021-07-13T19:41:48.973Z"
   },
   {
    "duration": 7,
    "start_time": "2021-07-13T19:42:30.347Z"
   },
   {
    "duration": 10,
    "start_time": "2021-07-13T19:44:48.170Z"
   },
   {
    "duration": 7,
    "start_time": "2021-07-13T19:47:33.638Z"
   },
   {
    "duration": 1008,
    "start_time": "2021-07-13T19:48:36.426Z"
   },
   {
    "duration": 134,
    "start_time": "2021-07-13T19:48:37.436Z"
   },
   {
    "duration": 126,
    "start_time": "2021-07-13T19:48:37.572Z"
   },
   {
    "duration": 126,
    "start_time": "2021-07-13T19:48:37.699Z"
   },
   {
    "duration": 20,
    "start_time": "2021-07-13T19:48:37.827Z"
   },
   {
    "duration": 9,
    "start_time": "2021-07-13T19:48:37.848Z"
   },
   {
    "duration": 10,
    "start_time": "2021-07-13T19:48:37.858Z"
   },
   {
    "duration": 26,
    "start_time": "2021-07-13T19:48:37.870Z"
   },
   {
    "duration": 9,
    "start_time": "2021-07-13T19:48:37.897Z"
   },
   {
    "duration": 11,
    "start_time": "2021-07-13T19:48:37.907Z"
   },
   {
    "duration": 25,
    "start_time": "2021-07-13T19:48:37.920Z"
   },
   {
    "duration": 9,
    "start_time": "2021-07-13T19:48:37.946Z"
   },
   {
    "duration": 11,
    "start_time": "2021-07-13T19:48:37.956Z"
   },
   {
    "duration": 15,
    "start_time": "2021-07-13T20:07:14.457Z"
   },
   {
    "duration": 2,
    "start_time": "2021-07-13T20:08:38.380Z"
   },
   {
    "duration": 1334,
    "start_time": "2021-07-14T13:13:09.781Z"
   },
   {
    "duration": 216,
    "start_time": "2021-07-14T13:13:11.117Z"
   },
   {
    "duration": 228,
    "start_time": "2021-07-14T13:13:11.338Z"
   },
   {
    "duration": 205,
    "start_time": "2021-07-14T13:13:11.570Z"
   },
   {
    "duration": 37,
    "start_time": "2021-07-14T13:13:11.778Z"
   },
   {
    "duration": 12,
    "start_time": "2021-07-14T13:13:11.817Z"
   },
   {
    "duration": 9,
    "start_time": "2021-07-14T13:13:11.832Z"
   },
   {
    "duration": 23,
    "start_time": "2021-07-14T13:13:11.845Z"
   },
   {
    "duration": 42,
    "start_time": "2021-07-14T13:13:11.870Z"
   },
   {
    "duration": 10,
    "start_time": "2021-07-14T13:13:11.914Z"
   },
   {
    "duration": 22,
    "start_time": "2021-07-14T13:13:11.926Z"
   },
   {
    "duration": 49,
    "start_time": "2021-07-14T13:13:11.951Z"
   },
   {
    "duration": 10,
    "start_time": "2021-07-14T13:13:12.002Z"
   },
   {
    "duration": 7,
    "start_time": "2021-07-14T13:13:12.014Z"
   },
   {
    "duration": 16,
    "start_time": "2021-07-14T13:15:18.848Z"
   },
   {
    "duration": 13,
    "start_time": "2021-07-14T13:16:30.793Z"
   },
   {
    "duration": 16,
    "start_time": "2021-07-14T13:16:52.741Z"
   },
   {
    "duration": 9,
    "start_time": "2021-07-14T13:17:42.064Z"
   },
   {
    "duration": 13,
    "start_time": "2021-07-14T13:17:45.055Z"
   },
   {
    "duration": 14,
    "start_time": "2021-07-14T13:18:25.743Z"
   },
   {
    "duration": 13,
    "start_time": "2021-07-14T13:18:49.903Z"
   },
   {
    "duration": 1284,
    "start_time": "2021-07-14T13:19:05.534Z"
   },
   {
    "duration": 186,
    "start_time": "2021-07-14T13:19:06.821Z"
   },
   {
    "duration": 166,
    "start_time": "2021-07-14T13:19:07.009Z"
   },
   {
    "duration": 172,
    "start_time": "2021-07-14T13:19:07.178Z"
   },
   {
    "duration": 21,
    "start_time": "2021-07-14T13:19:07.352Z"
   },
   {
    "duration": 32,
    "start_time": "2021-07-14T13:19:07.375Z"
   },
   {
    "duration": 20,
    "start_time": "2021-07-14T13:19:07.409Z"
   },
   {
    "duration": 27,
    "start_time": "2021-07-14T13:19:07.432Z"
   },
   {
    "duration": 14,
    "start_time": "2021-07-14T13:19:07.462Z"
   },
   {
    "duration": 28,
    "start_time": "2021-07-14T13:19:07.478Z"
   },
   {
    "duration": 30,
    "start_time": "2021-07-14T13:19:07.509Z"
   },
   {
    "duration": 14,
    "start_time": "2021-07-14T13:19:07.541Z"
   },
   {
    "duration": 14,
    "start_time": "2021-07-14T13:19:07.557Z"
   },
   {
    "duration": 27,
    "start_time": "2021-07-14T13:19:07.573Z"
   },
   {
    "duration": 21,
    "start_time": "2021-07-14T13:19:50.294Z"
   },
   {
    "duration": 19,
    "start_time": "2021-07-14T13:20:23.098Z"
   },
   {
    "duration": 8,
    "start_time": "2021-07-14T13:20:39.860Z"
   },
   {
    "duration": 14,
    "start_time": "2021-07-14T13:24:31.754Z"
   },
   {
    "duration": 1292,
    "start_time": "2021-07-14T13:29:02.825Z"
   },
   {
    "duration": 195,
    "start_time": "2021-07-14T13:29:04.120Z"
   },
   {
    "duration": 183,
    "start_time": "2021-07-14T13:29:04.318Z"
   },
   {
    "duration": 180,
    "start_time": "2021-07-14T13:29:04.504Z"
   },
   {
    "duration": 30,
    "start_time": "2021-07-14T13:29:04.687Z"
   },
   {
    "duration": 15,
    "start_time": "2021-07-14T13:29:04.720Z"
   },
   {
    "duration": 25,
    "start_time": "2021-07-14T13:29:04.737Z"
   },
   {
    "duration": 80,
    "start_time": "2021-07-14T13:29:04.766Z"
   },
   {
    "duration": 12,
    "start_time": "2021-07-14T13:29:04.849Z"
   },
   {
    "duration": 9,
    "start_time": "2021-07-14T13:29:04.864Z"
   },
   {
    "duration": 27,
    "start_time": "2021-07-14T13:29:04.875Z"
   },
   {
    "duration": 12,
    "start_time": "2021-07-14T13:29:04.904Z"
   },
   {
    "duration": 11,
    "start_time": "2021-07-14T13:29:04.918Z"
   },
   {
    "duration": 23,
    "start_time": "2021-07-14T13:29:04.931Z"
   },
   {
    "duration": 4,
    "start_time": "2021-07-14T13:29:04.956Z"
   },
   {
    "duration": 19,
    "start_time": "2021-07-14T13:30:40.651Z"
   },
   {
    "duration": 25,
    "start_time": "2021-07-14T13:31:01.447Z"
   },
   {
    "duration": 54,
    "start_time": "2021-07-14T13:32:25.216Z"
   },
   {
    "duration": 18,
    "start_time": "2021-07-14T13:52:31.714Z"
   },
   {
    "duration": 7,
    "start_time": "2021-07-14T14:48:26.819Z"
   },
   {
    "duration": 9,
    "start_time": "2021-07-14T14:50:09.986Z"
   },
   {
    "duration": 473,
    "start_time": "2021-07-14T14:52:22.629Z"
   },
   {
    "duration": 4,
    "start_time": "2021-07-14T14:52:54.863Z"
   },
   {
    "duration": 1315,
    "start_time": "2021-07-14T14:53:07.580Z"
   },
   {
    "duration": 196,
    "start_time": "2021-07-14T14:53:08.897Z"
   },
   {
    "duration": 179,
    "start_time": "2021-07-14T14:53:09.096Z"
   },
   {
    "duration": 176,
    "start_time": "2021-07-14T14:53:09.278Z"
   },
   {
    "duration": 24,
    "start_time": "2021-07-14T14:53:09.456Z"
   },
   {
    "duration": 29,
    "start_time": "2021-07-14T14:53:09.483Z"
   },
   {
    "duration": 20,
    "start_time": "2021-07-14T14:53:09.514Z"
   },
   {
    "duration": 39,
    "start_time": "2021-07-14T14:53:09.537Z"
   },
   {
    "duration": 25,
    "start_time": "2021-07-14T14:53:09.579Z"
   },
   {
    "duration": 22,
    "start_time": "2021-07-14T14:53:09.606Z"
   },
   {
    "duration": 36,
    "start_time": "2021-07-14T14:53:09.631Z"
   },
   {
    "duration": 13,
    "start_time": "2021-07-14T14:53:09.669Z"
   },
   {
    "duration": 24,
    "start_time": "2021-07-14T14:53:09.685Z"
   },
   {
    "duration": 58,
    "start_time": "2021-07-14T14:53:09.711Z"
   },
   {
    "duration": 4,
    "start_time": "2021-07-14T14:53:09.800Z"
   },
   {
    "duration": 33,
    "start_time": "2021-07-14T14:53:09.806Z"
   },
   {
    "duration": 455,
    "start_time": "2021-07-14T14:53:09.842Z"
   },
   {
    "duration": 10,
    "start_time": "2021-07-14T14:54:17.989Z"
   },
   {
    "duration": 16,
    "start_time": "2021-07-14T14:57:24.556Z"
   },
   {
    "duration": 21,
    "start_time": "2021-07-14T15:00:19.285Z"
   },
   {
    "duration": 16,
    "start_time": "2021-07-14T15:00:47.959Z"
   },
   {
    "duration": 10,
    "start_time": "2021-07-14T15:03:00.949Z"
   },
   {
    "duration": 17,
    "start_time": "2021-07-14T15:03:37.383Z"
   },
   {
    "duration": 18,
    "start_time": "2021-07-14T15:03:56.455Z"
   },
   {
    "duration": 11,
    "start_time": "2021-07-14T15:10:17.401Z"
   },
   {
    "duration": 17,
    "start_time": "2021-07-14T15:10:35.436Z"
   },
   {
    "duration": 17,
    "start_time": "2021-07-14T15:10:49.319Z"
   },
   {
    "duration": 13,
    "start_time": "2021-07-14T15:15:47.645Z"
   },
   {
    "duration": 1256,
    "start_time": "2021-07-14T15:16:29.745Z"
   },
   {
    "duration": 200,
    "start_time": "2021-07-14T15:16:31.003Z"
   },
   {
    "duration": 244,
    "start_time": "2021-07-14T15:16:31.207Z"
   },
   {
    "duration": 191,
    "start_time": "2021-07-14T15:16:31.457Z"
   },
   {
    "duration": 23,
    "start_time": "2021-07-14T15:16:31.650Z"
   },
   {
    "duration": 34,
    "start_time": "2021-07-14T15:16:31.675Z"
   },
   {
    "duration": 13,
    "start_time": "2021-07-14T15:16:31.713Z"
   },
   {
    "duration": 40,
    "start_time": "2021-07-14T15:16:31.730Z"
   },
   {
    "duration": 13,
    "start_time": "2021-07-14T15:16:31.773Z"
   },
   {
    "duration": 18,
    "start_time": "2021-07-14T15:16:31.788Z"
   },
   {
    "duration": 43,
    "start_time": "2021-07-14T15:16:31.809Z"
   },
   {
    "duration": 13,
    "start_time": "2021-07-14T15:16:31.855Z"
   },
   {
    "duration": 31,
    "start_time": "2021-07-14T15:16:31.871Z"
   },
   {
    "duration": 54,
    "start_time": "2021-07-14T15:16:31.904Z"
   },
   {
    "duration": 3,
    "start_time": "2021-07-14T15:16:31.960Z"
   },
   {
    "duration": 18,
    "start_time": "2021-07-14T15:16:32.000Z"
   },
   {
    "duration": 80,
    "start_time": "2021-07-14T15:16:32.020Z"
   },
   {
    "duration": 101,
    "start_time": "2021-07-14T15:16:32.104Z"
   },
   {
    "duration": 22,
    "start_time": "2021-07-14T15:16:32.208Z"
   },
   {
    "duration": 104,
    "start_time": "2021-07-14T15:16:32.303Z"
   },
   {
    "duration": 91,
    "start_time": "2021-07-14T15:16:32.410Z"
   },
   {
    "duration": 127,
    "start_time": "2021-07-14T15:25:20.572Z"
   },
   {
    "duration": 11,
    "start_time": "2021-07-14T15:36:23.342Z"
   },
   {
    "duration": 19,
    "start_time": "2021-07-14T15:37:38.222Z"
   },
   {
    "duration": 33,
    "start_time": "2021-07-14T15:39:05.767Z"
   },
   {
    "duration": 388,
    "start_time": "2021-07-14T15:46:27.617Z"
   },
   {
    "duration": 246,
    "start_time": "2021-07-14T15:48:18.131Z"
   },
   {
    "duration": 258,
    "start_time": "2021-07-14T15:48:26.882Z"
   },
   {
    "duration": 6,
    "start_time": "2021-07-14T15:49:14.193Z"
   },
   {
    "duration": 266,
    "start_time": "2021-07-14T15:49:48.943Z"
   },
   {
    "duration": 6,
    "start_time": "2021-07-14T15:50:02.171Z"
   },
   {
    "duration": 7,
    "start_time": "2021-07-14T15:51:48.669Z"
   },
   {
    "duration": 494,
    "start_time": "2021-07-14T15:52:11.638Z"
   },
   {
    "duration": 7,
    "start_time": "2021-07-14T15:58:59.260Z"
   },
   {
    "duration": 96,
    "start_time": "2021-07-14T16:01:55.928Z"
   },
   {
    "duration": 5,
    "start_time": "2021-07-14T16:02:10.261Z"
   },
   {
    "duration": 9,
    "start_time": "2021-07-14T16:02:20.096Z"
   },
   {
    "duration": 8,
    "start_time": "2021-07-14T16:03:39.644Z"
   },
   {
    "duration": 494,
    "start_time": "2021-07-14T16:04:49.019Z"
   },
   {
    "duration": 200,
    "start_time": "2021-07-14T16:06:32.322Z"
   },
   {
    "duration": 203,
    "start_time": "2021-07-14T16:07:58.332Z"
   },
   {
    "duration": 216,
    "start_time": "2021-07-14T16:08:13.076Z"
   },
   {
    "duration": 5,
    "start_time": "2021-07-14T16:08:26.692Z"
   },
   {
    "duration": 211,
    "start_time": "2021-07-14T16:08:29.294Z"
   },
   {
    "duration": 204,
    "start_time": "2021-07-14T16:08:44.284Z"
   },
   {
    "duration": 5,
    "start_time": "2021-07-14T16:12:04.291Z"
   },
   {
    "duration": 406,
    "start_time": "2021-07-14T16:16:49.797Z"
   },
   {
    "duration": 11,
    "start_time": "2021-07-14T16:19:53.286Z"
   },
   {
    "duration": 9,
    "start_time": "2021-07-14T16:20:40.595Z"
   },
   {
    "duration": 12,
    "start_time": "2021-07-14T16:22:20.225Z"
   },
   {
    "duration": 5,
    "start_time": "2021-07-14T16:24:46.242Z"
   },
   {
    "duration": 13,
    "start_time": "2021-07-14T16:24:48.069Z"
   },
   {
    "duration": 534,
    "start_time": "2021-07-14T16:26:45.617Z"
   },
   {
    "duration": 226,
    "start_time": "2021-07-14T16:26:58.541Z"
   },
   {
    "duration": 320,
    "start_time": "2021-07-14T17:21:00.171Z"
   },
   {
    "duration": 271,
    "start_time": "2021-07-14T17:22:00.138Z"
   },
   {
    "duration": 253,
    "start_time": "2021-07-14T17:24:24.739Z"
   },
   {
    "duration": 751,
    "start_time": "2021-07-14T17:26:57.959Z"
   },
   {
    "duration": 255,
    "start_time": "2021-07-14T17:31:22.336Z"
   },
   {
    "duration": 198,
    "start_time": "2021-07-14T17:31:34.809Z"
   },
   {
    "duration": 476,
    "start_time": "2021-07-14T17:32:08.813Z"
   },
   {
    "duration": 250,
    "start_time": "2021-07-14T17:32:51.844Z"
   },
   {
    "duration": 181,
    "start_time": "2021-07-14T17:33:29.423Z"
   },
   {
    "duration": 185,
    "start_time": "2021-07-14T17:34:16.680Z"
   },
   {
    "duration": 12,
    "start_time": "2021-07-14T17:34:50.290Z"
   },
   {
    "duration": 329,
    "start_time": "2021-07-14T17:35:00.531Z"
   },
   {
    "duration": 187,
    "start_time": "2021-07-14T17:35:42.616Z"
   },
   {
    "duration": 94,
    "start_time": "2021-07-14T17:36:03.081Z"
   },
   {
    "duration": 476,
    "start_time": "2021-07-14T17:36:10.992Z"
   },
   {
    "duration": 231,
    "start_time": "2021-07-14T17:37:04.514Z"
   },
   {
    "duration": 211,
    "start_time": "2021-07-14T17:37:52.877Z"
   },
   {
    "duration": 308,
    "start_time": "2021-07-14T17:38:47.401Z"
   },
   {
    "duration": 304,
    "start_time": "2021-07-14T17:38:56.742Z"
   },
   {
    "duration": 288,
    "start_time": "2021-07-14T17:39:13.079Z"
   },
   {
    "duration": 285,
    "start_time": "2021-07-14T17:39:36.298Z"
   },
   {
    "duration": 1395,
    "start_time": "2021-07-14T17:40:52.014Z"
   },
   {
    "duration": 190,
    "start_time": "2021-07-14T17:40:53.412Z"
   },
   {
    "duration": 175,
    "start_time": "2021-07-14T17:40:53.606Z"
   },
   {
    "duration": 181,
    "start_time": "2021-07-14T17:40:53.784Z"
   },
   {
    "duration": 39,
    "start_time": "2021-07-14T17:40:53.969Z"
   },
   {
    "duration": 15,
    "start_time": "2021-07-14T17:40:54.011Z"
   },
   {
    "duration": 12,
    "start_time": "2021-07-14T17:40:54.029Z"
   },
   {
    "duration": 53,
    "start_time": "2021-07-14T17:40:54.047Z"
   },
   {
    "duration": 13,
    "start_time": "2021-07-14T17:40:54.103Z"
   },
   {
    "duration": 9,
    "start_time": "2021-07-14T17:40:54.118Z"
   },
   {
    "duration": 28,
    "start_time": "2021-07-14T17:40:54.130Z"
   },
   {
    "duration": 42,
    "start_time": "2021-07-14T17:40:54.160Z"
   },
   {
    "duration": 11,
    "start_time": "2021-07-14T17:40:54.205Z"
   },
   {
    "duration": 84,
    "start_time": "2021-07-14T17:40:54.219Z"
   },
   {
    "duration": 4,
    "start_time": "2021-07-14T17:40:54.305Z"
   },
   {
    "duration": 24,
    "start_time": "2021-07-14T17:40:54.311Z"
   },
   {
    "duration": 66,
    "start_time": "2021-07-14T17:40:54.337Z"
   },
   {
    "duration": 12,
    "start_time": "2021-07-14T17:40:54.500Z"
   },
   {
    "duration": 16,
    "start_time": "2021-07-14T17:40:54.514Z"
   },
   {
    "duration": 104,
    "start_time": "2021-07-14T17:40:54.606Z"
   },
   {
    "duration": 21,
    "start_time": "2021-07-14T17:40:54.712Z"
   },
   {
    "duration": 97,
    "start_time": "2021-07-14T17:40:54.804Z"
   },
   {
    "duration": 12,
    "start_time": "2021-07-14T17:40:54.905Z"
   },
   {
    "duration": 290,
    "start_time": "2021-07-14T17:40:54.920Z"
   },
   {
    "duration": 246,
    "start_time": "2021-07-14T17:41:33.636Z"
   },
   {
    "duration": 248,
    "start_time": "2021-07-14T17:41:59.573Z"
   },
   {
    "duration": 276,
    "start_time": "2021-07-14T17:42:20.201Z"
   },
   {
    "duration": 260,
    "start_time": "2021-07-14T17:42:43.806Z"
   },
   {
    "duration": 633,
    "start_time": "2021-07-14T17:43:02.928Z"
   },
   {
    "duration": 398,
    "start_time": "2021-07-14T17:43:12.422Z"
   },
   {
    "duration": 373,
    "start_time": "2021-07-14T17:43:27.920Z"
   },
   {
    "duration": 262,
    "start_time": "2021-07-14T17:43:43.400Z"
   },
   {
    "duration": 260,
    "start_time": "2021-07-14T17:44:08.491Z"
   },
   {
    "duration": 520,
    "start_time": "2021-07-14T17:44:38.537Z"
   },
   {
    "duration": 272,
    "start_time": "2021-07-14T17:44:47.242Z"
   },
   {
    "duration": 264,
    "start_time": "2021-07-14T18:00:19.403Z"
   },
   {
    "duration": 12,
    "start_time": "2021-07-14T18:12:46.964Z"
   },
   {
    "duration": 263,
    "start_time": "2021-07-14T18:15:21.460Z"
   },
   {
    "duration": 547,
    "start_time": "2021-07-14T18:15:59.979Z"
   },
   {
    "duration": 263,
    "start_time": "2021-07-14T18:16:19.298Z"
   },
   {
    "duration": 454,
    "start_time": "2021-07-14T18:16:49.465Z"
   },
   {
    "duration": 465,
    "start_time": "2021-07-14T18:18:00.908Z"
   },
   {
    "duration": 203,
    "start_time": "2021-07-14T18:18:18.846Z"
   },
   {
    "duration": 303,
    "start_time": "2021-07-14T18:36:01.653Z"
   },
   {
    "duration": 200,
    "start_time": "2021-07-14T18:38:09.788Z"
   },
   {
    "duration": 260,
    "start_time": "2021-07-14T18:42:34.062Z"
   },
   {
    "duration": 328,
    "start_time": "2021-07-14T18:44:08.512Z"
   },
   {
    "duration": 253,
    "start_time": "2021-07-14T18:45:22.817Z"
   },
   {
    "duration": 239,
    "start_time": "2021-07-14T18:45:48.325Z"
   },
   {
    "duration": 256,
    "start_time": "2021-07-14T18:45:56.957Z"
   },
   {
    "duration": 253,
    "start_time": "2021-07-14T18:46:16.462Z"
   },
   {
    "duration": 251,
    "start_time": "2021-07-14T18:46:42.274Z"
   },
   {
    "duration": 268,
    "start_time": "2021-07-14T18:47:01.122Z"
   },
   {
    "duration": 245,
    "start_time": "2021-07-14T18:47:12.974Z"
   },
   {
    "duration": 355,
    "start_time": "2021-07-14T18:47:39.977Z"
   },
   {
    "duration": 281,
    "start_time": "2021-07-14T18:47:47.714Z"
   },
   {
    "duration": 253,
    "start_time": "2021-07-14T18:47:54.922Z"
   },
   {
    "duration": 270,
    "start_time": "2021-07-14T18:48:06.516Z"
   },
   {
    "duration": 282,
    "start_time": "2021-07-14T18:48:26.742Z"
   },
   {
    "duration": 366,
    "start_time": "2021-07-14T18:48:59.426Z"
   },
   {
    "duration": 235,
    "start_time": "2021-07-14T18:50:47.255Z"
   },
   {
    "duration": 289,
    "start_time": "2021-07-14T18:51:17.853Z"
   },
   {
    "duration": 96,
    "start_time": "2021-07-14T18:51:35.251Z"
   },
   {
    "duration": 218,
    "start_time": "2021-07-14T18:51:44.133Z"
   },
   {
    "duration": 247,
    "start_time": "2021-07-14T18:52:25.918Z"
   },
   {
    "duration": 318,
    "start_time": "2021-07-14T18:53:02.817Z"
   },
   {
    "duration": 224,
    "start_time": "2021-07-14T18:53:18.840Z"
   },
   {
    "duration": 251,
    "start_time": "2021-07-14T18:53:40.242Z"
   },
   {
    "duration": 282,
    "start_time": "2021-07-14T18:54:01.563Z"
   },
   {
    "duration": 264,
    "start_time": "2021-07-14T18:57:20.877Z"
   },
   {
    "duration": 218,
    "start_time": "2021-07-14T18:57:48.336Z"
   },
   {
    "duration": 355,
    "start_time": "2021-07-14T18:57:56.351Z"
   },
   {
    "duration": 271,
    "start_time": "2021-07-14T20:39:21.666Z"
   },
   {
    "duration": 21,
    "start_time": "2021-07-14T20:41:14.047Z"
   },
   {
    "duration": 34,
    "start_time": "2021-07-14T20:41:30.277Z"
   },
   {
    "duration": 21,
    "start_time": "2021-07-14T20:46:26.377Z"
   },
   {
    "duration": 12,
    "start_time": "2021-07-14T20:49:15.643Z"
   },
   {
    "duration": 11,
    "start_time": "2021-07-14T20:53:52.788Z"
   },
   {
    "duration": 14,
    "start_time": "2021-07-14T20:54:00.389Z"
   },
   {
    "duration": 7,
    "start_time": "2021-07-14T20:58:24.880Z"
   },
   {
    "duration": 7,
    "start_time": "2021-07-14T20:59:49.156Z"
   },
   {
    "duration": 7,
    "start_time": "2021-07-14T21:00:12.455Z"
   },
   {
    "duration": 5,
    "start_time": "2021-07-14T21:04:19.645Z"
   },
   {
    "duration": 343,
    "start_time": "2021-07-14T21:08:54.542Z"
   },
   {
    "duration": 12,
    "start_time": "2021-07-14T21:12:52.829Z"
   },
   {
    "duration": 274,
    "start_time": "2021-07-14T21:13:06.235Z"
   },
   {
    "duration": 281,
    "start_time": "2021-07-14T21:13:23.422Z"
   },
   {
    "duration": 282,
    "start_time": "2021-07-14T21:13:40.449Z"
   },
   {
    "duration": 6609,
    "start_time": "2021-07-14T21:40:47.177Z"
   },
   {
    "duration": 7574,
    "start_time": "2021-07-14T21:41:55.917Z"
   },
   {
    "duration": 1436,
    "start_time": "2021-07-14T21:43:17.261Z"
   },
   {
    "duration": 182,
    "start_time": "2021-07-14T21:43:18.701Z"
   },
   {
    "duration": 172,
    "start_time": "2021-07-14T21:43:18.886Z"
   },
   {
    "duration": 166,
    "start_time": "2021-07-14T21:43:19.061Z"
   },
   {
    "duration": 22,
    "start_time": "2021-07-14T21:43:19.229Z"
   },
   {
    "duration": 12,
    "start_time": "2021-07-14T21:43:19.254Z"
   },
   {
    "duration": 33,
    "start_time": "2021-07-14T21:43:19.268Z"
   },
   {
    "duration": 26,
    "start_time": "2021-07-14T21:43:19.306Z"
   },
   {
    "duration": 12,
    "start_time": "2021-07-14T21:43:19.335Z"
   },
   {
    "duration": 13,
    "start_time": "2021-07-14T21:43:19.350Z"
   },
   {
    "duration": 53,
    "start_time": "2021-07-14T21:43:19.365Z"
   },
   {
    "duration": 12,
    "start_time": "2021-07-14T21:43:19.420Z"
   },
   {
    "duration": 16,
    "start_time": "2021-07-14T21:43:19.435Z"
   },
   {
    "duration": 81,
    "start_time": "2021-07-14T21:43:19.454Z"
   },
   {
    "duration": 3,
    "start_time": "2021-07-14T21:43:19.538Z"
   },
   {
    "duration": 20,
    "start_time": "2021-07-14T21:43:19.544Z"
   },
   {
    "duration": 39,
    "start_time": "2021-07-14T21:43:19.567Z"
   },
   {
    "duration": 102,
    "start_time": "2021-07-14T21:43:19.610Z"
   },
   {
    "duration": 96,
    "start_time": "2021-07-14T21:43:19.715Z"
   },
   {
    "duration": 96,
    "start_time": "2021-07-14T21:43:19.815Z"
   },
   {
    "duration": 17,
    "start_time": "2021-07-14T21:43:20.002Z"
   },
   {
    "duration": 98,
    "start_time": "2021-07-14T21:43:20.103Z"
   },
   {
    "duration": 12,
    "start_time": "2021-07-14T21:43:20.208Z"
   },
   {
    "duration": 284,
    "start_time": "2021-07-14T21:43:20.223Z"
   },
   {
    "duration": 237,
    "start_time": "2021-07-14T21:43:20.510Z"
   },
   {
    "duration": 297,
    "start_time": "2021-07-14T21:43:20.750Z"
   },
   {
    "duration": 27,
    "start_time": "2021-07-14T21:43:21.049Z"
   },
   {
    "duration": 30,
    "start_time": "2021-07-14T21:43:21.079Z"
   },
   {
    "duration": 39,
    "start_time": "2021-07-14T21:43:21.112Z"
   },
   {
    "duration": 51,
    "start_time": "2021-07-14T21:43:21.153Z"
   },
   {
    "duration": 193,
    "start_time": "2021-07-14T21:43:21.207Z"
   },
   {
    "duration": 8,
    "start_time": "2021-07-14T21:43:21.403Z"
   },
   {
    "duration": 8,
    "start_time": "2021-07-14T21:43:21.414Z"
   },
   {
    "duration": 6,
    "start_time": "2021-07-14T21:43:21.425Z"
   },
   {
    "duration": 26,
    "start_time": "2021-07-14T21:43:21.434Z"
   },
   {
    "duration": 326,
    "start_time": "2021-07-14T21:43:21.462Z"
   },
   {
    "duration": 7048,
    "start_time": "2021-07-14T21:43:21.790Z"
   },
   {
    "duration": -165,
    "start_time": "2021-07-14T21:43:29.006Z"
   },
   {
    "duration": 263,
    "start_time": "2021-07-14T21:46:32.392Z"
   },
   {
    "duration": 331,
    "start_time": "2021-07-14T21:47:14.753Z"
   },
   {
    "duration": 4937,
    "start_time": "2021-07-14T21:51:07.836Z"
   },
   {
    "duration": 995,
    "start_time": "2021-07-15T09:12:32.138Z"
   },
   {
    "duration": 126,
    "start_time": "2021-07-15T09:12:33.135Z"
   },
   {
    "duration": 118,
    "start_time": "2021-07-15T09:12:33.264Z"
   },
   {
    "duration": 118,
    "start_time": "2021-07-15T09:12:33.384Z"
   },
   {
    "duration": 16,
    "start_time": "2021-07-15T09:12:33.504Z"
   },
   {
    "duration": 8,
    "start_time": "2021-07-15T09:12:33.522Z"
   },
   {
    "duration": 7,
    "start_time": "2021-07-15T09:12:33.531Z"
   },
   {
    "duration": 17,
    "start_time": "2021-07-15T09:12:33.540Z"
   },
   {
    "duration": 8,
    "start_time": "2021-07-15T09:12:33.558Z"
   },
   {
    "duration": 5,
    "start_time": "2021-07-15T09:12:33.592Z"
   },
   {
    "duration": 19,
    "start_time": "2021-07-15T09:12:33.598Z"
   },
   {
    "duration": 8,
    "start_time": "2021-07-15T09:12:33.618Z"
   },
   {
    "duration": 9,
    "start_time": "2021-07-15T09:12:33.627Z"
   },
   {
    "duration": 54,
    "start_time": "2021-07-15T09:12:33.638Z"
   },
   {
    "duration": 3,
    "start_time": "2021-07-15T09:12:33.693Z"
   },
   {
    "duration": 13,
    "start_time": "2021-07-15T09:12:33.697Z"
   },
   {
    "duration": 9,
    "start_time": "2021-07-15T09:12:33.711Z"
   },
   {
    "duration": 171,
    "start_time": "2021-07-15T09:12:33.722Z"
   },
   {
    "duration": 12,
    "start_time": "2021-07-15T09:12:33.895Z"
   },
   {
    "duration": 183,
    "start_time": "2021-07-15T09:12:33.909Z"
   },
   {
    "duration": 12,
    "start_time": "2021-07-15T09:12:34.094Z"
   },
   {
    "duration": 85,
    "start_time": "2021-07-15T09:12:34.108Z"
   },
   {
    "duration": 95,
    "start_time": "2021-07-15T09:12:34.198Z"
   },
   {
    "duration": 158,
    "start_time": "2021-07-15T09:12:34.295Z"
   },
   {
    "duration": 128,
    "start_time": "2021-07-15T09:12:34.455Z"
   },
   {
    "duration": 195,
    "start_time": "2021-07-15T09:12:34.585Z"
   },
   {
    "duration": 18,
    "start_time": "2021-07-15T09:12:34.782Z"
   },
   {
    "duration": 10,
    "start_time": "2021-07-15T09:12:34.802Z"
   },
   {
    "duration": 21,
    "start_time": "2021-07-15T09:12:34.813Z"
   },
   {
    "duration": 60,
    "start_time": "2021-07-15T09:12:34.835Z"
   },
   {
    "duration": 95,
    "start_time": "2021-07-15T09:12:34.897Z"
   },
   {
    "duration": 11,
    "start_time": "2021-07-15T09:12:34.995Z"
   },
   {
    "duration": 4,
    "start_time": "2021-07-15T09:12:35.092Z"
   },
   {
    "duration": 9,
    "start_time": "2021-07-15T09:12:35.098Z"
   },
   {
    "duration": 11,
    "start_time": "2021-07-15T09:12:35.108Z"
   },
   {
    "duration": 156,
    "start_time": "2021-07-15T09:12:35.121Z"
   },
   {
    "duration": 4553,
    "start_time": "2021-07-15T09:12:35.279Z"
   },
   {
    "duration": -219,
    "start_time": "2021-07-15T09:12:40.053Z"
   },
   {
    "duration": 4,
    "start_time": "2021-07-15T10:21:57.920Z"
   },
   {
    "duration": 5,
    "start_time": "2021-07-15T10:28:06.656Z"
   },
   {
    "duration": 3,
    "start_time": "2021-07-15T10:34:16.027Z"
   },
   {
    "duration": 3,
    "start_time": "2021-07-15T10:36:50.161Z"
   },
   {
    "duration": 3,
    "start_time": "2021-07-15T10:54:06.469Z"
   },
   {
    "duration": 3,
    "start_time": "2021-07-15T10:54:25.591Z"
   },
   {
    "duration": 3,
    "start_time": "2021-07-15T10:54:48.155Z"
   },
   {
    "duration": 4,
    "start_time": "2021-07-15T10:54:55.031Z"
   },
   {
    "duration": 4,
    "start_time": "2021-07-15T11:42:22.832Z"
   },
   {
    "duration": 4,
    "start_time": "2021-07-15T11:43:13.688Z"
   },
   {
    "duration": 9,
    "start_time": "2021-07-15T12:56:55.558Z"
   },
   {
    "duration": 3,
    "start_time": "2021-07-15T13:21:35.532Z"
   },
   {
    "duration": 5841,
    "start_time": "2021-07-15T19:16:35.944Z"
   },
   {
    "duration": 1084,
    "start_time": "2021-07-15T19:16:56.751Z"
   },
   {
    "duration": 182,
    "start_time": "2021-07-15T19:16:57.837Z"
   },
   {
    "duration": 179,
    "start_time": "2021-07-15T19:16:58.021Z"
   },
   {
    "duration": 168,
    "start_time": "2021-07-15T19:16:58.202Z"
   },
   {
    "duration": 22,
    "start_time": "2021-07-15T19:16:58.372Z"
   },
   {
    "duration": 8,
    "start_time": "2021-07-15T19:16:58.396Z"
   },
   {
    "duration": 7,
    "start_time": "2021-07-15T19:16:58.406Z"
   },
   {
    "duration": 18,
    "start_time": "2021-07-15T19:16:58.416Z"
   },
   {
    "duration": 9,
    "start_time": "2021-07-15T19:16:58.437Z"
   },
   {
    "duration": 19,
    "start_time": "2021-07-15T19:16:58.448Z"
   },
   {
    "duration": 32,
    "start_time": "2021-07-15T19:16:58.469Z"
   },
   {
    "duration": 8,
    "start_time": "2021-07-15T19:16:58.503Z"
   },
   {
    "duration": 20,
    "start_time": "2021-07-15T19:16:58.512Z"
   },
   {
    "duration": 47,
    "start_time": "2021-07-15T19:16:58.534Z"
   },
   {
    "duration": 2,
    "start_time": "2021-07-15T19:16:58.583Z"
   },
   {
    "duration": 24,
    "start_time": "2021-07-15T19:16:58.586Z"
   },
   {
    "duration": 80,
    "start_time": "2021-07-15T19:16:58.611Z"
   },
   {
    "duration": 105,
    "start_time": "2021-07-15T19:16:58.694Z"
   },
   {
    "duration": 17,
    "start_time": "2021-07-15T19:16:58.801Z"
   },
   {
    "duration": 74,
    "start_time": "2021-07-15T19:16:58.819Z"
   },
   {
    "duration": 104,
    "start_time": "2021-07-15T19:16:58.896Z"
   },
   {
    "duration": 5,
    "start_time": "2021-07-15T19:16:59.002Z"
   },
   {
    "duration": 101,
    "start_time": "2021-07-15T19:16:59.095Z"
   },
   {
    "duration": 232,
    "start_time": "2021-07-15T19:16:59.198Z"
   },
   {
    "duration": 138,
    "start_time": "2021-07-15T19:16:59.432Z"
   },
   {
    "duration": 159,
    "start_time": "2021-07-15T19:16:59.571Z"
   },
   {
    "duration": 21,
    "start_time": "2021-07-15T19:16:59.732Z"
   },
   {
    "duration": 13,
    "start_time": "2021-07-15T19:16:59.754Z"
   },
   {
    "duration": 42,
    "start_time": "2021-07-15T19:16:59.768Z"
   },
   {
    "duration": 80,
    "start_time": "2021-07-15T19:16:59.812Z"
   },
   {
    "duration": 6,
    "start_time": "2021-07-15T19:16:59.894Z"
   },
   {
    "duration": 93,
    "start_time": "2021-07-15T19:16:59.902Z"
   },
   {
    "duration": 5,
    "start_time": "2021-07-15T19:16:59.997Z"
   },
   {
    "duration": 90,
    "start_time": "2021-07-15T19:17:00.003Z"
   },
   {
    "duration": 18,
    "start_time": "2021-07-15T19:17:00.095Z"
   },
   {
    "duration": 170,
    "start_time": "2021-07-15T19:17:00.115Z"
   },
   {
    "duration": 8,
    "start_time": "2021-07-15T19:17:00.287Z"
   },
   {
    "duration": 11,
    "start_time": "2021-07-15T19:17:00.296Z"
   },
   {
    "duration": 9,
    "start_time": "2021-07-15T19:17:00.309Z"
   },
   {
    "duration": 12,
    "start_time": "2021-07-15T19:17:00.319Z"
   },
   {
    "duration": 19,
    "start_time": "2021-07-15T19:17:00.332Z"
   },
   {
    "duration": 6,
    "start_time": "2021-07-15T19:17:00.352Z"
   },
   {
    "duration": 6181,
    "start_time": "2021-07-15T19:17:00.359Z"
   },
   {
    "duration": -379,
    "start_time": "2021-07-15T19:17:06.922Z"
   },
   {
    "duration": 4,
    "start_time": "2021-07-15T19:18:21.487Z"
   },
   {
    "duration": 4,
    "start_time": "2021-07-15T19:20:22.870Z"
   },
   {
    "duration": 4,
    "start_time": "2021-07-15T19:20:32.819Z"
   },
   {
    "duration": 3,
    "start_time": "2021-07-15T19:28:07.436Z"
   },
   {
    "duration": 139,
    "start_time": "2021-07-15T19:28:07.448Z"
   },
   {
    "duration": 140,
    "start_time": "2021-07-15T19:28:07.592Z"
   },
   {
    "duration": 133,
    "start_time": "2021-07-15T19:28:07.734Z"
   },
   {
    "duration": 25,
    "start_time": "2021-07-15T19:28:07.869Z"
   },
   {
    "duration": 7,
    "start_time": "2021-07-15T19:28:07.895Z"
   },
   {
    "duration": 15,
    "start_time": "2021-07-15T19:28:07.904Z"
   },
   {
    "duration": 25,
    "start_time": "2021-07-15T19:28:07.921Z"
   },
   {
    "duration": 6,
    "start_time": "2021-07-15T19:28:07.949Z"
   },
   {
    "duration": 24,
    "start_time": "2021-07-15T19:28:07.957Z"
   },
   {
    "duration": 39,
    "start_time": "2021-07-15T19:28:07.982Z"
   },
   {
    "duration": 6,
    "start_time": "2021-07-15T19:28:08.023Z"
   },
   {
    "duration": 12,
    "start_time": "2021-07-15T19:28:08.030Z"
   },
   {
    "duration": 37,
    "start_time": "2021-07-15T19:28:08.043Z"
   },
   {
    "duration": 2,
    "start_time": "2021-07-15T19:28:08.082Z"
   },
   {
    "duration": 29,
    "start_time": "2021-07-15T19:28:08.085Z"
   },
   {
    "duration": 6,
    "start_time": "2021-07-15T19:28:08.116Z"
   },
   {
    "duration": 169,
    "start_time": "2021-07-15T19:28:08.124Z"
   },
   {
    "duration": 96,
    "start_time": "2021-07-15T19:28:08.294Z"
   },
   {
    "duration": 101,
    "start_time": "2021-07-15T19:28:08.393Z"
   },
   {
    "duration": 11,
    "start_time": "2021-07-15T19:28:08.496Z"
   },
   {
    "duration": 83,
    "start_time": "2021-07-15T19:28:08.509Z"
   },
   {
    "duration": 97,
    "start_time": "2021-07-15T19:28:08.595Z"
   },
   {
    "duration": 166,
    "start_time": "2021-07-15T19:28:08.696Z"
   },
   {
    "duration": 130,
    "start_time": "2021-07-15T19:28:08.864Z"
   },
   {
    "duration": 170,
    "start_time": "2021-07-15T19:28:08.996Z"
   },
   {
    "duration": 25,
    "start_time": "2021-07-15T19:28:09.167Z"
   },
   {
    "duration": 13,
    "start_time": "2021-07-15T19:28:09.193Z"
   },
   {
    "duration": 31,
    "start_time": "2021-07-15T19:28:09.207Z"
   },
   {
    "duration": 52,
    "start_time": "2021-07-15T19:28:09.240Z"
   },
   {
    "duration": 6,
    "start_time": "2021-07-15T19:28:09.295Z"
   },
   {
    "duration": 103,
    "start_time": "2021-07-15T19:28:09.304Z"
   },
   {
    "duration": 88,
    "start_time": "2021-07-15T19:28:09.409Z"
   },
   {
    "duration": 4,
    "start_time": "2021-07-15T19:28:09.499Z"
   },
   {
    "duration": 13,
    "start_time": "2021-07-15T19:28:09.504Z"
   },
   {
    "duration": 254,
    "start_time": "2021-07-15T19:28:09.519Z"
   },
   {
    "duration": 8,
    "start_time": "2021-07-15T19:28:09.774Z"
   },
   {
    "duration": 5,
    "start_time": "2021-07-15T19:28:09.791Z"
   },
   {
    "duration": 9,
    "start_time": "2021-07-15T19:28:09.797Z"
   },
   {
    "duration": 9,
    "start_time": "2021-07-15T19:28:09.808Z"
   },
   {
    "duration": 12,
    "start_time": "2021-07-15T19:28:09.818Z"
   },
   {
    "duration": 10,
    "start_time": "2021-07-15T19:28:09.832Z"
   },
   {
    "duration": 19,
    "start_time": "2021-07-15T19:28:09.844Z"
   },
   {
    "duration": 30,
    "start_time": "2021-07-15T19:28:09.864Z"
   },
   {
    "duration": 31,
    "start_time": "2021-07-15T19:28:09.895Z"
   },
   {
    "duration": 9,
    "start_time": "2021-07-15T19:28:33.019Z"
   },
   {
    "duration": 7,
    "start_time": "2021-07-15T19:28:48.171Z"
   },
   {
    "duration": 12,
    "start_time": "2021-07-15T19:29:44.419Z"
   },
   {
    "duration": 3,
    "start_time": "2021-07-15T19:30:15.628Z"
   },
   {
    "duration": 3,
    "start_time": "2021-07-15T19:30:36.718Z"
   },
   {
    "duration": 12,
    "start_time": "2021-07-15T19:40:55.517Z"
   },
   {
    "duration": 2,
    "start_time": "2021-07-15T19:41:10.207Z"
   },
   {
    "duration": 11,
    "start_time": "2021-07-15T19:41:40.676Z"
   },
   {
    "duration": 8,
    "start_time": "2021-07-15T19:41:48.761Z"
   },
   {
    "duration": 6,
    "start_time": "2021-07-15T19:42:04.889Z"
   },
   {
    "duration": 3,
    "start_time": "2021-07-15T19:42:10.171Z"
   },
   {
    "duration": 3,
    "start_time": "2021-07-15T19:42:22.684Z"
   },
   {
    "duration": 6,
    "start_time": "2021-07-15T19:42:27.167Z"
   },
   {
    "duration": 4,
    "start_time": "2021-07-15T19:42:51.959Z"
   },
   {
    "duration": 7,
    "start_time": "2021-07-15T19:42:55.632Z"
   },
   {
    "duration": 4,
    "start_time": "2021-07-15T19:43:20.208Z"
   },
   {
    "duration": 3,
    "start_time": "2021-07-15T19:43:24.816Z"
   },
   {
    "duration": 227,
    "start_time": "2021-07-15T19:43:49.577Z"
   },
   {
    "duration": 460,
    "start_time": "2021-07-15T19:44:01.760Z"
   },
   {
    "duration": 479,
    "start_time": "2021-07-15T19:44:47.393Z"
   },
   {
    "duration": 480,
    "start_time": "2021-07-15T19:45:31.592Z"
   },
   {
    "duration": 216,
    "start_time": "2021-07-15T21:33:02.897Z"
   },
   {
    "duration": 3,
    "start_time": "2021-07-15T21:33:09.775Z"
   },
   {
    "duration": 441,
    "start_time": "2021-07-15T21:33:12.276Z"
   },
   {
    "duration": 3,
    "start_time": "2021-07-15T21:34:17.416Z"
   },
   {
    "duration": 451,
    "start_time": "2021-07-15T21:34:20.118Z"
   },
   {
    "duration": 2,
    "start_time": "2021-07-15T21:36:51.751Z"
   },
   {
    "duration": 449,
    "start_time": "2021-07-15T21:36:56.777Z"
   },
   {
    "duration": 3,
    "start_time": "2021-07-15T21:37:08.822Z"
   },
   {
    "duration": 548,
    "start_time": "2021-07-15T21:37:10.634Z"
   },
   {
    "duration": 3,
    "start_time": "2021-07-15T21:37:58.828Z"
   },
   {
    "duration": 511,
    "start_time": "2021-07-15T21:39:30.991Z"
   },
   {
    "duration": 74,
    "start_time": "2021-07-15T21:40:59.698Z"
   },
   {
    "duration": 4,
    "start_time": "2021-07-15T21:41:08.680Z"
   },
   {
    "duration": 8,
    "start_time": "2021-07-15T21:41:11.242Z"
   },
   {
    "duration": 6,
    "start_time": "2021-07-15T21:41:20.404Z"
   },
   {
    "duration": 7,
    "start_time": "2021-07-15T21:41:33.133Z"
   },
   {
    "duration": 4,
    "start_time": "2021-07-15T21:41:43.266Z"
   },
   {
    "duration": 5,
    "start_time": "2021-07-15T21:43:17.261Z"
   },
   {
    "duration": 7,
    "start_time": "2021-07-15T21:43:25.893Z"
   },
   {
    "duration": 3,
    "start_time": "2021-07-15T21:44:36.482Z"
   },
   {
    "duration": 12,
    "start_time": "2021-07-15T21:44:48.848Z"
   },
   {
    "duration": 13,
    "start_time": "2021-07-15T21:45:02.664Z"
   },
   {
    "duration": 1017,
    "start_time": "2021-07-15T21:45:11.971Z"
   },
   {
    "duration": 130,
    "start_time": "2021-07-15T21:45:12.991Z"
   },
   {
    "duration": 121,
    "start_time": "2021-07-15T21:45:13.124Z"
   },
   {
    "duration": 122,
    "start_time": "2021-07-15T21:45:13.247Z"
   },
   {
    "duration": 20,
    "start_time": "2021-07-15T21:45:13.371Z"
   },
   {
    "duration": 10,
    "start_time": "2021-07-15T21:45:13.393Z"
   },
   {
    "duration": 21,
    "start_time": "2021-07-15T21:45:13.404Z"
   },
   {
    "duration": 24,
    "start_time": "2021-07-15T21:45:13.428Z"
   },
   {
    "duration": 8,
    "start_time": "2021-07-15T21:45:13.454Z"
   },
   {
    "duration": 19,
    "start_time": "2021-07-15T21:45:13.464Z"
   },
   {
    "duration": 22,
    "start_time": "2021-07-15T21:45:13.484Z"
   },
   {
    "duration": 8,
    "start_time": "2021-07-15T21:45:13.508Z"
   },
   {
    "duration": 17,
    "start_time": "2021-07-15T21:45:13.517Z"
   },
   {
    "duration": 45,
    "start_time": "2021-07-15T21:45:13.535Z"
   },
   {
    "duration": 2,
    "start_time": "2021-07-15T21:45:13.581Z"
   },
   {
    "duration": 24,
    "start_time": "2021-07-15T21:45:13.585Z"
   },
   {
    "duration": 11,
    "start_time": "2021-07-15T21:45:13.610Z"
   },
   {
    "duration": 169,
    "start_time": "2021-07-15T21:45:13.623Z"
   },
   {
    "duration": 14,
    "start_time": "2021-07-15T21:45:13.794Z"
   },
   {
    "duration": 82,
    "start_time": "2021-07-15T21:45:13.811Z"
   },
   {
    "duration": 99,
    "start_time": "2021-07-15T21:45:13.896Z"
   },
   {
    "duration": 95,
    "start_time": "2021-07-15T21:45:13.997Z"
   },
   {
    "duration": 93,
    "start_time": "2021-07-15T21:45:14.099Z"
   },
   {
    "duration": 166,
    "start_time": "2021-07-15T21:45:14.194Z"
   },
   {
    "duration": 125,
    "start_time": "2021-07-15T21:45:14.362Z"
   },
   {
    "duration": 154,
    "start_time": "2021-07-15T21:45:14.491Z"
   },
   {
    "duration": 20,
    "start_time": "2021-07-15T21:45:14.646Z"
   },
   {
    "duration": 24,
    "start_time": "2021-07-15T21:45:14.667Z"
   },
   {
    "duration": 22,
    "start_time": "2021-07-15T21:45:14.693Z"
   },
   {
    "duration": 7,
    "start_time": "2021-07-15T21:45:14.717Z"
   },
   {
    "duration": 168,
    "start_time": "2021-07-15T21:45:14.725Z"
   },
   {
    "duration": 12,
    "start_time": "2021-07-15T21:45:14.895Z"
   },
   {
    "duration": 20,
    "start_time": "2021-07-15T21:45:14.908Z"
   },
   {
    "duration": 13,
    "start_time": "2021-07-15T21:45:14.930Z"
   },
   {
    "duration": 11,
    "start_time": "2021-07-15T21:45:14.945Z"
   },
   {
    "duration": 164,
    "start_time": "2021-07-15T21:45:14.958Z"
   },
   {
    "duration": 8,
    "start_time": "2021-07-15T21:45:15.124Z"
   },
   {
    "duration": 25,
    "start_time": "2021-07-15T21:45:15.134Z"
   },
   {
    "duration": 4,
    "start_time": "2021-07-15T21:45:15.161Z"
   },
   {
    "duration": 16,
    "start_time": "2021-07-15T21:45:15.166Z"
   },
   {
    "duration": 13,
    "start_time": "2021-07-15T21:45:15.184Z"
   },
   {
    "duration": 14,
    "start_time": "2021-07-15T21:45:15.199Z"
   },
   {
    "duration": 35,
    "start_time": "2021-07-15T21:45:15.215Z"
   },
   {
    "duration": 6,
    "start_time": "2021-07-15T21:45:15.252Z"
   },
   {
    "duration": 34,
    "start_time": "2021-07-15T21:45:15.259Z"
   },
   {
    "duration": 11,
    "start_time": "2021-07-15T21:45:15.294Z"
   },
   {
    "duration": 592,
    "start_time": "2021-07-15T21:45:15.306Z"
   },
   {
    "duration": 3,
    "start_time": "2021-07-15T21:49:52.947Z"
   },
   {
    "duration": 235,
    "start_time": "2021-07-15T21:49:54.802Z"
   },
   {
    "duration": 454,
    "start_time": "2021-07-15T21:50:14.231Z"
   },
   {
    "duration": 4,
    "start_time": "2021-07-15T21:51:51.036Z"
   },
   {
    "duration": 438,
    "start_time": "2021-07-15T21:51:52.774Z"
   },
   {
    "duration": 3,
    "start_time": "2021-07-15T21:52:07.205Z"
   },
   {
    "duration": 488,
    "start_time": "2021-07-15T21:52:08.418Z"
   },
   {
    "duration": 1032,
    "start_time": "2021-07-15T21:52:28.353Z"
   },
   {
    "duration": 131,
    "start_time": "2021-07-15T21:52:29.386Z"
   },
   {
    "duration": 124,
    "start_time": "2021-07-15T21:52:29.519Z"
   },
   {
    "duration": 124,
    "start_time": "2021-07-15T21:52:29.645Z"
   },
   {
    "duration": 20,
    "start_time": "2021-07-15T21:52:29.771Z"
   },
   {
    "duration": 8,
    "start_time": "2021-07-15T21:52:29.793Z"
   },
   {
    "duration": 7,
    "start_time": "2021-07-15T21:52:29.802Z"
   },
   {
    "duration": 19,
    "start_time": "2021-07-15T21:52:29.811Z"
   },
   {
    "duration": 8,
    "start_time": "2021-07-15T21:52:29.832Z"
   },
   {
    "duration": 7,
    "start_time": "2021-07-15T21:52:29.841Z"
   },
   {
    "duration": 19,
    "start_time": "2021-07-15T21:52:29.850Z"
   },
   {
    "duration": 9,
    "start_time": "2021-07-15T21:52:29.891Z"
   },
   {
    "duration": 9,
    "start_time": "2021-07-15T21:52:29.901Z"
   },
   {
    "duration": 37,
    "start_time": "2021-07-15T21:52:29.911Z"
   },
   {
    "duration": 2,
    "start_time": "2021-07-15T21:52:29.950Z"
   },
   {
    "duration": 15,
    "start_time": "2021-07-15T21:52:29.953Z"
   },
   {
    "duration": 28,
    "start_time": "2021-07-15T21:52:29.970Z"
   },
   {
    "duration": 97,
    "start_time": "2021-07-15T21:52:30.001Z"
   },
   {
    "duration": 99,
    "start_time": "2021-07-15T21:52:30.101Z"
   },
   {
    "duration": 99,
    "start_time": "2021-07-15T21:52:30.202Z"
   },
   {
    "duration": 13,
    "start_time": "2021-07-15T21:52:30.391Z"
   },
   {
    "duration": 87,
    "start_time": "2021-07-15T21:52:30.406Z"
   },
   {
    "duration": 121,
    "start_time": "2021-07-15T21:52:30.498Z"
   },
   {
    "duration": 166,
    "start_time": "2021-07-15T21:52:30.621Z"
   },
   {
    "duration": 134,
    "start_time": "2021-07-15T21:52:30.789Z"
   },
   {
    "duration": 167,
    "start_time": "2021-07-15T21:52:30.924Z"
   },
   {
    "duration": 21,
    "start_time": "2021-07-15T21:52:31.092Z"
   },
   {
    "duration": 11,
    "start_time": "2021-07-15T21:52:31.114Z"
   },
   {
    "duration": 29,
    "start_time": "2021-07-15T21:52:31.127Z"
   },
   {
    "duration": 35,
    "start_time": "2021-07-15T21:52:31.158Z"
   },
   {
    "duration": 6,
    "start_time": "2021-07-15T21:52:31.195Z"
   },
   {
    "duration": 99,
    "start_time": "2021-07-15T21:52:31.203Z"
   },
   {
    "duration": 94,
    "start_time": "2021-07-15T21:52:31.305Z"
   },
   {
    "duration": 8,
    "start_time": "2021-07-15T21:52:31.401Z"
   },
   {
    "duration": 15,
    "start_time": "2021-07-15T21:52:31.411Z"
   },
   {
    "duration": 158,
    "start_time": "2021-07-15T21:52:31.427Z"
   },
   {
    "duration": 10,
    "start_time": "2021-07-15T21:52:31.586Z"
   },
   {
    "duration": 7,
    "start_time": "2021-07-15T21:52:31.598Z"
   },
   {
    "duration": 6,
    "start_time": "2021-07-15T21:52:31.606Z"
   },
   {
    "duration": 5,
    "start_time": "2021-07-15T21:52:31.613Z"
   },
   {
    "duration": 15,
    "start_time": "2021-07-15T21:52:31.619Z"
   },
   {
    "duration": 10,
    "start_time": "2021-07-15T21:52:31.635Z"
   },
   {
    "duration": 14,
    "start_time": "2021-07-15T21:52:31.646Z"
   },
   {
    "duration": 3,
    "start_time": "2021-07-15T21:52:31.662Z"
   },
   {
    "duration": 15,
    "start_time": "2021-07-15T21:52:31.666Z"
   },
   {
    "duration": 3,
    "start_time": "2021-07-15T21:52:31.691Z"
   },
   {
    "duration": 532,
    "start_time": "2021-07-15T21:52:31.695Z"
   },
   {
    "duration": 14,
    "start_time": "2021-07-15T21:53:21.997Z"
   },
   {
    "duration": 12,
    "start_time": "2021-07-15T21:54:18.209Z"
   },
   {
    "duration": 435,
    "start_time": "2021-07-15T21:54:24.321Z"
   },
   {
    "duration": 15,
    "start_time": "2021-07-15T21:56:51.886Z"
   },
   {
    "duration": 428,
    "start_time": "2021-07-15T21:56:56.188Z"
   },
   {
    "duration": 13,
    "start_time": "2021-07-15T21:57:26.693Z"
   },
   {
    "duration": 451,
    "start_time": "2021-07-15T21:57:27.737Z"
   },
   {
    "duration": 14,
    "start_time": "2021-07-15T21:57:40.568Z"
   },
   {
    "duration": 3,
    "start_time": "2021-07-15T21:58:09.397Z"
   },
   {
    "duration": 3,
    "start_time": "2021-07-15T22:03:18.797Z"
   },
   {
    "duration": 460,
    "start_time": "2021-07-15T22:03:19.990Z"
   },
   {
    "duration": 3,
    "start_time": "2021-07-15T22:04:53.675Z"
   },
   {
    "duration": 463,
    "start_time": "2021-07-15T22:04:55.216Z"
   },
   {
    "duration": 8,
    "start_time": "2021-07-15T22:08:43.901Z"
   },
   {
    "duration": 1042,
    "start_time": "2021-07-15T22:09:16.504Z"
   },
   {
    "duration": 141,
    "start_time": "2021-07-15T22:09:17.548Z"
   },
   {
    "duration": 127,
    "start_time": "2021-07-15T22:09:17.691Z"
   },
   {
    "duration": 124,
    "start_time": "2021-07-15T22:09:17.820Z"
   },
   {
    "duration": 16,
    "start_time": "2021-07-15T22:09:17.946Z"
   },
   {
    "duration": 8,
    "start_time": "2021-07-15T22:09:17.964Z"
   },
   {
    "duration": 19,
    "start_time": "2021-07-15T22:09:17.973Z"
   },
   {
    "duration": 19,
    "start_time": "2021-07-15T22:09:17.994Z"
   },
   {
    "duration": 8,
    "start_time": "2021-07-15T22:09:18.015Z"
   },
   {
    "duration": 8,
    "start_time": "2021-07-15T22:09:18.024Z"
   },
   {
    "duration": 18,
    "start_time": "2021-07-15T22:09:18.033Z"
   },
   {
    "duration": 8,
    "start_time": "2021-07-15T22:09:18.052Z"
   },
   {
    "duration": 9,
    "start_time": "2021-07-15T22:09:18.062Z"
   },
   {
    "duration": 33,
    "start_time": "2021-07-15T22:09:18.091Z"
   },
   {
    "duration": 2,
    "start_time": "2021-07-15T22:09:18.126Z"
   },
   {
    "duration": 19,
    "start_time": "2021-07-15T22:09:18.130Z"
   },
   {
    "duration": 46,
    "start_time": "2021-07-15T22:09:18.150Z"
   },
   {
    "duration": 101,
    "start_time": "2021-07-15T22:09:18.198Z"
   },
   {
    "duration": 12,
    "start_time": "2021-07-15T22:09:18.300Z"
   },
   {
    "duration": 87,
    "start_time": "2021-07-15T22:09:18.314Z"
   },
   {
    "duration": 12,
    "start_time": "2021-07-15T22:09:18.492Z"
   },
   {
    "duration": 85,
    "start_time": "2021-07-15T22:09:18.506Z"
   },
   {
    "duration": 97,
    "start_time": "2021-07-15T22:09:18.596Z"
   },
   {
    "duration": 162,
    "start_time": "2021-07-15T22:09:18.695Z"
   },
   {
    "duration": 129,
    "start_time": "2021-07-15T22:09:18.858Z"
   },
   {
    "duration": 165,
    "start_time": "2021-07-15T22:09:18.988Z"
   },
   {
    "duration": 24,
    "start_time": "2021-07-15T22:09:19.154Z"
   },
   {
    "duration": 20,
    "start_time": "2021-07-15T22:09:19.179Z"
   },
   {
    "duration": 24,
    "start_time": "2021-07-15T22:09:19.200Z"
   },
   {
    "duration": 8,
    "start_time": "2021-07-15T22:09:19.225Z"
   },
   {
    "duration": 8,
    "start_time": "2021-07-15T22:09:19.291Z"
   },
   {
    "duration": 93,
    "start_time": "2021-07-15T22:09:19.302Z"
   },
   {
    "duration": 9,
    "start_time": "2021-07-15T22:09:19.397Z"
   },
   {
    "duration": 4,
    "start_time": "2021-07-15T22:09:19.408Z"
   },
   {
    "duration": 9,
    "start_time": "2021-07-15T22:09:19.413Z"
   },
   {
    "duration": 183,
    "start_time": "2021-07-15T22:09:19.423Z"
   },
   {
    "duration": 8,
    "start_time": "2021-07-15T22:09:19.608Z"
   },
   {
    "duration": 5,
    "start_time": "2021-07-15T22:09:19.618Z"
   },
   {
    "duration": 5,
    "start_time": "2021-07-15T22:09:19.625Z"
   },
   {
    "duration": 5,
    "start_time": "2021-07-15T22:09:19.631Z"
   },
   {
    "duration": 6,
    "start_time": "2021-07-15T22:09:19.637Z"
   },
   {
    "duration": 14,
    "start_time": "2021-07-15T22:09:19.644Z"
   },
   {
    "duration": 6,
    "start_time": "2021-07-15T22:09:19.659Z"
   },
   {
    "duration": 4,
    "start_time": "2021-07-15T22:09:19.691Z"
   },
   {
    "duration": 8,
    "start_time": "2021-07-15T22:09:19.696Z"
   },
   {
    "duration": 7,
    "start_time": "2021-07-15T22:09:19.706Z"
   },
   {
    "duration": 77,
    "start_time": "2021-07-15T22:09:19.714Z"
   },
   {
    "duration": 524,
    "start_time": "2021-07-15T22:09:51.750Z"
   },
   {
    "duration": 3,
    "start_time": "2021-07-15T22:10:32.704Z"
   },
   {
    "duration": 460,
    "start_time": "2021-07-15T22:10:33.651Z"
   },
   {
    "duration": 3,
    "start_time": "2021-07-15T22:14:12.067Z"
   },
   {
    "duration": 434,
    "start_time": "2021-07-15T22:14:13.300Z"
   },
   {
    "duration": 3,
    "start_time": "2021-07-15T22:15:09.403Z"
   },
   {
    "duration": 473,
    "start_time": "2021-07-15T22:15:10.435Z"
   },
   {
    "duration": 11,
    "start_time": "2021-07-15T22:43:03.651Z"
   },
   {
    "duration": 7,
    "start_time": "2021-07-15T22:43:43.045Z"
   },
   {
    "duration": 467,
    "start_time": "2021-07-15T23:02:23.207Z"
   },
   {
    "duration": 448,
    "start_time": "2021-07-15T23:07:44.186Z"
   },
   {
    "duration": 4,
    "start_time": "2021-07-15T23:09:08.276Z"
   },
   {
    "duration": 12,
    "start_time": "2021-07-15T23:09:10.420Z"
   },
   {
    "duration": 1057,
    "start_time": "2021-07-16T10:14:40.830Z"
   },
   {
    "duration": 125,
    "start_time": "2021-07-16T10:14:41.889Z"
   },
   {
    "duration": 118,
    "start_time": "2021-07-16T10:14:42.016Z"
   },
   {
    "duration": 121,
    "start_time": "2021-07-16T10:14:42.136Z"
   },
   {
    "duration": 16,
    "start_time": "2021-07-16T10:14:42.258Z"
   },
   {
    "duration": 20,
    "start_time": "2021-07-16T10:14:42.275Z"
   },
   {
    "duration": 7,
    "start_time": "2021-07-16T10:14:42.296Z"
   },
   {
    "duration": 17,
    "start_time": "2021-07-16T10:14:42.305Z"
   },
   {
    "duration": 7,
    "start_time": "2021-07-16T10:14:42.324Z"
   },
   {
    "duration": 7,
    "start_time": "2021-07-16T10:14:42.332Z"
   },
   {
    "duration": 19,
    "start_time": "2021-07-16T10:14:42.341Z"
   },
   {
    "duration": 30,
    "start_time": "2021-07-16T10:14:42.362Z"
   },
   {
    "duration": 14,
    "start_time": "2021-07-16T10:14:42.394Z"
   },
   {
    "duration": 36,
    "start_time": "2021-07-16T10:14:42.409Z"
   },
   {
    "duration": 2,
    "start_time": "2021-07-16T10:14:42.447Z"
   },
   {
    "duration": 14,
    "start_time": "2021-07-16T10:14:42.450Z"
   },
   {
    "duration": 33,
    "start_time": "2021-07-16T10:14:42.465Z"
   },
   {
    "duration": 105,
    "start_time": "2021-07-16T10:14:42.500Z"
   },
   {
    "duration": 97,
    "start_time": "2021-07-16T10:14:42.606Z"
   },
   {
    "duration": 93,
    "start_time": "2021-07-16T10:14:42.704Z"
   },
   {
    "duration": 98,
    "start_time": "2021-07-16T10:14:42.798Z"
   },
   {
    "duration": 5,
    "start_time": "2021-07-16T10:14:42.898Z"
   },
   {
    "duration": 100,
    "start_time": "2021-07-16T10:14:42.996Z"
   },
   {
    "duration": 174,
    "start_time": "2021-07-16T10:14:43.098Z"
   },
   {
    "duration": 127,
    "start_time": "2021-07-16T10:14:43.274Z"
   },
   {
    "duration": 163,
    "start_time": "2021-07-16T10:14:43.403Z"
   },
   {
    "duration": 24,
    "start_time": "2021-07-16T10:14:43.568Z"
   },
   {
    "duration": 11,
    "start_time": "2021-07-16T10:14:43.593Z"
   },
   {
    "duration": 20,
    "start_time": "2021-07-16T10:14:43.606Z"
   },
   {
    "duration": 8,
    "start_time": "2021-07-16T10:14:43.627Z"
   },
   {
    "duration": 6,
    "start_time": "2021-07-16T10:14:43.692Z"
   },
   {
    "duration": 94,
    "start_time": "2021-07-16T10:14:43.700Z"
   },
   {
    "duration": 4,
    "start_time": "2021-07-16T10:14:43.796Z"
   },
   {
    "duration": 7,
    "start_time": "2021-07-16T10:14:43.801Z"
   },
   {
    "duration": 13,
    "start_time": "2021-07-16T10:14:43.809Z"
   },
   {
    "duration": 172,
    "start_time": "2021-07-16T10:14:43.823Z"
   },
   {
    "duration": 7,
    "start_time": "2021-07-16T10:14:43.996Z"
   },
   {
    "duration": 6,
    "start_time": "2021-07-16T10:14:44.005Z"
   },
   {
    "duration": 7,
    "start_time": "2021-07-16T10:14:44.012Z"
   },
   {
    "duration": 4,
    "start_time": "2021-07-16T10:14:44.020Z"
   },
   {
    "duration": 5,
    "start_time": "2021-07-16T10:14:44.025Z"
   },
   {
    "duration": 13,
    "start_time": "2021-07-16T10:14:44.031Z"
   },
   {
    "duration": 7,
    "start_time": "2021-07-16T10:14:44.045Z"
   },
   {
    "duration": 9,
    "start_time": "2021-07-16T10:14:44.053Z"
   },
   {
    "duration": 27,
    "start_time": "2021-07-16T10:14:44.064Z"
   },
   {
    "duration": 8,
    "start_time": "2021-07-16T10:14:44.093Z"
   },
   {
    "duration": 9,
    "start_time": "2021-07-16T10:15:12.149Z"
   },
   {
    "duration": 2,
    "start_time": "2021-07-16T10:21:18.366Z"
   },
   {
    "duration": 518,
    "start_time": "2021-07-16T10:21:27.713Z"
   },
   {
    "duration": 3,
    "start_time": "2021-07-16T10:21:42.704Z"
   },
   {
    "duration": 11,
    "start_time": "2021-07-16T10:21:45.840Z"
   },
   {
    "duration": 3,
    "start_time": "2021-07-16T10:23:16.967Z"
   },
   {
    "duration": 11,
    "start_time": "2021-07-16T10:23:18.468Z"
   },
   {
    "duration": 5,
    "start_time": "2021-07-16T10:32:58.741Z"
   },
   {
    "duration": 4,
    "start_time": "2021-07-16T10:34:49.725Z"
   },
   {
    "duration": 4,
    "start_time": "2021-07-16T10:37:09.260Z"
   },
   {
    "duration": 4,
    "start_time": "2021-07-16T10:37:16.122Z"
   },
   {
    "duration": 4,
    "start_time": "2021-07-16T10:56:49.656Z"
   },
   {
    "duration": 4,
    "start_time": "2021-07-16T10:56:58.973Z"
   },
   {
    "duration": 3,
    "start_time": "2021-07-16T10:58:41.517Z"
   },
   {
    "duration": 2,
    "start_time": "2021-07-16T10:59:14.332Z"
   },
   {
    "duration": 3,
    "start_time": "2021-07-16T10:59:45.940Z"
   },
   {
    "duration": 222,
    "start_time": "2021-07-16T11:01:03.985Z"
   },
   {
    "duration": 11,
    "start_time": "2021-07-16T11:01:41.564Z"
   },
   {
    "duration": 11,
    "start_time": "2021-07-16T11:03:16.567Z"
   },
   {
    "duration": 11,
    "start_time": "2021-07-16T11:03:26.277Z"
   },
   {
    "duration": 3,
    "start_time": "2021-07-16T13:31:29.514Z"
   },
   {
    "duration": 4,
    "start_time": "2021-07-16T13:31:41.428Z"
   },
   {
    "duration": 2,
    "start_time": "2021-07-16T13:34:27.393Z"
   },
   {
    "duration": 3,
    "start_time": "2021-07-16T13:34:34.205Z"
   },
   {
    "duration": 4,
    "start_time": "2021-07-16T13:38:34.007Z"
   },
   {
    "duration": 4,
    "start_time": "2021-07-16T13:38:51.688Z"
   },
   {
    "duration": 4,
    "start_time": "2021-07-16T13:42:21.245Z"
   },
   {
    "duration": 3,
    "start_time": "2021-07-16T13:42:28.700Z"
   },
   {
    "duration": 3,
    "start_time": "2021-07-16T13:43:43.026Z"
   },
   {
    "duration": 5,
    "start_time": "2021-07-16T13:49:54.110Z"
   },
   {
    "duration": 2,
    "start_time": "2021-07-16T13:52:54.460Z"
   },
   {
    "duration": 566,
    "start_time": "2021-07-16T13:54:42.671Z"
   },
   {
    "duration": 3,
    "start_time": "2021-07-16T13:55:10.473Z"
   },
   {
    "duration": 4,
    "start_time": "2021-07-16T13:55:19.990Z"
   },
   {
    "duration": 3,
    "start_time": "2021-07-16T14:06:44.951Z"
   },
   {
    "duration": 212,
    "start_time": "2021-07-16T14:07:48.031Z"
   },
   {
    "duration": 3,
    "start_time": "2021-07-16T14:07:56.514Z"
   },
   {
    "duration": 3,
    "start_time": "2021-07-16T14:08:59.634Z"
   },
   {
    "duration": 3,
    "start_time": "2021-07-16T14:09:10.805Z"
   },
   {
    "duration": 4,
    "start_time": "2021-07-16T14:09:44.786Z"
   },
   {
    "duration": 3,
    "start_time": "2021-07-16T14:13:59.597Z"
   },
   {
    "duration": 4,
    "start_time": "2021-07-16T14:14:04.055Z"
   },
   {
    "duration": 3,
    "start_time": "2021-07-16T14:17:31.123Z"
   },
   {
    "duration": 3,
    "start_time": "2021-07-16T14:17:33.677Z"
   },
   {
    "duration": 3,
    "start_time": "2021-07-16T14:17:43.707Z"
   },
   {
    "duration": 4,
    "start_time": "2021-07-16T14:17:46.243Z"
   },
   {
    "duration": 3,
    "start_time": "2021-07-16T14:18:10.275Z"
   },
   {
    "duration": 3,
    "start_time": "2021-07-16T14:18:18.743Z"
   },
   {
    "duration": 4,
    "start_time": "2021-07-16T14:19:25.112Z"
   },
   {
    "duration": 4,
    "start_time": "2021-07-16T14:20:07.968Z"
   },
   {
    "duration": 3,
    "start_time": "2021-07-16T14:21:41.189Z"
   },
   {
    "duration": 4,
    "start_time": "2021-07-16T14:22:04.910Z"
   },
   {
    "duration": 4,
    "start_time": "2021-07-16T14:22:06.552Z"
   },
   {
    "duration": 4,
    "start_time": "2021-07-16T14:22:26.154Z"
   },
   {
    "duration": 4,
    "start_time": "2021-07-16T14:22:37.086Z"
   },
   {
    "duration": 4,
    "start_time": "2021-07-16T14:22:39.255Z"
   },
   {
    "duration": 3,
    "start_time": "2021-07-16T14:22:45.072Z"
   },
   {
    "duration": 4,
    "start_time": "2021-07-16T14:22:46.420Z"
   },
   {
    "duration": 4,
    "start_time": "2021-07-16T14:22:48.202Z"
   },
   {
    "duration": 4,
    "start_time": "2021-07-16T14:27:52.669Z"
   },
   {
    "duration": 3,
    "start_time": "2021-07-16T14:28:04.086Z"
   },
   {
    "duration": 3,
    "start_time": "2021-07-16T14:28:08.167Z"
   },
   {
    "duration": 4,
    "start_time": "2021-07-16T14:28:25.740Z"
   },
   {
    "duration": 4,
    "start_time": "2021-07-16T14:28:56.923Z"
   },
   {
    "duration": 3,
    "start_time": "2021-07-16T14:29:07.142Z"
   },
   {
    "duration": 4,
    "start_time": "2021-07-16T14:29:17.447Z"
   },
   {
    "duration": 3,
    "start_time": "2021-07-16T14:54:52.303Z"
   },
   {
    "duration": 6,
    "start_time": "2021-07-16T14:54:55.623Z"
   },
   {
    "duration": 3,
    "start_time": "2021-07-16T14:55:11.322Z"
   },
   {
    "duration": 4,
    "start_time": "2021-07-16T14:55:16.578Z"
   },
   {
    "duration": 5,
    "start_time": "2021-07-16T14:55:40.557Z"
   },
   {
    "duration": 982,
    "start_time": "2021-07-16T15:42:40.942Z"
   },
   {
    "duration": 128,
    "start_time": "2021-07-16T15:42:41.926Z"
   },
   {
    "duration": 123,
    "start_time": "2021-07-16T15:42:42.056Z"
   },
   {
    "duration": 121,
    "start_time": "2021-07-16T15:42:42.180Z"
   },
   {
    "duration": 15,
    "start_time": "2021-07-16T15:42:42.303Z"
   },
   {
    "duration": 8,
    "start_time": "2021-07-16T15:42:42.320Z"
   },
   {
    "duration": 16,
    "start_time": "2021-07-16T15:42:42.329Z"
   },
   {
    "duration": 20,
    "start_time": "2021-07-16T15:42:42.347Z"
   },
   {
    "duration": 7,
    "start_time": "2021-07-16T15:42:42.369Z"
   },
   {
    "duration": 17,
    "start_time": "2021-07-16T15:42:42.378Z"
   },
   {
    "duration": 26,
    "start_time": "2021-07-16T15:42:42.396Z"
   },
   {
    "duration": 8,
    "start_time": "2021-07-16T15:42:42.423Z"
   },
   {
    "duration": 12,
    "start_time": "2021-07-16T15:42:42.432Z"
   },
   {
    "duration": 34,
    "start_time": "2021-07-16T15:42:42.446Z"
   },
   {
    "duration": 2,
    "start_time": "2021-07-16T15:42:42.491Z"
   },
   {
    "duration": 17,
    "start_time": "2021-07-16T15:42:42.494Z"
   },
   {
    "duration": 17,
    "start_time": "2021-07-16T15:42:42.513Z"
   },
   {
    "duration": 101,
    "start_time": "2021-07-16T15:42:42.591Z"
   },
   {
    "duration": 13,
    "start_time": "2021-07-16T15:42:42.694Z"
   },
   {
    "duration": 88,
    "start_time": "2021-07-16T15:42:42.709Z"
   },
   {
    "duration": 98,
    "start_time": "2021-07-16T15:42:42.799Z"
   },
   {
    "duration": 93,
    "start_time": "2021-07-16T15:42:42.900Z"
   },
   {
    "duration": 106,
    "start_time": "2021-07-16T15:42:42.998Z"
   },
   {
    "duration": 150,
    "start_time": "2021-07-16T15:42:43.106Z"
   },
   {
    "duration": 128,
    "start_time": "2021-07-16T15:42:43.257Z"
   },
   {
    "duration": 161,
    "start_time": "2021-07-16T15:42:43.387Z"
   },
   {
    "duration": 20,
    "start_time": "2021-07-16T15:42:43.550Z"
   },
   {
    "duration": 24,
    "start_time": "2021-07-16T15:42:43.571Z"
   },
   {
    "duration": 22,
    "start_time": "2021-07-16T15:42:43.597Z"
   },
   {
    "duration": 7,
    "start_time": "2021-07-16T15:42:43.620Z"
   },
   {
    "duration": 167,
    "start_time": "2021-07-16T15:42:43.629Z"
   },
   {
    "duration": 7,
    "start_time": "2021-07-16T15:42:43.798Z"
   },
   {
    "duration": 5,
    "start_time": "2021-07-16T15:42:43.807Z"
   },
   {
    "duration": 4,
    "start_time": "2021-07-16T15:42:43.813Z"
   },
   {
    "duration": 10,
    "start_time": "2021-07-16T15:42:43.819Z"
   },
   {
    "duration": 187,
    "start_time": "2021-07-16T15:42:43.830Z"
   },
   {
    "duration": 9,
    "start_time": "2021-07-16T15:42:44.019Z"
   },
   {
    "duration": 6,
    "start_time": "2021-07-16T15:42:44.029Z"
   },
   {
    "duration": 6,
    "start_time": "2021-07-16T15:42:44.036Z"
   },
   {
    "duration": 7,
    "start_time": "2021-07-16T15:42:44.043Z"
   },
   {
    "duration": 4,
    "start_time": "2021-07-16T15:42:44.052Z"
   },
   {
    "duration": 6,
    "start_time": "2021-07-16T15:42:44.058Z"
   },
   {
    "duration": 27,
    "start_time": "2021-07-16T15:42:44.065Z"
   },
   {
    "duration": 3,
    "start_time": "2021-07-16T15:42:44.093Z"
   },
   {
    "duration": 13,
    "start_time": "2021-07-16T15:42:44.097Z"
   },
   {
    "duration": 11,
    "start_time": "2021-07-16T15:42:44.111Z"
   },
   {
    "duration": 19,
    "start_time": "2021-07-16T15:42:44.123Z"
   },
   {
    "duration": 5,
    "start_time": "2021-07-16T15:42:44.143Z"
   },
   {
    "duration": 17,
    "start_time": "2021-07-16T15:42:44.149Z"
   },
   {
    "duration": 313,
    "start_time": "2021-07-16T15:42:44.168Z"
   },
   {
    "duration": 227,
    "start_time": "2021-07-16T21:47:58.366Z"
   },
   {
    "duration": 167,
    "start_time": "2021-07-16T21:49:19.076Z"
   },
   {
    "duration": 127,
    "start_time": "2021-07-16T21:49:37.935Z"
   },
   {
    "duration": 153,
    "start_time": "2021-07-16T21:50:09.293Z"
   },
   {
    "duration": 203,
    "start_time": "2021-07-16T21:50:28.635Z"
   },
   {
    "duration": 129,
    "start_time": "2021-07-16T21:50:54.104Z"
   },
   {
    "duration": 480,
    "start_time": "2021-07-16T21:52:00.064Z"
   },
   {
    "duration": 238,
    "start_time": "2021-07-16T21:53:00.638Z"
   },
   {
    "duration": 228,
    "start_time": "2021-07-16T21:54:17.984Z"
   },
   {
    "duration": 125,
    "start_time": "2021-07-16T21:54:57.180Z"
   },
   {
    "duration": 119,
    "start_time": "2021-07-16T21:55:21.542Z"
   },
   {
    "duration": 6,
    "start_time": "2021-07-16T21:56:21.614Z"
   },
   {
    "duration": 240,
    "start_time": "2021-07-16T21:57:23.133Z"
   },
   {
    "duration": 235,
    "start_time": "2021-07-16T21:57:39.952Z"
   },
   {
    "duration": 495,
    "start_time": "2021-07-16T21:58:25.275Z"
   },
   {
    "duration": 7,
    "start_time": "2021-07-16T21:58:36.693Z"
   },
   {
    "duration": 149,
    "start_time": "2021-07-16T21:58:53.009Z"
   },
   {
    "duration": 165,
    "start_time": "2021-07-16T21:59:51.527Z"
   },
   {
    "duration": 172,
    "start_time": "2021-07-16T22:00:06.227Z"
   },
   {
    "duration": 129,
    "start_time": "2021-07-16T22:00:24.843Z"
   },
   {
    "duration": 7,
    "start_time": "2021-07-16T22:00:38.879Z"
   },
   {
    "duration": 8,
    "start_time": "2021-07-16T22:02:28.634Z"
   },
   {
    "duration": 146,
    "start_time": "2021-07-16T22:02:41.245Z"
   },
   {
    "duration": 167,
    "start_time": "2021-07-16T22:03:23.193Z"
   },
   {
    "duration": 132,
    "start_time": "2021-07-16T22:03:40.626Z"
   },
   {
    "duration": 161,
    "start_time": "2021-07-16T22:05:40.215Z"
   },
   {
    "duration": 590,
    "start_time": "2021-07-16T22:06:20.354Z"
   },
   {
    "duration": 247,
    "start_time": "2021-07-16T22:06:29.176Z"
   },
   {
    "duration": 180,
    "start_time": "2021-07-16T22:06:45.980Z"
   },
   {
    "duration": 163,
    "start_time": "2021-07-16T22:06:53.031Z"
   },
   {
    "duration": 169,
    "start_time": "2021-07-16T22:07:01.380Z"
   },
   {
    "duration": 173,
    "start_time": "2021-07-16T22:07:13.529Z"
   },
   {
    "duration": 197,
    "start_time": "2021-07-16T22:07:30.890Z"
   },
   {
    "duration": 171,
    "start_time": "2021-07-16T22:07:37.516Z"
   },
   {
    "duration": 169,
    "start_time": "2021-07-16T22:08:15.010Z"
   },
   {
    "duration": 173,
    "start_time": "2021-07-16T22:08:30.590Z"
   },
   {
    "duration": 160,
    "start_time": "2021-07-16T22:09:39.769Z"
   },
   {
    "duration": 1007,
    "start_time": "2021-07-16T22:10:43.607Z"
   },
   {
    "duration": 134,
    "start_time": "2021-07-16T22:10:44.615Z"
   },
   {
    "duration": 125,
    "start_time": "2021-07-16T22:10:44.751Z"
   },
   {
    "duration": 130,
    "start_time": "2021-07-16T22:10:44.878Z"
   },
   {
    "duration": 27,
    "start_time": "2021-07-16T22:10:45.010Z"
   },
   {
    "duration": 19,
    "start_time": "2021-07-16T22:10:45.039Z"
   },
   {
    "duration": 17,
    "start_time": "2021-07-16T22:10:45.060Z"
   },
   {
    "duration": 34,
    "start_time": "2021-07-16T22:10:45.080Z"
   },
   {
    "duration": 11,
    "start_time": "2021-07-16T22:10:45.117Z"
   },
   {
    "duration": 18,
    "start_time": "2021-07-16T22:10:45.129Z"
   },
   {
    "duration": 29,
    "start_time": "2021-07-16T22:10:45.148Z"
   },
   {
    "duration": 19,
    "start_time": "2021-07-16T22:10:45.178Z"
   },
   {
    "duration": 12,
    "start_time": "2021-07-16T22:10:45.199Z"
   },
   {
    "duration": 50,
    "start_time": "2021-07-16T22:10:45.212Z"
   },
   {
    "duration": 3,
    "start_time": "2021-07-16T22:10:45.263Z"
   },
   {
    "duration": 33,
    "start_time": "2021-07-16T22:10:45.268Z"
   },
   {
    "duration": 97,
    "start_time": "2021-07-16T22:10:45.303Z"
   },
   {
    "duration": 96,
    "start_time": "2021-07-16T22:10:45.403Z"
   },
   {
    "duration": 13,
    "start_time": "2021-07-16T22:10:45.501Z"
   },
   {
    "duration": 85,
    "start_time": "2021-07-16T22:10:45.517Z"
   },
   {
    "duration": 11,
    "start_time": "2021-07-16T22:10:45.692Z"
   },
   {
    "duration": 5,
    "start_time": "2021-07-16T22:10:45.706Z"
   },
   {
    "duration": 99,
    "start_time": "2021-07-16T22:10:45.796Z"
   },
   {
    "duration": 159,
    "start_time": "2021-07-16T22:10:45.897Z"
   },
   {
    "duration": 134,
    "start_time": "2021-07-16T22:10:46.058Z"
   },
   {
    "duration": 166,
    "start_time": "2021-07-16T22:10:46.194Z"
   },
   {
    "duration": 30,
    "start_time": "2021-07-16T22:10:46.361Z"
   },
   {
    "duration": 12,
    "start_time": "2021-07-16T22:10:46.393Z"
   },
   {
    "duration": 32,
    "start_time": "2021-07-16T22:10:46.406Z"
   },
   {
    "duration": 62,
    "start_time": "2021-07-16T22:10:46.439Z"
   },
   {
    "duration": 89,
    "start_time": "2021-07-16T22:10:46.504Z"
   },
   {
    "duration": 96,
    "start_time": "2021-07-16T22:10:46.596Z"
   },
   {
    "duration": 5,
    "start_time": "2021-07-16T22:10:46.694Z"
   },
   {
    "duration": 19,
    "start_time": "2021-07-16T22:10:46.700Z"
   },
   {
    "duration": 14,
    "start_time": "2021-07-16T22:10:46.720Z"
   },
   {
    "duration": 173,
    "start_time": "2021-07-16T22:10:46.736Z"
   },
   {
    "duration": 8,
    "start_time": "2021-07-16T22:10:46.911Z"
   },
   {
    "duration": 9,
    "start_time": "2021-07-16T22:10:46.921Z"
   },
   {
    "duration": 17,
    "start_time": "2021-07-16T22:10:46.932Z"
   },
   {
    "duration": 12,
    "start_time": "2021-07-16T22:10:46.950Z"
   },
   {
    "duration": 11,
    "start_time": "2021-07-16T22:10:46.963Z"
   },
   {
    "duration": 15,
    "start_time": "2021-07-16T22:10:46.975Z"
   },
   {
    "duration": 9,
    "start_time": "2021-07-16T22:10:46.992Z"
   },
   {
    "duration": 8,
    "start_time": "2021-07-16T22:10:47.003Z"
   },
   {
    "duration": 162,
    "start_time": "2021-07-16T22:10:47.012Z"
   },
   {
    "duration": 18,
    "start_time": "2021-07-16T22:10:47.176Z"
   },
   {
    "duration": 18,
    "start_time": "2021-07-16T22:10:47.196Z"
   },
   {
    "duration": 14,
    "start_time": "2021-07-16T22:10:47.216Z"
   },
   {
    "duration": 3,
    "start_time": "2021-07-16T22:10:47.232Z"
   },
   {
    "duration": 15,
    "start_time": "2021-07-16T22:10:47.237Z"
   },
   {
    "duration": 304,
    "start_time": "2021-07-16T22:10:47.254Z"
   },
   {
    "duration": 13,
    "start_time": "2021-07-16T22:14:04.734Z"
   },
   {
    "duration": 7,
    "start_time": "2021-07-16T22:14:41.006Z"
   },
   {
    "duration": 7,
    "start_time": "2021-07-16T22:14:47.543Z"
   },
   {
    "duration": 3,
    "start_time": "2021-07-16T22:16:44.206Z"
   },
   {
    "duration": 10,
    "start_time": "2021-07-16T22:16:52.500Z"
   },
   {
    "duration": 10,
    "start_time": "2021-07-16T22:23:26.044Z"
   },
   {
    "duration": 8,
    "start_time": "2021-07-16T22:23:28.109Z"
   },
   {
    "duration": 7,
    "start_time": "2021-07-16T22:23:31.756Z"
   },
   {
    "duration": 57,
    "start_time": "2021-07-16T22:27:44.046Z"
   },
   {
    "duration": 40,
    "start_time": "2021-07-16T22:28:13.722Z"
   },
   {
    "duration": 3,
    "start_time": "2021-07-16T22:42:39.054Z"
   },
   {
    "duration": 3,
    "start_time": "2021-07-16T22:45:23.048Z"
   },
   {
    "duration": 9,
    "start_time": "2021-07-16T22:45:36.720Z"
   },
   {
    "duration": 3,
    "start_time": "2021-07-16T22:49:09.171Z"
   },
   {
    "duration": 131,
    "start_time": "2021-07-16T22:49:09.182Z"
   },
   {
    "duration": 127,
    "start_time": "2021-07-16T22:49:09.315Z"
   },
   {
    "duration": 135,
    "start_time": "2021-07-16T22:49:09.444Z"
   },
   {
    "duration": 16,
    "start_time": "2021-07-16T22:49:09.592Z"
   },
   {
    "duration": 6,
    "start_time": "2021-07-16T22:49:09.610Z"
   },
   {
    "duration": 14,
    "start_time": "2021-07-16T22:49:09.618Z"
   },
   {
    "duration": 18,
    "start_time": "2021-07-16T22:49:09.633Z"
   },
   {
    "duration": 7,
    "start_time": "2021-07-16T22:49:09.654Z"
   },
   {
    "duration": 28,
    "start_time": "2021-07-16T22:49:09.663Z"
   },
   {
    "duration": 19,
    "start_time": "2021-07-16T22:49:09.692Z"
   },
   {
    "duration": 7,
    "start_time": "2021-07-16T22:49:09.712Z"
   },
   {
    "duration": 9,
    "start_time": "2021-07-16T22:49:09.720Z"
   },
   {
    "duration": 64,
    "start_time": "2021-07-16T22:49:09.731Z"
   },
   {
    "duration": 2,
    "start_time": "2021-07-16T22:49:09.797Z"
   },
   {
    "duration": 12,
    "start_time": "2021-07-16T22:49:09.800Z"
   },
   {
    "duration": 7,
    "start_time": "2021-07-16T22:49:09.814Z"
   },
   {
    "duration": 99,
    "start_time": "2021-07-16T22:49:09.893Z"
   },
   {
    "duration": 13,
    "start_time": "2021-07-16T22:49:09.994Z"
   },
   {
    "duration": 86,
    "start_time": "2021-07-16T22:49:10.009Z"
   },
   {
    "duration": 102,
    "start_time": "2021-07-16T22:49:10.097Z"
   },
   {
    "duration": 88,
    "start_time": "2021-07-16T22:49:10.202Z"
   },
   {
    "duration": 105,
    "start_time": "2021-07-16T22:49:10.293Z"
   },
   {
    "duration": 157,
    "start_time": "2021-07-16T22:49:10.402Z"
   },
   {
    "duration": 133,
    "start_time": "2021-07-16T22:49:10.561Z"
   },
   {
    "duration": 225,
    "start_time": "2021-07-16T22:49:10.695Z"
   },
   {
    "duration": 18,
    "start_time": "2021-07-16T22:49:10.922Z"
   },
   {
    "duration": 12,
    "start_time": "2021-07-16T22:49:10.941Z"
   },
   {
    "duration": 39,
    "start_time": "2021-07-16T22:49:10.955Z"
   },
   {
    "duration": 7,
    "start_time": "2021-07-16T22:49:10.996Z"
   },
   {
    "duration": 89,
    "start_time": "2021-07-16T22:49:11.005Z"
   },
   {
    "duration": 96,
    "start_time": "2021-07-16T22:49:11.097Z"
   },
   {
    "duration": 5,
    "start_time": "2021-07-16T22:49:11.195Z"
   },
   {
    "duration": 6,
    "start_time": "2021-07-16T22:49:11.201Z"
   },
   {
    "duration": 9,
    "start_time": "2021-07-16T22:49:11.208Z"
   },
   {
    "duration": 185,
    "start_time": "2021-07-16T22:49:11.219Z"
   },
   {
    "duration": 9,
    "start_time": "2021-07-16T22:49:11.406Z"
   },
   {
    "duration": 6,
    "start_time": "2021-07-16T22:49:11.417Z"
   },
   {
    "duration": 6,
    "start_time": "2021-07-16T22:49:11.424Z"
   },
   {
    "duration": 7,
    "start_time": "2021-07-16T22:49:11.431Z"
   },
   {
    "duration": 9,
    "start_time": "2021-07-16T22:49:11.439Z"
   },
   {
    "duration": 5,
    "start_time": "2021-07-16T22:49:11.449Z"
   },
   {
    "duration": 7,
    "start_time": "2021-07-16T22:49:11.455Z"
   },
   {
    "duration": 30,
    "start_time": "2021-07-16T22:49:11.463Z"
   },
   {
    "duration": 167,
    "start_time": "2021-07-16T22:49:11.495Z"
   },
   {
    "duration": 10,
    "start_time": "2021-07-16T22:49:11.664Z"
   },
   {
    "duration": 19,
    "start_time": "2021-07-16T22:49:11.676Z"
   },
   {
    "duration": 5,
    "start_time": "2021-07-16T22:49:11.697Z"
   },
   {
    "duration": 5,
    "start_time": "2021-07-16T22:49:11.704Z"
   },
   {
    "duration": 11,
    "start_time": "2021-07-16T22:49:11.710Z"
   },
   {
    "duration": 1472,
    "start_time": "2021-07-17T11:16:15.347Z"
   },
   {
    "duration": 193,
    "start_time": "2021-07-17T11:16:16.822Z"
   },
   {
    "duration": 186,
    "start_time": "2021-07-17T11:16:17.019Z"
   },
   {
    "duration": 184,
    "start_time": "2021-07-17T11:16:17.208Z"
   },
   {
    "duration": 22,
    "start_time": "2021-07-17T11:16:17.394Z"
   },
   {
    "duration": 12,
    "start_time": "2021-07-17T11:16:17.418Z"
   },
   {
    "duration": 12,
    "start_time": "2021-07-17T11:16:17.457Z"
   },
   {
    "duration": 26,
    "start_time": "2021-07-17T11:16:17.474Z"
   },
   {
    "duration": 12,
    "start_time": "2021-07-17T11:16:17.503Z"
   },
   {
    "duration": 41,
    "start_time": "2021-07-17T11:16:17.517Z"
   },
   {
    "duration": 41,
    "start_time": "2021-07-17T11:16:17.561Z"
   },
   {
    "duration": 12,
    "start_time": "2021-07-17T11:16:17.604Z"
   },
   {
    "duration": 30,
    "start_time": "2021-07-17T11:16:17.618Z"
   },
   {
    "duration": 69,
    "start_time": "2021-07-17T11:16:17.650Z"
   },
   {
    "duration": 34,
    "start_time": "2021-07-17T11:16:17.721Z"
   },
   {
    "duration": 37,
    "start_time": "2021-07-17T11:16:17.758Z"
   },
   {
    "duration": 58,
    "start_time": "2021-07-17T11:16:17.798Z"
   },
   {
    "duration": 96,
    "start_time": "2021-07-17T11:16:17.862Z"
   },
   {
    "duration": 94,
    "start_time": "2021-07-17T11:16:17.961Z"
   },
   {
    "duration": 98,
    "start_time": "2021-07-17T11:16:18.058Z"
   },
   {
    "duration": 20,
    "start_time": "2021-07-17T11:16:18.159Z"
   },
   {
    "duration": 97,
    "start_time": "2021-07-17T11:16:18.256Z"
   },
   {
    "duration": 14,
    "start_time": "2021-07-17T11:16:18.360Z"
   },
   {
    "duration": 307,
    "start_time": "2021-07-17T11:16:18.378Z"
   },
   {
    "duration": 265,
    "start_time": "2021-07-17T11:16:18.689Z"
   },
   {
    "duration": 317,
    "start_time": "2021-07-17T11:16:18.957Z"
   },
   {
    "duration": 28,
    "start_time": "2021-07-17T11:16:19.277Z"
   },
   {
    "duration": 16,
    "start_time": "2021-07-17T11:16:19.308Z"
   },
   {
    "duration": 31,
    "start_time": "2021-07-17T11:16:19.355Z"
   },
   {
    "duration": 65,
    "start_time": "2021-07-17T11:16:19.389Z"
   },
   {
    "duration": 107,
    "start_time": "2021-07-17T11:16:19.459Z"
   },
   {
    "duration": 25,
    "start_time": "2021-07-17T11:16:19.570Z"
   },
   {
    "duration": 17,
    "start_time": "2021-07-17T11:16:19.597Z"
   },
   {
    "duration": 17,
    "start_time": "2021-07-17T11:16:19.616Z"
   },
   {
    "duration": 26,
    "start_time": "2021-07-17T11:16:19.635Z"
   },
   {
    "duration": 330,
    "start_time": "2021-07-17T11:16:19.663Z"
   },
   {
    "duration": 14,
    "start_time": "2021-07-17T11:16:19.996Z"
   },
   {
    "duration": 11,
    "start_time": "2021-07-17T11:16:20.013Z"
   },
   {
    "duration": 31,
    "start_time": "2021-07-17T11:16:20.028Z"
   },
   {
    "duration": 12,
    "start_time": "2021-07-17T11:16:20.063Z"
   },
   {
    "duration": 8,
    "start_time": "2021-07-17T11:16:20.077Z"
   },
   {
    "duration": 10,
    "start_time": "2021-07-17T11:16:20.088Z"
   },
   {
    "duration": 8,
    "start_time": "2021-07-17T11:16:20.100Z"
   },
   {
    "duration": 47,
    "start_time": "2021-07-17T11:16:20.111Z"
   },
   {
    "duration": 327,
    "start_time": "2021-07-17T11:16:20.161Z"
   },
   {
    "duration": 15,
    "start_time": "2021-07-17T11:16:20.490Z"
   },
   {
    "duration": 11,
    "start_time": "2021-07-17T11:16:20.507Z"
   },
   {
    "duration": 38,
    "start_time": "2021-07-17T11:16:20.520Z"
   },
   {
    "duration": 9,
    "start_time": "2021-07-17T11:16:20.561Z"
   },
   {
    "duration": 17,
    "start_time": "2021-07-17T11:16:20.573Z"
   },
   {
    "duration": 468,
    "start_time": "2021-07-17T11:25:27.661Z"
   },
   {
    "duration": 5,
    "start_time": "2021-07-17T11:26:01.670Z"
   },
   {
    "duration": 7,
    "start_time": "2021-07-17T11:26:35.360Z"
   },
   {
    "duration": 7,
    "start_time": "2021-07-17T11:27:16.115Z"
   },
   {
    "duration": 308,
    "start_time": "2021-07-17T11:27:42.550Z"
   },
   {
    "duration": 7,
    "start_time": "2021-07-17T11:28:38.031Z"
   },
   {
    "duration": 273,
    "start_time": "2021-07-17T11:34:59.067Z"
   },
   {
    "duration": 5,
    "start_time": "2021-07-17T11:35:02.674Z"
   },
   {
    "duration": 14,
    "start_time": "2021-07-17T11:35:04.837Z"
   },
   {
    "duration": 14,
    "start_time": "2021-07-17T11:39:32.781Z"
   },
   {
    "duration": 14,
    "start_time": "2021-07-17T14:22:07.921Z"
   },
   {
    "duration": 23,
    "start_time": "2021-07-17T14:22:33.738Z"
   },
   {
    "duration": 15,
    "start_time": "2021-07-17T14:22:59.643Z"
   },
   {
    "duration": 4,
    "start_time": "2021-07-17T14:28:06.598Z"
   },
   {
    "duration": 272,
    "start_time": "2021-07-17T14:28:20.288Z"
   },
   {
    "duration": 12,
    "start_time": "2021-07-17T14:28:43.712Z"
   },
   {
    "duration": 269,
    "start_time": "2021-07-17T14:29:11.978Z"
   },
   {
    "duration": 284,
    "start_time": "2021-07-17T14:38:14.703Z"
   },
   {
    "duration": 266,
    "start_time": "2021-07-17T14:38:51.972Z"
   },
   {
    "duration": 310,
    "start_time": "2021-07-17T14:41:02.424Z"
   },
   {
    "duration": 7,
    "start_time": "2021-07-17T14:45:09.256Z"
   },
   {
    "duration": 7,
    "start_time": "2021-07-17T14:45:26.589Z"
   },
   {
    "duration": 4,
    "start_time": "2021-07-17T14:46:07.064Z"
   },
   {
    "duration": 287,
    "start_time": "2021-07-17T14:46:11.204Z"
   },
   {
    "duration": 131500,
    "start_time": "2021-07-17T14:46:46.898Z"
   },
   {
    "duration": 4,
    "start_time": "2021-07-17T14:49:19.157Z"
   },
   {
    "duration": 1486,
    "start_time": "2021-07-17T14:51:02.415Z"
   },
   {
    "duration": 187,
    "start_time": "2021-07-17T14:51:03.904Z"
   },
   {
    "duration": 173,
    "start_time": "2021-07-17T14:51:04.094Z"
   },
   {
    "duration": 184,
    "start_time": "2021-07-17T14:51:04.270Z"
   },
   {
    "duration": 24,
    "start_time": "2021-07-17T14:51:04.456Z"
   },
   {
    "duration": 14,
    "start_time": "2021-07-17T14:51:04.482Z"
   },
   {
    "duration": 9,
    "start_time": "2021-07-17T14:51:04.499Z"
   },
   {
    "duration": 61,
    "start_time": "2021-07-17T14:51:04.512Z"
   },
   {
    "duration": 12,
    "start_time": "2021-07-17T14:51:04.576Z"
   },
   {
    "duration": 12,
    "start_time": "2021-07-17T14:51:04.591Z"
   },
   {
    "duration": 54,
    "start_time": "2021-07-17T14:51:04.605Z"
   },
   {
    "duration": 11,
    "start_time": "2021-07-17T14:51:04.662Z"
   },
   {
    "duration": 15,
    "start_time": "2021-07-17T14:51:04.676Z"
   },
   {
    "duration": 97,
    "start_time": "2021-07-17T14:51:04.694Z"
   },
   {
    "duration": 4,
    "start_time": "2021-07-17T14:51:04.794Z"
   },
   {
    "duration": 62,
    "start_time": "2021-07-17T14:51:04.801Z"
   },
   {
    "duration": 93,
    "start_time": "2021-07-17T14:51:04.866Z"
   },
   {
    "duration": 112,
    "start_time": "2021-07-17T14:51:04.963Z"
   },
   {
    "duration": 16,
    "start_time": "2021-07-17T14:51:05.077Z"
   },
   {
    "duration": 99,
    "start_time": "2021-07-17T14:51:05.157Z"
   },
   {
    "duration": 18,
    "start_time": "2021-07-17T14:51:05.259Z"
   },
   {
    "duration": 8,
    "start_time": "2021-07-17T14:51:05.356Z"
   },
   {
    "duration": 14,
    "start_time": "2021-07-17T14:51:05.455Z"
   },
   {
    "duration": 292,
    "start_time": "2021-07-17T14:51:05.472Z"
   },
   {
    "duration": 247,
    "start_time": "2021-07-17T14:51:05.767Z"
   },
   {
    "duration": 303,
    "start_time": "2021-07-17T14:51:06.017Z"
   },
   {
    "duration": 39,
    "start_time": "2021-07-17T14:51:06.322Z"
   },
   {
    "duration": 16,
    "start_time": "2021-07-17T14:51:06.364Z"
   },
   {
    "duration": 32,
    "start_time": "2021-07-17T14:51:06.382Z"
   },
   {
    "duration": 56,
    "start_time": "2021-07-17T14:51:06.416Z"
   },
   {
    "duration": 7,
    "start_time": "2021-07-17T14:51:06.556Z"
   },
   {
    "duration": 90,
    "start_time": "2021-07-17T14:51:06.566Z"
   },
   {
    "duration": 14,
    "start_time": "2021-07-17T14:51:06.659Z"
   },
   {
    "duration": 21,
    "start_time": "2021-07-17T14:51:06.676Z"
   },
   {
    "duration": 22,
    "start_time": "2021-07-17T14:51:06.699Z"
   },
   {
    "duration": 305,
    "start_time": "2021-07-17T14:51:06.724Z"
   },
   {
    "duration": 13,
    "start_time": "2021-07-17T14:51:07.032Z"
   },
   {
    "duration": 8,
    "start_time": "2021-07-17T14:51:07.055Z"
   },
   {
    "duration": 14,
    "start_time": "2021-07-17T14:51:07.066Z"
   },
   {
    "duration": 12,
    "start_time": "2021-07-17T14:51:07.083Z"
   },
   {
    "duration": 19,
    "start_time": "2021-07-17T14:51:07.098Z"
   },
   {
    "duration": 39,
    "start_time": "2021-07-17T14:51:07.120Z"
   },
   {
    "duration": 9,
    "start_time": "2021-07-17T14:51:07.162Z"
   },
   {
    "duration": 15,
    "start_time": "2021-07-17T14:51:07.174Z"
   },
   {
    "duration": 13,
    "start_time": "2021-07-17T14:51:07.192Z"
   },
   {
    "duration": 310,
    "start_time": "2021-07-17T14:51:07.208Z"
   },
   {
    "duration": 16,
    "start_time": "2021-07-17T14:51:07.521Z"
   },
   {
    "duration": 22,
    "start_time": "2021-07-17T14:51:07.539Z"
   },
   {
    "duration": 8,
    "start_time": "2021-07-17T14:51:07.564Z"
   },
   {
    "duration": 11,
    "start_time": "2021-07-17T14:51:07.575Z"
   },
   {
    "duration": 8,
    "start_time": "2021-07-17T14:51:07.588Z"
   },
   {
    "duration": 131224,
    "start_time": "2021-07-17T14:51:07.599Z"
   },
   {
    "duration": 130219,
    "start_time": "2021-07-17T14:56:37.988Z"
   },
   {
    "duration": 5137,
    "start_time": "2021-07-17T15:09:00.536Z"
   },
   {
    "duration": 5181,
    "start_time": "2021-07-17T15:12:46.769Z"
   },
   {
    "duration": 6,
    "start_time": "2021-07-17T15:15:35.017Z"
   },
   {
    "duration": 4,
    "start_time": "2021-07-17T15:15:41.565Z"
   },
   {
    "duration": 5122,
    "start_time": "2021-07-17T15:15:55.614Z"
   },
   {
    "duration": 5028,
    "start_time": "2021-07-17T15:17:13.415Z"
   },
   {
    "duration": 5345,
    "start_time": "2021-07-17T15:21:32.127Z"
   },
   {
    "duration": 5,
    "start_time": "2021-07-17T15:23:58.386Z"
   },
   {
    "duration": 1501,
    "start_time": "2021-07-17T15:24:14.392Z"
   },
   {
    "duration": 176,
    "start_time": "2021-07-17T15:24:15.896Z"
   },
   {
    "duration": 179,
    "start_time": "2021-07-17T15:24:16.075Z"
   },
   {
    "duration": 164,
    "start_time": "2021-07-17T15:24:16.257Z"
   },
   {
    "duration": 36,
    "start_time": "2021-07-17T15:24:16.423Z"
   },
   {
    "duration": 12,
    "start_time": "2021-07-17T15:24:16.462Z"
   },
   {
    "duration": 11,
    "start_time": "2021-07-17T15:24:16.477Z"
   },
   {
    "duration": 22,
    "start_time": "2021-07-17T15:24:16.492Z"
   },
   {
    "duration": 44,
    "start_time": "2021-07-17T15:24:16.518Z"
   },
   {
    "duration": 8,
    "start_time": "2021-07-17T15:24:16.565Z"
   },
   {
    "duration": 22,
    "start_time": "2021-07-17T15:24:16.576Z"
   },
   {
    "duration": 12,
    "start_time": "2021-07-17T15:24:16.601Z"
   },
   {
    "duration": 46,
    "start_time": "2021-07-17T15:24:16.615Z"
   },
   {
    "duration": 92,
    "start_time": "2021-07-17T15:24:16.664Z"
   },
   {
    "duration": 3,
    "start_time": "2021-07-17T15:24:16.759Z"
   },
   {
    "duration": 23,
    "start_time": "2021-07-17T15:24:16.764Z"
   },
   {
    "duration": 65,
    "start_time": "2021-07-17T15:24:16.790Z"
   },
   {
    "duration": 108,
    "start_time": "2021-07-17T15:24:16.858Z"
   },
   {
    "duration": 16,
    "start_time": "2021-07-17T15:24:16.968Z"
   },
   {
    "duration": 170,
    "start_time": "2021-07-17T15:24:16.987Z"
   },
   {
    "duration": 17,
    "start_time": "2021-07-17T15:24:17.159Z"
   },
   {
    "duration": 98,
    "start_time": "2021-07-17T15:24:17.257Z"
   },
   {
    "duration": 13,
    "start_time": "2021-07-17T15:24:17.360Z"
   },
   {
    "duration": 302,
    "start_time": "2021-07-17T15:24:17.376Z"
   },
   {
    "duration": 242,
    "start_time": "2021-07-17T15:24:17.681Z"
   },
   {
    "duration": 298,
    "start_time": "2021-07-17T15:24:17.926Z"
   },
   {
    "duration": 40,
    "start_time": "2021-07-17T15:24:18.226Z"
   },
   {
    "duration": 16,
    "start_time": "2021-07-17T15:24:18.269Z"
   },
   {
    "duration": 31,
    "start_time": "2021-07-17T15:24:18.288Z"
   },
   {
    "duration": 35,
    "start_time": "2021-07-17T15:24:18.322Z"
   },
   {
    "duration": 95,
    "start_time": "2021-07-17T15:24:18.361Z"
   },
   {
    "duration": 8,
    "start_time": "2021-07-17T15:24:18.460Z"
   },
   {
    "duration": 8,
    "start_time": "2021-07-17T15:24:18.556Z"
   },
   {
    "duration": 7,
    "start_time": "2021-07-17T15:24:18.567Z"
   },
   {
    "duration": 16,
    "start_time": "2021-07-17T15:24:18.576Z"
   },
   {
    "duration": 332,
    "start_time": "2021-07-17T15:24:18.596Z"
   },
   {
    "duration": 12,
    "start_time": "2021-07-17T15:24:18.931Z"
   },
   {
    "duration": 5,
    "start_time": "2021-07-17T15:24:18.955Z"
   },
   {
    "duration": 9,
    "start_time": "2021-07-17T15:24:18.963Z"
   },
   {
    "duration": 6,
    "start_time": "2021-07-17T15:24:18.975Z"
   },
   {
    "duration": 5,
    "start_time": "2021-07-17T15:24:18.984Z"
   },
   {
    "duration": 9,
    "start_time": "2021-07-17T15:24:18.991Z"
   },
   {
    "duration": 52,
    "start_time": "2021-07-17T15:24:19.003Z"
   },
   {
    "duration": 7,
    "start_time": "2021-07-17T15:24:19.057Z"
   },
   {
    "duration": 6,
    "start_time": "2021-07-17T15:24:19.066Z"
   },
   {
    "duration": 312,
    "start_time": "2021-07-17T15:24:19.074Z"
   },
   {
    "duration": 21,
    "start_time": "2021-07-17T15:24:19.389Z"
   },
   {
    "duration": 8,
    "start_time": "2021-07-17T15:24:19.413Z"
   },
   {
    "duration": 32,
    "start_time": "2021-07-17T15:24:19.424Z"
   },
   {
    "duration": 5,
    "start_time": "2021-07-17T15:24:19.459Z"
   },
   {
    "duration": 6,
    "start_time": "2021-07-17T15:24:19.467Z"
   },
   {
    "duration": 5135,
    "start_time": "2021-07-17T15:24:19.475Z"
   },
   {
    "duration": 5087,
    "start_time": "2021-07-17T15:31:14.834Z"
   },
   {
    "duration": 5016,
    "start_time": "2021-07-17T15:31:59.556Z"
   },
   {
    "duration": 5395,
    "start_time": "2021-07-17T15:32:49.455Z"
   },
   {
    "duration": 912,
    "start_time": "2021-07-17T15:39:05.871Z"
   },
   {
    "duration": 8,
    "start_time": "2021-07-17T15:40:23.156Z"
   },
   {
    "duration": 8446,
    "start_time": "2021-07-17T15:46:02.196Z"
   },
   {
    "duration": 7,
    "start_time": "2021-07-17T16:03:27.084Z"
   },
   {
    "duration": 5111,
    "start_time": "2021-07-17T16:10:35.232Z"
   },
   {
    "duration": 11,
    "start_time": "2021-07-17T16:10:40.346Z"
   },
   {
    "duration": 5699,
    "start_time": "2021-07-17T16:49:17.248Z"
   },
   {
    "duration": 7,
    "start_time": "2021-07-17T16:49:23.633Z"
   },
   {
    "duration": 5260,
    "start_time": "2021-07-17T18:50:24.814Z"
   },
   {
    "duration": 5286,
    "start_time": "2021-07-17T19:48:56.846Z"
   },
   {
    "duration": 4985,
    "start_time": "2021-07-17T19:49:33.052Z"
   },
   {
    "duration": 5059,
    "start_time": "2021-07-17T19:50:17.606Z"
   },
   {
    "duration": 31,
    "start_time": "2021-07-17T20:09:34.984Z"
   },
   {
    "duration": 13,
    "start_time": "2021-07-17T20:09:56.335Z"
   },
   {
    "duration": 7,
    "start_time": "2021-07-17T20:11:36.312Z"
   },
   {
    "duration": 320,
    "start_time": "2021-07-17T20:13:50.779Z"
   },
   {
    "duration": 280,
    "start_time": "2021-07-17T20:14:50.483Z"
   },
   {
    "duration": 318,
    "start_time": "2021-07-17T20:15:37.444Z"
   },
   {
    "duration": 280,
    "start_time": "2021-07-17T20:15:49.140Z"
   },
   {
    "duration": 1102,
    "start_time": "2021-07-17T20:18:10.678Z"
   },
   {
    "duration": 280,
    "start_time": "2021-07-17T20:18:32.554Z"
   },
   {
    "duration": 277,
    "start_time": "2021-07-17T20:19:14.229Z"
   },
   {
    "duration": 290,
    "start_time": "2021-07-17T20:20:41.370Z"
   },
   {
    "duration": 4,
    "start_time": "2021-07-17T20:21:04.423Z"
   },
   {
    "duration": 4,
    "start_time": "2021-07-17T20:21:45.459Z"
   },
   {
    "duration": 102,
    "start_time": "2021-07-17T20:22:06.306Z"
   },
   {
    "duration": 4,
    "start_time": "2021-07-17T20:22:35.498Z"
   },
   {
    "duration": 4,
    "start_time": "2021-07-17T20:24:04.476Z"
   },
   {
    "duration": 4,
    "start_time": "2021-07-17T20:24:26.254Z"
   },
   {
    "duration": 111,
    "start_time": "2021-07-17T20:25:07.739Z"
   },
   {
    "duration": 288,
    "start_time": "2021-07-17T20:38:58.347Z"
   },
   {
    "duration": 5394,
    "start_time": "2021-07-17T20:39:18.876Z"
   },
   {
    "duration": 5026,
    "start_time": "2021-07-17T20:39:40.877Z"
   },
   {
    "duration": 5040,
    "start_time": "2021-07-17T20:40:57.541Z"
   },
   {
    "duration": 282,
    "start_time": "2021-07-17T20:47:32.690Z"
   },
   {
    "duration": 5531,
    "start_time": "2021-07-17T20:48:42.374Z"
   },
   {
    "duration": 5086,
    "start_time": "2021-07-17T20:50:30.868Z"
   },
   {
    "duration": 8450,
    "start_time": "2021-07-17T20:51:21.450Z"
   },
   {
    "duration": 5075,
    "start_time": "2021-07-17T20:52:32.389Z"
   },
   {
    "duration": 5527,
    "start_time": "2021-07-17T20:53:49.109Z"
   },
   {
    "duration": 5100,
    "start_time": "2021-07-17T20:54:21.167Z"
   },
   {
    "duration": 5016,
    "start_time": "2021-07-17T20:57:01.944Z"
   },
   {
    "duration": 5120,
    "start_time": "2021-07-17T20:58:09.314Z"
   },
   {
    "duration": 359,
    "start_time": "2021-07-17T20:58:40.467Z"
   },
   {
    "duration": 1376,
    "start_time": "2021-07-17T20:59:29.475Z"
   },
   {
    "duration": 1156,
    "start_time": "2021-07-17T21:00:21.551Z"
   },
   {
    "duration": 1185,
    "start_time": "2021-07-17T21:00:43.577Z"
   },
   {
    "duration": 1056,
    "start_time": "2021-07-17T21:01:04.769Z"
   },
   {
    "duration": 1162,
    "start_time": "2021-07-17T21:03:18.962Z"
   },
   {
    "duration": 796,
    "start_time": "2021-07-17T21:04:13.485Z"
   },
   {
    "duration": 5296,
    "start_time": "2021-07-17T21:09:18.845Z"
   },
   {
    "duration": 5125,
    "start_time": "2021-07-17T21:09:57.977Z"
   },
   {
    "duration": 8,
    "start_time": "2021-07-17T21:25:01.037Z"
   },
   {
    "duration": 266,
    "start_time": "2021-07-17T21:25:21.408Z"
   },
   {
    "duration": 363,
    "start_time": "2021-07-17T21:26:16.768Z"
   },
   {
    "duration": 8,
    "start_time": "2021-07-17T21:27:05.673Z"
   },
   {
    "duration": 5817,
    "start_time": "2021-07-17T21:27:34.189Z"
   },
   {
    "duration": 5489,
    "start_time": "2021-07-17T21:28:13.903Z"
   },
   {
    "duration": 5671,
    "start_time": "2021-07-17T21:28:23.315Z"
   },
   {
    "duration": 5012,
    "start_time": "2021-07-17T21:29:02.232Z"
   },
   {
    "duration": 5050,
    "start_time": "2021-07-17T21:29:33.188Z"
   },
   {
    "duration": 5154,
    "start_time": "2021-07-17T21:29:49.801Z"
   },
   {
    "duration": 5147,
    "start_time": "2021-07-17T21:30:08.393Z"
   },
   {
    "duration": 5247,
    "start_time": "2021-07-17T21:30:34.045Z"
   },
   {
    "duration": 8,
    "start_time": "2021-07-17T21:31:25.326Z"
   },
   {
    "duration": 6,
    "start_time": "2021-07-17T21:31:26.367Z"
   },
   {
    "duration": 6,
    "start_time": "2021-07-17T21:32:35.459Z"
   },
   {
    "duration": 285,
    "start_time": "2021-07-17T21:33:03.316Z"
   },
   {
    "duration": 5,
    "start_time": "2021-07-17T21:33:32.433Z"
   },
   {
    "duration": 5,
    "start_time": "2021-07-17T21:34:36.234Z"
   },
   {
    "duration": 8,
    "start_time": "2021-07-17T21:34:45.147Z"
   },
   {
    "duration": 6,
    "start_time": "2021-07-17T21:34:46.098Z"
   },
   {
    "duration": 6,
    "start_time": "2021-07-17T21:34:59.680Z"
   },
   {
    "duration": 1457,
    "start_time": "2021-07-17T21:35:45.639Z"
   },
   {
    "duration": 183,
    "start_time": "2021-07-17T21:35:47.099Z"
   },
   {
    "duration": 176,
    "start_time": "2021-07-17T21:35:47.285Z"
   },
   {
    "duration": 177,
    "start_time": "2021-07-17T21:35:47.463Z"
   },
   {
    "duration": 31,
    "start_time": "2021-07-17T21:35:47.643Z"
   },
   {
    "duration": 13,
    "start_time": "2021-07-17T21:35:47.676Z"
   },
   {
    "duration": 10,
    "start_time": "2021-07-17T21:35:47.691Z"
   },
   {
    "duration": 55,
    "start_time": "2021-07-17T21:35:47.705Z"
   },
   {
    "duration": 12,
    "start_time": "2021-07-17T21:35:47.763Z"
   },
   {
    "duration": 14,
    "start_time": "2021-07-17T21:35:47.777Z"
   },
   {
    "duration": 29,
    "start_time": "2021-07-17T21:35:47.794Z"
   },
   {
    "duration": 30,
    "start_time": "2021-07-17T21:35:47.825Z"
   },
   {
    "duration": 11,
    "start_time": "2021-07-17T21:35:47.858Z"
   },
   {
    "duration": 108,
    "start_time": "2021-07-17T21:35:47.872Z"
   },
   {
    "duration": 4,
    "start_time": "2021-07-17T21:35:47.982Z"
   },
   {
    "duration": 20,
    "start_time": "2021-07-17T21:35:47.988Z"
   },
   {
    "duration": 49,
    "start_time": "2021-07-17T21:35:48.011Z"
   },
   {
    "duration": 97,
    "start_time": "2021-07-17T21:35:48.064Z"
   },
   {
    "duration": 18,
    "start_time": "2021-07-17T21:35:48.163Z"
   },
   {
    "duration": 105,
    "start_time": "2021-07-17T21:35:48.256Z"
   },
   {
    "duration": 17,
    "start_time": "2021-07-17T21:35:48.364Z"
   },
   {
    "duration": 98,
    "start_time": "2021-07-17T21:35:48.457Z"
   },
   {
    "duration": 14,
    "start_time": "2021-07-17T21:35:48.560Z"
   },
   {
    "duration": 296,
    "start_time": "2021-07-17T21:35:48.578Z"
   },
   {
    "duration": 246,
    "start_time": "2021-07-17T21:35:48.876Z"
   },
   {
    "duration": 307,
    "start_time": "2021-07-17T21:35:49.125Z"
   },
   {
    "duration": 40,
    "start_time": "2021-07-17T21:35:49.434Z"
   },
   {
    "duration": 17,
    "start_time": "2021-07-17T21:35:49.477Z"
   },
   {
    "duration": 67,
    "start_time": "2021-07-17T21:35:49.497Z"
   },
   {
    "duration": 92,
    "start_time": "2021-07-17T21:35:49.567Z"
   },
   {
    "duration": 99,
    "start_time": "2021-07-17T21:35:49.663Z"
   },
   {
    "duration": 8,
    "start_time": "2021-07-17T21:35:49.855Z"
   },
   {
    "duration": 13,
    "start_time": "2021-07-17T21:35:49.865Z"
   },
   {
    "duration": 15,
    "start_time": "2021-07-17T21:35:49.880Z"
   },
   {
    "duration": 27,
    "start_time": "2021-07-17T21:35:49.898Z"
   },
   {
    "duration": 313,
    "start_time": "2021-07-17T21:35:49.927Z"
   },
   {
    "duration": 18,
    "start_time": "2021-07-17T21:35:50.242Z"
   },
   {
    "duration": 18,
    "start_time": "2021-07-17T21:35:50.263Z"
   },
   {
    "duration": 28,
    "start_time": "2021-07-17T21:35:50.283Z"
   },
   {
    "duration": 24,
    "start_time": "2021-07-17T21:35:50.313Z"
   },
   {
    "duration": 19,
    "start_time": "2021-07-17T21:35:50.340Z"
   },
   {
    "duration": 15,
    "start_time": "2021-07-17T21:35:50.361Z"
   },
   {
    "duration": 25,
    "start_time": "2021-07-17T21:35:50.378Z"
   },
   {
    "duration": 28,
    "start_time": "2021-07-17T21:35:50.405Z"
   },
   {
    "duration": 10,
    "start_time": "2021-07-17T21:35:50.436Z"
   },
   {
    "duration": 302,
    "start_time": "2021-07-17T21:35:50.448Z"
   },
   {
    "duration": 16,
    "start_time": "2021-07-17T21:35:50.754Z"
   },
   {
    "duration": 11,
    "start_time": "2021-07-17T21:35:50.772Z"
   },
   {
    "duration": 17,
    "start_time": "2021-07-17T21:35:50.785Z"
   },
   {
    "duration": 6,
    "start_time": "2021-07-17T21:35:50.804Z"
   },
   {
    "duration": 17,
    "start_time": "2021-07-17T21:35:50.812Z"
   },
   {
    "duration": 5214,
    "start_time": "2021-07-17T21:35:50.831Z"
   },
   {
    "duration": 7,
    "start_time": "2021-07-17T21:35:56.055Z"
   },
   {
    "duration": 843,
    "start_time": "2021-07-17T21:35:56.064Z"
   },
   {
    "duration": 7,
    "start_time": "2021-07-17T21:36:43.236Z"
   },
   {
    "duration": 8,
    "start_time": "2021-07-17T21:37:40.694Z"
   },
   {
    "duration": 8,
    "start_time": "2021-07-17T21:38:18.940Z"
   },
   {
    "duration": 418,
    "start_time": "2021-07-17T21:44:42.728Z"
   },
   {
    "duration": 283,
    "start_time": "2021-07-17T21:45:49.551Z"
   },
   {
    "duration": 5,
    "start_time": "2021-07-17T21:46:21.467Z"
   },
   {
    "duration": 272,
    "start_time": "2021-07-17T21:46:56.164Z"
   },
   {
    "duration": 15,
    "start_time": "2021-07-17T21:47:28.126Z"
   },
   {
    "duration": 182,
    "start_time": "2021-07-17T21:47:51.904Z"
   },
   {
    "duration": 290,
    "start_time": "2021-07-17T21:49:22.733Z"
   },
   {
    "duration": 15,
    "start_time": "2021-07-17T21:50:45.736Z"
   },
   {
    "duration": 18,
    "start_time": "2021-07-17T21:51:18.330Z"
   },
   {
    "duration": 17,
    "start_time": "2021-07-17T21:51:46.406Z"
   },
   {
    "duration": 19,
    "start_time": "2021-07-17T21:52:59.281Z"
   },
   {
    "duration": 5131,
    "start_time": "2021-07-17T21:55:04.975Z"
   },
   {
    "duration": 1396,
    "start_time": "2021-07-17T21:57:18.594Z"
   },
   {
    "duration": 193,
    "start_time": "2021-07-17T21:57:19.993Z"
   },
   {
    "duration": 181,
    "start_time": "2021-07-17T21:57:20.189Z"
   },
   {
    "duration": 169,
    "start_time": "2021-07-17T21:57:20.372Z"
   },
   {
    "duration": 27,
    "start_time": "2021-07-17T21:57:20.544Z"
   },
   {
    "duration": 13,
    "start_time": "2021-07-17T21:57:20.573Z"
   },
   {
    "duration": 15,
    "start_time": "2021-07-17T21:57:20.588Z"
   },
   {
    "duration": 52,
    "start_time": "2021-07-17T21:57:20.607Z"
   },
   {
    "duration": 12,
    "start_time": "2021-07-17T21:57:20.662Z"
   },
   {
    "duration": 13,
    "start_time": "2021-07-17T21:57:20.677Z"
   },
   {
    "duration": 24,
    "start_time": "2021-07-17T21:57:20.693Z"
   },
   {
    "duration": 38,
    "start_time": "2021-07-17T21:57:20.719Z"
   },
   {
    "duration": 9,
    "start_time": "2021-07-17T21:57:20.760Z"
   },
   {
    "duration": 105,
    "start_time": "2021-07-17T21:57:20.771Z"
   },
   {
    "duration": 4,
    "start_time": "2021-07-17T21:57:20.878Z"
   },
   {
    "duration": 19,
    "start_time": "2021-07-17T21:57:20.884Z"
   },
   {
    "duration": 149,
    "start_time": "2021-07-17T21:57:20.906Z"
   },
   {
    "duration": 16,
    "start_time": "2021-07-17T21:57:21.057Z"
   },
   {
    "duration": 81,
    "start_time": "2021-07-17T21:57:21.076Z"
   },
   {
    "duration": 104,
    "start_time": "2021-07-17T21:57:21.161Z"
   },
   {
    "duration": 87,
    "start_time": "2021-07-17T21:57:21.268Z"
   },
   {
    "duration": 98,
    "start_time": "2021-07-17T21:57:21.359Z"
   },
   {
    "duration": 14,
    "start_time": "2021-07-17T21:57:21.464Z"
   },
   {
    "duration": 305,
    "start_time": "2021-07-17T21:57:21.481Z"
   },
   {
    "duration": 260,
    "start_time": "2021-07-17T21:57:21.789Z"
   },
   {
    "duration": 303,
    "start_time": "2021-07-17T21:57:22.055Z"
   },
   {
    "duration": 30,
    "start_time": "2021-07-17T21:57:22.361Z"
   },
   {
    "duration": 17,
    "start_time": "2021-07-17T21:57:22.393Z"
   },
   {
    "duration": 61,
    "start_time": "2021-07-17T21:57:22.412Z"
   },
   {
    "duration": 84,
    "start_time": "2021-07-17T21:57:22.476Z"
   },
   {
    "duration": 189,
    "start_time": "2021-07-17T21:57:22.564Z"
   },
   {
    "duration": 9,
    "start_time": "2021-07-17T21:57:22.756Z"
   },
   {
    "duration": 8,
    "start_time": "2021-07-17T21:57:22.767Z"
   },
   {
    "duration": 7,
    "start_time": "2021-07-17T21:57:22.777Z"
   },
   {
    "duration": 14,
    "start_time": "2021-07-17T21:57:22.786Z"
   },
   {
    "duration": 352,
    "start_time": "2021-07-17T21:57:22.802Z"
   },
   {
    "duration": 13,
    "start_time": "2021-07-17T21:57:23.157Z"
   },
   {
    "duration": 11,
    "start_time": "2021-07-17T21:57:23.172Z"
   },
   {
    "duration": 11,
    "start_time": "2021-07-17T21:57:23.185Z"
   },
   {
    "duration": 10,
    "start_time": "2021-07-17T21:57:23.198Z"
   },
   {
    "duration": 9,
    "start_time": "2021-07-17T21:57:23.210Z"
   },
   {
    "duration": 4,
    "start_time": "2021-07-17T21:57:23.255Z"
   },
   {
    "duration": 6,
    "start_time": "2021-07-17T21:57:23.262Z"
   },
   {
    "duration": 7,
    "start_time": "2021-07-17T21:57:23.271Z"
   },
   {
    "duration": 6,
    "start_time": "2021-07-17T21:57:23.281Z"
   },
   {
    "duration": 329,
    "start_time": "2021-07-17T21:57:23.289Z"
   },
   {
    "duration": 15,
    "start_time": "2021-07-17T21:57:23.621Z"
   },
   {
    "duration": 7,
    "start_time": "2021-07-17T21:57:23.654Z"
   },
   {
    "duration": 14,
    "start_time": "2021-07-17T21:57:23.663Z"
   },
   {
    "duration": 13,
    "start_time": "2021-07-17T21:57:23.679Z"
   },
   {
    "duration": 13,
    "start_time": "2021-07-17T21:57:23.694Z"
   },
   {
    "duration": 5226,
    "start_time": "2021-07-17T21:57:23.710Z"
   },
   {
    "duration": 7,
    "start_time": "2021-07-17T21:57:28.938Z"
   },
   {
    "duration": 16,
    "start_time": "2021-07-17T22:08:57.101Z"
   },
   {
    "duration": 6,
    "start_time": "2021-07-17T22:09:49.921Z"
   },
   {
    "duration": 8,
    "start_time": "2021-07-17T22:10:23.564Z"
   },
   {
    "duration": 7,
    "start_time": "2021-07-17T22:11:37.812Z"
   },
   {
    "duration": 8,
    "start_time": "2021-07-17T22:11:54.428Z"
   },
   {
    "duration": 8,
    "start_time": "2021-07-17T22:13:06.088Z"
   },
   {
    "duration": 418,
    "start_time": "2021-07-17T22:14:19.421Z"
   },
   {
    "duration": 7,
    "start_time": "2021-07-17T22:14:32.578Z"
   },
   {
    "duration": 297,
    "start_time": "2021-07-17T22:20:07.535Z"
   },
   {
    "duration": 272,
    "start_time": "2021-07-17T22:20:51.786Z"
   },
   {
    "duration": 8,
    "start_time": "2021-07-17T22:21:03.259Z"
   },
   {
    "duration": 1439,
    "start_time": "2021-07-17T22:21:38.588Z"
   },
   {
    "duration": 1432,
    "start_time": "2021-07-17T22:22:11.040Z"
   },
   {
    "duration": 1435,
    "start_time": "2021-07-17T22:22:22.449Z"
   },
   {
    "duration": 276,
    "start_time": "2021-07-17T22:23:02.901Z"
   },
   {
    "duration": 1412,
    "start_time": "2021-07-17T22:24:25.357Z"
   },
   {
    "duration": 9,
    "start_time": "2021-07-17T22:27:11.824Z"
   },
   {
    "duration": 18,
    "start_time": "2021-07-17T22:27:46.716Z"
   },
   {
    "duration": 294,
    "start_time": "2021-07-17T22:28:13.951Z"
   },
   {
    "duration": 10,
    "start_time": "2021-07-17T22:28:35.245Z"
   },
   {
    "duration": 22,
    "start_time": "2021-07-17T22:30:25.948Z"
   },
   {
    "duration": 13,
    "start_time": "2021-07-17T22:30:37.912Z"
   },
   {
    "duration": 9,
    "start_time": "2021-07-17T22:31:16.584Z"
   },
   {
    "duration": 8,
    "start_time": "2021-07-17T22:32:39.467Z"
   },
   {
    "duration": 104,
    "start_time": "2021-07-17T22:34:32.502Z"
   },
   {
    "duration": 8,
    "start_time": "2021-07-17T22:34:47.287Z"
   },
   {
    "duration": 3,
    "start_time": "2021-07-17T22:35:44.447Z"
   },
   {
    "duration": 9,
    "start_time": "2021-07-17T22:36:06.331Z"
   },
   {
    "duration": 17,
    "start_time": "2021-07-17T22:37:17.903Z"
   },
   {
    "duration": 8,
    "start_time": "2021-07-17T22:38:22.519Z"
   },
   {
    "duration": 16,
    "start_time": "2021-07-17T22:39:36.780Z"
   },
   {
    "duration": 7,
    "start_time": "2021-07-17T22:40:49.100Z"
   },
   {
    "duration": 6,
    "start_time": "2021-07-17T22:41:32.508Z"
   },
   {
    "duration": 6,
    "start_time": "2021-07-17T22:41:50.299Z"
   },
   {
    "duration": 1444,
    "start_time": "2021-07-17T22:52:14.277Z"
   },
   {
    "duration": 186,
    "start_time": "2021-07-17T22:52:15.723Z"
   },
   {
    "duration": 183,
    "start_time": "2021-07-17T22:52:15.912Z"
   },
   {
    "duration": 179,
    "start_time": "2021-07-17T22:52:16.098Z"
   },
   {
    "duration": 20,
    "start_time": "2021-07-17T22:52:16.279Z"
   },
   {
    "duration": 12,
    "start_time": "2021-07-17T22:52:16.302Z"
   },
   {
    "duration": 60,
    "start_time": "2021-07-17T22:52:16.316Z"
   },
   {
    "duration": 54,
    "start_time": "2021-07-17T22:52:16.381Z"
   },
   {
    "duration": 25,
    "start_time": "2021-07-17T22:52:16.439Z"
   },
   {
    "duration": 17,
    "start_time": "2021-07-17T22:52:16.468Z"
   },
   {
    "duration": 43,
    "start_time": "2021-07-17T22:52:16.489Z"
   },
   {
    "duration": 22,
    "start_time": "2021-07-17T22:52:16.560Z"
   },
   {
    "duration": 14,
    "start_time": "2021-07-17T22:52:16.586Z"
   },
   {
    "duration": 153,
    "start_time": "2021-07-17T22:52:16.603Z"
   },
   {
    "duration": 3,
    "start_time": "2021-07-17T22:52:16.758Z"
   },
   {
    "duration": 33,
    "start_time": "2021-07-17T22:52:16.763Z"
   },
   {
    "duration": 11,
    "start_time": "2021-07-17T22:52:16.798Z"
   },
   {
    "duration": 104,
    "start_time": "2021-07-17T22:52:16.860Z"
   },
   {
    "duration": 19,
    "start_time": "2021-07-17T22:52:16.967Z"
   },
   {
    "duration": 104,
    "start_time": "2021-07-17T22:52:17.057Z"
   },
   {
    "duration": 17,
    "start_time": "2021-07-17T22:52:17.164Z"
   },
   {
    "duration": 99,
    "start_time": "2021-07-17T22:52:17.256Z"
   },
   {
    "duration": 12,
    "start_time": "2021-07-17T22:52:17.361Z"
   },
   {
    "duration": 284,
    "start_time": "2021-07-17T22:52:17.377Z"
   },
   {
    "duration": 245,
    "start_time": "2021-07-17T22:52:17.663Z"
   },
   {
    "duration": 292,
    "start_time": "2021-07-17T22:52:17.910Z"
   },
   {
    "duration": 28,
    "start_time": "2021-07-17T22:52:18.204Z"
   },
   {
    "duration": 29,
    "start_time": "2021-07-17T22:52:18.235Z"
   },
   {
    "duration": 35,
    "start_time": "2021-07-17T22:52:18.267Z"
   },
   {
    "duration": 54,
    "start_time": "2021-07-17T22:52:18.304Z"
   },
   {
    "duration": 192,
    "start_time": "2021-07-17T22:52:18.362Z"
   },
   {
    "duration": 7,
    "start_time": "2021-07-17T22:52:18.557Z"
   },
   {
    "duration": 16,
    "start_time": "2021-07-17T22:52:18.567Z"
   },
   {
    "duration": 16,
    "start_time": "2021-07-17T22:52:18.586Z"
   },
   {
    "duration": 24,
    "start_time": "2021-07-17T22:52:18.604Z"
   },
   {
    "duration": 302,
    "start_time": "2021-07-17T22:52:18.631Z"
   },
   {
    "duration": 20,
    "start_time": "2021-07-17T22:52:18.936Z"
   },
   {
    "duration": 27,
    "start_time": "2021-07-17T22:52:18.958Z"
   },
   {
    "duration": 27,
    "start_time": "2021-07-17T22:52:18.987Z"
   },
   {
    "duration": 28,
    "start_time": "2021-07-17T22:52:19.016Z"
   },
   {
    "duration": 20,
    "start_time": "2021-07-17T22:52:19.046Z"
   },
   {
    "duration": 22,
    "start_time": "2021-07-17T22:52:19.068Z"
   },
   {
    "duration": 13,
    "start_time": "2021-07-17T22:52:19.093Z"
   },
   {
    "duration": 23,
    "start_time": "2021-07-17T22:52:19.108Z"
   },
   {
    "duration": 10,
    "start_time": "2021-07-17T22:52:19.133Z"
   },
   {
    "duration": 404,
    "start_time": "2021-07-17T22:52:19.145Z"
   },
   {
    "duration": 16,
    "start_time": "2021-07-17T22:52:19.555Z"
   },
   {
    "duration": 17,
    "start_time": "2021-07-17T22:52:19.573Z"
   },
   {
    "duration": 25,
    "start_time": "2021-07-17T22:52:19.592Z"
   },
   {
    "duration": 10,
    "start_time": "2021-07-17T22:52:19.620Z"
   },
   {
    "duration": 23,
    "start_time": "2021-07-17T22:52:19.632Z"
   },
   {
    "duration": 5288,
    "start_time": "2021-07-17T22:52:19.657Z"
   },
   {
    "duration": 11,
    "start_time": "2021-07-17T22:52:24.947Z"
   },
   {
    "duration": 22,
    "start_time": "2021-07-17T22:52:24.960Z"
   },
   {
    "duration": 29,
    "start_time": "2021-07-17T22:52:24.985Z"
   },
   {
    "duration": 8,
    "start_time": "2021-07-17T22:52:25.017Z"
   },
   {
    "duration": 21,
    "start_time": "2021-07-17T22:52:25.027Z"
   },
   {
    "duration": 16,
    "start_time": "2021-07-17T22:52:25.054Z"
   },
   {
    "duration": 12,
    "start_time": "2021-07-17T22:52:25.073Z"
   },
   {
    "duration": 24,
    "start_time": "2021-07-17T22:52:25.087Z"
   },
   {
    "duration": 8,
    "start_time": "2021-07-17T22:52:25.114Z"
   },
   {
    "duration": 1047,
    "start_time": "2021-07-18T09:19:50.569Z"
   },
   {
    "duration": 136,
    "start_time": "2021-07-18T09:19:51.617Z"
   },
   {
    "duration": 130,
    "start_time": "2021-07-18T09:19:51.755Z"
   },
   {
    "duration": 132,
    "start_time": "2021-07-18T09:19:51.887Z"
   },
   {
    "duration": 17,
    "start_time": "2021-07-18T09:19:52.020Z"
   },
   {
    "duration": 9,
    "start_time": "2021-07-18T09:19:52.038Z"
   },
   {
    "duration": 7,
    "start_time": "2021-07-18T09:19:52.049Z"
   },
   {
    "duration": 38,
    "start_time": "2021-07-18T09:19:52.058Z"
   },
   {
    "duration": 8,
    "start_time": "2021-07-18T09:19:52.098Z"
   },
   {
    "duration": 8,
    "start_time": "2021-07-18T09:19:52.107Z"
   },
   {
    "duration": 18,
    "start_time": "2021-07-18T09:19:52.116Z"
   },
   {
    "duration": 8,
    "start_time": "2021-07-18T09:19:52.136Z"
   },
   {
    "duration": 12,
    "start_time": "2021-07-18T09:19:52.146Z"
   },
   {
    "duration": 39,
    "start_time": "2021-07-18T09:19:52.185Z"
   },
   {
    "duration": 2,
    "start_time": "2021-07-18T09:19:52.225Z"
   },
   {
    "duration": 14,
    "start_time": "2021-07-18T09:19:52.229Z"
   },
   {
    "duration": 51,
    "start_time": "2021-07-18T09:19:52.244Z"
   },
   {
    "duration": 98,
    "start_time": "2021-07-18T09:19:52.297Z"
   },
   {
    "duration": 11,
    "start_time": "2021-07-18T09:19:52.397Z"
   },
   {
    "duration": 176,
    "start_time": "2021-07-18T09:19:52.410Z"
   },
   {
    "duration": 12,
    "start_time": "2021-07-18T09:19:52.588Z"
   },
   {
    "duration": 84,
    "start_time": "2021-07-18T09:19:52.603Z"
   },
   {
    "duration": 97,
    "start_time": "2021-07-18T09:19:52.695Z"
   },
   {
    "duration": 192,
    "start_time": "2021-07-18T09:19:52.794Z"
   },
   {
    "duration": 146,
    "start_time": "2021-07-18T09:19:52.987Z"
   },
   {
    "duration": 212,
    "start_time": "2021-07-18T09:19:53.134Z"
   },
   {
    "duration": 21,
    "start_time": "2021-07-18T09:19:53.348Z"
   },
   {
    "duration": 24,
    "start_time": "2021-07-18T09:19:53.371Z"
   },
   {
    "duration": 23,
    "start_time": "2021-07-18T09:19:53.397Z"
   },
   {
    "duration": 7,
    "start_time": "2021-07-18T09:19:53.422Z"
   },
   {
    "duration": 58,
    "start_time": "2021-07-18T09:19:53.431Z"
   },
   {
    "duration": 95,
    "start_time": "2021-07-18T09:19:53.491Z"
   },
   {
    "duration": 6,
    "start_time": "2021-07-18T09:19:53.587Z"
   },
   {
    "duration": 6,
    "start_time": "2021-07-18T09:19:53.594Z"
   },
   {
    "duration": 12,
    "start_time": "2021-07-18T09:19:53.602Z"
   },
   {
    "duration": 205,
    "start_time": "2021-07-18T09:19:53.616Z"
   },
   {
    "duration": 9,
    "start_time": "2021-07-18T09:19:53.822Z"
   },
   {
    "duration": 10,
    "start_time": "2021-07-18T09:19:53.832Z"
   },
   {
    "duration": 8,
    "start_time": "2021-07-18T09:19:53.844Z"
   },
   {
    "duration": 16,
    "start_time": "2021-07-18T09:19:53.853Z"
   },
   {
    "duration": 7,
    "start_time": "2021-07-18T09:19:53.870Z"
   },
   {
    "duration": 17,
    "start_time": "2021-07-18T09:19:53.878Z"
   },
   {
    "duration": 11,
    "start_time": "2021-07-18T09:19:53.896Z"
   },
   {
    "duration": 8,
    "start_time": "2021-07-18T09:19:53.908Z"
   },
   {
    "duration": 19,
    "start_time": "2021-07-18T09:19:53.917Z"
   },
   {
    "duration": 193,
    "start_time": "2021-07-18T09:19:53.938Z"
   },
   {
    "duration": 11,
    "start_time": "2021-07-18T09:19:54.133Z"
   },
   {
    "duration": 12,
    "start_time": "2021-07-18T09:19:54.145Z"
   },
   {
    "duration": 14,
    "start_time": "2021-07-18T09:19:54.159Z"
   },
   {
    "duration": 12,
    "start_time": "2021-07-18T09:19:54.174Z"
   },
   {
    "duration": 19,
    "start_time": "2021-07-18T09:19:54.187Z"
   },
   {
    "duration": 2922,
    "start_time": "2021-07-18T09:19:54.207Z"
   },
   {
    "duration": 5,
    "start_time": "2021-07-18T09:19:57.130Z"
   },
   {
    "duration": 8,
    "start_time": "2021-07-18T09:19:57.137Z"
   },
   {
    "duration": 11,
    "start_time": "2021-07-18T09:19:57.146Z"
   },
   {
    "duration": 2,
    "start_time": "2021-07-18T09:19:57.158Z"
   },
   {
    "duration": 6,
    "start_time": "2021-07-18T09:19:57.185Z"
   },
   {
    "duration": 10,
    "start_time": "2021-07-18T09:19:57.192Z"
   },
   {
    "duration": 5,
    "start_time": "2021-07-18T09:19:57.204Z"
   },
   {
    "duration": 9,
    "start_time": "2021-07-18T09:19:57.211Z"
   },
   {
    "duration": 4,
    "start_time": "2021-07-18T09:19:57.222Z"
   },
   {
    "duration": 6,
    "start_time": "2021-07-18T10:07:03.855Z"
   },
   {
    "duration": 8,
    "start_time": "2021-07-18T10:07:27.329Z"
   },
   {
    "duration": 7,
    "start_time": "2021-07-18T10:07:39.334Z"
   },
   {
    "duration": 6,
    "start_time": "2021-07-18T10:13:06.743Z"
   },
   {
    "duration": 6,
    "start_time": "2021-07-18T10:17:52.888Z"
   },
   {
    "duration": 5,
    "start_time": "2021-07-18T10:28:15.694Z"
   },
   {
    "duration": 2933,
    "start_time": "2021-07-18T10:30:55.176Z"
   },
   {
    "duration": 13,
    "start_time": "2021-07-18T10:38:32.438Z"
   },
   {
    "duration": 11,
    "start_time": "2021-07-18T10:40:24.838Z"
   },
   {
    "duration": 3,
    "start_time": "2021-07-18T10:42:51.908Z"
   },
   {
    "duration": 3,
    "start_time": "2021-07-18T10:43:42.911Z"
   },
   {
    "duration": 6293,
    "start_time": "2021-07-18T10:47:23.115Z"
   },
   {
    "duration": 2119,
    "start_time": "2021-07-18T10:47:58.777Z"
   },
   {
    "duration": 7,
    "start_time": "2021-07-18T10:48:11.885Z"
   },
   {
    "duration": 5,
    "start_time": "2021-07-18T10:49:28.186Z"
   },
   {
    "duration": 7,
    "start_time": "2021-07-18T10:50:04.148Z"
   },
   {
    "duration": 5,
    "start_time": "2021-07-18T10:50:15.482Z"
   },
   {
    "duration": 2962,
    "start_time": "2021-07-18T10:59:59.727Z"
   },
   {
    "duration": 186,
    "start_time": "2021-07-18T11:00:05.311Z"
   },
   {
    "duration": 4,
    "start_time": "2021-07-18T11:06:57.676Z"
   },
   {
    "duration": 3,
    "start_time": "2021-07-18T11:09:07.326Z"
   },
   {
    "duration": 3,
    "start_time": "2021-07-18T11:10:57.906Z"
   },
   {
    "duration": 2983,
    "start_time": "2021-07-18T11:11:30.266Z"
   },
   {
    "duration": 5,
    "start_time": "2021-07-18T11:12:47.849Z"
   },
   {
    "duration": 5,
    "start_time": "2021-07-18T11:12:57.711Z"
   },
   {
    "duration": 2942,
    "start_time": "2021-07-18T11:13:34.374Z"
   },
   {
    "duration": 11,
    "start_time": "2021-07-18T11:15:02.333Z"
   },
   {
    "duration": 4,
    "start_time": "2021-07-18T11:15:48.154Z"
   },
   {
    "duration": 3141,
    "start_time": "2021-07-18T11:18:03.785Z"
   },
   {
    "duration": 2978,
    "start_time": "2021-07-18T11:18:15.152Z"
   },
   {
    "duration": 3007,
    "start_time": "2021-07-18T11:18:57.238Z"
   },
   {
    "duration": 3205,
    "start_time": "2021-07-18T11:19:31.747Z"
   },
   {
    "duration": 5,
    "start_time": "2021-07-18T11:20:22.128Z"
   },
   {
    "duration": 10,
    "start_time": "2021-07-18T11:21:19.866Z"
   },
   {
    "duration": 4,
    "start_time": "2021-07-18T11:21:45.584Z"
   },
   {
    "duration": 1082,
    "start_time": "2021-07-18T11:22:12.225Z"
   },
   {
    "duration": 136,
    "start_time": "2021-07-18T11:22:13.309Z"
   },
   {
    "duration": 131,
    "start_time": "2021-07-18T11:22:13.447Z"
   },
   {
    "duration": 133,
    "start_time": "2021-07-18T11:22:13.580Z"
   },
   {
    "duration": 17,
    "start_time": "2021-07-18T11:22:13.715Z"
   },
   {
    "duration": 9,
    "start_time": "2021-07-18T11:22:13.733Z"
   },
   {
    "duration": 7,
    "start_time": "2021-07-18T11:22:13.744Z"
   },
   {
    "duration": 45,
    "start_time": "2021-07-18T11:22:13.753Z"
   },
   {
    "duration": 8,
    "start_time": "2021-07-18T11:22:13.800Z"
   },
   {
    "duration": 14,
    "start_time": "2021-07-18T11:22:13.810Z"
   },
   {
    "duration": 18,
    "start_time": "2021-07-18T11:22:13.825Z"
   },
   {
    "duration": 8,
    "start_time": "2021-07-18T11:22:13.845Z"
   },
   {
    "duration": 12,
    "start_time": "2021-07-18T11:22:13.855Z"
   },
   {
    "duration": 52,
    "start_time": "2021-07-18T11:22:13.869Z"
   },
   {
    "duration": 2,
    "start_time": "2021-07-18T11:22:13.923Z"
   },
   {
    "duration": 14,
    "start_time": "2021-07-18T11:22:13.927Z"
   },
   {
    "duration": 45,
    "start_time": "2021-07-18T11:22:13.943Z"
   },
   {
    "duration": 103,
    "start_time": "2021-07-18T11:22:13.990Z"
   },
   {
    "duration": 15,
    "start_time": "2021-07-18T11:22:14.095Z"
   },
   {
    "duration": 174,
    "start_time": "2021-07-18T11:22:14.112Z"
   },
   {
    "duration": 12,
    "start_time": "2021-07-18T11:22:14.288Z"
   },
   {
    "duration": 82,
    "start_time": "2021-07-18T11:22:14.303Z"
   },
   {
    "duration": 103,
    "start_time": "2021-07-18T11:22:14.391Z"
   },
   {
    "duration": 181,
    "start_time": "2021-07-18T11:22:14.497Z"
   },
   {
    "duration": 152,
    "start_time": "2021-07-18T11:22:14.684Z"
   },
   {
    "duration": 187,
    "start_time": "2021-07-18T11:22:14.838Z"
   },
   {
    "duration": 22,
    "start_time": "2021-07-18T11:22:15.027Z"
   },
   {
    "duration": 13,
    "start_time": "2021-07-18T11:22:15.051Z"
   },
   {
    "duration": 25,
    "start_time": "2021-07-18T11:22:15.085Z"
   },
   {
    "duration": 73,
    "start_time": "2021-07-18T11:22:15.112Z"
   },
   {
    "duration": 99,
    "start_time": "2021-07-18T11:22:15.188Z"
   },
   {
    "duration": 4,
    "start_time": "2021-07-18T11:22:15.289Z"
   },
   {
    "duration": 6,
    "start_time": "2021-07-18T11:22:15.295Z"
   },
   {
    "duration": 5,
    "start_time": "2021-07-18T11:22:15.303Z"
   },
   {
    "duration": 9,
    "start_time": "2021-07-18T11:22:15.310Z"
   },
   {
    "duration": 227,
    "start_time": "2021-07-18T11:22:15.321Z"
   },
   {
    "duration": 8,
    "start_time": "2021-07-18T11:22:15.549Z"
   },
   {
    "duration": 5,
    "start_time": "2021-07-18T11:22:15.559Z"
   },
   {
    "duration": 6,
    "start_time": "2021-07-18T11:22:15.566Z"
   },
   {
    "duration": 9,
    "start_time": "2021-07-18T11:22:15.585Z"
   },
   {
    "duration": 7,
    "start_time": "2021-07-18T11:22:15.595Z"
   },
   {
    "duration": 6,
    "start_time": "2021-07-18T11:22:15.603Z"
   },
   {
    "duration": 5,
    "start_time": "2021-07-18T11:22:15.611Z"
   },
   {
    "duration": 5,
    "start_time": "2021-07-18T11:22:15.617Z"
   },
   {
    "duration": 4,
    "start_time": "2021-07-18T11:22:15.624Z"
   },
   {
    "duration": 222,
    "start_time": "2021-07-18T11:22:15.629Z"
   },
   {
    "duration": 11,
    "start_time": "2021-07-18T11:22:15.853Z"
   },
   {
    "duration": 19,
    "start_time": "2021-07-18T11:22:15.866Z"
   },
   {
    "duration": 5,
    "start_time": "2021-07-18T11:22:15.887Z"
   },
   {
    "duration": 6,
    "start_time": "2021-07-18T11:22:15.894Z"
   },
   {
    "duration": 6,
    "start_time": "2021-07-18T11:22:15.901Z"
   },
   {
    "duration": 6,
    "start_time": "2021-07-18T11:22:15.908Z"
   },
   {
    "duration": 4,
    "start_time": "2021-07-18T11:22:15.915Z"
   },
   {
    "duration": 4,
    "start_time": "2021-07-18T11:22:15.921Z"
   },
   {
    "duration": 2992,
    "start_time": "2021-07-18T11:22:15.927Z"
   },
   {
    "duration": 12,
    "start_time": "2021-07-18T11:22:18.921Z"
   },
   {
    "duration": 7,
    "start_time": "2021-07-18T11:22:18.935Z"
   },
   {
    "duration": 7,
    "start_time": "2021-07-18T11:22:18.943Z"
   },
   {
    "duration": 2985,
    "start_time": "2021-07-18T11:22:18.952Z"
   },
   {
    "duration": 5,
    "start_time": "2021-07-18T11:22:21.939Z"
   },
   {
    "duration": 13,
    "start_time": "2021-07-18T11:22:21.945Z"
   },
   {
    "duration": 4,
    "start_time": "2021-07-18T11:22:21.960Z"
   },
   {
    "duration": 3065,
    "start_time": "2021-07-18T11:22:21.965Z"
   },
   {
    "duration": 6,
    "start_time": "2021-07-18T11:22:25.032Z"
   },
   {
    "duration": 22,
    "start_time": "2021-07-18T11:22:25.039Z"
   },
   {
    "duration": 15,
    "start_time": "2021-07-18T11:22:25.063Z"
   },
   {
    "duration": 20,
    "start_time": "2021-07-18T11:22:25.079Z"
   },
   {
    "duration": 5,
    "start_time": "2021-07-18T11:22:25.103Z"
   },
   {
    "duration": 30,
    "start_time": "2021-07-18T11:22:25.110Z"
   },
   {
    "duration": 5,
    "start_time": "2021-07-18T11:22:25.142Z"
   },
   {
    "duration": 6,
    "start_time": "2021-07-18T11:22:25.149Z"
   },
   {
    "duration": 13,
    "start_time": "2021-07-18T11:22:25.156Z"
   },
   {
    "duration": 17,
    "start_time": "2021-07-18T11:22:25.171Z"
   },
   {
    "duration": 6,
    "start_time": "2021-07-18T11:22:25.189Z"
   },
   {
    "duration": 13,
    "start_time": "2021-07-18T11:22:25.197Z"
   },
   {
    "duration": 10,
    "start_time": "2021-07-18T11:51:40.964Z"
   },
   {
    "duration": 4,
    "start_time": "2021-07-18T11:51:40.976Z"
   },
   {
    "duration": 3,
    "start_time": "2021-07-18T11:54:06.941Z"
   },
   {
    "duration": 136,
    "start_time": "2021-07-18T11:54:06.949Z"
   },
   {
    "duration": 133,
    "start_time": "2021-07-18T11:54:07.087Z"
   },
   {
    "duration": 140,
    "start_time": "2021-07-18T11:54:07.222Z"
   },
   {
    "duration": 28,
    "start_time": "2021-07-18T11:54:07.364Z"
   },
   {
    "duration": 7,
    "start_time": "2021-07-18T11:54:07.394Z"
   },
   {
    "duration": 8,
    "start_time": "2021-07-18T11:54:07.403Z"
   },
   {
    "duration": 17,
    "start_time": "2021-07-18T11:54:07.412Z"
   },
   {
    "duration": 7,
    "start_time": "2021-07-18T11:54:07.431Z"
   },
   {
    "duration": 7,
    "start_time": "2021-07-18T11:54:07.440Z"
   },
   {
    "duration": 49,
    "start_time": "2021-07-18T11:54:07.448Z"
   },
   {
    "duration": 7,
    "start_time": "2021-07-18T11:54:07.499Z"
   },
   {
    "duration": 7,
    "start_time": "2021-07-18T11:54:07.508Z"
   },
   {
    "duration": 75,
    "start_time": "2021-07-18T11:54:07.517Z"
   },
   {
    "duration": 3,
    "start_time": "2021-07-18T11:54:07.594Z"
   },
   {
    "duration": 11,
    "start_time": "2021-07-18T11:54:07.599Z"
   },
   {
    "duration": 75,
    "start_time": "2021-07-18T11:54:07.612Z"
   },
   {
    "duration": 100,
    "start_time": "2021-07-18T11:54:07.690Z"
   },
   {
    "duration": 14,
    "start_time": "2021-07-18T11:54:07.792Z"
   },
   {
    "duration": 100,
    "start_time": "2021-07-18T11:54:07.886Z"
   },
   {
    "duration": 14,
    "start_time": "2021-07-18T11:54:07.988Z"
   },
   {
    "duration": 85,
    "start_time": "2021-07-18T11:54:08.005Z"
   },
   {
    "duration": 10,
    "start_time": "2021-07-18T11:54:08.184Z"
   },
   {
    "duration": 199,
    "start_time": "2021-07-18T11:54:08.198Z"
   },
   {
    "duration": 214,
    "start_time": "2021-07-18T11:54:08.400Z"
   },
   {
    "duration": 184,
    "start_time": "2021-07-18T11:54:08.616Z"
   },
   {
    "duration": 18,
    "start_time": "2021-07-18T11:54:08.802Z"
   },
   {
    "duration": 11,
    "start_time": "2021-07-18T11:54:08.822Z"
   },
   {
    "duration": 21,
    "start_time": "2021-07-18T11:54:08.834Z"
   },
   {
    "duration": 34,
    "start_time": "2021-07-18T11:54:08.856Z"
   },
   {
    "duration": 96,
    "start_time": "2021-07-18T11:54:08.892Z"
   },
   {
    "duration": 95,
    "start_time": "2021-07-18T11:54:08.991Z"
   },
   {
    "duration": 6,
    "start_time": "2021-07-18T11:54:09.088Z"
   },
   {
    "duration": 4,
    "start_time": "2021-07-18T11:54:09.096Z"
   },
   {
    "duration": 11,
    "start_time": "2021-07-18T11:54:09.102Z"
   },
   {
    "duration": 208,
    "start_time": "2021-07-18T11:54:09.114Z"
   },
   {
    "duration": 9,
    "start_time": "2021-07-18T11:54:09.324Z"
   },
   {
    "duration": 5,
    "start_time": "2021-07-18T11:54:09.334Z"
   },
   {
    "duration": 7,
    "start_time": "2021-07-18T11:54:09.341Z"
   },
   {
    "duration": 4,
    "start_time": "2021-07-18T11:54:09.350Z"
   },
   {
    "duration": 7,
    "start_time": "2021-07-18T11:54:09.355Z"
   },
   {
    "duration": 22,
    "start_time": "2021-07-18T11:54:09.364Z"
   },
   {
    "duration": 6,
    "start_time": "2021-07-18T11:54:09.387Z"
   },
   {
    "duration": 6,
    "start_time": "2021-07-18T11:54:09.395Z"
   },
   {
    "duration": 5,
    "start_time": "2021-07-18T11:54:09.402Z"
   },
   {
    "duration": 208,
    "start_time": "2021-07-18T11:54:09.408Z"
   },
   {
    "duration": 11,
    "start_time": "2021-07-18T11:54:09.617Z"
   },
   {
    "duration": 13,
    "start_time": "2021-07-18T11:54:09.629Z"
   },
   {
    "duration": 12,
    "start_time": "2021-07-18T11:54:09.644Z"
   },
   {
    "duration": 18,
    "start_time": "2021-07-18T11:54:09.657Z"
   },
   {
    "duration": 10,
    "start_time": "2021-07-18T11:54:09.677Z"
   },
   {
    "duration": 14,
    "start_time": "2021-07-18T11:54:09.688Z"
   },
   {
    "duration": 14,
    "start_time": "2021-07-18T11:54:09.703Z"
   },
   {
    "duration": 10,
    "start_time": "2021-07-18T11:54:09.719Z"
   },
   {
    "duration": 2999,
    "start_time": "2021-07-18T11:54:09.731Z"
   },
   {
    "duration": 11,
    "start_time": "2021-07-18T11:54:12.731Z"
   },
   {
    "duration": 8,
    "start_time": "2021-07-18T11:54:12.743Z"
   },
   {
    "duration": 6,
    "start_time": "2021-07-18T11:54:12.752Z"
   },
   {
    "duration": 3034,
    "start_time": "2021-07-18T11:54:12.760Z"
   },
   {
    "duration": 5,
    "start_time": "2021-07-18T11:54:15.796Z"
   },
   {
    "duration": 23,
    "start_time": "2021-07-18T11:54:15.802Z"
   },
   {
    "duration": 17,
    "start_time": "2021-07-18T11:54:15.827Z"
   },
   {
    "duration": 2992,
    "start_time": "2021-07-18T11:54:15.846Z"
   },
   {
    "duration": 5,
    "start_time": "2021-07-18T11:54:18.840Z"
   },
   {
    "duration": 11,
    "start_time": "2021-07-18T11:54:18.847Z"
   },
   {
    "duration": 26,
    "start_time": "2021-07-18T11:54:18.859Z"
   },
   {
    "duration": 6,
    "start_time": "2021-07-18T11:54:18.887Z"
   },
   {
    "duration": 5,
    "start_time": "2021-07-18T11:54:18.894Z"
   },
   {
    "duration": 7,
    "start_time": "2021-07-18T11:54:18.904Z"
   },
   {
    "duration": 6,
    "start_time": "2021-07-18T11:54:18.913Z"
   },
   {
    "duration": 8,
    "start_time": "2021-07-18T11:54:18.920Z"
   },
   {
    "duration": 13,
    "start_time": "2021-07-18T11:54:18.929Z"
   },
   {
    "duration": 5,
    "start_time": "2021-07-18T11:54:18.943Z"
   },
   {
    "duration": 5,
    "start_time": "2021-07-18T11:54:18.985Z"
   },
   {
    "duration": 9,
    "start_time": "2021-07-18T11:54:18.992Z"
   },
   {
    "duration": 213,
    "start_time": "2021-07-18T12:02:53.242Z"
   },
   {
    "duration": 177,
    "start_time": "2021-07-18T12:04:17.603Z"
   },
   {
    "duration": 176,
    "start_time": "2021-07-18T12:04:53.955Z"
   },
   {
    "duration": 176,
    "start_time": "2021-07-18T12:05:47.913Z"
   },
   {
    "duration": 181,
    "start_time": "2021-07-18T12:06:32.260Z"
   },
   {
    "duration": 181,
    "start_time": "2021-07-18T12:08:36.578Z"
   },
   {
    "duration": 250,
    "start_time": "2021-07-18T12:08:59.511Z"
   },
   {
    "duration": 184,
    "start_time": "2021-07-18T12:09:33.049Z"
   },
   {
    "duration": 180,
    "start_time": "2021-07-18T12:09:55.338Z"
   },
   {
    "duration": 227,
    "start_time": "2021-07-18T12:10:53.380Z"
   },
   {
    "duration": 187,
    "start_time": "2021-07-18T12:11:07.637Z"
   },
   {
    "duration": 185,
    "start_time": "2021-07-18T12:11:28.279Z"
   },
   {
    "duration": 178,
    "start_time": "2021-07-18T12:12:32.222Z"
   },
   {
    "duration": 7,
    "start_time": "2021-07-18T12:15:32.420Z"
   },
   {
    "duration": 8,
    "start_time": "2021-07-18T12:16:17.374Z"
   },
   {
    "duration": 7,
    "start_time": "2021-07-18T12:16:42.163Z"
   },
   {
    "duration": 10,
    "start_time": "2021-07-18T12:19:30.459Z"
   },
   {
    "duration": 3,
    "start_time": "2021-07-18T12:19:46.110Z"
   },
   {
    "duration": 254,
    "start_time": "2021-07-18T12:20:45.560Z"
   },
   {
    "duration": 10,
    "start_time": "2021-07-18T12:20:54.677Z"
   },
   {
    "duration": 3,
    "start_time": "2021-07-18T12:20:57.541Z"
   },
   {
    "duration": 5,
    "start_time": "2021-07-18T12:21:30.616Z"
   },
   {
    "duration": 11,
    "start_time": "2021-07-18T12:22:06.561Z"
   },
   {
    "duration": 4,
    "start_time": "2021-07-18T12:24:08.542Z"
   },
   {
    "duration": 11,
    "start_time": "2021-07-18T12:24:53.164Z"
   },
   {
    "duration": 4,
    "start_time": "2021-07-18T12:26:27.491Z"
   },
   {
    "duration": 182,
    "start_time": "2021-07-18T12:27:36.013Z"
   },
   {
    "duration": 175,
    "start_time": "2021-07-18T12:27:51.853Z"
   },
   {
    "duration": 182,
    "start_time": "2021-07-18T12:28:18.783Z"
   },
   {
    "duration": 174,
    "start_time": "2021-07-18T12:31:04.754Z"
   },
   {
    "duration": 225,
    "start_time": "2021-07-18T12:38:11.930Z"
   },
   {
    "duration": 185,
    "start_time": "2021-07-18T12:59:21.226Z"
   },
   {
    "duration": 146,
    "start_time": "2021-07-18T13:08:20.583Z"
   },
   {
    "duration": 147,
    "start_time": "2021-07-18T13:08:30.316Z"
   },
   {
    "duration": 1123,
    "start_time": "2021-07-18T13:08:48.408Z"
   },
   {
    "duration": 136,
    "start_time": "2021-07-18T13:08:49.533Z"
   },
   {
    "duration": 137,
    "start_time": "2021-07-18T13:08:49.671Z"
   },
   {
    "duration": 136,
    "start_time": "2021-07-18T13:08:49.810Z"
   },
   {
    "duration": 17,
    "start_time": "2021-07-18T13:08:49.947Z"
   },
   {
    "duration": 21,
    "start_time": "2021-07-18T13:08:49.966Z"
   },
   {
    "duration": 8,
    "start_time": "2021-07-18T13:08:49.988Z"
   },
   {
    "duration": 18,
    "start_time": "2021-07-18T13:08:49.998Z"
   },
   {
    "duration": 9,
    "start_time": "2021-07-18T13:08:50.018Z"
   },
   {
    "duration": 10,
    "start_time": "2021-07-18T13:08:50.029Z"
   },
   {
    "duration": 45,
    "start_time": "2021-07-18T13:08:50.040Z"
   },
   {
    "duration": 9,
    "start_time": "2021-07-18T13:08:50.086Z"
   },
   {
    "duration": 11,
    "start_time": "2021-07-18T13:08:50.097Z"
   },
   {
    "duration": 38,
    "start_time": "2021-07-18T13:08:50.110Z"
   },
   {
    "duration": 2,
    "start_time": "2021-07-18T13:08:50.150Z"
   },
   {
    "duration": 13,
    "start_time": "2021-07-18T13:08:50.185Z"
   },
   {
    "duration": 87,
    "start_time": "2021-07-18T13:08:50.200Z"
   },
   {
    "duration": 99,
    "start_time": "2021-07-18T13:08:50.289Z"
   },
   {
    "duration": 17,
    "start_time": "2021-07-18T13:08:50.390Z"
   },
   {
    "duration": 105,
    "start_time": "2021-07-18T13:08:50.486Z"
   },
   {
    "duration": 12,
    "start_time": "2021-07-18T13:08:50.593Z"
   },
   {
    "duration": 78,
    "start_time": "2021-07-18T13:08:50.608Z"
   },
   {
    "duration": 101,
    "start_time": "2021-07-18T13:08:50.692Z"
   },
   {
    "duration": 188,
    "start_time": "2021-07-18T13:08:50.795Z"
   },
   {
    "duration": 155,
    "start_time": "2021-07-18T13:08:50.985Z"
   },
   {
    "duration": 189,
    "start_time": "2021-07-18T13:08:51.142Z"
   },
   {
    "duration": 20,
    "start_time": "2021-07-18T13:08:51.333Z"
   },
   {
    "duration": 11,
    "start_time": "2021-07-18T13:08:51.355Z"
   },
   {
    "duration": 34,
    "start_time": "2021-07-18T13:08:51.367Z"
   },
   {
    "duration": 10,
    "start_time": "2021-07-18T13:08:51.402Z"
   },
   {
    "duration": 76,
    "start_time": "2021-07-18T13:08:51.414Z"
   },
   {
    "duration": 6,
    "start_time": "2021-07-18T13:08:51.492Z"
   },
   {
    "duration": 90,
    "start_time": "2021-07-18T13:08:51.500Z"
   },
   {
    "duration": 4,
    "start_time": "2021-07-18T13:08:51.592Z"
   },
   {
    "duration": 9,
    "start_time": "2021-07-18T13:08:51.597Z"
   },
   {
    "duration": 198,
    "start_time": "2021-07-18T13:08:51.608Z"
   },
   {
    "duration": 9,
    "start_time": "2021-07-18T13:08:51.808Z"
   },
   {
    "duration": 5,
    "start_time": "2021-07-18T13:08:51.819Z"
   },
   {
    "duration": 5,
    "start_time": "2021-07-18T13:08:51.826Z"
   },
   {
    "duration": 4,
    "start_time": "2021-07-18T13:08:51.833Z"
   },
   {
    "duration": 4,
    "start_time": "2021-07-18T13:08:51.839Z"
   },
   {
    "duration": 40,
    "start_time": "2021-07-18T13:08:51.844Z"
   },
   {
    "duration": 3,
    "start_time": "2021-07-18T13:08:51.887Z"
   },
   {
    "duration": 7,
    "start_time": "2021-07-18T13:08:51.892Z"
   },
   {
    "duration": 5,
    "start_time": "2021-07-18T13:08:51.901Z"
   },
   {
    "duration": 204,
    "start_time": "2021-07-18T13:08:51.907Z"
   },
   {
    "duration": 10,
    "start_time": "2021-07-18T13:08:52.113Z"
   },
   {
    "duration": 6,
    "start_time": "2021-07-18T13:08:52.125Z"
   },
   {
    "duration": 6,
    "start_time": "2021-07-18T13:08:52.133Z"
   },
   {
    "duration": 4,
    "start_time": "2021-07-18T13:08:52.140Z"
   },
   {
    "duration": 4,
    "start_time": "2021-07-18T13:08:52.146Z"
   },
   {
    "duration": 5,
    "start_time": "2021-07-18T13:08:52.151Z"
   },
   {
    "duration": 28,
    "start_time": "2021-07-18T13:08:52.158Z"
   },
   {
    "duration": 4,
    "start_time": "2021-07-18T13:08:52.188Z"
   },
   {
    "duration": 2978,
    "start_time": "2021-07-18T13:08:52.194Z"
   },
   {
    "duration": 15,
    "start_time": "2021-07-18T13:08:55.174Z"
   },
   {
    "duration": 5,
    "start_time": "2021-07-18T13:08:55.191Z"
   },
   {
    "duration": 6,
    "start_time": "2021-07-18T13:08:55.198Z"
   },
   {
    "duration": 3004,
    "start_time": "2021-07-18T13:08:55.206Z"
   },
   {
    "duration": 4,
    "start_time": "2021-07-18T13:08:58.212Z"
   },
   {
    "duration": 12,
    "start_time": "2021-07-18T13:08:58.218Z"
   },
   {
    "duration": 5,
    "start_time": "2021-07-18T13:08:58.232Z"
   },
   {
    "duration": 3035,
    "start_time": "2021-07-18T13:08:58.238Z"
   },
   {
    "duration": 11,
    "start_time": "2021-07-18T13:09:01.275Z"
   },
   {
    "duration": 14,
    "start_time": "2021-07-18T13:09:01.287Z"
   },
   {
    "duration": 8,
    "start_time": "2021-07-18T13:09:01.303Z"
   },
   {
    "duration": 17,
    "start_time": "2021-07-18T13:09:01.312Z"
   },
   {
    "duration": 7,
    "start_time": "2021-07-18T13:09:01.334Z"
   },
   {
    "duration": 31,
    "start_time": "2021-07-18T13:09:01.343Z"
   },
   {
    "duration": 9,
    "start_time": "2021-07-18T13:09:01.376Z"
   },
   {
    "duration": 19,
    "start_time": "2021-07-18T13:09:01.387Z"
   },
   {
    "duration": 22,
    "start_time": "2021-07-18T13:09:01.408Z"
   },
   {
    "duration": 10,
    "start_time": "2021-07-18T13:09:01.432Z"
   },
   {
    "duration": 24,
    "start_time": "2021-07-18T13:09:01.443Z"
   },
   {
    "duration": 29,
    "start_time": "2021-07-18T13:09:01.468Z"
   },
   {
    "duration": 205,
    "start_time": "2021-07-18T13:09:01.498Z"
   },
   {
    "duration": 233,
    "start_time": "2021-07-18T13:09:01.705Z"
   },
   {
    "duration": 1051,
    "start_time": "2021-07-18T13:15:05.912Z"
   },
   {
    "duration": 145,
    "start_time": "2021-07-18T13:15:06.966Z"
   },
   {
    "duration": 132,
    "start_time": "2021-07-18T13:15:07.114Z"
   },
   {
    "duration": 135,
    "start_time": "2021-07-18T13:15:07.249Z"
   },
   {
    "duration": 18,
    "start_time": "2021-07-18T13:15:07.386Z"
   },
   {
    "duration": 11,
    "start_time": "2021-07-18T13:15:07.406Z"
   },
   {
    "duration": 7,
    "start_time": "2021-07-18T13:15:07.419Z"
   },
   {
    "duration": 18,
    "start_time": "2021-07-18T13:15:07.429Z"
   },
   {
    "duration": 9,
    "start_time": "2021-07-18T13:15:07.484Z"
   },
   {
    "duration": 8,
    "start_time": "2021-07-18T13:15:07.495Z"
   },
   {
    "duration": 18,
    "start_time": "2021-07-18T13:15:07.505Z"
   },
   {
    "duration": 9,
    "start_time": "2021-07-18T13:15:07.524Z"
   },
   {
    "duration": 7,
    "start_time": "2021-07-18T13:15:07.535Z"
   },
   {
    "duration": 74,
    "start_time": "2021-07-18T13:15:07.544Z"
   },
   {
    "duration": 2,
    "start_time": "2021-07-18T13:15:07.620Z"
   },
   {
    "duration": 18,
    "start_time": "2021-07-18T13:15:07.623Z"
   },
   {
    "duration": 143,
    "start_time": "2021-07-18T13:15:07.642Z"
   },
   {
    "duration": 11,
    "start_time": "2021-07-18T13:15:07.787Z"
   },
   {
    "duration": 13,
    "start_time": "2021-07-18T13:15:07.799Z"
   },
   {
    "duration": 100,
    "start_time": "2021-07-18T13:15:07.886Z"
   },
   {
    "duration": 13,
    "start_time": "2021-07-18T13:15:07.988Z"
   },
   {
    "duration": 85,
    "start_time": "2021-07-18T13:15:08.002Z"
   },
   {
    "duration": 97,
    "start_time": "2021-07-18T13:15:08.095Z"
   },
   {
    "duration": 199,
    "start_time": "2021-07-18T13:15:08.195Z"
   },
   {
    "duration": 143,
    "start_time": "2021-07-18T13:15:08.396Z"
   },
   {
    "duration": 177,
    "start_time": "2021-07-18T13:15:08.541Z"
   },
   {
    "duration": 20,
    "start_time": "2021-07-18T13:15:08.720Z"
   },
   {
    "duration": 11,
    "start_time": "2021-07-18T13:15:08.742Z"
   },
   {
    "duration": 43,
    "start_time": "2021-07-18T13:15:08.755Z"
   },
   {
    "duration": 90,
    "start_time": "2021-07-18T13:15:08.799Z"
   },
   {
    "duration": 97,
    "start_time": "2021-07-18T13:15:08.894Z"
   },
   {
    "duration": 93,
    "start_time": "2021-07-18T13:15:08.995Z"
   },
   {
    "duration": 7,
    "start_time": "2021-07-18T13:15:09.090Z"
   },
   {
    "duration": 7,
    "start_time": "2021-07-18T13:15:09.099Z"
   },
   {
    "duration": 10,
    "start_time": "2021-07-18T13:15:09.107Z"
   },
   {
    "duration": 211,
    "start_time": "2021-07-18T13:15:09.119Z"
   },
   {
    "duration": 8,
    "start_time": "2021-07-18T13:15:09.332Z"
   },
   {
    "duration": 5,
    "start_time": "2021-07-18T13:15:09.342Z"
   },
   {
    "duration": 5,
    "start_time": "2021-07-18T13:15:09.349Z"
   },
   {
    "duration": 5,
    "start_time": "2021-07-18T13:15:09.356Z"
   },
   {
    "duration": 3,
    "start_time": "2021-07-18T13:15:09.385Z"
   },
   {
    "duration": 4,
    "start_time": "2021-07-18T13:15:09.390Z"
   },
   {
    "duration": 4,
    "start_time": "2021-07-18T13:15:09.396Z"
   },
   {
    "duration": 9,
    "start_time": "2021-07-18T13:15:09.401Z"
   },
   {
    "duration": 4,
    "start_time": "2021-07-18T13:15:09.411Z"
   },
   {
    "duration": 214,
    "start_time": "2021-07-18T13:15:09.417Z"
   },
   {
    "duration": 11,
    "start_time": "2021-07-18T13:15:09.632Z"
   },
   {
    "duration": 7,
    "start_time": "2021-07-18T13:15:09.644Z"
   },
   {
    "duration": 6,
    "start_time": "2021-07-18T13:15:09.652Z"
   },
   {
    "duration": 5,
    "start_time": "2021-07-18T13:15:09.660Z"
   },
   {
    "duration": 23,
    "start_time": "2021-07-18T13:15:09.667Z"
   },
   {
    "duration": 5,
    "start_time": "2021-07-18T13:15:09.691Z"
   },
   {
    "duration": 5,
    "start_time": "2021-07-18T13:15:09.697Z"
   },
   {
    "duration": 7,
    "start_time": "2021-07-18T13:15:09.703Z"
   },
   {
    "duration": 2935,
    "start_time": "2021-07-18T13:15:09.712Z"
   },
   {
    "duration": 10,
    "start_time": "2021-07-18T13:15:12.649Z"
   },
   {
    "duration": 6,
    "start_time": "2021-07-18T13:15:12.661Z"
   },
   {
    "duration": 20,
    "start_time": "2021-07-18T13:15:12.668Z"
   },
   {
    "duration": 2990,
    "start_time": "2021-07-18T13:15:12.689Z"
   },
   {
    "duration": 6,
    "start_time": "2021-07-18T13:15:15.681Z"
   },
   {
    "duration": 12,
    "start_time": "2021-07-18T13:15:15.688Z"
   },
   {
    "duration": 7,
    "start_time": "2021-07-18T13:15:15.702Z"
   },
   {
    "duration": 2955,
    "start_time": "2021-07-18T13:15:15.710Z"
   },
   {
    "duration": 4,
    "start_time": "2021-07-18T13:15:18.667Z"
   },
   {
    "duration": 14,
    "start_time": "2021-07-18T13:15:18.685Z"
   },
   {
    "duration": 5,
    "start_time": "2021-07-18T13:15:18.700Z"
   },
   {
    "duration": 11,
    "start_time": "2021-07-18T13:15:18.707Z"
   },
   {
    "duration": 9,
    "start_time": "2021-07-18T13:15:18.722Z"
   },
   {
    "duration": 18,
    "start_time": "2021-07-18T13:15:18.733Z"
   },
   {
    "duration": 15,
    "start_time": "2021-07-18T13:15:18.753Z"
   },
   {
    "duration": 18,
    "start_time": "2021-07-18T13:15:18.770Z"
   },
   {
    "duration": 13,
    "start_time": "2021-07-18T13:15:18.789Z"
   },
   {
    "duration": 15,
    "start_time": "2021-07-18T13:15:18.804Z"
   },
   {
    "duration": 17,
    "start_time": "2021-07-18T13:15:18.821Z"
   },
   {
    "duration": 18,
    "start_time": "2021-07-18T13:15:18.839Z"
   },
   {
    "duration": 192,
    "start_time": "2021-07-18T13:15:18.858Z"
   },
   {
    "duration": 221,
    "start_time": "2021-07-18T13:15:19.052Z"
   },
   {
    "duration": 1041,
    "start_time": "2021-07-18T21:18:49.591Z"
   },
   {
    "duration": 134,
    "start_time": "2021-07-18T21:18:50.633Z"
   },
   {
    "duration": 124,
    "start_time": "2021-07-18T21:18:50.768Z"
   },
   {
    "duration": 124,
    "start_time": "2021-07-18T21:18:50.894Z"
   },
   {
    "duration": 17,
    "start_time": "2021-07-18T21:18:51.020Z"
   },
   {
    "duration": 9,
    "start_time": "2021-07-18T21:18:51.039Z"
   },
   {
    "duration": 7,
    "start_time": "2021-07-18T21:18:51.050Z"
   },
   {
    "duration": 43,
    "start_time": "2021-07-18T21:18:51.060Z"
   },
   {
    "duration": 9,
    "start_time": "2021-07-18T21:18:51.105Z"
   },
   {
    "duration": 7,
    "start_time": "2021-07-18T21:18:51.116Z"
   },
   {
    "duration": 18,
    "start_time": "2021-07-18T21:18:51.125Z"
   },
   {
    "duration": 9,
    "start_time": "2021-07-18T21:18:51.144Z"
   },
   {
    "duration": 38,
    "start_time": "2021-07-18T21:18:51.155Z"
   },
   {
    "duration": 42,
    "start_time": "2021-07-18T21:18:51.194Z"
   },
   {
    "duration": 3,
    "start_time": "2021-07-18T21:18:51.237Z"
   },
   {
    "duration": 50,
    "start_time": "2021-07-18T21:18:51.242Z"
   },
   {
    "duration": 11,
    "start_time": "2021-07-18T21:18:51.294Z"
   },
   {
    "duration": 187,
    "start_time": "2021-07-18T21:18:51.306Z"
   },
   {
    "duration": 12,
    "start_time": "2021-07-18T21:18:51.494Z"
   },
   {
    "duration": 89,
    "start_time": "2021-07-18T21:18:51.508Z"
   },
   {
    "duration": 102,
    "start_time": "2021-07-18T21:18:51.600Z"
   },
   {
    "duration": 5,
    "start_time": "2021-07-18T21:18:51.704Z"
   },
   {
    "duration": 91,
    "start_time": "2021-07-18T21:18:51.801Z"
   },
   {
    "duration": 160,
    "start_time": "2021-07-18T21:18:51.895Z"
   },
   {
    "duration": 126,
    "start_time": "2021-07-18T21:18:52.057Z"
   },
   {
    "duration": 165,
    "start_time": "2021-07-18T21:18:52.185Z"
   },
   {
    "duration": 21,
    "start_time": "2021-07-18T21:18:52.352Z"
   },
   {
    "duration": 19,
    "start_time": "2021-07-18T21:18:52.375Z"
   },
   {
    "duration": 23,
    "start_time": "2021-07-18T21:18:52.395Z"
   },
   {
    "duration": 8,
    "start_time": "2021-07-18T21:18:52.420Z"
   },
   {
    "duration": 99,
    "start_time": "2021-07-18T21:18:52.493Z"
   },
   {
    "duration": 7,
    "start_time": "2021-07-18T21:18:52.594Z"
   },
   {
    "duration": 11,
    "start_time": "2021-07-18T21:18:52.602Z"
   },
   {
    "duration": 3,
    "start_time": "2021-07-18T21:18:52.615Z"
   },
   {
    "duration": 14,
    "start_time": "2021-07-18T21:18:52.620Z"
   },
   {
    "duration": 170,
    "start_time": "2021-07-18T21:18:52.635Z"
   },
   {
    "duration": 8,
    "start_time": "2021-07-18T21:18:52.806Z"
   },
   {
    "duration": 5,
    "start_time": "2021-07-18T21:18:52.816Z"
   },
   {
    "duration": 4,
    "start_time": "2021-07-18T21:18:52.823Z"
   },
   {
    "duration": 4,
    "start_time": "2021-07-18T21:18:52.829Z"
   },
   {
    "duration": 4,
    "start_time": "2021-07-18T21:18:52.835Z"
   },
   {
    "duration": 5,
    "start_time": "2021-07-18T21:18:52.840Z"
   },
   {
    "duration": 8,
    "start_time": "2021-07-18T21:18:52.846Z"
   },
   {
    "duration": 10,
    "start_time": "2021-07-18T21:18:52.855Z"
   },
   {
    "duration": 26,
    "start_time": "2021-07-18T21:18:52.867Z"
   },
   {
    "duration": 170,
    "start_time": "2021-07-18T21:18:52.894Z"
   },
   {
    "duration": 9,
    "start_time": "2021-07-18T21:18:53.066Z"
   },
   {
    "duration": 15,
    "start_time": "2021-07-18T21:18:53.077Z"
   },
   {
    "duration": 5,
    "start_time": "2021-07-18T21:18:53.093Z"
   },
   {
    "duration": 4,
    "start_time": "2021-07-18T21:18:53.100Z"
   },
   {
    "duration": 4,
    "start_time": "2021-07-18T21:18:53.105Z"
   },
   {
    "duration": 6,
    "start_time": "2021-07-18T21:18:53.110Z"
   },
   {
    "duration": 8,
    "start_time": "2021-07-18T21:18:53.117Z"
   },
   {
    "duration": 7,
    "start_time": "2021-07-18T21:18:53.127Z"
   },
   {
    "duration": 2979,
    "start_time": "2021-07-18T21:18:53.136Z"
   },
   {
    "duration": 9,
    "start_time": "2021-07-18T21:18:56.117Z"
   },
   {
    "duration": 5,
    "start_time": "2021-07-18T21:18:56.128Z"
   },
   {
    "duration": 5,
    "start_time": "2021-07-18T21:18:56.134Z"
   },
   {
    "duration": 2988,
    "start_time": "2021-07-18T21:18:56.141Z"
   },
   {
    "duration": 5,
    "start_time": "2021-07-18T21:18:59.131Z"
   },
   {
    "duration": 12,
    "start_time": "2021-07-18T21:18:59.137Z"
   },
   {
    "duration": 8,
    "start_time": "2021-07-18T21:18:59.150Z"
   },
   {
    "duration": 2834,
    "start_time": "2021-07-18T21:18:59.159Z"
   },
   {
    "duration": 4,
    "start_time": "2021-07-18T21:19:01.995Z"
   },
   {
    "duration": 12,
    "start_time": "2021-07-18T21:19:02.001Z"
   },
   {
    "duration": 7,
    "start_time": "2021-07-18T21:19:02.015Z"
   },
   {
    "duration": 11,
    "start_time": "2021-07-18T21:19:02.024Z"
   },
   {
    "duration": 5,
    "start_time": "2021-07-18T21:19:02.038Z"
   },
   {
    "duration": 12,
    "start_time": "2021-07-18T21:19:02.044Z"
   },
   {
    "duration": 5,
    "start_time": "2021-07-18T21:19:02.057Z"
   },
   {
    "duration": 5,
    "start_time": "2021-07-18T21:19:02.091Z"
   },
   {
    "duration": 11,
    "start_time": "2021-07-18T21:19:02.098Z"
   },
   {
    "duration": 11,
    "start_time": "2021-07-18T21:19:02.110Z"
   },
   {
    "duration": 9,
    "start_time": "2021-07-18T21:19:02.122Z"
   },
   {
    "duration": 17,
    "start_time": "2021-07-18T21:19:02.132Z"
   },
   {
    "duration": 179,
    "start_time": "2021-07-18T21:19:02.150Z"
   },
   {
    "duration": 211,
    "start_time": "2021-07-18T21:19:02.330Z"
   },
   {
    "duration": 306,
    "start_time": "2021-07-18T21:36:18.962Z"
   },
   {
    "duration": 249,
    "start_time": "2021-07-18T21:37:40.294Z"
   },
   {
    "duration": 3,
    "start_time": "2021-07-18T21:38:28.595Z"
   },
   {
    "duration": 4,
    "start_time": "2021-07-18T21:38:55.220Z"
   },
   {
    "duration": 219,
    "start_time": "2021-07-18T21:39:18.092Z"
   },
   {
    "duration": 46,
    "start_time": "2021-07-18T21:40:53.794Z"
   },
   {
    "duration": 37,
    "start_time": "2021-07-18T21:41:19.237Z"
   },
   {
    "duration": 32,
    "start_time": "2021-07-18T21:41:27.056Z"
   },
   {
    "duration": 33,
    "start_time": "2021-07-18T21:41:43.184Z"
   },
   {
    "duration": 2,
    "start_time": "2021-07-18T21:49:28.487Z"
   },
   {
    "duration": 371,
    "start_time": "2021-07-18T21:50:15.865Z"
   },
   {
    "duration": 380,
    "start_time": "2021-07-18T21:51:02.465Z"
   },
   {
    "duration": 6,
    "start_time": "2021-07-18T21:52:51.367Z"
   },
   {
    "duration": 44,
    "start_time": "2021-07-18T21:53:07.496Z"
   },
   {
    "duration": 37,
    "start_time": "2021-07-18T21:53:18.031Z"
   },
   {
    "duration": 40,
    "start_time": "2021-07-18T21:53:24.383Z"
   },
   {
    "duration": 17,
    "start_time": "2021-07-18T21:53:49.993Z"
   },
   {
    "duration": 42,
    "start_time": "2021-07-18T21:55:59.922Z"
   },
   {
    "duration": 79,
    "start_time": "2021-07-18T21:56:23.139Z"
   },
   {
    "duration": 17,
    "start_time": "2021-07-18T21:56:33.273Z"
   },
   {
    "duration": 226,
    "start_time": "2021-07-18T21:57:47.191Z"
   },
   {
    "duration": 13,
    "start_time": "2021-07-18T21:58:40.844Z"
   },
   {
    "duration": 13,
    "start_time": "2021-07-18T21:58:52.864Z"
   },
   {
    "duration": 36,
    "start_time": "2021-07-18T21:59:21.154Z"
   },
   {
    "duration": 79,
    "start_time": "2021-07-18T22:03:10.332Z"
   },
   {
    "duration": 34,
    "start_time": "2021-07-18T22:04:40.232Z"
   },
   {
    "duration": 55,
    "start_time": "2021-07-18T22:04:51.164Z"
   },
   {
    "duration": 72,
    "start_time": "2021-07-18T22:05:55.141Z"
   },
   {
    "duration": 1015,
    "start_time": "2021-07-18T22:06:08.320Z"
   },
   {
    "duration": 133,
    "start_time": "2021-07-18T22:06:09.337Z"
   },
   {
    "duration": 139,
    "start_time": "2021-07-18T22:06:09.473Z"
   },
   {
    "duration": 125,
    "start_time": "2021-07-18T22:06:09.614Z"
   },
   {
    "duration": 52,
    "start_time": "2021-07-18T22:06:09.741Z"
   },
   {
    "duration": 75,
    "start_time": "2021-07-18T22:06:09.795Z"
   },
   {
    "duration": 45,
    "start_time": "2021-07-18T22:06:09.872Z"
   },
   {
    "duration": 442,
    "start_time": "2021-07-18T22:06:09.920Z"
   },
   {
    "duration": -2780,
    "start_time": "2021-07-18T22:06:13.147Z"
   },
   {
    "duration": -2893,
    "start_time": "2021-07-18T22:06:13.261Z"
   },
   {
    "duration": -2983,
    "start_time": "2021-07-18T22:06:13.351Z"
   },
   {
    "duration": -3109,
    "start_time": "2021-07-18T22:06:13.478Z"
   },
   {
    "duration": -3202,
    "start_time": "2021-07-18T22:06:13.572Z"
   },
   {
    "duration": -3310,
    "start_time": "2021-07-18T22:06:13.680Z"
   },
   {
    "duration": -3405,
    "start_time": "2021-07-18T22:06:13.776Z"
   },
   {
    "duration": -3524,
    "start_time": "2021-07-18T22:06:13.896Z"
   },
   {
    "duration": -3616,
    "start_time": "2021-07-18T22:06:13.988Z"
   },
   {
    "duration": -3734,
    "start_time": "2021-07-18T22:06:14.107Z"
   },
   {
    "duration": -3844,
    "start_time": "2021-07-18T22:06:14.218Z"
   },
   {
    "duration": -3968,
    "start_time": "2021-07-18T22:06:14.342Z"
   },
   {
    "duration": -4179,
    "start_time": "2021-07-18T22:06:14.554Z"
   },
   {
    "duration": -4383,
    "start_time": "2021-07-18T22:06:14.759Z"
   },
   {
    "duration": -4532,
    "start_time": "2021-07-18T22:06:14.908Z"
   },
   {
    "duration": -4701,
    "start_time": "2021-07-18T22:06:15.078Z"
   },
   {
    "duration": -4861,
    "start_time": "2021-07-18T22:06:15.239Z"
   },
   {
    "duration": -5030,
    "start_time": "2021-07-18T22:06:15.408Z"
   },
   {
    "duration": -5186,
    "start_time": "2021-07-18T22:06:15.565Z"
   },
   {
    "duration": -5362,
    "start_time": "2021-07-18T22:06:15.742Z"
   },
   {
    "duration": -5516,
    "start_time": "2021-07-18T22:06:15.897Z"
   },
   {
    "duration": -5783,
    "start_time": "2021-07-18T22:06:16.164Z"
   },
   {
    "duration": -6036,
    "start_time": "2021-07-18T22:06:16.418Z"
   },
   {
    "duration": -6183,
    "start_time": "2021-07-18T22:06:16.565Z"
   },
   {
    "duration": -6277,
    "start_time": "2021-07-18T22:06:16.660Z"
   },
   {
    "duration": -6410,
    "start_time": "2021-07-18T22:06:16.794Z"
   },
   {
    "duration": -6502,
    "start_time": "2021-07-18T22:06:16.886Z"
   },
   {
    "duration": -6632,
    "start_time": "2021-07-18T22:06:17.017Z"
   },
   {
    "duration": -6767,
    "start_time": "2021-07-18T22:06:17.153Z"
   },
   {
    "duration": -6896,
    "start_time": "2021-07-18T22:06:17.282Z"
   },
   {
    "duration": -7018,
    "start_time": "2021-07-18T22:06:17.405Z"
   },
   {
    "duration": -7149,
    "start_time": "2021-07-18T22:06:17.537Z"
   },
   {
    "duration": -7272,
    "start_time": "2021-07-18T22:06:17.661Z"
   },
   {
    "duration": -7397,
    "start_time": "2021-07-18T22:06:17.787Z"
   },
   {
    "duration": -7531,
    "start_time": "2021-07-18T22:06:17.922Z"
   },
   {
    "duration": -7655,
    "start_time": "2021-07-18T22:06:18.047Z"
   },
   {
    "duration": -7843,
    "start_time": "2021-07-18T22:06:18.235Z"
   },
   {
    "duration": -7963,
    "start_time": "2021-07-18T22:06:18.356Z"
   },
   {
    "duration": -8093,
    "start_time": "2021-07-18T22:06:18.487Z"
   },
   {
    "duration": -8309,
    "start_time": "2021-07-18T22:06:18.704Z"
   },
   {
    "duration": -8468,
    "start_time": "2021-07-18T22:06:18.864Z"
   },
   {
    "duration": -8628,
    "start_time": "2021-07-18T22:06:19.025Z"
   },
   {
    "duration": -8777,
    "start_time": "2021-07-18T22:06:19.174Z"
   },
   {
    "duration": -8933,
    "start_time": "2021-07-18T22:06:19.331Z"
   },
   {
    "duration": -9096,
    "start_time": "2021-07-18T22:06:19.495Z"
   },
   {
    "duration": -9242,
    "start_time": "2021-07-18T22:06:19.642Z"
   },
   {
    "duration": -9410,
    "start_time": "2021-07-18T22:06:19.811Z"
   },
   {
    "duration": -9724,
    "start_time": "2021-07-18T22:06:20.126Z"
   },
   {
    "duration": -9961,
    "start_time": "2021-07-18T22:06:20.364Z"
   },
   {
    "duration": -10041,
    "start_time": "2021-07-18T22:06:20.444Z"
   },
   {
    "duration": -10140,
    "start_time": "2021-07-18T22:06:20.544Z"
   },
   {
    "duration": -10226,
    "start_time": "2021-07-18T22:06:20.631Z"
   },
   {
    "duration": -10334,
    "start_time": "2021-07-18T22:06:20.740Z"
   },
   {
    "duration": -10426,
    "start_time": "2021-07-18T22:06:20.832Z"
   },
   {
    "duration": -10540,
    "start_time": "2021-07-18T22:06:20.947Z"
   },
   {
    "duration": -10633,
    "start_time": "2021-07-18T22:06:21.041Z"
   },
   {
    "duration": -10750,
    "start_time": "2021-07-18T22:06:21.159Z"
   },
   {
    "duration": -10844,
    "start_time": "2021-07-18T22:06:21.253Z"
   },
   {
    "duration": -10972,
    "start_time": "2021-07-18T22:06:21.382Z"
   },
   {
    "duration": -11131,
    "start_time": "2021-07-18T22:06:21.542Z"
   },
   {
    "duration": -11245,
    "start_time": "2021-07-18T22:06:21.657Z"
   },
   {
    "duration": -11343,
    "start_time": "2021-07-18T22:06:21.755Z"
   },
   {
    "duration": -11456,
    "start_time": "2021-07-18T22:06:21.869Z"
   },
   {
    "duration": -11579,
    "start_time": "2021-07-18T22:06:21.993Z"
   },
   {
    "duration": -11752,
    "start_time": "2021-07-18T22:06:22.167Z"
   },
   {
    "duration": -11883,
    "start_time": "2021-07-18T22:06:22.298Z"
   },
   {
    "duration": -12011,
    "start_time": "2021-07-18T22:06:22.427Z"
   },
   {
    "duration": -12140,
    "start_time": "2021-07-18T22:06:22.557Z"
   },
   {
    "duration": -12267,
    "start_time": "2021-07-18T22:06:22.685Z"
   },
   {
    "duration": -12398,
    "start_time": "2021-07-18T22:06:22.816Z"
   },
   {
    "duration": -12532,
    "start_time": "2021-07-18T22:06:22.951Z"
   },
   {
    "duration": -12659,
    "start_time": "2021-07-18T22:06:23.079Z"
   },
   {
    "duration": -12819,
    "start_time": "2021-07-18T22:06:23.240Z"
   },
   {
    "duration": 83,
    "start_time": "2021-07-18T22:09:31.948Z"
   },
   {
    "duration": 3,
    "start_time": "2021-07-18T22:12:09.261Z"
   },
   {
    "duration": 212,
    "start_time": "2021-07-18T22:12:56.711Z"
   },
   {
    "duration": 20,
    "start_time": "2021-07-18T22:13:13.053Z"
   },
   {
    "duration": 13,
    "start_time": "2021-07-18T22:13:58.757Z"
   },
   {
    "duration": 34,
    "start_time": "2021-07-18T22:14:27.190Z"
   },
   {
    "duration": 2,
    "start_time": "2021-07-18T22:14:30.551Z"
   },
   {
    "duration": 25,
    "start_time": "2021-07-18T22:14:47.363Z"
   },
   {
    "duration": 41,
    "start_time": "2021-07-18T22:15:21.447Z"
   },
   {
    "duration": 34,
    "start_time": "2021-07-18T22:17:05.982Z"
   },
   {
    "duration": 89,
    "start_time": "2021-07-18T22:17:31.288Z"
   },
   {
    "duration": 38,
    "start_time": "2021-07-18T22:17:39.472Z"
   },
   {
    "duration": 3,
    "start_time": "2021-07-18T22:17:45.920Z"
   },
   {
    "duration": 39,
    "start_time": "2021-07-18T22:17:49.620Z"
   },
   {
    "duration": 24,
    "start_time": "2021-07-18T22:18:02.433Z"
   },
   {
    "duration": 38,
    "start_time": "2021-07-18T22:19:35.117Z"
   },
   {
    "duration": 67,
    "start_time": "2021-07-18T22:21:09.508Z"
   },
   {
    "duration": 68,
    "start_time": "2021-07-18T22:21:26.434Z"
   },
   {
    "duration": 78,
    "start_time": "2021-07-18T22:21:33.947Z"
   },
   {
    "duration": 1016,
    "start_time": "2021-07-18T22:22:18.305Z"
   },
   {
    "duration": 129,
    "start_time": "2021-07-18T22:22:19.323Z"
   },
   {
    "duration": 124,
    "start_time": "2021-07-18T22:22:19.454Z"
   },
   {
    "duration": 124,
    "start_time": "2021-07-18T22:22:19.580Z"
   },
   {
    "duration": 93,
    "start_time": "2021-07-18T22:22:19.705Z"
   },
   {
    "duration": 40,
    "start_time": "2021-07-18T22:22:19.799Z"
   },
   {
    "duration": 4,
    "start_time": "2021-07-18T22:22:19.840Z"
   },
   {
    "duration": 91,
    "start_time": "2021-07-18T22:22:19.846Z"
   },
   {
    "duration": 32,
    "start_time": "2021-07-18T22:22:19.940Z"
   },
   {
    "duration": 454,
    "start_time": "2021-07-18T22:22:19.973Z"
   },
   {
    "duration": -3877,
    "start_time": "2021-07-18T22:22:24.311Z"
   },
   {
    "duration": -4181,
    "start_time": "2021-07-18T22:22:24.616Z"
   },
   {
    "duration": -4370,
    "start_time": "2021-07-18T22:22:24.806Z"
   },
   {
    "duration": -4503,
    "start_time": "2021-07-18T22:22:24.940Z"
   },
   {
    "duration": -4634,
    "start_time": "2021-07-18T22:22:25.072Z"
   },
   {
    "duration": -4836,
    "start_time": "2021-07-18T22:22:25.275Z"
   },
   {
    "duration": -5024,
    "start_time": "2021-07-18T22:22:25.464Z"
   },
   {
    "duration": -5162,
    "start_time": "2021-07-18T22:22:25.602Z"
   },
   {
    "duration": -5424,
    "start_time": "2021-07-18T22:22:25.865Z"
   },
   {
    "duration": -5654,
    "start_time": "2021-07-18T22:22:26.096Z"
   },
   {
    "duration": -5784,
    "start_time": "2021-07-18T22:22:26.227Z"
   },
   {
    "duration": -5924,
    "start_time": "2021-07-18T22:22:26.368Z"
   },
   {
    "duration": -6130,
    "start_time": "2021-07-18T22:22:26.574Z"
   },
   {
    "duration": -6316,
    "start_time": "2021-07-18T22:22:26.761Z"
   },
   {
    "duration": -6438,
    "start_time": "2021-07-18T22:22:26.884Z"
   },
   {
    "duration": -6686,
    "start_time": "2021-07-18T22:22:27.133Z"
   },
   {
    "duration": -6881,
    "start_time": "2021-07-18T22:22:27.329Z"
   },
   {
    "duration": -7060,
    "start_time": "2021-07-18T22:22:27.509Z"
   },
   {
    "duration": -7212,
    "start_time": "2021-07-18T22:22:27.661Z"
   },
   {
    "duration": -7423,
    "start_time": "2021-07-18T22:22:27.873Z"
   },
   {
    "duration": -7606,
    "start_time": "2021-07-18T22:22:28.057Z"
   },
   {
    "duration": -7748,
    "start_time": "2021-07-18T22:22:28.200Z"
   },
   {
    "duration": -7946,
    "start_time": "2021-07-18T22:22:28.398Z"
   },
   {
    "duration": -8087,
    "start_time": "2021-07-18T22:22:28.540Z"
   },
   {
    "duration": -8268,
    "start_time": "2021-07-18T22:22:28.722Z"
   },
   {
    "duration": -8454,
    "start_time": "2021-07-18T22:22:28.909Z"
   },
   {
    "duration": -8671,
    "start_time": "2021-07-18T22:22:29.127Z"
   },
   {
    "duration": -8863,
    "start_time": "2021-07-18T22:22:29.320Z"
   },
   {
    "duration": -9009,
    "start_time": "2021-07-18T22:22:29.466Z"
   },
   {
    "duration": -9149,
    "start_time": "2021-07-18T22:22:29.607Z"
   },
   {
    "duration": -9389,
    "start_time": "2021-07-18T22:22:29.848Z"
   },
   {
    "duration": -9571,
    "start_time": "2021-07-18T22:22:30.031Z"
   },
   {
    "duration": -9725,
    "start_time": "2021-07-18T22:22:30.186Z"
   },
   {
    "duration": -10018,
    "start_time": "2021-07-18T22:22:30.479Z"
   },
   {
    "duration": -10144,
    "start_time": "2021-07-18T22:22:30.606Z"
   },
   {
    "duration": -10306,
    "start_time": "2021-07-18T22:22:30.769Z"
   },
   {
    "duration": -10448,
    "start_time": "2021-07-18T22:22:30.912Z"
   },
   {
    "duration": -10693,
    "start_time": "2021-07-18T22:22:31.158Z"
   },
   {
    "duration": -10842,
    "start_time": "2021-07-18T22:22:31.307Z"
   },
   {
    "duration": -10995,
    "start_time": "2021-07-18T22:22:31.461Z"
   },
   {
    "duration": -11127,
    "start_time": "2021-07-18T22:22:31.594Z"
   },
   {
    "duration": -11428,
    "start_time": "2021-07-18T22:22:31.896Z"
   },
   {
    "duration": -11612,
    "start_time": "2021-07-18T22:22:32.081Z"
   },
   {
    "duration": -11768,
    "start_time": "2021-07-18T22:22:32.237Z"
   },
   {
    "duration": -11971,
    "start_time": "2021-07-18T22:22:32.441Z"
   },
   {
    "duration": -12095,
    "start_time": "2021-07-18T22:22:32.585Z"
   },
   {
    "duration": -12271,
    "start_time": "2021-07-18T22:22:32.762Z"
   },
   {
    "duration": -12421,
    "start_time": "2021-07-18T22:22:32.913Z"
   },
   {
    "duration": -12638,
    "start_time": "2021-07-18T22:22:33.131Z"
   },
   {
    "duration": -12929,
    "start_time": "2021-07-18T22:22:33.423Z"
   },
   {
    "duration": -13086,
    "start_time": "2021-07-18T22:22:33.580Z"
   },
   {
    "duration": -13233,
    "start_time": "2021-07-18T22:22:33.728Z"
   },
   {
    "duration": -13477,
    "start_time": "2021-07-18T22:22:33.973Z"
   },
   {
    "duration": -13684,
    "start_time": "2021-07-18T22:22:34.181Z"
   },
   {
    "duration": -13855,
    "start_time": "2021-07-18T22:22:34.352Z"
   },
   {
    "duration": -14064,
    "start_time": "2021-07-18T22:22:34.562Z"
   },
   {
    "duration": -14188,
    "start_time": "2021-07-18T22:22:34.687Z"
   },
   {
    "duration": -14409,
    "start_time": "2021-07-18T22:22:34.909Z"
   },
   {
    "duration": -14607,
    "start_time": "2021-07-18T22:22:35.108Z"
   },
   {
    "duration": -14858,
    "start_time": "2021-07-18T22:22:35.359Z"
   },
   {
    "duration": -15051,
    "start_time": "2021-07-18T22:22:35.553Z"
   },
   {
    "duration": -15202,
    "start_time": "2021-07-18T22:22:35.705Z"
   },
   {
    "duration": -15336,
    "start_time": "2021-07-18T22:22:35.840Z"
   },
   {
    "duration": -15560,
    "start_time": "2021-07-18T22:22:36.064Z"
   },
   {
    "duration": -15721,
    "start_time": "2021-07-18T22:22:36.226Z"
   },
   {
    "duration": -15941,
    "start_time": "2021-07-18T22:22:36.447Z"
   },
   {
    "duration": -16102,
    "start_time": "2021-07-18T22:22:36.609Z"
   },
   {
    "duration": -16342,
    "start_time": "2021-07-18T22:22:36.850Z"
   },
   {
    "duration": -16549,
    "start_time": "2021-07-18T22:22:37.057Z"
   },
   {
    "duration": -16687,
    "start_time": "2021-07-18T22:22:37.196Z"
   },
   {
    "duration": -16825,
    "start_time": "2021-07-18T22:22:37.335Z"
   },
   {
    "duration": -17060,
    "start_time": "2021-07-18T22:22:37.571Z"
   },
   {
    "duration": -17250,
    "start_time": "2021-07-18T22:22:37.762Z"
   },
   {
    "duration": 286,
    "start_time": "2021-07-18T22:25:34.116Z"
   },
   {
    "duration": 3,
    "start_time": "2021-07-18T22:25:42.520Z"
   },
   {
    "duration": 255,
    "start_time": "2021-07-18T22:26:03.769Z"
   },
   {
    "duration": 1013,
    "start_time": "2021-07-18T22:26:24.712Z"
   },
   {
    "duration": 1045,
    "start_time": "2021-07-18T22:27:25.334Z"
   },
   {
    "duration": 1074,
    "start_time": "2021-07-18T22:27:55.376Z"
   },
   {
    "duration": 1152,
    "start_time": "2021-07-18T22:29:21.681Z"
   },
   {
    "duration": 1168,
    "start_time": "2021-07-18T22:29:40.004Z"
   },
   {
    "duration": 1162,
    "start_time": "2021-07-18T22:29:50.431Z"
   },
   {
    "duration": 1170,
    "start_time": "2021-07-18T22:30:35.973Z"
   },
   {
    "duration": 1172,
    "start_time": "2021-07-18T22:31:08.043Z"
   },
   {
    "duration": 1192,
    "start_time": "2021-07-18T22:31:19.659Z"
   },
   {
    "duration": 1166,
    "start_time": "2021-07-18T22:31:28.077Z"
   },
   {
    "duration": 1165,
    "start_time": "2021-07-18T22:31:36.181Z"
   },
   {
    "duration": 1161,
    "start_time": "2021-07-18T22:31:45.037Z"
   },
   {
    "duration": 241,
    "start_time": "2021-07-18T22:37:36.924Z"
   },
   {
    "duration": 226,
    "start_time": "2021-07-18T22:37:42.805Z"
   },
   {
    "duration": 13,
    "start_time": "2021-07-18T22:37:56.956Z"
   },
   {
    "duration": 12,
    "start_time": "2021-07-18T22:39:46.502Z"
   },
   {
    "duration": 12,
    "start_time": "2021-07-18T22:40:07.282Z"
   },
   {
    "duration": 22,
    "start_time": "2021-07-18T22:44:06.532Z"
   },
   {
    "duration": 1480,
    "start_time": "2021-07-18T22:44:23.903Z"
   },
   {
    "duration": 240,
    "start_time": "2021-07-18T22:44:38.915Z"
   },
   {
    "duration": 237,
    "start_time": "2021-07-18T22:44:59.893Z"
   },
   {
    "duration": 1528,
    "start_time": "2021-07-18T22:46:23.539Z"
   },
   {
    "duration": 1561,
    "start_time": "2021-07-18T22:47:47.710Z"
   },
   {
    "duration": 1613,
    "start_time": "2021-07-18T22:52:17.207Z"
   },
   {
    "duration": 1554,
    "start_time": "2021-07-18T22:52:43.928Z"
   },
   {
    "duration": 53,
    "start_time": "2021-07-18T22:53:24.236Z"
   },
   {
    "duration": 257,
    "start_time": "2021-07-18T22:55:05.684Z"
   },
   {
    "duration": 62,
    "start_time": "2021-07-18T22:55:15.759Z"
   },
   {
    "duration": 23,
    "start_time": "2021-07-18T22:57:05.673Z"
   },
   {
    "duration": 19,
    "start_time": "2021-07-18T22:58:08.725Z"
   },
   {
    "duration": 172,
    "start_time": "2021-07-18T23:01:41.405Z"
   },
   {
    "duration": 167,
    "start_time": "2021-07-18T23:01:58.194Z"
   },
   {
    "duration": 1316,
    "start_time": "2021-07-18T23:04:05.114Z"
   },
   {
    "duration": 1699,
    "start_time": "2021-07-18T23:04:37.279Z"
   },
   {
    "duration": 2393,
    "start_time": "2021-07-18T23:05:27.390Z"
   },
   {
    "duration": 2161,
    "start_time": "2021-07-18T23:07:51.704Z"
   },
   {
    "duration": 2139,
    "start_time": "2021-07-18T23:09:14.209Z"
   },
   {
    "duration": 170,
    "start_time": "2021-07-18T23:10:14.162Z"
   },
   {
    "duration": 375,
    "start_time": "2021-07-18T23:10:41.326Z"
   },
   {
    "duration": 175,
    "start_time": "2021-07-18T23:10:49.875Z"
   },
   {
    "duration": 2001,
    "start_time": "2021-07-18T23:18:01.227Z"
   },
   {
    "duration": 2044,
    "start_time": "2021-07-18T23:19:17.780Z"
   },
   {
    "duration": 1988,
    "start_time": "2021-07-18T23:19:39.899Z"
   },
   {
    "duration": 183,
    "start_time": "2021-07-18T23:20:00.680Z"
   },
   {
    "duration": 15539,
    "start_time": "2021-07-18T23:25:01.530Z"
   },
   {
    "duration": 15793,
    "start_time": "2021-07-18T23:26:07.483Z"
   },
   {
    "duration": 981,
    "start_time": "2021-07-18T23:46:53.242Z"
   },
   {
    "duration": 133,
    "start_time": "2021-07-18T23:46:54.225Z"
   },
   {
    "duration": 126,
    "start_time": "2021-07-18T23:46:54.360Z"
   },
   {
    "duration": 143,
    "start_time": "2021-07-18T23:46:54.492Z"
   },
   {
    "duration": 89,
    "start_time": "2021-07-18T23:46:54.636Z"
   },
   {
    "duration": 38,
    "start_time": "2021-07-18T23:46:54.727Z"
   },
   {
    "duration": 4,
    "start_time": "2021-07-18T23:46:54.766Z"
   },
   {
    "duration": 87,
    "start_time": "2021-07-18T23:46:54.772Z"
   },
   {
    "duration": 40,
    "start_time": "2021-07-18T23:46:54.861Z"
   },
   {
    "duration": 1302,
    "start_time": "2021-07-18T23:46:54.903Z"
   },
   {
    "duration": 11,
    "start_time": "2021-07-18T23:46:56.207Z"
   },
   {
    "duration": 2092,
    "start_time": "2021-07-18T23:46:56.219Z"
   },
   {
    "duration": 179,
    "start_time": "2021-07-18T23:46:58.312Z"
   },
   {
    "duration": 15200,
    "start_time": "2021-07-18T23:46:58.493Z"
   },
   {
    "duration": 16,
    "start_time": "2021-07-18T23:47:13.695Z"
   },
   {
    "duration": 7,
    "start_time": "2021-07-18T23:47:13.713Z"
   },
   {
    "duration": 6,
    "start_time": "2021-07-18T23:47:13.722Z"
   },
   {
    "duration": 17,
    "start_time": "2021-07-18T23:47:13.729Z"
   },
   {
    "duration": 6,
    "start_time": "2021-07-18T23:47:13.747Z"
   },
   {
    "duration": 38,
    "start_time": "2021-07-18T23:47:13.755Z"
   },
   {
    "duration": 18,
    "start_time": "2021-07-18T23:47:13.794Z"
   },
   {
    "duration": 7,
    "start_time": "2021-07-18T23:47:13.813Z"
   },
   {
    "duration": 6,
    "start_time": "2021-07-18T23:47:13.823Z"
   },
   {
    "duration": 66,
    "start_time": "2021-07-18T23:47:13.831Z"
   },
   {
    "duration": 2,
    "start_time": "2021-07-18T23:47:13.899Z"
   },
   {
    "duration": 319,
    "start_time": "2021-07-18T23:47:13.902Z"
   },
   {
    "duration": -5683,
    "start_time": "2021-07-18T23:47:19.906Z"
   },
   {
    "duration": -5807,
    "start_time": "2021-07-18T23:47:20.031Z"
   },
   {
    "duration": -5996,
    "start_time": "2021-07-18T23:47:20.221Z"
   },
   {
    "duration": -6217,
    "start_time": "2021-07-18T23:47:20.443Z"
   },
   {
    "duration": -6347,
    "start_time": "2021-07-18T23:47:20.574Z"
   },
   {
    "duration": -6484,
    "start_time": "2021-07-18T23:47:20.712Z"
   },
   {
    "duration": -6708,
    "start_time": "2021-07-18T23:47:20.937Z"
   },
   {
    "duration": -6828,
    "start_time": "2021-07-18T23:47:21.058Z"
   },
   {
    "duration": -6950,
    "start_time": "2021-07-18T23:47:21.180Z"
   },
   {
    "duration": -7138,
    "start_time": "2021-07-18T23:47:21.369Z"
   },
   {
    "duration": -7275,
    "start_time": "2021-07-18T23:47:21.507Z"
   },
   {
    "duration": -7484,
    "start_time": "2021-07-18T23:47:21.717Z"
   },
   {
    "duration": -7617,
    "start_time": "2021-07-18T23:47:21.851Z"
   },
   {
    "duration": -7779,
    "start_time": "2021-07-18T23:47:22.014Z"
   },
   {
    "duration": -7911,
    "start_time": "2021-07-18T23:47:22.147Z"
   },
   {
    "duration": -8049,
    "start_time": "2021-07-18T23:47:22.286Z"
   },
   {
    "duration": -8247,
    "start_time": "2021-07-18T23:47:22.485Z"
   },
   {
    "duration": -8451,
    "start_time": "2021-07-18T23:47:22.690Z"
   },
   {
    "duration": -8585,
    "start_time": "2021-07-18T23:47:22.825Z"
   },
   {
    "duration": -8725,
    "start_time": "2021-07-18T23:47:22.966Z"
   },
   {
    "duration": -8948,
    "start_time": "2021-07-18T23:47:23.190Z"
   },
   {
    "duration": -9067,
    "start_time": "2021-07-18T23:47:23.310Z"
   },
   {
    "duration": -9229,
    "start_time": "2021-07-18T23:47:23.473Z"
   },
   {
    "duration": -9357,
    "start_time": "2021-07-18T23:47:23.602Z"
   },
   {
    "duration": -9483,
    "start_time": "2021-07-18T23:47:23.728Z"
   },
   {
    "duration": -9686,
    "start_time": "2021-07-18T23:47:23.932Z"
   },
   {
    "duration": -9801,
    "start_time": "2021-07-18T23:47:24.048Z"
   },
   {
    "duration": -9972,
    "start_time": "2021-07-18T23:47:24.220Z"
   },
   {
    "duration": -10095,
    "start_time": "2021-07-18T23:47:24.344Z"
   },
   {
    "duration": -10234,
    "start_time": "2021-07-18T23:47:24.484Z"
   },
   {
    "duration": -10437,
    "start_time": "2021-07-18T23:47:24.688Z"
   },
   {
    "duration": -10573,
    "start_time": "2021-07-18T23:47:24.825Z"
   },
   {
    "duration": -10746,
    "start_time": "2021-07-18T23:47:24.999Z"
   },
   {
    "duration": -10878,
    "start_time": "2021-07-18T23:47:25.132Z"
   },
   {
    "duration": -11005,
    "start_time": "2021-07-18T23:47:25.260Z"
   },
   {
    "duration": -11213,
    "start_time": "2021-07-18T23:47:25.469Z"
   },
   {
    "duration": -11394,
    "start_time": "2021-07-18T23:47:25.651Z"
   },
   {
    "duration": -11520,
    "start_time": "2021-07-18T23:47:25.778Z"
   },
   {
    "duration": -11634,
    "start_time": "2021-07-18T23:47:25.924Z"
   },
   {
    "duration": -11854,
    "start_time": "2021-07-18T23:47:26.145Z"
   },
   {
    "duration": -11973,
    "start_time": "2021-07-18T23:47:26.265Z"
   },
   {
    "duration": -12143,
    "start_time": "2021-07-18T23:47:26.436Z"
   },
   {
    "duration": -12264,
    "start_time": "2021-07-18T23:47:26.558Z"
   },
   {
    "duration": -12389,
    "start_time": "2021-07-18T23:47:26.684Z"
   },
   {
    "duration": -12603,
    "start_time": "2021-07-18T23:47:26.899Z"
   },
   {
    "duration": -12725,
    "start_time": "2021-07-18T23:47:27.022Z"
   },
   {
    "duration": -12911,
    "start_time": "2021-07-18T23:47:27.209Z"
   },
   {
    "duration": -13048,
    "start_time": "2021-07-18T23:47:27.347Z"
   },
   {
    "duration": -13169,
    "start_time": "2021-07-18T23:47:27.469Z"
   },
   {
    "duration": -13393,
    "start_time": "2021-07-18T23:47:27.694Z"
   },
   {
    "duration": -13510,
    "start_time": "2021-07-18T23:47:27.812Z"
   },
   {
    "duration": -13621,
    "start_time": "2021-07-18T23:47:27.924Z"
   },
   {
    "duration": -13800,
    "start_time": "2021-07-18T23:47:28.104Z"
   },
   {
    "duration": -13927,
    "start_time": "2021-07-18T23:47:28.232Z"
   },
   {
    "duration": -14163,
    "start_time": "2021-07-18T23:47:28.469Z"
   },
   {
    "duration": -14283,
    "start_time": "2021-07-18T23:47:28.589Z"
   },
   {
    "duration": -14434,
    "start_time": "2021-07-18T23:47:28.741Z"
   },
   {
    "duration": -14590,
    "start_time": "2021-07-18T23:47:28.898Z"
   },
   {
    "duration": -14718,
    "start_time": "2021-07-18T23:47:29.027Z"
   },
   {
    "duration": -14933,
    "start_time": "2021-07-18T23:47:29.243Z"
   },
   {
    "duration": -15053,
    "start_time": "2021-07-18T23:47:29.364Z"
   },
   {
    "duration": 1296,
    "start_time": "2021-07-18T23:47:59.773Z"
   },
   {
    "duration": 12,
    "start_time": "2021-07-18T23:48:05.682Z"
   },
   {
    "duration": 1997,
    "start_time": "2021-07-18T23:48:16.204Z"
   },
   {
    "duration": 1320,
    "start_time": "2021-07-18T23:53:44.897Z"
   },
   {
    "duration": 12,
    "start_time": "2021-07-18T23:53:52.676Z"
   },
   {
    "duration": 2063,
    "start_time": "2021-07-18T23:53:58.450Z"
   },
   {
    "duration": 164,
    "start_time": "2021-07-18T23:54:05.254Z"
   },
   {
    "duration": 4,
    "start_time": "2021-07-19T14:15:22.386Z"
   },
   {
    "duration": 202,
    "start_time": "2021-07-19T14:15:22.439Z"
   },
   {
    "duration": 182,
    "start_time": "2021-07-19T14:15:22.644Z"
   },
   {
    "duration": 181,
    "start_time": "2021-07-19T14:15:22.830Z"
   },
   {
    "duration": 20,
    "start_time": "2021-07-19T14:15:23.014Z"
   },
   {
    "duration": 25,
    "start_time": "2021-07-19T14:15:23.061Z"
   },
   {
    "duration": 29,
    "start_time": "2021-07-19T14:15:23.088Z"
   },
   {
    "duration": 84,
    "start_time": "2021-07-19T14:15:23.120Z"
   },
   {
    "duration": 72,
    "start_time": "2021-07-19T14:15:23.207Z"
   },
   {
    "duration": 123,
    "start_time": "2021-07-19T14:15:23.282Z"
   },
   {
    "duration": 4,
    "start_time": "2021-07-19T14:15:23.408Z"
   },
   {
    "duration": 12,
    "start_time": "2021-07-19T14:15:23.415Z"
   },
   {
    "duration": 67,
    "start_time": "2021-07-19T14:15:23.429Z"
   },
   {
    "duration": 26198,
    "start_time": "2021-07-19T14:15:23.498Z"
   },
   {
    "duration": 2697,
    "start_time": "2021-07-19T14:15:49.699Z"
   },
   {
    "duration": 18,
    "start_time": "2021-07-19T14:15:52.399Z"
   },
   {
    "duration": 3009,
    "start_time": "2021-07-19T14:15:52.419Z"
   },
   {
    "duration": 316,
    "start_time": "2021-07-19T14:15:55.430Z"
   },
   {
    "duration": 23,
    "start_time": "2021-07-19T14:15:55.758Z"
   },
   {
    "duration": 27,
    "start_time": "2021-07-19T14:15:55.785Z"
   },
   {
    "duration": 10,
    "start_time": "2021-07-19T14:15:55.814Z"
   },
   {
    "duration": 12,
    "start_time": "2021-07-19T14:15:55.856Z"
   },
   {
    "duration": 26,
    "start_time": "2021-07-19T14:15:55.871Z"
   },
   {
    "duration": 11,
    "start_time": "2021-07-19T14:15:55.904Z"
   },
   {
    "duration": 41,
    "start_time": "2021-07-19T14:15:55.919Z"
   },
   {
    "duration": 27,
    "start_time": "2021-07-19T14:15:55.962Z"
   },
   {
    "duration": 11,
    "start_time": "2021-07-19T14:15:55.991Z"
   },
   {
    "duration": 18,
    "start_time": "2021-07-19T14:15:56.004Z"
   },
   {
    "duration": 89,
    "start_time": "2021-07-19T14:15:56.025Z"
   },
   {
    "duration": 41,
    "start_time": "2021-07-19T14:15:56.117Z"
   },
   {
    "duration": 17,
    "start_time": "2021-07-19T14:15:56.161Z"
   },
   {
    "duration": 175,
    "start_time": "2021-07-19T14:15:56.181Z"
   },
   {
    "duration": 19,
    "start_time": "2021-07-19T14:15:56.360Z"
   },
   {
    "duration": 86,
    "start_time": "2021-07-19T14:15:56.382Z"
   },
   {
    "duration": 102,
    "start_time": "2021-07-19T14:15:56.556Z"
   },
   {
    "duration": 17,
    "start_time": "2021-07-19T14:15:56.661Z"
   },
   {
    "duration": 75,
    "start_time": "2021-07-19T14:15:56.683Z"
   },
   {
    "duration": 99,
    "start_time": "2021-07-19T14:15:56.764Z"
   },
   {
    "duration": 342,
    "start_time": "2021-07-19T14:15:56.866Z"
   },
   {
    "duration": 388,
    "start_time": "2021-07-19T14:15:57.216Z"
   },
   {
    "duration": 299,
    "start_time": "2021-07-19T14:15:57.607Z"
   },
   {
    "duration": 23,
    "start_time": "2021-07-19T14:15:57.910Z"
   },
   {
    "duration": 31,
    "start_time": "2021-07-19T14:15:57.936Z"
   },
   {
    "duration": 26,
    "start_time": "2021-07-19T14:15:57.970Z"
   },
   {
    "duration": 166,
    "start_time": "2021-07-19T14:15:57.999Z"
   },
   {
    "duration": 95,
    "start_time": "2021-07-19T14:15:58.169Z"
   },
   {
    "duration": 87,
    "start_time": "2021-07-19T14:15:58.269Z"
   },
   {
    "duration": 17,
    "start_time": "2021-07-19T14:15:58.359Z"
   },
   {
    "duration": 8,
    "start_time": "2021-07-19T14:15:58.378Z"
   },
   {
    "duration": 150,
    "start_time": "2021-07-19T14:15:58.388Z"
   },
   {
    "duration": 297,
    "start_time": "2021-07-19T14:15:58.541Z"
   },
   {
    "duration": 18,
    "start_time": "2021-07-19T14:15:58.840Z"
   },
   {
    "duration": 10,
    "start_time": "2021-07-19T14:15:58.861Z"
   },
   {
    "duration": 9,
    "start_time": "2021-07-19T14:15:58.873Z"
   },
   {
    "duration": 8,
    "start_time": "2021-07-19T14:15:58.884Z"
   },
   {
    "duration": 7,
    "start_time": "2021-07-19T14:15:58.895Z"
   },
   {
    "duration": 8,
    "start_time": "2021-07-19T14:15:58.905Z"
   },
   {
    "duration": 17,
    "start_time": "2021-07-19T14:15:58.957Z"
   },
   {
    "duration": 10,
    "start_time": "2021-07-19T14:15:58.977Z"
   },
   {
    "duration": 8,
    "start_time": "2021-07-19T14:15:58.990Z"
   },
   {
    "duration": 340,
    "start_time": "2021-07-19T14:15:59.001Z"
   },
   {
    "duration": 28,
    "start_time": "2021-07-19T14:15:59.343Z"
   },
   {
    "duration": 7,
    "start_time": "2021-07-19T14:15:59.374Z"
   },
   {
    "duration": 9,
    "start_time": "2021-07-19T14:15:59.383Z"
   },
   {
    "duration": 7,
    "start_time": "2021-07-19T14:15:59.394Z"
   },
   {
    "duration": 10,
    "start_time": "2021-07-19T14:15:59.403Z"
   },
   {
    "duration": 18,
    "start_time": "2021-07-19T14:15:59.415Z"
   },
   {
    "duration": 25,
    "start_time": "2021-07-19T14:15:59.435Z"
   },
   {
    "duration": 6,
    "start_time": "2021-07-19T14:15:59.470Z"
   },
   {
    "duration": 18,
    "start_time": "2021-07-19T14:15:59.480Z"
   },
   {
    "duration": 5386,
    "start_time": "2021-07-19T14:15:59.501Z"
   },
   {
    "duration": 5147,
    "start_time": "2021-07-19T14:16:04.890Z"
   },
   {
    "duration": 25,
    "start_time": "2021-07-19T14:16:10.040Z"
   },
   {
    "duration": 10,
    "start_time": "2021-07-19T14:16:10.067Z"
   },
   {
    "duration": 13,
    "start_time": "2021-07-19T14:16:10.080Z"
   },
   {
    "duration": 5167,
    "start_time": "2021-07-19T14:16:10.096Z"
   },
   {
    "duration": 6097,
    "start_time": "2021-07-19T14:16:15.266Z"
   },
   {
    "duration": 9,
    "start_time": "2021-07-19T14:16:21.366Z"
   },
   {
    "duration": 27,
    "start_time": "2021-07-19T14:16:21.378Z"
   },
   {
    "duration": 6,
    "start_time": "2021-07-19T14:16:21.407Z"
   },
   {
    "duration": 7552,
    "start_time": "2021-07-19T14:16:21.416Z"
   },
   {
    "duration": 11,
    "start_time": "2021-07-19T14:16:28.971Z"
   },
   {
    "duration": 21,
    "start_time": "2021-07-19T14:16:28.984Z"
   },
   {
    "duration": 8,
    "start_time": "2021-07-19T14:16:29.008Z"
   },
   {
    "duration": 48,
    "start_time": "2021-07-19T14:16:29.019Z"
   },
   {
    "duration": 9,
    "start_time": "2021-07-19T14:16:29.070Z"
   },
   {
    "duration": 15,
    "start_time": "2021-07-19T14:16:29.082Z"
   },
   {
    "duration": 10,
    "start_time": "2021-07-19T14:16:29.099Z"
   },
   {
    "duration": 52,
    "start_time": "2021-07-19T14:16:29.112Z"
   },
   {
    "duration": 14,
    "start_time": "2021-07-19T14:16:29.168Z"
   },
   {
    "duration": 12,
    "start_time": "2021-07-19T14:16:29.184Z"
   },
   {
    "duration": 14,
    "start_time": "2021-07-19T14:16:29.199Z"
   },
   {
    "duration": 50,
    "start_time": "2021-07-19T14:16:29.215Z"
   },
   {
    "duration": 321,
    "start_time": "2021-07-19T14:16:29.268Z"
   },
   {
    "duration": 248,
    "start_time": "2021-07-19T14:16:29.592Z"
   },
   {
    "duration": 62,
    "start_time": "2021-07-19T14:20:04.614Z"
   },
   {
    "duration": 87,
    "start_time": "2021-07-19T14:20:15.962Z"
   },
   {
    "duration": 95,
    "start_time": "2021-07-19T14:20:23.584Z"
   },
   {
    "duration": 4,
    "start_time": "2021-07-19T14:21:03.226Z"
   },
   {
    "duration": 100,
    "start_time": "2021-07-19T14:21:30.318Z"
   },
   {
    "duration": 83,
    "start_time": "2021-07-19T14:22:05.368Z"
   },
   {
    "duration": 99,
    "start_time": "2021-07-19T14:22:27.991Z"
   },
   {
    "duration": 1468,
    "start_time": "2021-07-19T14:22:37.690Z"
   },
   {
    "duration": 178,
    "start_time": "2021-07-19T14:22:39.161Z"
   },
   {
    "duration": 169,
    "start_time": "2021-07-19T14:22:39.341Z"
   },
   {
    "duration": 171,
    "start_time": "2021-07-19T14:22:39.513Z"
   },
   {
    "duration": 20,
    "start_time": "2021-07-19T14:22:39.687Z"
   },
   {
    "duration": 53,
    "start_time": "2021-07-19T14:22:39.710Z"
   },
   {
    "duration": 29,
    "start_time": "2021-07-19T14:22:39.766Z"
   },
   {
    "duration": 81,
    "start_time": "2021-07-19T14:22:39.799Z"
   },
   {
    "duration": 81,
    "start_time": "2021-07-19T14:22:39.884Z"
   },
   {
    "duration": 4,
    "start_time": "2021-07-19T14:22:39.967Z"
   },
   {
    "duration": 129,
    "start_time": "2021-07-19T14:22:39.973Z"
   },
   {
    "duration": 93,
    "start_time": "2021-07-19T14:22:40.104Z"
   },
   {
    "duration": 111,
    "start_time": "2021-07-19T14:22:40.199Z"
   },
   {
    "duration": 3,
    "start_time": "2021-07-19T14:22:40.313Z"
   },
   {
    "duration": 60,
    "start_time": "2021-07-19T14:22:40.319Z"
   },
   {
    "duration": 30551,
    "start_time": "2021-07-19T14:22:40.381Z"
   },
   {
    "duration": 3998,
    "start_time": "2021-07-19T14:23:10.934Z"
   },
   {
    "duration": 17,
    "start_time": "2021-07-19T14:23:14.934Z"
   },
   {
    "duration": 3579,
    "start_time": "2021-07-19T14:23:14.957Z"
   },
   {
    "duration": 311,
    "start_time": "2021-07-19T14:23:18.538Z"
   },
   {
    "duration": 19,
    "start_time": "2021-07-19T14:23:18.855Z"
   },
   {
    "duration": 30,
    "start_time": "2021-07-19T14:23:18.876Z"
   },
   {
    "duration": 9,
    "start_time": "2021-07-19T14:23:18.912Z"
   },
   {
    "duration": 43,
    "start_time": "2021-07-19T14:23:18.925Z"
   },
   {
    "duration": 19,
    "start_time": "2021-07-19T14:23:18.971Z"
   },
   {
    "duration": 10,
    "start_time": "2021-07-19T14:23:18.992Z"
   },
   {
    "duration": 10,
    "start_time": "2021-07-19T14:23:19.004Z"
   },
   {
    "duration": 51,
    "start_time": "2021-07-19T14:23:19.017Z"
   },
   {
    "duration": 9,
    "start_time": "2021-07-19T14:23:19.071Z"
   },
   {
    "duration": 11,
    "start_time": "2021-07-19T14:23:19.083Z"
   },
   {
    "duration": 96,
    "start_time": "2021-07-19T14:23:19.096Z"
   },
   {
    "duration": 3,
    "start_time": "2021-07-19T14:23:19.194Z"
   },
   {
    "duration": 58,
    "start_time": "2021-07-19T14:23:19.200Z"
   },
   {
    "duration": 11,
    "start_time": "2021-07-19T14:23:19.260Z"
   },
   {
    "duration": 182,
    "start_time": "2021-07-19T14:23:19.275Z"
   },
   {
    "duration": 104,
    "start_time": "2021-07-19T14:23:19.460Z"
   },
   {
    "duration": 98,
    "start_time": "2021-07-19T14:23:19.568Z"
   },
   {
    "duration": 89,
    "start_time": "2021-07-19T14:23:19.669Z"
   },
   {
    "duration": 96,
    "start_time": "2021-07-19T14:23:19.763Z"
   },
   {
    "duration": 17,
    "start_time": "2021-07-19T14:23:19.862Z"
   },
   {
    "duration": 283,
    "start_time": "2021-07-19T14:23:19.881Z"
   },
   {
    "duration": 342,
    "start_time": "2021-07-19T14:23:20.167Z"
   },
   {
    "duration": 300,
    "start_time": "2021-07-19T14:23:20.511Z"
   },
   {
    "duration": 41,
    "start_time": "2021-07-19T14:23:20.814Z"
   },
   {
    "duration": 17,
    "start_time": "2021-07-19T14:23:20.858Z"
   },
   {
    "duration": 36,
    "start_time": "2021-07-19T14:23:20.886Z"
   },
   {
    "duration": 55,
    "start_time": "2021-07-19T14:23:20.924Z"
   },
   {
    "duration": 92,
    "start_time": "2021-07-19T14:23:21.063Z"
   },
   {
    "duration": 10,
    "start_time": "2021-07-19T14:23:21.160Z"
   },
   {
    "duration": 8,
    "start_time": "2021-07-19T14:23:21.173Z"
   },
   {
    "duration": 5,
    "start_time": "2021-07-19T14:23:21.184Z"
   },
   {
    "duration": 15,
    "start_time": "2021-07-19T14:23:21.192Z"
   },
   {
    "duration": 339,
    "start_time": "2021-07-19T14:23:21.209Z"
   },
   {
    "duration": 17,
    "start_time": "2021-07-19T14:23:21.550Z"
   },
   {
    "duration": 10,
    "start_time": "2021-07-19T14:23:21.569Z"
   },
   {
    "duration": 10,
    "start_time": "2021-07-19T14:23:21.581Z"
   },
   {
    "duration": 10,
    "start_time": "2021-07-19T14:23:21.594Z"
   },
   {
    "duration": 8,
    "start_time": "2021-07-19T14:23:21.606Z"
   },
   {
    "duration": 39,
    "start_time": "2021-07-19T14:23:21.617Z"
   },
   {
    "duration": 6,
    "start_time": "2021-07-19T14:23:21.659Z"
   },
   {
    "duration": 10,
    "start_time": "2021-07-19T14:23:21.668Z"
   },
   {
    "duration": 8,
    "start_time": "2021-07-19T14:23:21.681Z"
   },
   {
    "duration": 338,
    "start_time": "2021-07-19T14:23:21.693Z"
   },
   {
    "duration": 33,
    "start_time": "2021-07-19T14:23:22.033Z"
   },
   {
    "duration": 12,
    "start_time": "2021-07-19T14:23:22.068Z"
   },
   {
    "duration": 12,
    "start_time": "2021-07-19T14:23:22.083Z"
   },
   {
    "duration": 18,
    "start_time": "2021-07-19T14:23:22.099Z"
   },
   {
    "duration": 6,
    "start_time": "2021-07-19T14:23:22.155Z"
   },
   {
    "duration": 9,
    "start_time": "2021-07-19T14:23:22.166Z"
   },
   {
    "duration": 11,
    "start_time": "2021-07-19T14:23:22.178Z"
   },
   {
    "duration": 17,
    "start_time": "2021-07-19T14:23:22.192Z"
   },
   {
    "duration": 8,
    "start_time": "2021-07-19T14:23:22.213Z"
   },
   {
    "duration": 6893,
    "start_time": "2021-07-19T14:23:22.224Z"
   },
   {
    "duration": 5240,
    "start_time": "2021-07-19T14:23:29.120Z"
   },
   {
    "duration": 25,
    "start_time": "2021-07-19T14:23:34.362Z"
   },
   {
    "duration": 5,
    "start_time": "2021-07-19T14:23:34.389Z"
   },
   {
    "duration": 8,
    "start_time": "2021-07-19T14:23:34.397Z"
   },
   {
    "duration": 6132,
    "start_time": "2021-07-19T14:23:34.408Z"
   },
   {
    "duration": 5333,
    "start_time": "2021-07-19T14:23:40.543Z"
   },
   {
    "duration": 7,
    "start_time": "2021-07-19T14:23:45.878Z"
   },
   {
    "duration": 20,
    "start_time": "2021-07-19T14:23:45.887Z"
   },
   {
    "duration": 10,
    "start_time": "2021-07-19T14:23:45.909Z"
   },
   {
    "duration": 7865,
    "start_time": "2021-07-19T14:23:45.921Z"
   },
   {
    "duration": 8,
    "start_time": "2021-07-19T14:23:53.789Z"
   },
   {
    "duration": 27,
    "start_time": "2021-07-19T14:23:53.800Z"
   },
   {
    "duration": 31,
    "start_time": "2021-07-19T14:23:53.829Z"
   },
   {
    "duration": 21,
    "start_time": "2021-07-19T14:23:53.862Z"
   },
   {
    "duration": 9,
    "start_time": "2021-07-19T14:23:53.887Z"
   },
   {
    "duration": 18,
    "start_time": "2021-07-19T14:23:53.899Z"
   },
   {
    "duration": 43,
    "start_time": "2021-07-19T14:23:53.920Z"
   },
   {
    "duration": 20,
    "start_time": "2021-07-19T14:23:53.966Z"
   },
   {
    "duration": 18,
    "start_time": "2021-07-19T14:23:53.988Z"
   },
   {
    "duration": 8,
    "start_time": "2021-07-19T14:23:54.009Z"
   },
   {
    "duration": 41,
    "start_time": "2021-07-19T14:23:54.020Z"
   },
   {
    "duration": 17,
    "start_time": "2021-07-19T14:23:54.064Z"
   },
   {
    "duration": 345,
    "start_time": "2021-07-19T14:23:54.084Z"
   },
   {
    "duration": 251,
    "start_time": "2021-07-19T14:23:54.432Z"
   },
   {
    "duration": 223,
    "start_time": "2021-07-19T14:23:59.236Z"
   },
   {
    "duration": 77,
    "start_time": "2021-07-19T14:24:11.132Z"
   },
   {
    "duration": 92,
    "start_time": "2021-07-19T14:26:57.933Z"
   },
   {
    "duration": 95,
    "start_time": "2021-07-19T14:27:00.423Z"
   },
   {
    "duration": 50,
    "start_time": "2021-07-19T14:27:40.018Z"
   },
   {
    "duration": 5205,
    "start_time": "2021-07-19T14:58:43.389Z"
   },
   {
    "duration": 7,
    "start_time": "2021-07-19T15:00:36.268Z"
   },
   {
    "duration": 5226,
    "start_time": "2021-07-19T15:00:44.108Z"
   },
   {
    "duration": 5090,
    "start_time": "2021-07-19T15:01:18.017Z"
   },
   {
    "duration": 5446,
    "start_time": "2021-07-19T15:02:02.622Z"
   },
   {
    "duration": 5249,
    "start_time": "2021-07-19T15:03:05.319Z"
   },
   {
    "duration": 6912,
    "start_time": "2021-07-19T15:03:20.466Z"
   },
   {
    "duration": 3,
    "start_time": "2021-07-19T15:04:39.459Z"
   },
   {
    "duration": 5178,
    "start_time": "2021-07-19T15:05:35.731Z"
   },
   {
    "duration": 3,
    "start_time": "2021-07-19T15:06:02.103Z"
   },
   {
    "duration": 1429,
    "start_time": "2021-07-19T15:06:25.298Z"
   },
   {
    "duration": 185,
    "start_time": "2021-07-19T15:06:26.730Z"
   },
   {
    "duration": 182,
    "start_time": "2021-07-19T15:06:26.918Z"
   },
   {
    "duration": 191,
    "start_time": "2021-07-19T15:06:27.103Z"
   },
   {
    "duration": 21,
    "start_time": "2021-07-19T15:06:27.296Z"
   },
   {
    "duration": 49,
    "start_time": "2021-07-19T15:06:27.320Z"
   },
   {
    "duration": 22,
    "start_time": "2021-07-19T15:06:27.372Z"
   },
   {
    "duration": 95,
    "start_time": "2021-07-19T15:06:27.398Z"
   },
   {
    "duration": 65,
    "start_time": "2021-07-19T15:06:27.495Z"
   },
   {
    "duration": 111,
    "start_time": "2021-07-19T15:06:27.565Z"
   },
   {
    "duration": 108,
    "start_time": "2021-07-19T15:06:27.680Z"
   },
   {
    "duration": 135,
    "start_time": "2021-07-19T15:06:27.791Z"
   },
   {
    "duration": 134,
    "start_time": "2021-07-19T15:06:27.929Z"
   },
   {
    "duration": 62,
    "start_time": "2021-07-19T15:06:28.066Z"
   },
   {
    "duration": 28219,
    "start_time": "2021-07-19T15:06:28.131Z"
   },
   {
    "duration": 2663,
    "start_time": "2021-07-19T15:06:56.357Z"
   },
   {
    "duration": 35,
    "start_time": "2021-07-19T15:06:59.023Z"
   },
   {
    "duration": 3284,
    "start_time": "2021-07-19T15:06:59.061Z"
   },
   {
    "duration": 316,
    "start_time": "2021-07-19T15:07:02.347Z"
   },
   {
    "duration": 16,
    "start_time": "2021-07-19T15:07:02.666Z"
   },
   {
    "duration": 31,
    "start_time": "2021-07-19T15:07:02.685Z"
   },
   {
    "duration": 9,
    "start_time": "2021-07-19T15:07:02.719Z"
   },
   {
    "duration": 29,
    "start_time": "2021-07-19T15:07:02.735Z"
   },
   {
    "duration": 34,
    "start_time": "2021-07-19T15:07:02.768Z"
   },
   {
    "duration": 9,
    "start_time": "2021-07-19T15:07:02.805Z"
   },
   {
    "duration": 13,
    "start_time": "2021-07-19T15:07:02.817Z"
   },
   {
    "duration": 39,
    "start_time": "2021-07-19T15:07:02.832Z"
   },
   {
    "duration": 10,
    "start_time": "2021-07-19T15:07:02.874Z"
   },
   {
    "duration": 28,
    "start_time": "2021-07-19T15:07:02.886Z"
   },
   {
    "duration": 77,
    "start_time": "2021-07-19T15:07:02.917Z"
   },
   {
    "duration": 4,
    "start_time": "2021-07-19T15:07:02.996Z"
   },
   {
    "duration": 55,
    "start_time": "2021-07-19T15:07:03.002Z"
   },
   {
    "duration": 106,
    "start_time": "2021-07-19T15:07:03.060Z"
   },
   {
    "duration": 12,
    "start_time": "2021-07-19T15:07:03.256Z"
   },
   {
    "duration": 91,
    "start_time": "2021-07-19T15:07:03.270Z"
   },
   {
    "duration": 95,
    "start_time": "2021-07-19T15:07:03.365Z"
   },
   {
    "duration": 17,
    "start_time": "2021-07-19T15:07:03.463Z"
   },
   {
    "duration": 90,
    "start_time": "2021-07-19T15:07:03.573Z"
   },
   {
    "duration": 13,
    "start_time": "2021-07-19T15:07:03.666Z"
   },
   {
    "duration": 286,
    "start_time": "2021-07-19T15:07:03.682Z"
   },
   {
    "duration": 251,
    "start_time": "2021-07-19T15:07:03.971Z"
   },
   {
    "duration": 306,
    "start_time": "2021-07-19T15:07:04.225Z"
   },
   {
    "duration": 37,
    "start_time": "2021-07-19T15:07:04.533Z"
   },
   {
    "duration": 16,
    "start_time": "2021-07-19T15:07:04.573Z"
   },
   {
    "duration": 65,
    "start_time": "2021-07-19T15:07:04.593Z"
   },
   {
    "duration": 14,
    "start_time": "2021-07-19T15:07:04.661Z"
   },
   {
    "duration": 7,
    "start_time": "2021-07-19T15:07:04.856Z"
   },
   {
    "duration": 9,
    "start_time": "2021-07-19T15:07:04.865Z"
   },
   {
    "duration": 13,
    "start_time": "2021-07-19T15:07:04.877Z"
   },
   {
    "duration": 11,
    "start_time": "2021-07-19T15:07:04.892Z"
   },
   {
    "duration": 18,
    "start_time": "2021-07-19T15:07:04.905Z"
   },
   {
    "duration": 307,
    "start_time": "2021-07-19T15:07:04.956Z"
   },
   {
    "duration": 14,
    "start_time": "2021-07-19T15:07:05.265Z"
   },
   {
    "duration": 19,
    "start_time": "2021-07-19T15:07:05.281Z"
   },
   {
    "duration": 18,
    "start_time": "2021-07-19T15:07:05.303Z"
   },
   {
    "duration": 16,
    "start_time": "2021-07-19T15:07:05.323Z"
   },
   {
    "duration": 7,
    "start_time": "2021-07-19T15:07:05.355Z"
   },
   {
    "duration": 13,
    "start_time": "2021-07-19T15:07:05.365Z"
   },
   {
    "duration": 15,
    "start_time": "2021-07-19T15:07:05.381Z"
   },
   {
    "duration": 18,
    "start_time": "2021-07-19T15:07:05.398Z"
   },
   {
    "duration": 16,
    "start_time": "2021-07-19T15:07:05.418Z"
   },
   {
    "duration": 325,
    "start_time": "2021-07-19T15:07:05.436Z"
   },
   {
    "duration": 17,
    "start_time": "2021-07-19T15:07:05.763Z"
   },
   {
    "duration": 16,
    "start_time": "2021-07-19T15:07:05.782Z"
   },
   {
    "duration": 17,
    "start_time": "2021-07-19T15:07:05.801Z"
   },
   {
    "duration": 35,
    "start_time": "2021-07-19T15:07:05.821Z"
   },
   {
    "duration": 6,
    "start_time": "2021-07-19T15:07:05.858Z"
   },
   {
    "duration": 5,
    "start_time": "2021-07-19T15:07:05.874Z"
   },
   {
    "duration": 13,
    "start_time": "2021-07-19T15:07:05.882Z"
   },
   {
    "duration": 12,
    "start_time": "2021-07-19T15:07:05.898Z"
   },
   {
    "duration": 16,
    "start_time": "2021-07-19T15:07:05.913Z"
   },
   {
    "duration": 5362,
    "start_time": "2021-07-19T15:07:05.932Z"
   },
   {
    "duration": 625,
    "start_time": "2021-07-19T15:07:11.297Z"
   },
   {
    "duration": -16374,
    "start_time": "2021-07-19T15:07:28.298Z"
   },
   {
    "duration": -16636,
    "start_time": "2021-07-19T15:07:28.562Z"
   },
   {
    "duration": -16824,
    "start_time": "2021-07-19T15:07:28.751Z"
   },
   {
    "duration": -17026,
    "start_time": "2021-07-19T15:07:28.955Z"
   },
   {
    "duration": -17348,
    "start_time": "2021-07-19T15:07:29.278Z"
   },
   {
    "duration": -17496,
    "start_time": "2021-07-19T15:07:29.428Z"
   },
   {
    "duration": -17810,
    "start_time": "2021-07-19T15:07:29.743Z"
   },
   {
    "duration": -17956,
    "start_time": "2021-07-19T15:07:29.890Z"
   },
   {
    "duration": -18195,
    "start_time": "2021-07-19T15:07:30.131Z"
   },
   {
    "duration": -18401,
    "start_time": "2021-07-19T15:07:30.338Z"
   },
   {
    "duration": -18654,
    "start_time": "2021-07-19T15:07:30.592Z"
   },
   {
    "duration": -18858,
    "start_time": "2021-07-19T15:07:30.798Z"
   },
   {
    "duration": -19116,
    "start_time": "2021-07-19T15:07:31.057Z"
   },
   {
    "duration": -19330,
    "start_time": "2021-07-19T15:07:31.273Z"
   },
   {
    "duration": -19480,
    "start_time": "2021-07-19T15:07:31.425Z"
   },
   {
    "duration": -19780,
    "start_time": "2021-07-19T15:07:31.727Z"
   },
   {
    "duration": -19931,
    "start_time": "2021-07-19T15:07:31.879Z"
   },
   {
    "duration": -20243,
    "start_time": "2021-07-19T15:07:32.193Z"
   },
   {
    "duration": -20391,
    "start_time": "2021-07-19T15:07:32.343Z"
   },
   {
    "duration": -20639,
    "start_time": "2021-07-19T15:07:32.592Z"
   },
   {
    "duration": -20863,
    "start_time": "2021-07-19T15:07:32.818Z"
   },
   {
    "duration": -21111,
    "start_time": "2021-07-19T15:07:33.067Z"
   },
   {
    "duration": -21326,
    "start_time": "2021-07-19T15:07:33.283Z"
   },
   {
    "duration": 6,
    "start_time": "2021-07-19T15:13:23.437Z"
   },
   {
    "duration": 101,
    "start_time": "2021-07-19T15:14:30.102Z"
   },
   {
    "duration": 5113,
    "start_time": "2021-07-19T15:14:41.255Z"
   },
   {
    "duration": 482,
    "start_time": "2021-07-19T15:15:10.002Z"
   },
   {
    "duration": 17,
    "start_time": "2021-07-19T15:15:21.623Z"
   },
   {
    "duration": 296,
    "start_time": "2021-07-19T15:15:33.532Z"
   },
   {
    "duration": 4,
    "start_time": "2021-07-19T15:15:43.546Z"
   },
   {
    "duration": 8,
    "start_time": "2021-07-19T15:16:21.441Z"
   },
   {
    "duration": 5128,
    "start_time": "2021-07-19T15:17:16.732Z"
   },
   {
    "duration": 3,
    "start_time": "2021-07-19T15:17:31.709Z"
   },
   {
    "duration": 7,
    "start_time": "2021-07-19T15:17:33.383Z"
   },
   {
    "duration": 18,
    "start_time": "2021-07-19T15:17:37.472Z"
   },
   {
    "duration": 7,
    "start_time": "2021-07-19T15:17:39.455Z"
   },
   {
    "duration": 5332,
    "start_time": "2021-07-19T15:18:16.274Z"
   },
   {
    "duration": 7,
    "start_time": "2021-07-19T15:18:29.013Z"
   },
   {
    "duration": 17,
    "start_time": "2021-07-19T15:18:37.889Z"
   },
   {
    "duration": 5,
    "start_time": "2021-07-19T15:18:39.667Z"
   },
   {
    "duration": 14,
    "start_time": "2021-07-19T15:18:56.618Z"
   },
   {
    "duration": 8,
    "start_time": "2021-07-19T15:19:03.715Z"
   },
   {
    "duration": 11,
    "start_time": "2021-07-19T15:19:08.381Z"
   },
   {
    "duration": 8,
    "start_time": "2021-07-19T15:19:13.548Z"
   },
   {
    "duration": 8,
    "start_time": "2021-07-19T15:19:17.721Z"
   },
   {
    "duration": 13,
    "start_time": "2021-07-19T15:19:25.182Z"
   },
   {
    "duration": 9,
    "start_time": "2021-07-19T15:19:32.794Z"
   },
   {
    "duration": 9,
    "start_time": "2021-07-19T15:19:36.711Z"
   },
   {
    "duration": 18,
    "start_time": "2021-07-19T15:19:42.092Z"
   },
   {
    "duration": 275,
    "start_time": "2021-07-19T15:19:46.717Z"
   },
   {
    "duration": 449,
    "start_time": "2021-07-19T15:20:10.381Z"
   },
   {
    "duration": 298,
    "start_time": "2021-07-19T15:20:47.805Z"
   },
   {
    "duration": 231,
    "start_time": "2021-07-19T15:21:08.205Z"
   },
   {
    "duration": 4,
    "start_time": "2021-07-19T15:40:30.752Z"
   },
   {
    "duration": 15,
    "start_time": "2021-07-19T15:41:13.872Z"
   },
   {
    "duration": 18,
    "start_time": "2021-07-19T15:41:31.467Z"
   },
   {
    "duration": 5,
    "start_time": "2021-07-19T15:42:00.575Z"
   },
   {
    "duration": 9,
    "start_time": "2021-07-19T15:42:12.169Z"
   },
   {
    "duration": 17,
    "start_time": "2021-07-19T15:43:00.427Z"
   },
   {
    "duration": 1435,
    "start_time": "2021-07-19T15:43:11.984Z"
   },
   {
    "duration": 173,
    "start_time": "2021-07-19T15:43:13.421Z"
   },
   {
    "duration": 168,
    "start_time": "2021-07-19T15:43:13.597Z"
   },
   {
    "duration": 168,
    "start_time": "2021-07-19T15:43:13.768Z"
   },
   {
    "duration": 33,
    "start_time": "2021-07-19T15:43:13.939Z"
   },
   {
    "duration": 21,
    "start_time": "2021-07-19T15:43:13.974Z"
   },
   {
    "duration": 22,
    "start_time": "2021-07-19T15:43:13.998Z"
   },
   {
    "duration": 83,
    "start_time": "2021-07-19T15:43:14.023Z"
   },
   {
    "duration": 68,
    "start_time": "2021-07-19T15:43:14.109Z"
   },
   {
    "duration": 92,
    "start_time": "2021-07-19T15:43:14.179Z"
   },
   {
    "duration": 59,
    "start_time": "2021-07-19T15:43:14.273Z"
   },
   {
    "duration": 78,
    "start_time": "2021-07-19T15:43:14.334Z"
   },
   {
    "duration": 78,
    "start_time": "2021-07-19T15:43:14.415Z"
   },
   {
    "duration": 63,
    "start_time": "2021-07-19T15:43:14.496Z"
   },
   {
    "duration": 25673,
    "start_time": "2021-07-19T15:43:14.561Z"
   },
   {
    "duration": 2568,
    "start_time": "2021-07-19T15:43:40.237Z"
   },
   {
    "duration": 18,
    "start_time": "2021-07-19T15:43:42.808Z"
   },
   {
    "duration": 3201,
    "start_time": "2021-07-19T15:43:42.829Z"
   },
   {
    "duration": 301,
    "start_time": "2021-07-19T15:43:46.032Z"
   },
   {
    "duration": 23,
    "start_time": "2021-07-19T15:43:46.335Z"
   },
   {
    "duration": 37,
    "start_time": "2021-07-19T15:43:46.360Z"
   },
   {
    "duration": 10,
    "start_time": "2021-07-19T15:43:46.400Z"
   },
   {
    "duration": 10,
    "start_time": "2021-07-19T15:43:46.416Z"
   },
   {
    "duration": 46,
    "start_time": "2021-07-19T15:43:46.430Z"
   },
   {
    "duration": 10,
    "start_time": "2021-07-19T15:43:46.478Z"
   },
   {
    "duration": 10,
    "start_time": "2021-07-19T15:43:46.491Z"
   },
   {
    "duration": 22,
    "start_time": "2021-07-19T15:43:46.504Z"
   },
   {
    "duration": 10,
    "start_time": "2021-07-19T15:43:46.557Z"
   },
   {
    "duration": 11,
    "start_time": "2021-07-19T15:43:46.570Z"
   },
   {
    "duration": 98,
    "start_time": "2021-07-19T15:43:46.584Z"
   },
   {
    "duration": 4,
    "start_time": "2021-07-19T15:43:46.684Z"
   },
   {
    "duration": 18,
    "start_time": "2021-07-19T15:43:46.690Z"
   },
   {
    "duration": 54,
    "start_time": "2021-07-19T15:43:46.710Z"
   },
   {
    "duration": 12,
    "start_time": "2021-07-19T15:43:46.857Z"
   },
   {
    "duration": 16,
    "start_time": "2021-07-19T15:43:46.872Z"
   },
   {
    "duration": 103,
    "start_time": "2021-07-19T15:43:46.961Z"
   },
   {
    "duration": 23,
    "start_time": "2021-07-19T15:43:47.066Z"
   },
   {
    "duration": 8,
    "start_time": "2021-07-19T15:43:47.157Z"
   },
   {
    "duration": 16,
    "start_time": "2021-07-19T15:43:47.257Z"
   },
   {
    "duration": 298,
    "start_time": "2021-07-19T15:43:47.276Z"
   },
   {
    "duration": 238,
    "start_time": "2021-07-19T15:43:47.577Z"
   },
   {
    "duration": 310,
    "start_time": "2021-07-19T15:43:47.818Z"
   },
   {
    "duration": 44,
    "start_time": "2021-07-19T15:43:48.131Z"
   },
   {
    "duration": 17,
    "start_time": "2021-07-19T15:43:48.178Z"
   },
   {
    "duration": 42,
    "start_time": "2021-07-19T15:43:48.198Z"
   },
   {
    "duration": 11,
    "start_time": "2021-07-19T15:43:48.255Z"
   },
   {
    "duration": 187,
    "start_time": "2021-07-19T15:43:48.269Z"
   },
   {
    "duration": 9,
    "start_time": "2021-07-19T15:43:48.458Z"
   },
   {
    "duration": 8,
    "start_time": "2021-07-19T15:43:48.469Z"
   },
   {
    "duration": 5,
    "start_time": "2021-07-19T15:43:48.480Z"
   },
   {
    "duration": 12,
    "start_time": "2021-07-19T15:43:48.487Z"
   },
   {
    "duration": 336,
    "start_time": "2021-07-19T15:43:48.502Z"
   },
   {
    "duration": 19,
    "start_time": "2021-07-19T15:43:48.840Z"
   },
   {
    "duration": 11,
    "start_time": "2021-07-19T15:43:48.861Z"
   },
   {
    "duration": 17,
    "start_time": "2021-07-19T15:43:48.875Z"
   },
   {
    "duration": 11,
    "start_time": "2021-07-19T15:43:48.895Z"
   },
   {
    "duration": 8,
    "start_time": "2021-07-19T15:43:48.908Z"
   },
   {
    "duration": 13,
    "start_time": "2021-07-19T15:43:48.918Z"
   },
   {
    "duration": 5,
    "start_time": "2021-07-19T15:43:48.957Z"
   },
   {
    "duration": 12,
    "start_time": "2021-07-19T15:43:48.965Z"
   },
   {
    "duration": 8,
    "start_time": "2021-07-19T15:43:48.980Z"
   },
   {
    "duration": 326,
    "start_time": "2021-07-19T15:43:48.990Z"
   },
   {
    "duration": 15,
    "start_time": "2021-07-19T15:43:49.319Z"
   },
   {
    "duration": 24,
    "start_time": "2021-07-19T15:43:49.336Z"
   },
   {
    "duration": 9,
    "start_time": "2021-07-19T15:43:49.362Z"
   },
   {
    "duration": 9,
    "start_time": "2021-07-19T15:43:49.373Z"
   },
   {
    "duration": 7,
    "start_time": "2021-07-19T15:43:49.384Z"
   },
   {
    "duration": 4,
    "start_time": "2021-07-19T15:43:49.399Z"
   },
   {
    "duration": 8,
    "start_time": "2021-07-19T15:43:49.406Z"
   },
   {
    "duration": 39,
    "start_time": "2021-07-19T15:43:49.417Z"
   },
   {
    "duration": 6,
    "start_time": "2021-07-19T15:43:49.458Z"
   },
   {
    "duration": 5002,
    "start_time": "2021-07-19T15:43:49.467Z"
   },
   {
    "duration": 4,
    "start_time": "2021-07-19T15:43:54.472Z"
   },
   {
    "duration": 24,
    "start_time": "2021-07-19T15:43:54.478Z"
   },
   {
    "duration": 5,
    "start_time": "2021-07-19T15:43:54.504Z"
   },
   {
    "duration": 13,
    "start_time": "2021-07-19T15:43:54.512Z"
   },
   {
    "duration": 5043,
    "start_time": "2021-07-19T15:43:54.528Z"
   },
   {
    "duration": 3,
    "start_time": "2021-07-19T15:43:59.573Z"
   },
   {
    "duration": 13,
    "start_time": "2021-07-19T15:43:59.579Z"
   },
   {
    "duration": 19,
    "start_time": "2021-07-19T15:43:59.594Z"
   },
   {
    "duration": 43,
    "start_time": "2021-07-19T15:43:59.615Z"
   },
   {
    "duration": 5432,
    "start_time": "2021-07-19T15:43:59.661Z"
   },
   {
    "duration": 3,
    "start_time": "2021-07-19T15:44:05.095Z"
   },
   {
    "duration": 33,
    "start_time": "2021-07-19T15:44:05.101Z"
   },
   {
    "duration": 25,
    "start_time": "2021-07-19T15:44:05.137Z"
   },
   {
    "duration": 26,
    "start_time": "2021-07-19T15:44:05.164Z"
   },
   {
    "duration": 27,
    "start_time": "2021-07-19T15:44:05.192Z"
   },
   {
    "duration": 10,
    "start_time": "2021-07-19T15:44:05.221Z"
   },
   {
    "duration": 21,
    "start_time": "2021-07-19T15:44:05.233Z"
   },
   {
    "duration": 11,
    "start_time": "2021-07-19T15:44:05.257Z"
   },
   {
    "duration": 15,
    "start_time": "2021-07-19T15:44:05.270Z"
   },
   {
    "duration": 16,
    "start_time": "2021-07-19T15:44:05.287Z"
   },
   {
    "duration": 8,
    "start_time": "2021-07-19T15:44:05.305Z"
   },
   {
    "duration": 11,
    "start_time": "2021-07-19T15:44:05.316Z"
   },
   {
    "duration": 14,
    "start_time": "2021-07-19T15:44:05.356Z"
   },
   {
    "duration": 333,
    "start_time": "2021-07-19T15:44:05.372Z"
   },
   {
    "duration": 246,
    "start_time": "2021-07-19T15:44:05.707Z"
   },
   {
    "duration": 1455,
    "start_time": "2021-07-19T15:49:35.644Z"
   },
   {
    "duration": 183,
    "start_time": "2021-07-19T15:49:37.101Z"
   },
   {
    "duration": 170,
    "start_time": "2021-07-19T15:49:37.287Z"
   },
   {
    "duration": 168,
    "start_time": "2021-07-19T15:49:37.459Z"
   },
   {
    "duration": 30,
    "start_time": "2021-07-19T15:49:37.629Z"
   },
   {
    "duration": 20,
    "start_time": "2021-07-19T15:49:37.661Z"
   },
   {
    "duration": 22,
    "start_time": "2021-07-19T15:49:37.683Z"
   },
   {
    "duration": 87,
    "start_time": "2021-07-19T15:49:37.709Z"
   },
   {
    "duration": 73,
    "start_time": "2021-07-19T15:49:37.800Z"
   },
   {
    "duration": 89,
    "start_time": "2021-07-19T15:49:37.875Z"
   },
   {
    "duration": 59,
    "start_time": "2021-07-19T15:49:37.966Z"
   },
   {
    "duration": 74,
    "start_time": "2021-07-19T15:49:38.027Z"
   },
   {
    "duration": 76,
    "start_time": "2021-07-19T15:49:38.103Z"
   },
   {
    "duration": 43,
    "start_time": "2021-07-19T15:49:38.182Z"
   },
   {
    "duration": 26801,
    "start_time": "2021-07-19T15:49:38.228Z"
   },
   {
    "duration": 2672,
    "start_time": "2021-07-19T15:50:05.031Z"
   },
   {
    "duration": 16,
    "start_time": "2021-07-19T15:50:07.705Z"
   },
   {
    "duration": 3212,
    "start_time": "2021-07-19T15:50:07.724Z"
   },
   {
    "duration": 306,
    "start_time": "2021-07-19T15:50:10.939Z"
   },
   {
    "duration": 17,
    "start_time": "2021-07-19T15:50:11.255Z"
   },
   {
    "duration": 21,
    "start_time": "2021-07-19T15:50:11.275Z"
   },
   {
    "duration": 9,
    "start_time": "2021-07-19T15:50:11.299Z"
   },
   {
    "duration": 46,
    "start_time": "2021-07-19T15:50:11.315Z"
   },
   {
    "duration": 21,
    "start_time": "2021-07-19T15:50:11.365Z"
   },
   {
    "duration": 10,
    "start_time": "2021-07-19T15:50:11.389Z"
   },
   {
    "duration": 14,
    "start_time": "2021-07-19T15:50:11.402Z"
   },
   {
    "duration": 57,
    "start_time": "2021-07-19T15:50:11.419Z"
   },
   {
    "duration": 10,
    "start_time": "2021-07-19T15:50:11.478Z"
   },
   {
    "duration": 17,
    "start_time": "2021-07-19T15:50:11.491Z"
   },
   {
    "duration": 85,
    "start_time": "2021-07-19T15:50:11.510Z"
   },
   {
    "duration": 4,
    "start_time": "2021-07-19T15:50:11.597Z"
   },
   {
    "duration": 60,
    "start_time": "2021-07-19T15:50:11.603Z"
   },
   {
    "duration": 15,
    "start_time": "2021-07-19T15:50:11.665Z"
   },
   {
    "duration": 100,
    "start_time": "2021-07-19T15:50:11.758Z"
   },
   {
    "duration": 18,
    "start_time": "2021-07-19T15:50:11.860Z"
   },
   {
    "duration": 176,
    "start_time": "2021-07-19T15:50:11.881Z"
   },
   {
    "duration": 18,
    "start_time": "2021-07-19T15:50:12.060Z"
   },
   {
    "duration": 99,
    "start_time": "2021-07-19T15:50:12.160Z"
   },
   {
    "duration": 20,
    "start_time": "2021-07-19T15:50:12.262Z"
   },
   {
    "duration": 272,
    "start_time": "2021-07-19T15:50:12.284Z"
   },
   {
    "duration": 238,
    "start_time": "2021-07-19T15:50:12.558Z"
   },
   {
    "duration": 283,
    "start_time": "2021-07-19T15:50:12.799Z"
   },
   {
    "duration": 29,
    "start_time": "2021-07-19T15:50:13.085Z"
   },
   {
    "duration": 39,
    "start_time": "2021-07-19T15:50:13.118Z"
   },
   {
    "duration": 25,
    "start_time": "2021-07-19T15:50:13.159Z"
   },
   {
    "duration": 72,
    "start_time": "2021-07-19T15:50:13.187Z"
   },
   {
    "duration": 7,
    "start_time": "2021-07-19T15:50:13.262Z"
   },
   {
    "duration": 8,
    "start_time": "2021-07-19T15:50:13.358Z"
   },
   {
    "duration": 92,
    "start_time": "2021-07-19T15:50:13.369Z"
   },
   {
    "duration": 8,
    "start_time": "2021-07-19T15:50:13.464Z"
   },
   {
    "duration": 15,
    "start_time": "2021-07-19T15:50:13.475Z"
   },
   {
    "duration": 332,
    "start_time": "2021-07-19T15:50:13.493Z"
   },
   {
    "duration": 13,
    "start_time": "2021-07-19T15:50:13.827Z"
   },
   {
    "duration": 7,
    "start_time": "2021-07-19T15:50:13.855Z"
   },
   {
    "duration": 5,
    "start_time": "2021-07-19T15:50:13.865Z"
   },
   {
    "duration": 9,
    "start_time": "2021-07-19T15:50:13.873Z"
   },
   {
    "duration": 11,
    "start_time": "2021-07-19T15:50:13.885Z"
   },
   {
    "duration": 7,
    "start_time": "2021-07-19T15:50:13.899Z"
   },
   {
    "duration": 50,
    "start_time": "2021-07-19T15:50:13.908Z"
   },
   {
    "duration": 12,
    "start_time": "2021-07-19T15:50:13.960Z"
   },
   {
    "duration": 7,
    "start_time": "2021-07-19T15:50:13.975Z"
   },
   {
    "duration": 312,
    "start_time": "2021-07-19T15:50:13.984Z"
   },
   {
    "duration": 15,
    "start_time": "2021-07-19T15:50:14.298Z"
   },
   {
    "duration": 9,
    "start_time": "2021-07-19T15:50:14.316Z"
   },
   {
    "duration": 30,
    "start_time": "2021-07-19T15:50:14.327Z"
   },
   {
    "duration": 6,
    "start_time": "2021-07-19T15:50:14.359Z"
   },
   {
    "duration": 13,
    "start_time": "2021-07-19T15:50:14.367Z"
   },
   {
    "duration": 26,
    "start_time": "2021-07-19T15:50:14.389Z"
   },
   {
    "duration": 20,
    "start_time": "2021-07-19T15:50:14.418Z"
   },
   {
    "duration": 9,
    "start_time": "2021-07-19T15:50:14.440Z"
   },
   {
    "duration": 6,
    "start_time": "2021-07-19T15:50:14.451Z"
   },
   {
    "duration": 5111,
    "start_time": "2021-07-19T15:50:14.459Z"
   },
   {
    "duration": 5,
    "start_time": "2021-07-19T15:50:19.572Z"
   },
   {
    "duration": 20,
    "start_time": "2021-07-19T15:50:19.579Z"
   },
   {
    "duration": 7,
    "start_time": "2021-07-19T15:50:19.601Z"
   },
   {
    "duration": 8,
    "start_time": "2021-07-19T15:50:19.610Z"
   },
   {
    "duration": 4846,
    "start_time": "2021-07-19T15:50:19.656Z"
   },
   {
    "duration": 7,
    "start_time": "2021-07-19T15:50:24.504Z"
   },
   {
    "duration": 18,
    "start_time": "2021-07-19T15:50:24.513Z"
   },
   {
    "duration": 25,
    "start_time": "2021-07-19T15:50:24.533Z"
   },
   {
    "duration": 5189,
    "start_time": "2021-07-19T15:50:24.560Z"
   },
   {
    "duration": 7,
    "start_time": "2021-07-19T15:50:29.756Z"
   },
   {
    "duration": 25,
    "start_time": "2021-07-19T15:50:29.766Z"
   },
   {
    "duration": 8,
    "start_time": "2021-07-19T15:50:29.794Z"
   },
   {
    "duration": 19,
    "start_time": "2021-07-19T15:50:29.804Z"
   },
   {
    "duration": 32,
    "start_time": "2021-07-19T15:50:29.826Z"
   },
   {
    "duration": 12,
    "start_time": "2021-07-19T15:50:29.860Z"
   },
   {
    "duration": 9,
    "start_time": "2021-07-19T15:50:29.874Z"
   },
   {
    "duration": 14,
    "start_time": "2021-07-19T15:50:29.885Z"
   },
   {
    "duration": 22,
    "start_time": "2021-07-19T15:50:29.902Z"
   },
   {
    "duration": 8,
    "start_time": "2021-07-19T15:50:29.956Z"
   },
   {
    "duration": 7,
    "start_time": "2021-07-19T15:50:29.967Z"
   },
   {
    "duration": 13,
    "start_time": "2021-07-19T15:50:29.976Z"
   },
   {
    "duration": 339,
    "start_time": "2021-07-19T15:50:29.992Z"
   },
   {
    "duration": 242,
    "start_time": "2021-07-19T15:50:30.335Z"
   },
   {
    "duration": 1453,
    "start_time": "2021-07-19T15:56:51.653Z"
   },
   {
    "duration": 176,
    "start_time": "2021-07-19T15:56:53.109Z"
   },
   {
    "duration": 169,
    "start_time": "2021-07-19T15:56:53.288Z"
   },
   {
    "duration": 166,
    "start_time": "2021-07-19T15:56:53.459Z"
   },
   {
    "duration": 29,
    "start_time": "2021-07-19T15:56:53.628Z"
   },
   {
    "duration": 20,
    "start_time": "2021-07-19T15:56:53.660Z"
   },
   {
    "duration": 25,
    "start_time": "2021-07-19T15:56:53.683Z"
   },
   {
    "duration": 93,
    "start_time": "2021-07-19T15:56:53.712Z"
   },
   {
    "duration": 68,
    "start_time": "2021-07-19T15:56:53.808Z"
   },
   {
    "duration": 92,
    "start_time": "2021-07-19T15:56:53.878Z"
   },
   {
    "duration": 61,
    "start_time": "2021-07-19T15:56:53.973Z"
   },
   {
    "duration": 68,
    "start_time": "2021-07-19T15:56:54.036Z"
   },
   {
    "duration": 78,
    "start_time": "2021-07-19T15:56:54.107Z"
   },
   {
    "duration": 43,
    "start_time": "2021-07-19T15:56:54.188Z"
   },
   {
    "duration": 25885,
    "start_time": "2021-07-19T15:56:54.234Z"
   },
   {
    "duration": 3221,
    "start_time": "2021-07-19T15:57:20.121Z"
   },
   {
    "duration": 2492,
    "start_time": "2021-07-19T15:57:23.345Z"
   },
   {
    "duration": 28,
    "start_time": "2021-07-19T15:57:25.840Z"
   },
   {
    "duration": 309,
    "start_time": "2021-07-19T15:57:25.871Z"
   },
   {
    "duration": 17,
    "start_time": "2021-07-19T15:57:26.183Z"
   },
   {
    "duration": 21,
    "start_time": "2021-07-19T15:57:26.202Z"
   },
   {
    "duration": 32,
    "start_time": "2021-07-19T15:57:26.225Z"
   },
   {
    "duration": 11,
    "start_time": "2021-07-19T15:57:26.264Z"
   },
   {
    "duration": 20,
    "start_time": "2021-07-19T15:57:26.279Z"
   },
   {
    "duration": 9,
    "start_time": "2021-07-19T15:57:26.302Z"
   },
   {
    "duration": 47,
    "start_time": "2021-07-19T15:57:26.313Z"
   },
   {
    "duration": 21,
    "start_time": "2021-07-19T15:57:26.363Z"
   },
   {
    "duration": 10,
    "start_time": "2021-07-19T15:57:26.387Z"
   },
   {
    "duration": 13,
    "start_time": "2021-07-19T15:57:26.400Z"
   },
   {
    "duration": 96,
    "start_time": "2021-07-19T15:57:26.416Z"
   },
   {
    "duration": 3,
    "start_time": "2021-07-19T15:57:26.515Z"
   },
   {
    "duration": 16,
    "start_time": "2021-07-19T15:57:26.556Z"
   },
   {
    "duration": 86,
    "start_time": "2021-07-19T15:57:26.574Z"
   },
   {
    "duration": 103,
    "start_time": "2021-07-19T15:57:26.663Z"
   },
   {
    "duration": 90,
    "start_time": "2021-07-19T15:57:26.768Z"
   },
   {
    "duration": 100,
    "start_time": "2021-07-19T15:57:26.862Z"
   },
   {
    "duration": 17,
    "start_time": "2021-07-19T15:57:26.965Z"
   },
   {
    "duration": 101,
    "start_time": "2021-07-19T15:57:27.057Z"
   },
   {
    "duration": 27,
    "start_time": "2021-07-19T15:57:27.161Z"
   },
   {
    "duration": 281,
    "start_time": "2021-07-19T15:57:27.190Z"
   },
   {
    "duration": 258,
    "start_time": "2021-07-19T15:57:27.473Z"
   },
   {
    "duration": 281,
    "start_time": "2021-07-19T15:57:27.734Z"
   },
   {
    "duration": 41,
    "start_time": "2021-07-19T15:57:28.018Z"
   },
   {
    "duration": 16,
    "start_time": "2021-07-19T15:57:28.061Z"
   },
   {
    "duration": 38,
    "start_time": "2021-07-19T15:57:28.079Z"
   },
   {
    "duration": 39,
    "start_time": "2021-07-19T15:57:28.120Z"
   },
   {
    "duration": 97,
    "start_time": "2021-07-19T15:57:28.164Z"
   },
   {
    "duration": 96,
    "start_time": "2021-07-19T15:57:28.264Z"
   },
   {
    "duration": 7,
    "start_time": "2021-07-19T15:57:28.363Z"
   },
   {
    "duration": 6,
    "start_time": "2021-07-19T15:57:28.373Z"
   },
   {
    "duration": 18,
    "start_time": "2021-07-19T15:57:28.381Z"
   },
   {
    "duration": 306,
    "start_time": "2021-07-19T15:57:28.401Z"
   },
   {
    "duration": 12,
    "start_time": "2021-07-19T15:57:28.709Z"
   },
   {
    "duration": 13,
    "start_time": "2021-07-19T15:57:28.723Z"
   },
   {
    "duration": 5,
    "start_time": "2021-07-19T15:57:28.755Z"
   },
   {
    "duration": 8,
    "start_time": "2021-07-19T15:57:28.763Z"
   },
   {
    "duration": 8,
    "start_time": "2021-07-19T15:57:28.774Z"
   },
   {
    "duration": 9,
    "start_time": "2021-07-19T15:57:28.785Z"
   },
   {
    "duration": 10,
    "start_time": "2021-07-19T15:57:28.796Z"
   },
   {
    "duration": 14,
    "start_time": "2021-07-19T15:57:28.809Z"
   },
   {
    "duration": 35,
    "start_time": "2021-07-19T15:57:28.825Z"
   },
   {
    "duration": 295,
    "start_time": "2021-07-19T15:57:28.863Z"
   },
   {
    "duration": 14,
    "start_time": "2021-07-19T15:57:29.161Z"
   },
   {
    "duration": 14,
    "start_time": "2021-07-19T15:57:29.177Z"
   },
   {
    "duration": 22,
    "start_time": "2021-07-19T15:57:29.193Z"
   },
   {
    "duration": 16,
    "start_time": "2021-07-19T15:57:29.217Z"
   },
   {
    "duration": 11,
    "start_time": "2021-07-19T15:57:29.235Z"
   },
   {
    "duration": 4,
    "start_time": "2021-07-19T15:57:29.261Z"
   },
   {
    "duration": 8,
    "start_time": "2021-07-19T15:57:29.269Z"
   },
   {
    "duration": 8,
    "start_time": "2021-07-19T15:57:29.280Z"
   },
   {
    "duration": 10,
    "start_time": "2021-07-19T15:57:29.291Z"
   },
   {
    "duration": 5145,
    "start_time": "2021-07-19T15:57:29.303Z"
   },
   {
    "duration": 9,
    "start_time": "2021-07-19T15:57:34.450Z"
   },
   {
    "duration": 22,
    "start_time": "2021-07-19T15:57:34.461Z"
   },
   {
    "duration": 18,
    "start_time": "2021-07-19T15:57:34.485Z"
   },
   {
    "duration": 9,
    "start_time": "2021-07-19T15:57:34.506Z"
   },
   {
    "duration": 6639,
    "start_time": "2021-07-19T15:57:34.517Z"
   },
   {
    "duration": 7,
    "start_time": "2021-07-19T15:57:41.159Z"
   },
   {
    "duration": 26,
    "start_time": "2021-07-19T15:57:41.169Z"
   },
   {
    "duration": 6,
    "start_time": "2021-07-19T15:57:41.198Z"
   },
   {
    "duration": 5785,
    "start_time": "2021-07-19T15:57:41.206Z"
   },
   {
    "duration": 7,
    "start_time": "2021-07-19T15:57:46.993Z"
   },
   {
    "duration": 26,
    "start_time": "2021-07-19T15:57:47.003Z"
   },
   {
    "duration": 25,
    "start_time": "2021-07-19T15:57:47.031Z"
   },
   {
    "duration": 13,
    "start_time": "2021-07-19T15:57:47.059Z"
   },
   {
    "duration": 8,
    "start_time": "2021-07-19T15:57:47.075Z"
   },
   {
    "duration": 24,
    "start_time": "2021-07-19T15:57:47.085Z"
   },
   {
    "duration": 9,
    "start_time": "2021-07-19T15:57:47.112Z"
   },
   {
    "duration": 8,
    "start_time": "2021-07-19T15:57:47.156Z"
   },
   {
    "duration": 22,
    "start_time": "2021-07-19T15:57:47.167Z"
   },
   {
    "duration": 7,
    "start_time": "2021-07-19T15:57:47.192Z"
   },
   {
    "duration": 17,
    "start_time": "2021-07-19T15:57:47.202Z"
   },
   {
    "duration": 14,
    "start_time": "2021-07-19T15:57:47.257Z"
   },
   {
    "duration": 324,
    "start_time": "2021-07-19T15:57:47.274Z"
   },
   {
    "duration": 244,
    "start_time": "2021-07-19T15:57:47.600Z"
   },
   {
    "duration": 7985,
    "start_time": "2021-07-19T16:03:13.939Z"
   },
   {
    "duration": 275,
    "start_time": "2021-07-19T16:05:06.019Z"
   },
   {
    "duration": 1478,
    "start_time": "2021-07-19T16:05:26.330Z"
   },
   {
    "duration": 173,
    "start_time": "2021-07-19T16:05:27.811Z"
   },
   {
    "duration": 165,
    "start_time": "2021-07-19T16:05:27.986Z"
   },
   {
    "duration": 167,
    "start_time": "2021-07-19T16:05:28.156Z"
   },
   {
    "duration": 31,
    "start_time": "2021-07-19T16:05:28.325Z"
   },
   {
    "duration": 21,
    "start_time": "2021-07-19T16:05:28.358Z"
   },
   {
    "duration": 26,
    "start_time": "2021-07-19T16:05:28.382Z"
   },
   {
    "duration": 83,
    "start_time": "2021-07-19T16:05:28.412Z"
   },
   {
    "duration": 68,
    "start_time": "2021-07-19T16:05:28.498Z"
   },
   {
    "duration": 71,
    "start_time": "2021-07-19T16:05:28.568Z"
   },
   {
    "duration": 71,
    "start_time": "2021-07-19T16:05:28.641Z"
   },
   {
    "duration": 75,
    "start_time": "2021-07-19T16:05:28.714Z"
   },
   {
    "duration": 72,
    "start_time": "2021-07-19T16:05:28.791Z"
   },
   {
    "duration": 43,
    "start_time": "2021-07-19T16:05:28.865Z"
   },
   {
    "duration": 25064,
    "start_time": "2021-07-19T16:05:28.911Z"
   },
   {
    "duration": 3313,
    "start_time": "2021-07-19T16:05:53.978Z"
   },
   {
    "duration": 2487,
    "start_time": "2021-07-19T16:05:57.294Z"
   },
   {
    "duration": 18,
    "start_time": "2021-07-19T16:05:59.783Z"
   },
   {
    "duration": 312,
    "start_time": "2021-07-19T16:05:59.803Z"
   },
   {
    "duration": 19,
    "start_time": "2021-07-19T16:06:00.117Z"
   },
   {
    "duration": 13,
    "start_time": "2021-07-19T16:06:00.155Z"
   },
   {
    "duration": 35,
    "start_time": "2021-07-19T16:06:00.170Z"
   },
   {
    "duration": 13,
    "start_time": "2021-07-19T16:06:00.211Z"
   },
   {
    "duration": 34,
    "start_time": "2021-07-19T16:06:00.227Z"
   },
   {
    "duration": 46,
    "start_time": "2021-07-19T16:06:00.263Z"
   },
   {
    "duration": 22,
    "start_time": "2021-07-19T16:06:00.311Z"
   },
   {
    "duration": 28,
    "start_time": "2021-07-19T16:06:00.335Z"
   },
   {
    "duration": 42,
    "start_time": "2021-07-19T16:06:00.365Z"
   },
   {
    "duration": 10,
    "start_time": "2021-07-19T16:06:00.410Z"
   },
   {
    "duration": 25,
    "start_time": "2021-07-19T16:06:00.422Z"
   },
   {
    "duration": 85,
    "start_time": "2021-07-19T16:06:00.450Z"
   },
   {
    "duration": 3,
    "start_time": "2021-07-19T16:06:00.537Z"
   },
   {
    "duration": 437,
    "start_time": "2021-07-19T16:06:00.555Z"
   },
   {
    "duration": -9883,
    "start_time": "2021-07-19T16:06:10.879Z"
   },
   {
    "duration": -10257,
    "start_time": "2021-07-19T16:06:11.255Z"
   },
   {
    "duration": -10511,
    "start_time": "2021-07-19T16:06:11.511Z"
   },
   {
    "duration": -10678,
    "start_time": "2021-07-19T16:06:11.679Z"
   },
   {
    "duration": -11035,
    "start_time": "2021-07-19T16:06:12.038Z"
   },
   {
    "duration": -11191,
    "start_time": "2021-07-19T16:06:12.195Z"
   },
   {
    "duration": -11443,
    "start_time": "2021-07-19T16:06:12.448Z"
   },
   {
    "duration": -11592,
    "start_time": "2021-07-19T16:06:12.599Z"
   },
   {
    "duration": -11935,
    "start_time": "2021-07-19T16:06:12.943Z"
   },
   {
    "duration": -12206,
    "start_time": "2021-07-19T16:06:13.215Z"
   },
   {
    "duration": -12359,
    "start_time": "2021-07-19T16:06:13.369Z"
   },
   {
    "duration": -12511,
    "start_time": "2021-07-19T16:06:13.522Z"
   },
   {
    "duration": -12844,
    "start_time": "2021-07-19T16:06:13.857Z"
   },
   {
    "duration": -13111,
    "start_time": "2021-07-19T16:06:14.125Z"
   },
   {
    "duration": -13277,
    "start_time": "2021-07-19T16:06:14.293Z"
   },
   {
    "duration": -13439,
    "start_time": "2021-07-19T16:06:14.456Z"
   },
   {
    "duration": -13780,
    "start_time": "2021-07-19T16:06:14.799Z"
   },
   {
    "duration": -14019,
    "start_time": "2021-07-19T16:06:15.039Z"
   },
   {
    "duration": -14175,
    "start_time": "2021-07-19T16:06:15.197Z"
   },
   {
    "duration": -14504,
    "start_time": "2021-07-19T16:06:15.527Z"
   },
   {
    "duration": -14672,
    "start_time": "2021-07-19T16:06:15.697Z"
   },
   {
    "duration": -14916,
    "start_time": "2021-07-19T16:06:15.943Z"
   },
   {
    "duration": -15067,
    "start_time": "2021-07-19T16:06:16.095Z"
   },
   {
    "duration": -15420,
    "start_time": "2021-07-19T16:06:16.449Z"
   },
   {
    "duration": -15693,
    "start_time": "2021-07-19T16:06:16.724Z"
   },
   {
    "duration": -15826,
    "start_time": "2021-07-19T16:06:16.881Z"
   },
   {
    "duration": -15982,
    "start_time": "2021-07-19T16:06:17.039Z"
   },
   {
    "duration": -16284,
    "start_time": "2021-07-19T16:06:17.343Z"
   },
   {
    "duration": -16547,
    "start_time": "2021-07-19T16:06:17.607Z"
   },
   {
    "duration": -16697,
    "start_time": "2021-07-19T16:06:17.759Z"
   },
   {
    "duration": -16853,
    "start_time": "2021-07-19T16:06:17.917Z"
   },
   {
    "duration": -17165,
    "start_time": "2021-07-19T16:06:18.230Z"
   },
   {
    "duration": -17446,
    "start_time": "2021-07-19T16:06:18.513Z"
   },
   {
    "duration": -17597,
    "start_time": "2021-07-19T16:06:18.665Z"
   },
   {
    "duration": -17946,
    "start_time": "2021-07-19T16:06:19.016Z"
   },
   {
    "duration": -18105,
    "start_time": "2021-07-19T16:06:19.176Z"
   },
   {
    "duration": -18368,
    "start_time": "2021-07-19T16:06:19.441Z"
   },
   {
    "duration": -18529,
    "start_time": "2021-07-19T16:06:19.603Z"
   },
   {
    "duration": -18885,
    "start_time": "2021-07-19T16:06:19.960Z"
   },
   {
    "duration": -19115,
    "start_time": "2021-07-19T16:06:20.191Z"
   },
   {
    "duration": -19293,
    "start_time": "2021-07-19T16:06:20.371Z"
   },
   {
    "duration": -19445,
    "start_time": "2021-07-19T16:06:20.524Z"
   },
   {
    "duration": -19783,
    "start_time": "2021-07-19T16:06:20.863Z"
   },
   {
    "duration": -20052,
    "start_time": "2021-07-19T16:06:21.134Z"
   },
   {
    "duration": -20216,
    "start_time": "2021-07-19T16:06:21.299Z"
   },
   {
    "duration": -20365,
    "start_time": "2021-07-19T16:06:21.449Z"
   },
   {
    "duration": -20726,
    "start_time": "2021-07-19T16:06:21.811Z"
   },
   {
    "duration": -20963,
    "start_time": "2021-07-19T16:06:22.050Z"
   },
   {
    "duration": -21117,
    "start_time": "2021-07-19T16:06:22.205Z"
   },
   {
    "duration": -21271,
    "start_time": "2021-07-19T16:06:22.360Z"
   },
   {
    "duration": -21621,
    "start_time": "2021-07-19T16:06:22.711Z"
   },
   {
    "duration": -21865,
    "start_time": "2021-07-19T16:06:22.956Z"
   },
   {
    "duration": -22016,
    "start_time": "2021-07-19T16:06:23.109Z"
   },
   {
    "duration": -22352,
    "start_time": "2021-07-19T16:06:23.446Z"
   },
   {
    "duration": -22454,
    "start_time": "2021-07-19T16:06:23.610Z"
   },
   {
    "duration": -22696,
    "start_time": "2021-07-19T16:06:23.854Z"
   },
   {
    "duration": -22847,
    "start_time": "2021-07-19T16:06:24.006Z"
   },
   {
    "duration": -23173,
    "start_time": "2021-07-19T16:06:24.334Z"
   },
   {
    "duration": -23344,
    "start_time": "2021-07-19T16:06:24.507Z"
   },
   {
    "duration": -23539,
    "start_time": "2021-07-19T16:06:24.704Z"
   },
   {
    "duration": -23692,
    "start_time": "2021-07-19T16:06:24.858Z"
   },
   {
    "duration": -24005,
    "start_time": "2021-07-19T16:06:25.173Z"
   },
   {
    "duration": -24250,
    "start_time": "2021-07-19T16:06:25.419Z"
   },
   {
    "duration": 11,
    "start_time": "2021-07-19T17:35:27.975Z"
   },
   {
    "duration": 18,
    "start_time": "2021-07-19T17:35:44.009Z"
   },
   {
    "duration": 17,
    "start_time": "2021-07-19T17:35:51.267Z"
   },
   {
    "duration": 36,
    "start_time": "2021-07-19T17:37:02.086Z"
   },
   {
    "duration": 15,
    "start_time": "2021-07-19T17:37:13.571Z"
   },
   {
    "duration": 16,
    "start_time": "2021-07-19T17:37:27.254Z"
   },
   {
    "duration": 1387,
    "start_time": "2021-07-19T17:55:47.203Z"
   },
   {
    "duration": 309,
    "start_time": "2021-07-19T17:55:48.592Z"
   },
   {
    "duration": 176,
    "start_time": "2021-07-19T17:55:48.904Z"
   },
   {
    "duration": 181,
    "start_time": "2021-07-19T17:55:49.083Z"
   },
   {
    "duration": 22,
    "start_time": "2021-07-19T17:55:49.266Z"
   },
   {
    "duration": 31,
    "start_time": "2021-07-19T17:55:49.290Z"
   },
   {
    "duration": 38,
    "start_time": "2021-07-19T17:55:49.323Z"
   },
   {
    "duration": 60,
    "start_time": "2021-07-19T17:55:49.365Z"
   },
   {
    "duration": 79,
    "start_time": "2021-07-19T17:55:49.428Z"
   },
   {
    "duration": 98,
    "start_time": "2021-07-19T17:55:49.510Z"
   },
   {
    "duration": 70,
    "start_time": "2021-07-19T17:55:49.611Z"
   },
   {
    "duration": 82,
    "start_time": "2021-07-19T17:55:49.683Z"
   },
   {
    "duration": 61,
    "start_time": "2021-07-19T17:55:49.768Z"
   },
   {
    "duration": 58,
    "start_time": "2021-07-19T17:55:49.831Z"
   },
   {
    "duration": 24845,
    "start_time": "2021-07-19T17:55:49.891Z"
   },
   {
    "duration": 3309,
    "start_time": "2021-07-19T17:56:14.739Z"
   },
   {
    "duration": 2499,
    "start_time": "2021-07-19T17:56:18.051Z"
   },
   {
    "duration": 17,
    "start_time": "2021-07-19T17:56:20.555Z"
   },
   {
    "duration": 309,
    "start_time": "2021-07-19T17:56:20.574Z"
   },
   {
    "duration": 17,
    "start_time": "2021-07-19T17:56:20.886Z"
   },
   {
    "duration": 27,
    "start_time": "2021-07-19T17:56:20.905Z"
   },
   {
    "duration": 26,
    "start_time": "2021-07-19T17:56:20.935Z"
   },
   {
    "duration": 18,
    "start_time": "2021-07-19T17:56:20.966Z"
   },
   {
    "duration": 25,
    "start_time": "2021-07-19T17:56:20.988Z"
   },
   {
    "duration": 8,
    "start_time": "2021-07-19T17:56:21.016Z"
   },
   {
    "duration": 36,
    "start_time": "2021-07-19T17:56:21.027Z"
   },
   {
    "duration": 22,
    "start_time": "2021-07-19T17:56:21.065Z"
   },
   {
    "duration": 10,
    "start_time": "2021-07-19T17:56:21.089Z"
   },
   {
    "duration": 11,
    "start_time": "2021-07-19T17:56:21.101Z"
   },
   {
    "duration": 93,
    "start_time": "2021-07-19T17:56:21.114Z"
   },
   {
    "duration": 4,
    "start_time": "2021-07-19T17:56:21.209Z"
   },
   {
    "duration": 54,
    "start_time": "2021-07-19T17:56:21.215Z"
   },
   {
    "duration": 87,
    "start_time": "2021-07-19T17:56:21.271Z"
   },
   {
    "duration": 108,
    "start_time": "2021-07-19T17:56:21.362Z"
   },
   {
    "duration": 15,
    "start_time": "2021-07-19T17:56:21.472Z"
   },
   {
    "duration": 104,
    "start_time": "2021-07-19T17:56:21.558Z"
   },
   {
    "duration": 16,
    "start_time": "2021-07-19T17:56:21.665Z"
   },
   {
    "duration": 98,
    "start_time": "2021-07-19T17:56:21.758Z"
   },
   {
    "duration": 12,
    "start_time": "2021-07-19T17:56:21.858Z"
   },
   {
    "duration": 276,
    "start_time": "2021-07-19T17:56:21.872Z"
   },
   {
    "duration": 224,
    "start_time": "2021-07-19T17:56:22.150Z"
   },
   {
    "duration": 288,
    "start_time": "2021-07-19T17:56:22.376Z"
   },
   {
    "duration": 25,
    "start_time": "2021-07-19T17:56:22.666Z"
   },
   {
    "duration": 16,
    "start_time": "2021-07-19T17:56:22.693Z"
   },
   {
    "duration": 53,
    "start_time": "2021-07-19T17:56:22.712Z"
   },
   {
    "duration": 96,
    "start_time": "2021-07-19T17:56:22.767Z"
   },
   {
    "duration": 99,
    "start_time": "2021-07-19T17:56:22.957Z"
   },
   {
    "duration": 7,
    "start_time": "2021-07-19T17:56:23.059Z"
   },
   {
    "duration": 12,
    "start_time": "2021-07-19T17:56:23.069Z"
   },
   {
    "duration": 6,
    "start_time": "2021-07-19T17:56:23.083Z"
   },
   {
    "duration": 15,
    "start_time": "2021-07-19T17:56:23.091Z"
   },
   {
    "duration": 320,
    "start_time": "2021-07-19T17:56:23.108Z"
   },
   {
    "duration": 12,
    "start_time": "2021-07-19T17:56:23.430Z"
   },
   {
    "duration": 13,
    "start_time": "2021-07-19T17:56:23.445Z"
   },
   {
    "duration": 13,
    "start_time": "2021-07-19T17:56:23.460Z"
   },
   {
    "duration": 7,
    "start_time": "2021-07-19T17:56:23.475Z"
   },
   {
    "duration": 6,
    "start_time": "2021-07-19T17:56:23.485Z"
   },
   {
    "duration": 10,
    "start_time": "2021-07-19T17:56:23.493Z"
   },
   {
    "duration": 11,
    "start_time": "2021-07-19T17:56:23.505Z"
   },
   {
    "duration": 39,
    "start_time": "2021-07-19T17:56:23.518Z"
   },
   {
    "duration": 7,
    "start_time": "2021-07-19T17:56:23.560Z"
   },
   {
    "duration": 294,
    "start_time": "2021-07-19T17:56:23.569Z"
   },
   {
    "duration": 16,
    "start_time": "2021-07-19T17:56:23.866Z"
   },
   {
    "duration": 10,
    "start_time": "2021-07-19T17:56:23.884Z"
   },
   {
    "duration": 7,
    "start_time": "2021-07-19T17:56:23.897Z"
   },
   {
    "duration": 6,
    "start_time": "2021-07-19T17:56:23.907Z"
   },
   {
    "duration": 43,
    "start_time": "2021-07-19T17:56:23.915Z"
   },
   {
    "duration": 7,
    "start_time": "2021-07-19T17:56:23.966Z"
   },
   {
    "duration": 25,
    "start_time": "2021-07-19T17:56:23.976Z"
   },
   {
    "duration": 26,
    "start_time": "2021-07-19T17:56:24.003Z"
   },
   {
    "duration": 18,
    "start_time": "2021-07-19T17:56:24.031Z"
   },
   {
    "duration": 4978,
    "start_time": "2021-07-19T17:56:24.051Z"
   },
   {
    "duration": 4,
    "start_time": "2021-07-19T17:56:29.031Z"
   },
   {
    "duration": 27,
    "start_time": "2021-07-19T17:56:29.038Z"
   },
   {
    "duration": 22,
    "start_time": "2021-07-19T17:56:29.067Z"
   },
   {
    "duration": 14,
    "start_time": "2021-07-19T17:56:29.091Z"
   },
   {
    "duration": 4856,
    "start_time": "2021-07-19T17:56:29.107Z"
   },
   {
    "duration": 7,
    "start_time": "2021-07-19T17:56:33.965Z"
   },
   {
    "duration": 22,
    "start_time": "2021-07-19T17:56:33.974Z"
   },
   {
    "duration": 4,
    "start_time": "2021-07-19T17:56:33.999Z"
   },
   {
    "duration": 4808,
    "start_time": "2021-07-19T17:56:34.005Z"
   },
   {
    "duration": 6,
    "start_time": "2021-07-19T17:56:38.815Z"
   },
   {
    "duration": 35,
    "start_time": "2021-07-19T17:56:38.824Z"
   },
   {
    "duration": 4,
    "start_time": "2021-07-19T17:56:38.861Z"
   },
   {
    "duration": 14,
    "start_time": "2021-07-19T17:56:38.867Z"
   },
   {
    "duration": 7,
    "start_time": "2021-07-19T17:56:38.884Z"
   },
   {
    "duration": 18,
    "start_time": "2021-07-19T17:56:38.893Z"
   },
   {
    "duration": 42,
    "start_time": "2021-07-19T17:56:38.914Z"
   },
   {
    "duration": 10,
    "start_time": "2021-07-19T17:56:38.959Z"
   },
   {
    "duration": 18,
    "start_time": "2021-07-19T17:56:38.972Z"
   },
   {
    "duration": 9,
    "start_time": "2021-07-19T17:56:38.993Z"
   },
   {
    "duration": 55,
    "start_time": "2021-07-19T17:56:39.004Z"
   },
   {
    "duration": 18,
    "start_time": "2021-07-19T17:56:39.062Z"
   },
   {
    "duration": 324,
    "start_time": "2021-07-19T17:56:39.083Z"
   },
   {
    "duration": 240,
    "start_time": "2021-07-19T17:56:39.410Z"
   },
   {
    "duration": 77,
    "start_time": "2021-07-19T18:02:11.694Z"
   },
   {
    "duration": 4,
    "start_time": "2021-07-19T18:02:38.335Z"
   },
   {
    "duration": 401,
    "start_time": "2021-07-19T18:03:47.732Z"
   },
   {
    "duration": 4,
    "start_time": "2021-07-19T18:04:26.985Z"
   },
   {
    "duration": 446,
    "start_time": "2021-07-19T18:05:45.150Z"
   },
   {
    "duration": 306,
    "start_time": "2021-07-19T18:06:33.751Z"
   },
   {
    "duration": 252,
    "start_time": "2021-07-19T18:08:12.871Z"
   },
   {
    "duration": 262,
    "start_time": "2021-07-19T18:27:14.533Z"
   },
   {
    "duration": 12,
    "start_time": "2021-07-19T18:27:35.117Z"
   },
   {
    "duration": 24,
    "start_time": "2021-07-19T18:27:53.784Z"
   },
   {
    "duration": 24,
    "start_time": "2021-07-19T18:31:17.962Z"
   },
   {
    "duration": 11,
    "start_time": "2021-07-19T18:32:49.986Z"
   },
   {
    "duration": 13,
    "start_time": "2021-07-19T18:33:06.046Z"
   },
   {
    "duration": 24,
    "start_time": "2021-07-19T18:36:17.071Z"
   },
   {
    "duration": 19,
    "start_time": "2021-07-19T20:23:22.424Z"
   },
   {
    "duration": 4,
    "start_time": "2021-07-19T20:25:34.878Z"
   },
   {
    "duration": 1440,
    "start_time": "2021-07-19T20:26:24.065Z"
   },
   {
    "duration": 196,
    "start_time": "2021-07-19T20:26:25.508Z"
   },
   {
    "duration": 201,
    "start_time": "2021-07-19T20:26:25.707Z"
   },
   {
    "duration": 192,
    "start_time": "2021-07-19T20:26:25.912Z"
   },
   {
    "duration": 20,
    "start_time": "2021-07-19T20:26:26.106Z"
   },
   {
    "duration": 40,
    "start_time": "2021-07-19T20:26:26.129Z"
   },
   {
    "duration": 20,
    "start_time": "2021-07-19T20:26:26.172Z"
   },
   {
    "duration": 80,
    "start_time": "2021-07-19T20:26:26.195Z"
   },
   {
    "duration": 58,
    "start_time": "2021-07-19T20:26:26.278Z"
   },
   {
    "duration": 78,
    "start_time": "2021-07-19T20:26:26.355Z"
   },
   {
    "duration": 67,
    "start_time": "2021-07-19T20:26:26.436Z"
   },
   {
    "duration": 70,
    "start_time": "2021-07-19T20:26:26.506Z"
   },
   {
    "duration": 57,
    "start_time": "2021-07-19T20:26:26.579Z"
   },
   {
    "duration": 46,
    "start_time": "2021-07-19T20:26:26.656Z"
   },
   {
    "duration": 25204,
    "start_time": "2021-07-19T20:26:26.704Z"
   },
   {
    "duration": 3617,
    "start_time": "2021-07-19T20:26:51.910Z"
   },
   {
    "duration": 2694,
    "start_time": "2021-07-19T20:26:55.530Z"
   },
   {
    "duration": 34,
    "start_time": "2021-07-19T20:26:58.227Z"
   },
   {
    "duration": 335,
    "start_time": "2021-07-19T20:26:58.264Z"
   },
   {
    "duration": 17,
    "start_time": "2021-07-19T20:26:58.601Z"
   },
   {
    "duration": 42,
    "start_time": "2021-07-19T20:26:58.621Z"
   },
   {
    "duration": 402,
    "start_time": "2021-07-19T20:26:58.666Z"
   },
   {
    "duration": -2322,
    "start_time": "2021-07-19T20:27:01.397Z"
   },
   {
    "duration": -2507,
    "start_time": "2021-07-19T20:27:01.583Z"
   },
   {
    "duration": -2697,
    "start_time": "2021-07-19T20:27:01.774Z"
   },
   {
    "duration": -3149,
    "start_time": "2021-07-19T20:27:02.228Z"
   },
   {
    "duration": -3507,
    "start_time": "2021-07-19T20:27:02.587Z"
   },
   {
    "duration": -3650,
    "start_time": "2021-07-19T20:27:02.731Z"
   },
   {
    "duration": -3799,
    "start_time": "2021-07-19T20:27:02.882Z"
   },
   {
    "duration": -3952,
    "start_time": "2021-07-19T20:27:03.036Z"
   },
   {
    "duration": -4104,
    "start_time": "2021-07-19T20:27:03.190Z"
   },
   {
    "duration": -4257,
    "start_time": "2021-07-19T20:27:03.345Z"
   },
   {
    "duration": -4409,
    "start_time": "2021-07-19T20:27:03.500Z"
   },
   {
    "duration": -4559,
    "start_time": "2021-07-19T20:27:03.652Z"
   },
   {
    "duration": -4718,
    "start_time": "2021-07-19T20:27:03.813Z"
   },
   {
    "duration": -4871,
    "start_time": "2021-07-19T20:27:03.968Z"
   },
   {
    "duration": -5028,
    "start_time": "2021-07-19T20:27:04.127Z"
   },
   {
    "duration": -5189,
    "start_time": "2021-07-19T20:27:04.290Z"
   },
   {
    "duration": -5346,
    "start_time": "2021-07-19T20:27:04.449Z"
   },
   {
    "duration": -5502,
    "start_time": "2021-07-19T20:27:04.607Z"
   },
   {
    "duration": -5663,
    "start_time": "2021-07-19T20:27:04.770Z"
   },
   {
    "duration": -5820,
    "start_time": "2021-07-19T20:27:04.929Z"
   },
   {
    "duration": -6113,
    "start_time": "2021-07-19T20:27:05.224Z"
   },
   {
    "duration": -6261,
    "start_time": "2021-07-19T20:27:05.417Z"
   },
   {
    "duration": -6456,
    "start_time": "2021-07-19T20:27:05.614Z"
   },
   {
    "duration": -6650,
    "start_time": "2021-07-19T20:27:05.810Z"
   },
   {
    "duration": -6858,
    "start_time": "2021-07-19T20:27:06.020Z"
   },
   {
    "duration": -7074,
    "start_time": "2021-07-19T20:27:06.238Z"
   },
   {
    "duration": -7283,
    "start_time": "2021-07-19T20:27:06.449Z"
   },
   {
    "duration": -7485,
    "start_time": "2021-07-19T20:27:06.653Z"
   },
   {
    "duration": -7699,
    "start_time": "2021-07-19T20:27:06.869Z"
   },
   {
    "duration": -7942,
    "start_time": "2021-07-19T20:27:07.114Z"
   },
   {
    "duration": -8147,
    "start_time": "2021-07-19T20:27:07.321Z"
   },
   {
    "duration": -8667,
    "start_time": "2021-07-19T20:27:07.843Z"
   },
   {
    "duration": -8864,
    "start_time": "2021-07-19T20:27:08.042Z"
   },
   {
    "duration": -9368,
    "start_time": "2021-07-19T20:27:08.548Z"
   },
   {
    "duration": -9513,
    "start_time": "2021-07-19T20:27:08.695Z"
   },
   {
    "duration": -9654,
    "start_time": "2021-07-19T20:27:08.839Z"
   },
   {
    "duration": -9801,
    "start_time": "2021-07-19T20:27:08.988Z"
   },
   {
    "duration": -9953,
    "start_time": "2021-07-19T20:27:09.142Z"
   },
   {
    "duration": -10106,
    "start_time": "2021-07-19T20:27:09.297Z"
   },
   {
    "duration": -10256,
    "start_time": "2021-07-19T20:27:09.449Z"
   },
   {
    "duration": -10407,
    "start_time": "2021-07-19T20:27:09.602Z"
   },
   {
    "duration": -10557,
    "start_time": "2021-07-19T20:27:09.753Z"
   },
   {
    "duration": -10709,
    "start_time": "2021-07-19T20:27:09.907Z"
   },
   {
    "duration": -10802,
    "start_time": "2021-07-19T20:27:10.059Z"
   },
   {
    "duration": -10956,
    "start_time": "2021-07-19T20:27:10.215Z"
   },
   {
    "duration": -11108,
    "start_time": "2021-07-19T20:27:10.369Z"
   },
   {
    "duration": -11258,
    "start_time": "2021-07-19T20:27:10.522Z"
   },
   {
    "duration": -11408,
    "start_time": "2021-07-19T20:27:10.674Z"
   },
   {
    "duration": -11573,
    "start_time": "2021-07-19T20:27:10.841Z"
   },
   {
    "duration": -11727,
    "start_time": "2021-07-19T20:27:10.997Z"
   },
   {
    "duration": -11882,
    "start_time": "2021-07-19T20:27:11.154Z"
   },
   {
    "duration": -12033,
    "start_time": "2021-07-19T20:27:11.307Z"
   },
   {
    "duration": -12186,
    "start_time": "2021-07-19T20:27:11.462Z"
   },
   {
    "duration": -12337,
    "start_time": "2021-07-19T20:27:11.616Z"
   },
   {
    "duration": -12619,
    "start_time": "2021-07-19T20:27:11.900Z"
   },
   {
    "duration": -12802,
    "start_time": "2021-07-19T20:27:12.085Z"
   },
   {
    "duration": -12993,
    "start_time": "2021-07-19T20:27:12.278Z"
   },
   {
    "duration": -13180,
    "start_time": "2021-07-19T20:27:12.467Z"
   },
   {
    "duration": -13373,
    "start_time": "2021-07-19T20:27:12.662Z"
   },
   {
    "duration": -13697,
    "start_time": "2021-07-19T20:27:12.988Z"
   },
   {
    "duration": -13897,
    "start_time": "2021-07-19T20:27:13.190Z"
   },
   {
    "duration": -14033,
    "start_time": "2021-07-19T20:27:13.392Z"
   },
   {
    "duration": -14234,
    "start_time": "2021-07-19T20:27:13.595Z"
   },
   {
    "duration": -14439,
    "start_time": "2021-07-19T20:27:13.802Z"
   },
   {
    "duration": -14644,
    "start_time": "2021-07-19T20:27:14.009Z"
   },
   {
    "duration": -14847,
    "start_time": "2021-07-19T20:27:14.214Z"
   },
   {
    "duration": -15049,
    "start_time": "2021-07-19T20:27:14.419Z"
   },
   {
    "duration": -15251,
    "start_time": "2021-07-19T20:27:14.623Z"
   },
   {
    "duration": -15672,
    "start_time": "2021-07-19T20:27:15.046Z"
   },
   {
    "duration": -16166,
    "start_time": "2021-07-19T20:27:15.542Z"
   },
   {
    "duration": -16831,
    "start_time": "2021-07-19T20:27:16.209Z"
   },
   {
    "duration": -16969,
    "start_time": "2021-07-19T20:27:16.349Z"
   },
   {
    "duration": -17118,
    "start_time": "2021-07-19T20:27:16.500Z"
   },
   {
    "duration": -17260,
    "start_time": "2021-07-19T20:27:16.644Z"
   },
   {
    "duration": -17405,
    "start_time": "2021-07-19T20:27:16.791Z"
   },
   {
    "duration": -17558,
    "start_time": "2021-07-19T20:27:16.946Z"
   },
   {
    "duration": -17712,
    "start_time": "2021-07-19T20:27:17.102Z"
   },
   {
    "duration": 4,
    "start_time": "2021-07-19T20:28:25.558Z"
   },
   {
    "duration": 4,
    "start_time": "2021-07-19T20:29:08.045Z"
   },
   {
    "duration": 1343,
    "start_time": "2021-07-19T20:29:28.269Z"
   },
   {
    "duration": 191,
    "start_time": "2021-07-19T20:29:29.615Z"
   },
   {
    "duration": 173,
    "start_time": "2021-07-19T20:29:29.809Z"
   },
   {
    "duration": 183,
    "start_time": "2021-07-19T20:29:29.985Z"
   },
   {
    "duration": 22,
    "start_time": "2021-07-19T20:29:30.170Z"
   },
   {
    "duration": 40,
    "start_time": "2021-07-19T20:29:30.194Z"
   },
   {
    "duration": 46,
    "start_time": "2021-07-19T20:29:30.236Z"
   },
   {
    "duration": 97,
    "start_time": "2021-07-19T20:29:30.285Z"
   },
   {
    "duration": 76,
    "start_time": "2021-07-19T20:29:30.386Z"
   },
   {
    "duration": 97,
    "start_time": "2021-07-19T20:29:30.465Z"
   },
   {
    "duration": 63,
    "start_time": "2021-07-19T20:29:30.564Z"
   },
   {
    "duration": 92,
    "start_time": "2021-07-19T20:29:30.629Z"
   },
   {
    "duration": 75,
    "start_time": "2021-07-19T20:29:30.724Z"
   },
   {
    "duration": 55,
    "start_time": "2021-07-19T20:29:30.801Z"
   },
   {
    "duration": 25508,
    "start_time": "2021-07-19T20:29:30.858Z"
   },
   {
    "duration": 3377,
    "start_time": "2021-07-19T20:29:56.369Z"
   },
   {
    "duration": 2479,
    "start_time": "2021-07-19T20:29:59.756Z"
   },
   {
    "duration": 25,
    "start_time": "2021-07-19T20:30:02.238Z"
   },
   {
    "duration": 314,
    "start_time": "2021-07-19T20:30:02.265Z"
   },
   {
    "duration": 17,
    "start_time": "2021-07-19T20:30:02.581Z"
   },
   {
    "duration": 44,
    "start_time": "2021-07-19T20:30:02.601Z"
   },
   {
    "duration": 29,
    "start_time": "2021-07-19T20:30:02.647Z"
   },
   {
    "duration": 32,
    "start_time": "2021-07-19T20:30:02.678Z"
   },
   {
    "duration": 30,
    "start_time": "2021-07-19T20:30:02.713Z"
   },
   {
    "duration": 9,
    "start_time": "2021-07-19T20:30:02.745Z"
   },
   {
    "duration": 26,
    "start_time": "2021-07-19T20:30:02.756Z"
   },
   {
    "duration": 22,
    "start_time": "2021-07-19T20:30:02.788Z"
   },
   {
    "duration": 20,
    "start_time": "2021-07-19T20:30:02.814Z"
   },
   {
    "duration": 23,
    "start_time": "2021-07-19T20:30:02.837Z"
   },
   {
    "duration": 10,
    "start_time": "2021-07-19T20:30:02.862Z"
   },
   {
    "duration": 20,
    "start_time": "2021-07-19T20:30:02.875Z"
   },
   {
    "duration": 33,
    "start_time": "2021-07-19T20:30:02.898Z"
   },
   {
    "duration": 63,
    "start_time": "2021-07-19T20:30:02.934Z"
   },
   {
    "duration": 2,
    "start_time": "2021-07-19T20:30:03.000Z"
   },
   {
    "duration": 52,
    "start_time": "2021-07-19T20:30:03.005Z"
   },
   {
    "duration": 97,
    "start_time": "2021-07-19T20:30:03.059Z"
   },
   {
    "duration": 100,
    "start_time": "2021-07-19T20:30:03.161Z"
   },
   {
    "duration": 92,
    "start_time": "2021-07-19T20:30:03.264Z"
   },
   {
    "duration": 104,
    "start_time": "2021-07-19T20:30:03.359Z"
   },
   {
    "duration": 90,
    "start_time": "2021-07-19T20:30:03.465Z"
   },
   {
    "duration": 97,
    "start_time": "2021-07-19T20:30:03.559Z"
   },
   {
    "duration": 12,
    "start_time": "2021-07-19T20:30:03.658Z"
   },
   {
    "duration": 284,
    "start_time": "2021-07-19T20:30:03.673Z"
   },
   {
    "duration": 234,
    "start_time": "2021-07-19T20:30:03.960Z"
   },
   {
    "duration": 299,
    "start_time": "2021-07-19T20:30:04.197Z"
   },
   {
    "duration": 27,
    "start_time": "2021-07-19T20:30:04.498Z"
   },
   {
    "duration": 32,
    "start_time": "2021-07-19T20:30:04.527Z"
   },
   {
    "duration": 27,
    "start_time": "2021-07-19T20:30:04.562Z"
   },
   {
    "duration": 65,
    "start_time": "2021-07-19T20:30:04.592Z"
   },
   {
    "duration": 99,
    "start_time": "2021-07-19T20:30:04.660Z"
   },
   {
    "duration": 25,
    "start_time": "2021-07-19T20:30:04.761Z"
   },
   {
    "duration": 15,
    "start_time": "2021-07-19T20:30:04.788Z"
   },
   {
    "duration": 14,
    "start_time": "2021-07-19T20:30:04.805Z"
   },
   {
    "duration": 26,
    "start_time": "2021-07-19T20:30:04.821Z"
   },
   {
    "duration": 298,
    "start_time": "2021-07-19T20:30:04.849Z"
   },
   {
    "duration": 16,
    "start_time": "2021-07-19T20:30:05.149Z"
   },
   {
    "duration": 8,
    "start_time": "2021-07-19T20:30:05.168Z"
   },
   {
    "duration": 11,
    "start_time": "2021-07-19T20:30:05.178Z"
   },
   {
    "duration": 6,
    "start_time": "2021-07-19T20:30:05.192Z"
   },
   {
    "duration": 6,
    "start_time": "2021-07-19T20:30:05.200Z"
   },
   {
    "duration": 8,
    "start_time": "2021-07-19T20:30:05.208Z"
   },
   {
    "duration": 5,
    "start_time": "2021-07-19T20:30:05.257Z"
   },
   {
    "duration": 10,
    "start_time": "2021-07-19T20:30:05.265Z"
   },
   {
    "duration": 7,
    "start_time": "2021-07-19T20:30:05.278Z"
   },
   {
    "duration": 326,
    "start_time": "2021-07-19T20:30:05.287Z"
   },
   {
    "duration": 15,
    "start_time": "2021-07-19T20:30:05.615Z"
   },
   {
    "duration": 25,
    "start_time": "2021-07-19T20:30:05.632Z"
   },
   {
    "duration": 12,
    "start_time": "2021-07-19T20:30:05.660Z"
   },
   {
    "duration": 18,
    "start_time": "2021-07-19T20:30:05.674Z"
   },
   {
    "duration": 19,
    "start_time": "2021-07-19T20:30:05.695Z"
   },
   {
    "duration": 9,
    "start_time": "2021-07-19T20:30:05.717Z"
   },
   {
    "duration": 16,
    "start_time": "2021-07-19T20:30:05.728Z"
   },
   {
    "duration": 13,
    "start_time": "2021-07-19T20:30:05.747Z"
   },
   {
    "duration": 14,
    "start_time": "2021-07-19T20:30:05.762Z"
   },
   {
    "duration": 4929,
    "start_time": "2021-07-19T20:30:05.778Z"
   },
   {
    "duration": 4,
    "start_time": "2021-07-19T20:30:10.710Z"
   },
   {
    "duration": 36,
    "start_time": "2021-07-19T20:30:10.724Z"
   },
   {
    "duration": 11,
    "start_time": "2021-07-19T20:30:10.763Z"
   },
   {
    "duration": 14,
    "start_time": "2021-07-19T20:30:10.777Z"
   },
   {
    "duration": 4845,
    "start_time": "2021-07-19T20:30:10.794Z"
   },
   {
    "duration": 11,
    "start_time": "2021-07-19T20:30:15.648Z"
   },
   {
    "duration": 18,
    "start_time": "2021-07-19T20:30:15.662Z"
   },
   {
    "duration": 11,
    "start_time": "2021-07-19T20:30:15.682Z"
   },
   {
    "duration": 4990,
    "start_time": "2021-07-19T20:30:15.696Z"
   },
   {
    "duration": 6,
    "start_time": "2021-07-19T20:30:20.689Z"
   },
   {
    "duration": 24,
    "start_time": "2021-07-19T20:30:20.697Z"
   },
   {
    "duration": 12,
    "start_time": "2021-07-19T20:30:20.723Z"
   },
   {
    "duration": 30,
    "start_time": "2021-07-19T20:30:20.737Z"
   },
   {
    "duration": 7,
    "start_time": "2021-07-19T20:30:20.769Z"
   },
   {
    "duration": 11,
    "start_time": "2021-07-19T20:30:20.778Z"
   },
   {
    "duration": 7,
    "start_time": "2021-07-19T20:30:20.791Z"
   },
   {
    "duration": 7,
    "start_time": "2021-07-19T20:30:20.800Z"
   },
   {
    "duration": 58,
    "start_time": "2021-07-19T20:30:20.809Z"
   },
   {
    "duration": 8,
    "start_time": "2021-07-19T20:30:20.869Z"
   },
   {
    "duration": 8,
    "start_time": "2021-07-19T20:30:20.879Z"
   },
   {
    "duration": 13,
    "start_time": "2021-07-19T20:30:20.890Z"
   },
   {
    "duration": 326,
    "start_time": "2021-07-19T20:30:20.906Z"
   },
   {
    "duration": 234,
    "start_time": "2021-07-19T20:30:21.234Z"
   },
   {
    "duration": 24,
    "start_time": "2021-07-19T20:38:17.861Z"
   },
   {
    "duration": 26,
    "start_time": "2021-07-19T20:39:55.348Z"
   },
   {
    "duration": 1363,
    "start_time": "2021-07-19T20:40:05.730Z"
   },
   {
    "duration": 192,
    "start_time": "2021-07-19T20:40:07.096Z"
   },
   {
    "duration": 171,
    "start_time": "2021-07-19T20:40:07.291Z"
   },
   {
    "duration": 182,
    "start_time": "2021-07-19T20:40:07.464Z"
   },
   {
    "duration": 22,
    "start_time": "2021-07-19T20:40:07.655Z"
   },
   {
    "duration": 21,
    "start_time": "2021-07-19T20:40:07.679Z"
   },
   {
    "duration": 23,
    "start_time": "2021-07-19T20:40:07.703Z"
   },
   {
    "duration": 84,
    "start_time": "2021-07-19T20:40:07.728Z"
   },
   {
    "duration": 81,
    "start_time": "2021-07-19T20:40:07.816Z"
   },
   {
    "duration": 91,
    "start_time": "2021-07-19T20:40:07.901Z"
   },
   {
    "duration": 73,
    "start_time": "2021-07-19T20:40:07.994Z"
   },
   {
    "duration": 70,
    "start_time": "2021-07-19T20:40:08.070Z"
   },
   {
    "duration": 60,
    "start_time": "2021-07-19T20:40:08.156Z"
   },
   {
    "duration": 66,
    "start_time": "2021-07-19T20:40:08.218Z"
   },
   {
    "duration": 25040,
    "start_time": "2021-07-19T20:40:08.287Z"
   },
   {
    "duration": 3270,
    "start_time": "2021-07-19T20:40:33.330Z"
   },
   {
    "duration": 2805,
    "start_time": "2021-07-19T20:40:36.604Z"
   },
   {
    "duration": 18,
    "start_time": "2021-07-19T20:40:39.412Z"
   },
   {
    "duration": 320,
    "start_time": "2021-07-19T20:40:39.433Z"
   },
   {
    "duration": 19,
    "start_time": "2021-07-19T20:40:39.756Z"
   },
   {
    "duration": 23,
    "start_time": "2021-07-19T20:40:39.778Z"
   },
   {
    "duration": 11,
    "start_time": "2021-07-19T20:40:39.803Z"
   },
   {
    "duration": 46,
    "start_time": "2021-07-19T20:40:39.816Z"
   },
   {
    "duration": 22,
    "start_time": "2021-07-19T20:40:39.864Z"
   },
   {
    "duration": 10,
    "start_time": "2021-07-19T20:40:39.888Z"
   },
   {
    "duration": 9,
    "start_time": "2021-07-19T20:40:39.900Z"
   },
   {
    "duration": 4,
    "start_time": "2021-07-19T20:40:39.916Z"
   },
   {
    "duration": 18,
    "start_time": "2021-07-19T20:40:39.956Z"
   },
   {
    "duration": 20,
    "start_time": "2021-07-19T20:40:39.977Z"
   },
   {
    "duration": 11,
    "start_time": "2021-07-19T20:40:39.999Z"
   },
   {
    "duration": 46,
    "start_time": "2021-07-19T20:40:40.013Z"
   },
   {
    "duration": 23,
    "start_time": "2021-07-19T20:40:40.061Z"
   },
   {
    "duration": 107,
    "start_time": "2021-07-19T20:40:40.087Z"
   },
   {
    "duration": 4,
    "start_time": "2021-07-19T20:40:40.197Z"
   },
   {
    "duration": 53,
    "start_time": "2021-07-19T20:40:40.203Z"
   },
   {
    "duration": 99,
    "start_time": "2021-07-19T20:40:40.258Z"
   },
   {
    "duration": 99,
    "start_time": "2021-07-19T20:40:40.361Z"
   },
   {
    "duration": 99,
    "start_time": "2021-07-19T20:40:40.462Z"
   },
   {
    "duration": 97,
    "start_time": "2021-07-19T20:40:40.563Z"
   },
   {
    "duration": 97,
    "start_time": "2021-07-19T20:40:40.663Z"
   },
   {
    "duration": 88,
    "start_time": "2021-07-19T20:40:40.769Z"
   },
   {
    "duration": 15,
    "start_time": "2021-07-19T20:40:40.859Z"
   },
   {
    "duration": 270,
    "start_time": "2021-07-19T20:40:40.876Z"
   },
   {
    "duration": 235,
    "start_time": "2021-07-19T20:40:41.148Z"
   },
   {
    "duration": 304,
    "start_time": "2021-07-19T20:40:41.385Z"
   },
   {
    "duration": 25,
    "start_time": "2021-07-19T20:40:41.692Z"
   },
   {
    "duration": 37,
    "start_time": "2021-07-19T20:40:41.720Z"
   },
   {
    "duration": 31,
    "start_time": "2021-07-19T20:40:41.759Z"
   },
   {
    "duration": 21,
    "start_time": "2021-07-19T20:40:41.792Z"
   },
   {
    "duration": 141,
    "start_time": "2021-07-19T20:40:41.815Z"
   },
   {
    "duration": 99,
    "start_time": "2021-07-19T20:40:41.960Z"
   },
   {
    "duration": 10,
    "start_time": "2021-07-19T20:40:42.061Z"
   },
   {
    "duration": 16,
    "start_time": "2021-07-19T20:40:42.074Z"
   },
   {
    "duration": 6,
    "start_time": "2021-07-19T20:40:42.092Z"
   },
   {
    "duration": 19,
    "start_time": "2021-07-19T20:40:42.100Z"
   },
   {
    "duration": 362,
    "start_time": "2021-07-19T20:40:42.121Z"
   },
   {
    "duration": 12,
    "start_time": "2021-07-19T20:40:42.485Z"
   },
   {
    "duration": 8,
    "start_time": "2021-07-19T20:40:42.499Z"
   },
   {
    "duration": 7,
    "start_time": "2021-07-19T20:40:42.509Z"
   },
   {
    "duration": 38,
    "start_time": "2021-07-19T20:40:42.518Z"
   },
   {
    "duration": 4,
    "start_time": "2021-07-19T20:40:42.558Z"
   },
   {
    "duration": 14,
    "start_time": "2021-07-19T20:40:42.564Z"
   },
   {
    "duration": 6,
    "start_time": "2021-07-19T20:40:42.580Z"
   },
   {
    "duration": 7,
    "start_time": "2021-07-19T20:40:42.588Z"
   },
   {
    "duration": 7,
    "start_time": "2021-07-19T20:40:42.597Z"
   },
   {
    "duration": 341,
    "start_time": "2021-07-19T20:40:42.607Z"
   },
   {
    "duration": 16,
    "start_time": "2021-07-19T20:40:42.955Z"
   },
   {
    "duration": 11,
    "start_time": "2021-07-19T20:40:42.974Z"
   },
   {
    "duration": 7,
    "start_time": "2021-07-19T20:40:42.988Z"
   },
   {
    "duration": 6,
    "start_time": "2021-07-19T20:40:42.997Z"
   },
   {
    "duration": 6,
    "start_time": "2021-07-19T20:40:43.005Z"
   },
   {
    "duration": 45,
    "start_time": "2021-07-19T20:40:43.013Z"
   },
   {
    "duration": 7,
    "start_time": "2021-07-19T20:40:43.060Z"
   },
   {
    "duration": 6,
    "start_time": "2021-07-19T20:40:43.069Z"
   },
   {
    "duration": 6,
    "start_time": "2021-07-19T20:40:43.077Z"
   },
   {
    "duration": 4886,
    "start_time": "2021-07-19T20:40:43.085Z"
   },
   {
    "duration": 4,
    "start_time": "2021-07-19T20:40:47.973Z"
   },
   {
    "duration": 20,
    "start_time": "2021-07-19T20:40:47.980Z"
   },
   {
    "duration": 7,
    "start_time": "2021-07-19T20:40:48.003Z"
   },
   {
    "duration": 13,
    "start_time": "2021-07-19T20:40:48.012Z"
   },
   {
    "duration": 5014,
    "start_time": "2021-07-19T20:40:48.061Z"
   },
   {
    "duration": 6,
    "start_time": "2021-07-19T20:40:53.078Z"
   },
   {
    "duration": 28,
    "start_time": "2021-07-19T20:40:53.086Z"
   },
   {
    "duration": 8,
    "start_time": "2021-07-19T20:40:53.116Z"
   },
   {
    "duration": 5045,
    "start_time": "2021-07-19T20:40:53.127Z"
   },
   {
    "duration": 7,
    "start_time": "2021-07-19T20:40:58.174Z"
   },
   {
    "duration": 21,
    "start_time": "2021-07-19T20:40:58.183Z"
   },
   {
    "duration": 6,
    "start_time": "2021-07-19T20:40:58.207Z"
   },
   {
    "duration": 20,
    "start_time": "2021-07-19T20:40:58.215Z"
   },
   {
    "duration": 7,
    "start_time": "2021-07-19T20:40:58.257Z"
   },
   {
    "duration": 21,
    "start_time": "2021-07-19T20:40:58.266Z"
   },
   {
    "duration": 18,
    "start_time": "2021-07-19T20:40:58.289Z"
   },
   {
    "duration": 23,
    "start_time": "2021-07-19T20:40:58.310Z"
   },
   {
    "duration": 27,
    "start_time": "2021-07-19T20:40:58.335Z"
   },
   {
    "duration": 10,
    "start_time": "2021-07-19T20:40:58.364Z"
   },
   {
    "duration": 14,
    "start_time": "2021-07-19T20:40:58.376Z"
   },
   {
    "duration": 13,
    "start_time": "2021-07-19T20:40:58.392Z"
   },
   {
    "duration": 296,
    "start_time": "2021-07-19T20:40:58.408Z"
   },
   {
    "duration": 232,
    "start_time": "2021-07-19T20:40:58.706Z"
   },
   {
    "duration": 233,
    "start_time": "2021-07-19T22:08:14.266Z"
   },
   {
    "duration": 1386,
    "start_time": "2021-07-19T22:08:36.105Z"
   },
   {
    "duration": 186,
    "start_time": "2021-07-19T22:08:37.494Z"
   },
   {
    "duration": 184,
    "start_time": "2021-07-19T22:08:37.683Z"
   },
   {
    "duration": 176,
    "start_time": "2021-07-19T22:08:37.869Z"
   },
   {
    "duration": 24,
    "start_time": "2021-07-19T22:08:38.048Z"
   },
   {
    "duration": 23,
    "start_time": "2021-07-19T22:08:38.075Z"
   },
   {
    "duration": 22,
    "start_time": "2021-07-19T22:08:38.101Z"
   },
   {
    "duration": 82,
    "start_time": "2021-07-19T22:08:38.127Z"
   },
   {
    "duration": 73,
    "start_time": "2021-07-19T22:08:38.212Z"
   },
   {
    "duration": 88,
    "start_time": "2021-07-19T22:08:38.287Z"
   },
   {
    "duration": 61,
    "start_time": "2021-07-19T22:08:38.377Z"
   },
   {
    "duration": 68,
    "start_time": "2021-07-19T22:08:38.457Z"
   },
   {
    "duration": 90,
    "start_time": "2021-07-19T22:08:38.527Z"
   },
   {
    "duration": 73,
    "start_time": "2021-07-19T22:08:38.620Z"
   },
   {
    "duration": 24743,
    "start_time": "2021-07-19T22:08:38.696Z"
   },
   {
    "duration": 3405,
    "start_time": "2021-07-19T22:09:03.441Z"
   },
   {
    "duration": 2490,
    "start_time": "2021-07-19T22:09:06.855Z"
   },
   {
    "duration": 25,
    "start_time": "2021-07-19T22:09:09.347Z"
   },
   {
    "duration": 323,
    "start_time": "2021-07-19T22:09:09.375Z"
   },
   {
    "duration": 18,
    "start_time": "2021-07-19T22:09:09.701Z"
   },
   {
    "duration": 46,
    "start_time": "2021-07-19T22:09:09.722Z"
   },
   {
    "duration": 11,
    "start_time": "2021-07-19T22:09:09.770Z"
   },
   {
    "duration": 9,
    "start_time": "2021-07-19T22:09:09.790Z"
   },
   {
    "duration": 57,
    "start_time": "2021-07-19T22:09:09.805Z"
   },
   {
    "duration": 10,
    "start_time": "2021-07-19T22:09:09.864Z"
   },
   {
    "duration": 11,
    "start_time": "2021-07-19T22:09:09.877Z"
   },
   {
    "duration": 8,
    "start_time": "2021-07-19T22:09:09.890Z"
   },
   {
    "duration": 27,
    "start_time": "2021-07-19T22:09:09.901Z"
   },
   {
    "duration": 44,
    "start_time": "2021-07-19T22:09:09.930Z"
   },
   {
    "duration": 10,
    "start_time": "2021-07-19T22:09:09.976Z"
   },
   {
    "duration": 9,
    "start_time": "2021-07-19T22:09:09.989Z"
   },
   {
    "duration": 55,
    "start_time": "2021-07-19T22:09:10.001Z"
   },
   {
    "duration": 61,
    "start_time": "2021-07-19T22:09:10.059Z"
   },
   {
    "duration": 4,
    "start_time": "2021-07-19T22:09:10.156Z"
   },
   {
    "duration": 20,
    "start_time": "2021-07-19T22:09:10.162Z"
   },
   {
    "duration": 13,
    "start_time": "2021-07-19T22:09:10.185Z"
   },
   {
    "duration": 104,
    "start_time": "2021-07-19T22:09:10.257Z"
   },
   {
    "duration": 23,
    "start_time": "2021-07-19T22:09:10.364Z"
   },
   {
    "duration": 103,
    "start_time": "2021-07-19T22:09:10.457Z"
   },
   {
    "duration": 16,
    "start_time": "2021-07-19T22:09:10.562Z"
   },
   {
    "duration": 78,
    "start_time": "2021-07-19T22:09:10.580Z"
   },
   {
    "duration": 103,
    "start_time": "2021-07-19T22:09:10.663Z"
   },
   {
    "duration": 281,
    "start_time": "2021-07-19T22:09:10.769Z"
   },
   {
    "duration": 331,
    "start_time": "2021-07-19T22:09:11.056Z"
   },
   {
    "duration": 388,
    "start_time": "2021-07-19T22:09:11.390Z"
   },
   {
    "duration": 24,
    "start_time": "2021-07-19T22:09:11.781Z"
   },
   {
    "duration": 15,
    "start_time": "2021-07-19T22:09:11.808Z"
   },
   {
    "duration": 58,
    "start_time": "2021-07-19T22:09:11.825Z"
   },
   {
    "duration": 22,
    "start_time": "2021-07-19T22:09:11.885Z"
   },
   {
    "duration": 50,
    "start_time": "2021-07-19T22:09:11.909Z"
   },
   {
    "duration": 194,
    "start_time": "2021-07-19T22:09:11.962Z"
   },
   {
    "duration": 7,
    "start_time": "2021-07-19T22:09:12.159Z"
   },
   {
    "duration": 9,
    "start_time": "2021-07-19T22:09:12.168Z"
   },
   {
    "duration": 6,
    "start_time": "2021-07-19T22:09:12.179Z"
   },
   {
    "duration": 17,
    "start_time": "2021-07-19T22:09:12.188Z"
   },
   {
    "duration": 354,
    "start_time": "2021-07-19T22:09:12.208Z"
   },
   {
    "duration": 14,
    "start_time": "2021-07-19T22:09:12.565Z"
   },
   {
    "duration": 8,
    "start_time": "2021-07-19T22:09:12.582Z"
   },
   {
    "duration": 8,
    "start_time": "2021-07-19T22:09:12.593Z"
   },
   {
    "duration": 52,
    "start_time": "2021-07-19T22:09:12.603Z"
   },
   {
    "duration": 6,
    "start_time": "2021-07-19T22:09:12.658Z"
   },
   {
    "duration": 10,
    "start_time": "2021-07-19T22:09:12.667Z"
   },
   {
    "duration": 7,
    "start_time": "2021-07-19T22:09:12.680Z"
   },
   {
    "duration": 9,
    "start_time": "2021-07-19T22:09:12.690Z"
   },
   {
    "duration": 7,
    "start_time": "2021-07-19T22:09:12.701Z"
   },
   {
    "duration": 306,
    "start_time": "2021-07-19T22:09:12.756Z"
   },
   {
    "duration": 16,
    "start_time": "2021-07-19T22:09:13.065Z"
   },
   {
    "duration": 6,
    "start_time": "2021-07-19T22:09:13.089Z"
   },
   {
    "duration": 17,
    "start_time": "2021-07-19T22:09:13.098Z"
   },
   {
    "duration": 39,
    "start_time": "2021-07-19T22:09:13.117Z"
   },
   {
    "duration": 5,
    "start_time": "2021-07-19T22:09:13.158Z"
   },
   {
    "duration": 11,
    "start_time": "2021-07-19T22:09:13.165Z"
   },
   {
    "duration": 8,
    "start_time": "2021-07-19T22:09:13.178Z"
   },
   {
    "duration": 7,
    "start_time": "2021-07-19T22:09:13.188Z"
   },
   {
    "duration": 6,
    "start_time": "2021-07-19T22:09:13.197Z"
   },
   {
    "duration": 4930,
    "start_time": "2021-07-19T22:09:13.206Z"
   },
   {
    "duration": 18,
    "start_time": "2021-07-19T22:09:18.138Z"
   },
   {
    "duration": 19,
    "start_time": "2021-07-19T22:09:18.158Z"
   },
   {
    "duration": 6,
    "start_time": "2021-07-19T22:09:18.180Z"
   },
   {
    "duration": 9,
    "start_time": "2021-07-19T22:09:18.189Z"
   },
   {
    "duration": 5027,
    "start_time": "2021-07-19T22:09:18.201Z"
   },
   {
    "duration": 9,
    "start_time": "2021-07-19T22:09:23.231Z"
   },
   {
    "duration": 18,
    "start_time": "2021-07-19T22:09:23.257Z"
   },
   {
    "duration": 6,
    "start_time": "2021-07-19T22:09:23.278Z"
   },
   {
    "duration": 5040,
    "start_time": "2021-07-19T22:09:23.287Z"
   },
   {
    "duration": 7,
    "start_time": "2021-07-19T22:09:28.331Z"
   },
   {
    "duration": 34,
    "start_time": "2021-07-19T22:09:28.340Z"
   },
   {
    "duration": 5,
    "start_time": "2021-07-19T22:09:28.377Z"
   },
   {
    "duration": 15,
    "start_time": "2021-07-19T22:09:28.385Z"
   },
   {
    "duration": 54,
    "start_time": "2021-07-19T22:09:28.403Z"
   },
   {
    "duration": 14,
    "start_time": "2021-07-19T22:09:28.460Z"
   },
   {
    "duration": 10,
    "start_time": "2021-07-19T22:09:28.477Z"
   },
   {
    "duration": 10,
    "start_time": "2021-07-19T22:09:28.490Z"
   },
   {
    "duration": 64,
    "start_time": "2021-07-19T22:09:28.502Z"
   },
   {
    "duration": 22,
    "start_time": "2021-07-19T22:09:28.568Z"
   },
   {
    "duration": 18,
    "start_time": "2021-07-19T22:09:28.597Z"
   },
   {
    "duration": 35,
    "start_time": "2021-07-19T22:09:28.629Z"
   },
   {
    "duration": 416,
    "start_time": "2021-07-19T22:09:28.667Z"
   },
   {
    "duration": 236,
    "start_time": "2021-07-19T22:09:29.086Z"
   },
   {
    "duration": 291,
    "start_time": "2021-07-19T22:27:27.209Z"
   },
   {
    "duration": 387,
    "start_time": "2021-07-19T22:28:03.522Z"
   },
   {
    "duration": 294,
    "start_time": "2021-07-19T22:28:30.932Z"
   },
   {
    "duration": 1389,
    "start_time": "2021-07-19T22:29:27.284Z"
   },
   {
    "duration": 192,
    "start_time": "2021-07-19T22:29:28.675Z"
   },
   {
    "duration": 186,
    "start_time": "2021-07-19T22:29:28.870Z"
   },
   {
    "duration": 175,
    "start_time": "2021-07-19T22:29:29.059Z"
   },
   {
    "duration": 32,
    "start_time": "2021-07-19T22:29:29.236Z"
   },
   {
    "duration": 26,
    "start_time": "2021-07-19T22:29:29.270Z"
   },
   {
    "duration": 20,
    "start_time": "2021-07-19T22:29:29.298Z"
   },
   {
    "duration": 91,
    "start_time": "2021-07-19T22:29:29.322Z"
   },
   {
    "duration": 72,
    "start_time": "2021-07-19T22:29:29.416Z"
   },
   {
    "duration": 90,
    "start_time": "2021-07-19T22:29:29.490Z"
   },
   {
    "duration": 62,
    "start_time": "2021-07-19T22:29:29.582Z"
   },
   {
    "duration": 59,
    "start_time": "2021-07-19T22:29:29.656Z"
   },
   {
    "duration": 79,
    "start_time": "2021-07-19T22:29:29.717Z"
   },
   {
    "duration": 59,
    "start_time": "2021-07-19T22:29:29.798Z"
   },
   {
    "duration": 24601,
    "start_time": "2021-07-19T22:29:29.859Z"
   },
   {
    "duration": 3255,
    "start_time": "2021-07-19T22:29:54.462Z"
   },
   {
    "duration": 2424,
    "start_time": "2021-07-19T22:29:57.720Z"
   },
   {
    "duration": 18,
    "start_time": "2021-07-19T22:30:00.156Z"
   },
   {
    "duration": 315,
    "start_time": "2021-07-19T22:30:00.176Z"
   },
   {
    "duration": 18,
    "start_time": "2021-07-19T22:30:00.494Z"
   },
   {
    "duration": 42,
    "start_time": "2021-07-19T22:30:00.514Z"
   },
   {
    "duration": 18,
    "start_time": "2021-07-19T22:30:00.558Z"
   },
   {
    "duration": 34,
    "start_time": "2021-07-19T22:30:00.582Z"
   },
   {
    "duration": 32,
    "start_time": "2021-07-19T22:30:00.621Z"
   },
   {
    "duration": 11,
    "start_time": "2021-07-19T22:30:00.655Z"
   },
   {
    "duration": 38,
    "start_time": "2021-07-19T22:30:00.668Z"
   },
   {
    "duration": 36,
    "start_time": "2021-07-19T22:30:00.708Z"
   },
   {
    "duration": 34,
    "start_time": "2021-07-19T22:30:00.747Z"
   },
   {
    "duration": 21,
    "start_time": "2021-07-19T22:30:00.784Z"
   },
   {
    "duration": 16,
    "start_time": "2021-07-19T22:30:00.808Z"
   },
   {
    "duration": 24,
    "start_time": "2021-07-19T22:30:00.827Z"
   },
   {
    "duration": 33,
    "start_time": "2021-07-19T22:30:00.854Z"
   },
   {
    "duration": 81,
    "start_time": "2021-07-19T22:30:00.889Z"
   },
   {
    "duration": 3,
    "start_time": "2021-07-19T22:30:00.973Z"
   },
   {
    "duration": 27,
    "start_time": "2021-07-19T22:30:00.978Z"
   },
   {
    "duration": 148,
    "start_time": "2021-07-19T22:30:01.007Z"
   },
   {
    "duration": 15,
    "start_time": "2021-07-19T22:30:01.158Z"
   },
   {
    "duration": 84,
    "start_time": "2021-07-19T22:30:01.176Z"
   },
   {
    "duration": 102,
    "start_time": "2021-07-19T22:30:01.264Z"
   },
   {
    "duration": 88,
    "start_time": "2021-07-19T22:30:01.369Z"
   },
   {
    "duration": 97,
    "start_time": "2021-07-19T22:30:01.461Z"
   },
   {
    "duration": 32,
    "start_time": "2021-07-19T22:30:01.561Z"
   },
   {
    "duration": 281,
    "start_time": "2021-07-19T22:30:01.595Z"
   },
   {
    "duration": 241,
    "start_time": "2021-07-19T22:30:01.878Z"
   },
   {
    "duration": 294,
    "start_time": "2021-07-19T22:30:02.122Z"
   },
   {
    "duration": 38,
    "start_time": "2021-07-19T22:30:02.419Z"
   },
   {
    "duration": 17,
    "start_time": "2021-07-19T22:30:02.459Z"
   },
   {
    "duration": 45,
    "start_time": "2021-07-19T22:30:02.478Z"
   },
   {
    "duration": 39,
    "start_time": "2021-07-19T22:30:02.525Z"
   },
   {
    "duration": 15,
    "start_time": "2021-07-19T22:30:02.567Z"
   },
   {
    "duration": 8,
    "start_time": "2021-07-19T22:30:02.658Z"
   },
   {
    "duration": 107,
    "start_time": "2021-07-19T22:30:02.669Z"
   },
   {
    "duration": 32,
    "start_time": "2021-07-19T22:30:02.778Z"
   },
   {
    "duration": 7,
    "start_time": "2021-07-19T22:30:02.812Z"
   },
   {
    "duration": 18,
    "start_time": "2021-07-19T22:30:02.821Z"
   },
   {
    "duration": 307,
    "start_time": "2021-07-19T22:30:02.841Z"
   },
   {
    "duration": 15,
    "start_time": "2021-07-19T22:30:03.150Z"
   },
   {
    "duration": 7,
    "start_time": "2021-07-19T22:30:03.167Z"
   },
   {
    "duration": 13,
    "start_time": "2021-07-19T22:30:03.177Z"
   },
   {
    "duration": 8,
    "start_time": "2021-07-19T22:30:03.192Z"
   },
   {
    "duration": 9,
    "start_time": "2021-07-19T22:30:03.202Z"
   },
   {
    "duration": 17,
    "start_time": "2021-07-19T22:30:03.213Z"
   },
   {
    "duration": 26,
    "start_time": "2021-07-19T22:30:03.232Z"
   },
   {
    "duration": 22,
    "start_time": "2021-07-19T22:30:03.260Z"
   },
   {
    "duration": 9,
    "start_time": "2021-07-19T22:30:03.284Z"
   },
   {
    "duration": 295,
    "start_time": "2021-07-19T22:30:03.295Z"
   },
   {
    "duration": 15,
    "start_time": "2021-07-19T22:30:03.592Z"
   },
   {
    "duration": 11,
    "start_time": "2021-07-19T22:30:03.615Z"
   },
   {
    "duration": 30,
    "start_time": "2021-07-19T22:30:03.629Z"
   },
   {
    "duration": 5,
    "start_time": "2021-07-19T22:30:03.661Z"
   },
   {
    "duration": 9,
    "start_time": "2021-07-19T22:30:03.668Z"
   },
   {
    "duration": 10,
    "start_time": "2021-07-19T22:30:03.680Z"
   },
   {
    "duration": 15,
    "start_time": "2021-07-19T22:30:03.693Z"
   },
   {
    "duration": 23,
    "start_time": "2021-07-19T22:30:03.711Z"
   },
   {
    "duration": 7,
    "start_time": "2021-07-19T22:30:03.736Z"
   },
   {
    "duration": 4995,
    "start_time": "2021-07-19T22:30:03.745Z"
   },
   {
    "duration": 13,
    "start_time": "2021-07-19T22:30:08.742Z"
   },
   {
    "duration": 16,
    "start_time": "2021-07-19T22:30:08.757Z"
   },
   {
    "duration": 10,
    "start_time": "2021-07-19T22:30:08.776Z"
   },
   {
    "duration": 11,
    "start_time": "2021-07-19T22:30:08.788Z"
   },
   {
    "duration": 5109,
    "start_time": "2021-07-19T22:30:08.801Z"
   },
   {
    "duration": 8,
    "start_time": "2021-07-19T22:30:13.912Z"
   },
   {
    "duration": 40,
    "start_time": "2021-07-19T22:30:13.923Z"
   },
   {
    "duration": 5,
    "start_time": "2021-07-19T22:30:13.966Z"
   },
   {
    "duration": 4863,
    "start_time": "2021-07-19T22:30:13.974Z"
   },
   {
    "duration": 7,
    "start_time": "2021-07-19T22:30:18.839Z"
   },
   {
    "duration": 16,
    "start_time": "2021-07-19T22:30:18.857Z"
   },
   {
    "duration": 5,
    "start_time": "2021-07-19T22:30:18.875Z"
   },
   {
    "duration": 16,
    "start_time": "2021-07-19T22:30:18.882Z"
   },
   {
    "duration": 7,
    "start_time": "2021-07-19T22:30:18.900Z"
   },
   {
    "duration": 54,
    "start_time": "2021-07-19T22:30:18.910Z"
   },
   {
    "duration": 9,
    "start_time": "2021-07-19T22:30:18.967Z"
   },
   {
    "duration": 11,
    "start_time": "2021-07-19T22:30:18.979Z"
   },
   {
    "duration": 13,
    "start_time": "2021-07-19T22:30:18.993Z"
   },
   {
    "duration": 10,
    "start_time": "2021-07-19T22:30:19.057Z"
   },
   {
    "duration": 9,
    "start_time": "2021-07-19T22:30:19.070Z"
   },
   {
    "duration": 16,
    "start_time": "2021-07-19T22:30:19.082Z"
   },
   {
    "duration": 326,
    "start_time": "2021-07-19T22:30:19.101Z"
   },
   {
    "duration": 226,
    "start_time": "2021-07-19T22:30:19.430Z"
   },
   {
    "duration": 1463,
    "start_time": "2021-07-20T06:33:19.857Z"
   },
   {
    "duration": 293,
    "start_time": "2021-07-20T06:33:21.323Z"
   },
   {
    "duration": 185,
    "start_time": "2021-07-20T06:33:21.619Z"
   },
   {
    "duration": 185,
    "start_time": "2021-07-20T06:33:21.807Z"
   },
   {
    "duration": 23,
    "start_time": "2021-07-20T06:33:21.994Z"
   },
   {
    "duration": 43,
    "start_time": "2021-07-20T06:33:22.019Z"
   },
   {
    "duration": 22,
    "start_time": "2021-07-20T06:33:22.064Z"
   },
   {
    "duration": 90,
    "start_time": "2021-07-20T06:33:22.088Z"
   },
   {
    "duration": 81,
    "start_time": "2021-07-20T06:33:22.182Z"
   },
   {
    "duration": 97,
    "start_time": "2021-07-20T06:33:22.266Z"
   },
   {
    "duration": 74,
    "start_time": "2021-07-20T06:33:22.366Z"
   },
   {
    "duration": 86,
    "start_time": "2021-07-20T06:33:22.443Z"
   },
   {
    "duration": 86,
    "start_time": "2021-07-20T06:33:22.532Z"
   },
   {
    "duration": 66,
    "start_time": "2021-07-20T06:33:22.620Z"
   },
   {
    "duration": 28346,
    "start_time": "2021-07-20T06:33:22.688Z"
   },
   {
    "duration": 3883,
    "start_time": "2021-07-20T06:33:51.037Z"
   },
   {
    "duration": 2916,
    "start_time": "2021-07-20T06:33:54.923Z"
   },
   {
    "duration": 26,
    "start_time": "2021-07-20T06:33:57.841Z"
   },
   {
    "duration": 336,
    "start_time": "2021-07-20T06:33:57.869Z"
   },
   {
    "duration": 18,
    "start_time": "2021-07-20T06:33:58.207Z"
   },
   {
    "duration": 44,
    "start_time": "2021-07-20T06:33:58.227Z"
   },
   {
    "duration": 9,
    "start_time": "2021-07-20T06:33:58.273Z"
   },
   {
    "duration": 11,
    "start_time": "2021-07-20T06:33:58.285Z"
   },
   {
    "duration": 24,
    "start_time": "2021-07-20T06:33:58.298Z"
   },
   {
    "duration": 39,
    "start_time": "2021-07-20T06:33:58.325Z"
   },
   {
    "duration": 10,
    "start_time": "2021-07-20T06:33:58.366Z"
   },
   {
    "duration": 3,
    "start_time": "2021-07-20T06:33:58.384Z"
   },
   {
    "duration": 22,
    "start_time": "2021-07-20T06:33:58.392Z"
   },
   {
    "duration": 57,
    "start_time": "2021-07-20T06:33:58.416Z"
   },
   {
    "duration": 10,
    "start_time": "2021-07-20T06:33:58.476Z"
   },
   {
    "duration": 18,
    "start_time": "2021-07-20T06:33:58.488Z"
   },
   {
    "duration": 24,
    "start_time": "2021-07-20T06:33:58.508Z"
   },
   {
    "duration": 86,
    "start_time": "2021-07-20T06:33:58.534Z"
   },
   {
    "duration": 4,
    "start_time": "2021-07-20T06:33:58.623Z"
   },
   {
    "duration": 18,
    "start_time": "2021-07-20T06:33:58.662Z"
   },
   {
    "duration": 82,
    "start_time": "2021-07-20T06:33:58.683Z"
   },
   {
    "duration": 12,
    "start_time": "2021-07-20T06:33:58.863Z"
   },
   {
    "duration": 84,
    "start_time": "2021-07-20T06:33:58.878Z"
   },
   {
    "duration": 103,
    "start_time": "2021-07-20T06:33:58.966Z"
   },
   {
    "duration": 20,
    "start_time": "2021-07-20T06:33:59.072Z"
   },
   {
    "duration": 97,
    "start_time": "2021-07-20T06:33:59.165Z"
   },
   {
    "duration": 17,
    "start_time": "2021-07-20T06:33:59.266Z"
   },
   {
    "duration": 297,
    "start_time": "2021-07-20T06:33:59.286Z"
   },
   {
    "duration": 251,
    "start_time": "2021-07-20T06:33:59.585Z"
   },
   {
    "duration": 314,
    "start_time": "2021-07-20T06:33:59.839Z"
   },
   {
    "duration": 32,
    "start_time": "2021-07-20T06:34:00.156Z"
   },
   {
    "duration": 17,
    "start_time": "2021-07-20T06:34:00.190Z"
   },
   {
    "duration": 64,
    "start_time": "2021-07-20T06:34:00.209Z"
   },
   {
    "duration": 26,
    "start_time": "2021-07-20T06:34:00.275Z"
   },
   {
    "duration": 69,
    "start_time": "2021-07-20T06:34:00.303Z"
   },
   {
    "duration": 11,
    "start_time": "2021-07-20T06:34:00.461Z"
   },
   {
    "duration": 103,
    "start_time": "2021-07-20T06:34:00.475Z"
   },
   {
    "duration": 49,
    "start_time": "2021-07-20T06:34:00.580Z"
   },
   {
    "duration": 21,
    "start_time": "2021-07-20T06:34:00.632Z"
   },
   {
    "duration": 46,
    "start_time": "2021-07-20T06:34:00.655Z"
   },
   {
    "duration": 329,
    "start_time": "2021-07-20T06:34:00.703Z"
   },
   {
    "duration": 26,
    "start_time": "2021-07-20T06:34:01.036Z"
   },
   {
    "duration": 8,
    "start_time": "2021-07-20T06:34:01.065Z"
   },
   {
    "duration": 17,
    "start_time": "2021-07-20T06:34:01.076Z"
   },
   {
    "duration": 17,
    "start_time": "2021-07-20T06:34:01.096Z"
   },
   {
    "duration": 18,
    "start_time": "2021-07-20T06:34:01.116Z"
   },
   {
    "duration": 27,
    "start_time": "2021-07-20T06:34:01.138Z"
   },
   {
    "duration": 19,
    "start_time": "2021-07-20T06:34:01.167Z"
   },
   {
    "duration": 21,
    "start_time": "2021-07-20T06:34:01.189Z"
   },
   {
    "duration": 10,
    "start_time": "2021-07-20T06:34:01.212Z"
   },
   {
    "duration": 327,
    "start_time": "2021-07-20T06:34:01.224Z"
   },
   {
    "duration": 20,
    "start_time": "2021-07-20T06:34:01.554Z"
   },
   {
    "duration": 32,
    "start_time": "2021-07-20T06:34:01.577Z"
   },
   {
    "duration": 21,
    "start_time": "2021-07-20T06:34:01.612Z"
   },
   {
    "duration": 15,
    "start_time": "2021-07-20T06:34:01.636Z"
   },
   {
    "duration": 8,
    "start_time": "2021-07-20T06:34:01.654Z"
   },
   {
    "duration": 20,
    "start_time": "2021-07-20T06:34:01.665Z"
   },
   {
    "duration": 78,
    "start_time": "2021-07-20T06:34:01.688Z"
   },
   {
    "duration": 13,
    "start_time": "2021-07-20T06:34:01.769Z"
   },
   {
    "duration": 19,
    "start_time": "2021-07-20T06:34:01.785Z"
   },
   {
    "duration": 8507,
    "start_time": "2021-07-20T06:34:01.807Z"
   },
   {
    "duration": 9,
    "start_time": "2021-07-20T06:34:10.317Z"
   },
   {
    "duration": 1576,
    "start_time": "2021-07-20T10:56:09.860Z"
   },
   {
    "duration": 180,
    "start_time": "2021-07-20T10:56:11.439Z"
   },
   {
    "duration": 174,
    "start_time": "2021-07-20T10:56:11.622Z"
   },
   {
    "duration": 187,
    "start_time": "2021-07-20T10:56:11.800Z"
   },
   {
    "duration": 25,
    "start_time": "2021-07-20T10:56:11.990Z"
   },
   {
    "duration": 22,
    "start_time": "2021-07-20T10:56:12.018Z"
   },
   {
    "duration": 22,
    "start_time": "2021-07-20T10:56:12.068Z"
   },
   {
    "duration": 90,
    "start_time": "2021-07-20T10:56:12.093Z"
   },
   {
    "duration": 83,
    "start_time": "2021-07-20T10:56:12.186Z"
   },
   {
    "duration": 98,
    "start_time": "2021-07-20T10:56:12.272Z"
   },
   {
    "duration": 71,
    "start_time": "2021-07-20T10:56:12.373Z"
   },
   {
    "duration": 85,
    "start_time": "2021-07-20T10:56:12.446Z"
   },
   {
    "duration": 77,
    "start_time": "2021-07-20T10:56:12.533Z"
   },
   {
    "duration": 65,
    "start_time": "2021-07-20T10:56:12.612Z"
   },
   {
    "duration": 27729,
    "start_time": "2021-07-20T10:56:12.679Z"
   },
   {
    "duration": 2978,
    "start_time": "2021-07-20T10:56:40.411Z"
   },
   {
    "duration": 2636,
    "start_time": "2021-07-20T10:56:43.391Z"
   },
   {
    "duration": 16,
    "start_time": "2021-07-20T10:56:46.030Z"
   },
   {
    "duration": 332,
    "start_time": "2021-07-20T10:56:46.048Z"
   },
   {
    "duration": 18,
    "start_time": "2021-07-20T10:56:46.382Z"
   },
   {
    "duration": 20,
    "start_time": "2021-07-20T10:56:46.403Z"
   },
   {
    "duration": 9,
    "start_time": "2021-07-20T10:56:46.426Z"
   },
   {
    "duration": 9,
    "start_time": "2021-07-20T10:56:46.466Z"
   },
   {
    "duration": 20,
    "start_time": "2021-07-20T10:56:46.479Z"
   },
   {
    "duration": 9,
    "start_time": "2021-07-20T10:56:46.501Z"
   },
   {
    "duration": 11,
    "start_time": "2021-07-20T10:56:46.512Z"
   },
   {
    "duration": 44,
    "start_time": "2021-07-20T10:56:46.525Z"
   },
   {
    "duration": 24,
    "start_time": "2021-07-20T10:56:46.571Z"
   },
   {
    "duration": 27,
    "start_time": "2021-07-20T10:56:46.597Z"
   },
   {
    "duration": 11,
    "start_time": "2021-07-20T10:56:46.627Z"
   },
   {
    "duration": 33,
    "start_time": "2021-07-20T10:56:46.640Z"
   },
   {
    "duration": 28,
    "start_time": "2021-07-20T10:56:46.676Z"
   },
   {
    "duration": 96,
    "start_time": "2021-07-20T10:56:46.707Z"
   },
   {
    "duration": 3,
    "start_time": "2021-07-20T10:56:46.805Z"
   },
   {
    "duration": 20,
    "start_time": "2021-07-20T10:56:46.811Z"
   },
   {
    "duration": 43,
    "start_time": "2021-07-20T10:56:46.833Z"
   },
   {
    "duration": 188,
    "start_time": "2021-07-20T10:56:46.880Z"
   },
   {
    "duration": 17,
    "start_time": "2021-07-20T10:56:47.070Z"
   },
   {
    "duration": 98,
    "start_time": "2021-07-20T10:56:47.174Z"
   },
   {
    "duration": 25,
    "start_time": "2021-07-20T10:56:47.274Z"
   },
   {
    "duration": 8,
    "start_time": "2021-07-20T10:56:47.369Z"
   },
   {
    "duration": 23,
    "start_time": "2021-07-20T10:56:47.468Z"
   },
   {
    "duration": 290,
    "start_time": "2021-07-20T10:56:47.493Z"
   },
   {
    "duration": 250,
    "start_time": "2021-07-20T10:56:47.785Z"
   },
   {
    "duration": 297,
    "start_time": "2021-07-20T10:56:48.038Z"
   },
   {
    "duration": 35,
    "start_time": "2021-07-20T10:56:48.338Z"
   },
   {
    "duration": 16,
    "start_time": "2021-07-20T10:56:48.375Z"
   },
   {
    "duration": 31,
    "start_time": "2021-07-20T10:56:48.393Z"
   },
   {
    "duration": 47,
    "start_time": "2021-07-20T10:56:48.426Z"
   },
   {
    "duration": 9,
    "start_time": "2021-07-20T10:56:48.476Z"
   },
   {
    "duration": 89,
    "start_time": "2021-07-20T10:56:48.488Z"
   },
   {
    "duration": 7,
    "start_time": "2021-07-20T10:56:48.669Z"
   },
   {
    "duration": 9,
    "start_time": "2021-07-20T10:56:48.678Z"
   },
   {
    "duration": 6,
    "start_time": "2021-07-20T10:56:48.689Z"
   },
   {
    "duration": 23,
    "start_time": "2021-07-20T10:56:48.697Z"
   },
   {
    "duration": 440,
    "start_time": "2021-07-20T10:56:48.723Z"
   },
   {
    "duration": 13,
    "start_time": "2021-07-20T10:56:49.165Z"
   },
   {
    "duration": 7,
    "start_time": "2021-07-20T10:56:49.180Z"
   },
   {
    "duration": 8,
    "start_time": "2021-07-20T10:56:49.190Z"
   },
   {
    "duration": 6,
    "start_time": "2021-07-20T10:56:49.200Z"
   },
   {
    "duration": 7,
    "start_time": "2021-07-20T10:56:49.208Z"
   },
   {
    "duration": 52,
    "start_time": "2021-07-20T10:56:49.217Z"
   },
   {
    "duration": 9,
    "start_time": "2021-07-20T10:56:49.272Z"
   },
   {
    "duration": 8,
    "start_time": "2021-07-20T10:56:49.283Z"
   },
   {
    "duration": 6,
    "start_time": "2021-07-20T10:56:49.293Z"
   },
   {
    "duration": 335,
    "start_time": "2021-07-20T10:56:49.301Z"
   },
   {
    "duration": 15,
    "start_time": "2021-07-20T10:56:49.638Z"
   },
   {
    "duration": 6,
    "start_time": "2021-07-20T10:56:49.673Z"
   },
   {
    "duration": 6,
    "start_time": "2021-07-20T10:56:49.683Z"
   },
   {
    "duration": 8,
    "start_time": "2021-07-20T10:56:49.691Z"
   },
   {
    "duration": 4,
    "start_time": "2021-07-20T10:56:49.701Z"
   },
   {
    "duration": 5,
    "start_time": "2021-07-20T10:56:49.708Z"
   },
   {
    "duration": 5,
    "start_time": "2021-07-20T10:56:49.716Z"
   },
   {
    "duration": 45,
    "start_time": "2021-07-20T10:56:49.724Z"
   },
   {
    "duration": 6,
    "start_time": "2021-07-20T10:56:49.772Z"
   },
   {
    "duration": 5591,
    "start_time": "2021-07-20T10:56:49.781Z"
   },
   {
    "duration": 5,
    "start_time": "2021-07-20T10:56:55.374Z"
   },
   {
    "duration": 20,
    "start_time": "2021-07-20T10:56:55.381Z"
   },
   {
    "duration": 5,
    "start_time": "2021-07-20T10:56:55.404Z"
   },
   {
    "duration": 8,
    "start_time": "2021-07-20T10:56:55.412Z"
   },
   {
    "duration": 5391,
    "start_time": "2021-07-20T10:56:55.422Z"
   },
   {
    "duration": 6,
    "start_time": "2021-07-20T10:57:00.816Z"
   },
   {
    "duration": 39,
    "start_time": "2021-07-20T10:57:00.825Z"
   },
   {
    "duration": 16,
    "start_time": "2021-07-20T10:57:00.867Z"
   },
   {
    "duration": 5534,
    "start_time": "2021-07-20T10:57:00.885Z"
   },
   {
    "duration": 7,
    "start_time": "2021-07-20T10:57:06.422Z"
   },
   {
    "duration": 37,
    "start_time": "2021-07-20T10:57:06.431Z"
   },
   {
    "duration": 5,
    "start_time": "2021-07-20T10:57:06.471Z"
   },
   {
    "duration": 16,
    "start_time": "2021-07-20T10:57:06.478Z"
   },
   {
    "duration": 8,
    "start_time": "2021-07-20T10:57:06.497Z"
   },
   {
    "duration": 14,
    "start_time": "2021-07-20T10:57:06.507Z"
   },
   {
    "duration": 8,
    "start_time": "2021-07-20T10:57:06.524Z"
   },
   {
    "duration": 9,
    "start_time": "2021-07-20T10:57:06.568Z"
   },
   {
    "duration": 16,
    "start_time": "2021-07-20T10:57:06.579Z"
   },
   {
    "duration": 8,
    "start_time": "2021-07-20T10:57:06.597Z"
   },
   {
    "duration": 8,
    "start_time": "2021-07-20T10:57:06.608Z"
   },
   {
    "duration": 60,
    "start_time": "2021-07-20T10:57:06.618Z"
   },
   {
    "duration": 310,
    "start_time": "2021-07-20T10:57:06.680Z"
   },
   {
    "duration": 253,
    "start_time": "2021-07-20T10:57:06.993Z"
   },
   {
    "duration": 8223,
    "start_time": "2021-07-20T10:59:42.806Z"
   },
   {
    "duration": 19,
    "start_time": "2021-07-20T11:00:20.966Z"
   },
   {
    "duration": 17,
    "start_time": "2021-07-20T11:00:51.191Z"
   },
   {
    "duration": 306,
    "start_time": "2021-07-20T11:02:27.485Z"
   },
   {
    "duration": 392,
    "start_time": "2021-07-20T11:02:40.489Z"
   },
   {
    "duration": 309,
    "start_time": "2021-07-20T11:04:34.568Z"
   },
   {
    "duration": 8214,
    "start_time": "2021-07-20T11:05:44.814Z"
   },
   {
    "duration": 8222,
    "start_time": "2021-07-20T11:06:10.189Z"
   },
   {
    "duration": 16,
    "start_time": "2021-07-20T11:07:02.363Z"
   },
   {
    "duration": 22,
    "start_time": "2021-07-20T11:07:52.299Z"
   },
   {
    "duration": 138,
    "start_time": "2021-07-20T11:08:03.580Z"
   },
   {
    "duration": 56,
    "start_time": "2021-07-20T11:08:08.682Z"
   },
   {
    "duration": 767,
    "start_time": "2021-07-20T11:09:33.888Z"
   },
   {
    "duration": 431,
    "start_time": "2021-07-20T11:10:01.707Z"
   },
   {
    "duration": 426,
    "start_time": "2021-07-20T11:10:25.913Z"
   },
   {
    "duration": 301,
    "start_time": "2021-07-20T11:10:50.410Z"
   },
   {
    "duration": 60,
    "start_time": "2021-07-20T11:15:04.417Z"
   },
   {
    "duration": 394,
    "start_time": "2021-07-20T11:15:43.427Z"
   },
   {
    "duration": 1640,
    "start_time": "2021-07-20T11:15:54.935Z"
   },
   {
    "duration": 192,
    "start_time": "2021-07-20T11:15:56.577Z"
   },
   {
    "duration": 170,
    "start_time": "2021-07-20T11:15:56.773Z"
   },
   {
    "duration": 182,
    "start_time": "2021-07-20T11:15:56.946Z"
   },
   {
    "duration": 36,
    "start_time": "2021-07-20T11:15:57.131Z"
   },
   {
    "duration": 23,
    "start_time": "2021-07-20T11:15:57.170Z"
   },
   {
    "duration": 31,
    "start_time": "2021-07-20T11:15:57.196Z"
   },
   {
    "duration": 94,
    "start_time": "2021-07-20T11:15:57.231Z"
   },
   {
    "duration": 80,
    "start_time": "2021-07-20T11:15:57.328Z"
   },
   {
    "duration": 99,
    "start_time": "2021-07-20T11:15:57.411Z"
   },
   {
    "duration": 76,
    "start_time": "2021-07-20T11:15:57.512Z"
   },
   {
    "duration": 84,
    "start_time": "2021-07-20T11:15:57.590Z"
   },
   {
    "duration": 71,
    "start_time": "2021-07-20T11:15:57.676Z"
   },
   {
    "duration": 70,
    "start_time": "2021-07-20T11:15:57.749Z"
   },
   {
    "duration": 28293,
    "start_time": "2021-07-20T11:15:57.821Z"
   },
   {
    "duration": 3312,
    "start_time": "2021-07-20T11:16:26.116Z"
   },
   {
    "duration": 8186,
    "start_time": "2021-07-20T11:16:29.432Z"
   },
   {
    "duration": 23,
    "start_time": "2021-07-20T11:16:37.621Z"
   },
   {
    "duration": 36,
    "start_time": "2021-07-20T11:16:37.647Z"
   },
   {
    "duration": 31,
    "start_time": "2021-07-20T11:16:37.685Z"
   },
   {
    "duration": 338,
    "start_time": "2021-07-20T11:16:37.718Z"
   },
   {
    "duration": 325,
    "start_time": "2021-07-20T11:16:38.058Z"
   },
   {
    "duration": 319,
    "start_time": "2021-07-20T11:16:38.389Z"
   },
   {
    "duration": 61,
    "start_time": "2021-07-20T11:16:38.712Z"
   },
   {
    "duration": 615,
    "start_time": "2021-07-20T11:16:38.776Z"
   },
   {
    "duration": -3272,
    "start_time": "2021-07-20T11:16:42.668Z"
   },
   {
    "duration": -3409,
    "start_time": "2021-07-20T11:16:42.807Z"
   },
   {
    "duration": -3609,
    "start_time": "2021-07-20T11:16:43.008Z"
   },
   {
    "duration": -3761,
    "start_time": "2021-07-20T11:16:43.161Z"
   },
   {
    "duration": -3933,
    "start_time": "2021-07-20T11:16:43.334Z"
   },
   {
    "duration": -4073,
    "start_time": "2021-07-20T11:16:43.475Z"
   },
   {
    "duration": -4266,
    "start_time": "2021-07-20T11:16:43.669Z"
   },
   {
    "duration": -4455,
    "start_time": "2021-07-20T11:16:43.859Z"
   },
   {
    "duration": -4587,
    "start_time": "2021-07-20T11:16:43.992Z"
   },
   {
    "duration": -4730,
    "start_time": "2021-07-20T11:16:44.136Z"
   },
   {
    "duration": -4921,
    "start_time": "2021-07-20T11:16:44.328Z"
   },
   {
    "duration": -5065,
    "start_time": "2021-07-20T11:16:44.473Z"
   },
   {
    "duration": -5252,
    "start_time": "2021-07-20T11:16:44.661Z"
   },
   {
    "duration": -5395,
    "start_time": "2021-07-20T11:16:44.805Z"
   },
   {
    "duration": -5593,
    "start_time": "2021-07-20T11:16:45.004Z"
   },
   {
    "duration": -5790,
    "start_time": "2021-07-20T11:16:45.203Z"
   },
   {
    "duration": -5927,
    "start_time": "2021-07-20T11:16:45.341Z"
   },
   {
    "duration": -6069,
    "start_time": "2021-07-20T11:16:45.484Z"
   },
   {
    "duration": -6282,
    "start_time": "2021-07-20T11:16:45.698Z"
   },
   {
    "duration": -6464,
    "start_time": "2021-07-20T11:16:45.882Z"
   },
   {
    "duration": -6622,
    "start_time": "2021-07-20T11:16:46.041Z"
   },
   {
    "duration": -6763,
    "start_time": "2021-07-20T11:16:46.184Z"
   },
   {
    "duration": -6966,
    "start_time": "2021-07-20T11:16:46.388Z"
   },
   {
    "duration": -7105,
    "start_time": "2021-07-20T11:16:46.528Z"
   },
   {
    "duration": -7276,
    "start_time": "2021-07-20T11:16:46.700Z"
   },
   {
    "duration": -7416,
    "start_time": "2021-07-20T11:16:46.842Z"
   },
   {
    "duration": -7619,
    "start_time": "2021-07-20T11:16:47.046Z"
   },
   {
    "duration": -7767,
    "start_time": "2021-07-20T11:16:47.196Z"
   },
   {
    "duration": -7941,
    "start_time": "2021-07-20T11:16:47.371Z"
   },
   {
    "duration": -8043,
    "start_time": "2021-07-20T11:16:47.510Z"
   },
   {
    "duration": -8249,
    "start_time": "2021-07-20T11:16:47.717Z"
   },
   {
    "duration": -8381,
    "start_time": "2021-07-20T11:16:47.851Z"
   },
   {
    "duration": -8572,
    "start_time": "2021-07-20T11:16:48.043Z"
   },
   {
    "duration": -8710,
    "start_time": "2021-07-20T11:16:48.183Z"
   },
   {
    "duration": -8922,
    "start_time": "2021-07-20T11:16:48.396Z"
   },
   {
    "duration": -9058,
    "start_time": "2021-07-20T11:16:48.533Z"
   },
   {
    "duration": -9232,
    "start_time": "2021-07-20T11:16:48.708Z"
   },
   {
    "duration": -9371,
    "start_time": "2021-07-20T11:16:48.849Z"
   },
   {
    "duration": -9593,
    "start_time": "2021-07-20T11:16:49.072Z"
   },
   {
    "duration": -9715,
    "start_time": "2021-07-20T11:16:49.195Z"
   },
   {
    "duration": -9870,
    "start_time": "2021-07-20T11:16:49.352Z"
   },
   {
    "duration": -10041,
    "start_time": "2021-07-20T11:16:49.524Z"
   },
   {
    "duration": -10407,
    "start_time": "2021-07-20T11:16:49.892Z"
   },
   {
    "duration": -10535,
    "start_time": "2021-07-20T11:16:50.021Z"
   },
   {
    "duration": -10729,
    "start_time": "2021-07-20T11:16:50.216Z"
   },
   {
    "duration": -10869,
    "start_time": "2021-07-20T11:16:50.357Z"
   },
   {
    "duration": -11012,
    "start_time": "2021-07-20T11:16:50.502Z"
   },
   {
    "duration": -11202,
    "start_time": "2021-07-20T11:16:50.693Z"
   },
   {
    "duration": -11342,
    "start_time": "2021-07-20T11:16:50.834Z"
   },
   {
    "duration": -11513,
    "start_time": "2021-07-20T11:16:51.007Z"
   },
   {
    "duration": -11664,
    "start_time": "2021-07-20T11:16:51.159Z"
   },
   {
    "duration": -11860,
    "start_time": "2021-07-20T11:16:51.356Z"
   },
   {
    "duration": -12044,
    "start_time": "2021-07-20T11:16:51.542Z"
   },
   {
    "duration": -12197,
    "start_time": "2021-07-20T11:16:51.696Z"
   },
   {
    "duration": -12339,
    "start_time": "2021-07-20T11:16:51.839Z"
   },
   {
    "duration": -12546,
    "start_time": "2021-07-20T11:16:52.048Z"
   },
   {
    "duration": -12735,
    "start_time": "2021-07-20T11:16:52.238Z"
   },
   {
    "duration": -12811,
    "start_time": "2021-07-20T11:16:52.378Z"
   },
   {
    "duration": -12956,
    "start_time": "2021-07-20T11:16:52.524Z"
   },
   {
    "duration": -13168,
    "start_time": "2021-07-20T11:16:52.738Z"
   },
   {
    "duration": -13298,
    "start_time": "2021-07-20T11:16:52.869Z"
   },
   {
    "duration": -13501,
    "start_time": "2021-07-20T11:16:53.074Z"
   },
   {
    "duration": -13642,
    "start_time": "2021-07-20T11:16:53.216Z"
   },
   {
    "duration": -13873,
    "start_time": "2021-07-20T11:16:53.449Z"
   },
   {
    "duration": -14005,
    "start_time": "2021-07-20T11:16:53.582Z"
   },
   {
    "duration": -14201,
    "start_time": "2021-07-20T11:16:53.780Z"
   },
   {
    "duration": -14339,
    "start_time": "2021-07-20T11:16:53.919Z"
   },
   {
    "duration": -14483,
    "start_time": "2021-07-20T11:16:54.065Z"
   },
   {
    "duration": -14690,
    "start_time": "2021-07-20T11:16:54.273Z"
   },
   {
    "duration": -14832,
    "start_time": "2021-07-20T11:16:54.417Z"
   },
   {
    "duration": -15009,
    "start_time": "2021-07-20T11:16:54.595Z"
   },
   {
    "duration": -15148,
    "start_time": "2021-07-20T11:16:54.736Z"
   },
   {
    "duration": -15371,
    "start_time": "2021-07-20T11:16:54.960Z"
   },
   {
    "duration": -15497,
    "start_time": "2021-07-20T11:16:55.087Z"
   },
   {
    "duration": -15642,
    "start_time": "2021-07-20T11:16:55.234Z"
   },
   {
    "duration": -15797,
    "start_time": "2021-07-20T11:16:55.390Z"
   },
   {
    "duration": -16026,
    "start_time": "2021-07-20T11:16:55.620Z"
   },
   {
    "duration": -16157,
    "start_time": "2021-07-20T11:16:55.752Z"
   },
   {
    "duration": -16342,
    "start_time": "2021-07-20T11:16:55.939Z"
   },
   {
    "duration": 1468,
    "start_time": "2021-07-20T11:18:08.785Z"
   },
   {
    "duration": 190,
    "start_time": "2021-07-20T11:18:10.256Z"
   },
   {
    "duration": 172,
    "start_time": "2021-07-20T11:18:10.449Z"
   },
   {
    "duration": 184,
    "start_time": "2021-07-20T11:18:10.624Z"
   },
   {
    "duration": 22,
    "start_time": "2021-07-20T11:18:10.810Z"
   },
   {
    "duration": 44,
    "start_time": "2021-07-20T11:18:10.834Z"
   },
   {
    "duration": 28,
    "start_time": "2021-07-20T11:18:10.881Z"
   },
   {
    "duration": 88,
    "start_time": "2021-07-20T11:18:10.913Z"
   },
   {
    "duration": 77,
    "start_time": "2021-07-20T11:18:11.004Z"
   },
   {
    "duration": 104,
    "start_time": "2021-07-20T11:18:11.083Z"
   },
   {
    "duration": 79,
    "start_time": "2021-07-20T11:18:11.189Z"
   },
   {
    "duration": 60,
    "start_time": "2021-07-20T11:18:11.271Z"
   },
   {
    "duration": 80,
    "start_time": "2021-07-20T11:18:11.334Z"
   },
   {
    "duration": 60,
    "start_time": "2021-07-20T11:18:11.417Z"
   },
   {
    "duration": 26251,
    "start_time": "2021-07-20T11:18:11.479Z"
   },
   {
    "duration": 2986,
    "start_time": "2021-07-20T11:18:37.732Z"
   },
   {
    "duration": 8360,
    "start_time": "2021-07-20T11:18:40.721Z"
   },
   {
    "duration": 21,
    "start_time": "2021-07-20T11:18:49.084Z"
   },
   {
    "duration": 20,
    "start_time": "2021-07-20T11:18:49.107Z"
   },
   {
    "duration": 51,
    "start_time": "2021-07-20T11:18:49.130Z"
   },
   {
    "duration": 346,
    "start_time": "2021-07-20T11:18:49.184Z"
   },
   {
    "duration": 324,
    "start_time": "2021-07-20T11:18:49.533Z"
   },
   {
    "duration": 320,
    "start_time": "2021-07-20T11:18:49.862Z"
   },
   {
    "duration": 49,
    "start_time": "2021-07-20T11:18:50.187Z"
   },
   {
    "duration": 47,
    "start_time": "2021-07-20T11:18:50.239Z"
   },
   {
    "duration": 19,
    "start_time": "2021-07-20T11:18:50.289Z"
   },
   {
    "duration": 9,
    "start_time": "2021-07-20T11:18:50.310Z"
   },
   {
    "duration": 45,
    "start_time": "2021-07-20T11:18:50.322Z"
   },
   {
    "duration": 21,
    "start_time": "2021-07-20T11:18:50.370Z"
   },
   {
    "duration": 12,
    "start_time": "2021-07-20T11:18:50.393Z"
   },
   {
    "duration": 9,
    "start_time": "2021-07-20T11:18:50.408Z"
   },
   {
    "duration": 5,
    "start_time": "2021-07-20T11:18:50.420Z"
   },
   {
    "duration": 60,
    "start_time": "2021-07-20T11:18:50.428Z"
   },
   {
    "duration": 19,
    "start_time": "2021-07-20T11:18:50.491Z"
   },
   {
    "duration": 10,
    "start_time": "2021-07-20T11:18:50.512Z"
   },
   {
    "duration": 10,
    "start_time": "2021-07-20T11:18:50.524Z"
   },
   {
    "duration": 20,
    "start_time": "2021-07-20T11:18:50.567Z"
   },
   {
    "duration": 88,
    "start_time": "2021-07-20T11:18:50.589Z"
   },
   {
    "duration": 4,
    "start_time": "2021-07-20T11:18:50.679Z"
   },
   {
    "duration": 17,
    "start_time": "2021-07-20T11:18:50.685Z"
   },
   {
    "duration": 66,
    "start_time": "2021-07-20T11:18:50.704Z"
   },
   {
    "duration": 100,
    "start_time": "2021-07-20T11:18:50.772Z"
   },
   {
    "duration": 91,
    "start_time": "2021-07-20T11:18:50.875Z"
   },
   {
    "duration": 104,
    "start_time": "2021-07-20T11:18:50.970Z"
   },
   {
    "duration": 22,
    "start_time": "2021-07-20T11:18:51.077Z"
   },
   {
    "duration": 7,
    "start_time": "2021-07-20T11:18:51.166Z"
   },
   {
    "duration": 106,
    "start_time": "2021-07-20T11:18:51.177Z"
   },
   {
    "duration": 281,
    "start_time": "2021-07-20T11:18:51.286Z"
   },
   {
    "duration": 244,
    "start_time": "2021-07-20T11:18:51.569Z"
   },
   {
    "duration": 319,
    "start_time": "2021-07-20T11:18:51.815Z"
   },
   {
    "duration": 38,
    "start_time": "2021-07-20T11:18:52.136Z"
   },
   {
    "duration": 16,
    "start_time": "2021-07-20T11:18:52.176Z"
   },
   {
    "duration": 42,
    "start_time": "2021-07-20T11:18:52.195Z"
   },
   {
    "duration": 39,
    "start_time": "2021-07-20T11:18:52.240Z"
   },
   {
    "duration": 10,
    "start_time": "2021-07-20T11:18:52.282Z"
   },
   {
    "duration": 80,
    "start_time": "2021-07-20T11:18:52.295Z"
   },
   {
    "duration": 8,
    "start_time": "2021-07-20T11:18:52.467Z"
   },
   {
    "duration": 8,
    "start_time": "2021-07-20T11:18:52.477Z"
   },
   {
    "duration": 6,
    "start_time": "2021-07-20T11:18:52.487Z"
   },
   {
    "duration": 20,
    "start_time": "2021-07-20T11:18:52.495Z"
   },
   {
    "duration": 365,
    "start_time": "2021-07-20T11:18:52.518Z"
   },
   {
    "duration": 14,
    "start_time": "2021-07-20T11:18:52.885Z"
   },
   {
    "duration": 8,
    "start_time": "2021-07-20T11:18:52.901Z"
   },
   {
    "duration": 8,
    "start_time": "2021-07-20T11:18:52.911Z"
   },
   {
    "duration": 7,
    "start_time": "2021-07-20T11:18:52.921Z"
   },
   {
    "duration": 38,
    "start_time": "2021-07-20T11:18:52.931Z"
   },
   {
    "duration": 7,
    "start_time": "2021-07-20T11:18:52.972Z"
   },
   {
    "duration": 5,
    "start_time": "2021-07-20T11:18:52.988Z"
   },
   {
    "duration": 7,
    "start_time": "2021-07-20T11:18:52.996Z"
   },
   {
    "duration": 12,
    "start_time": "2021-07-20T11:18:53.006Z"
   },
   {
    "duration": 354,
    "start_time": "2021-07-20T11:18:53.021Z"
   },
   {
    "duration": 16,
    "start_time": "2021-07-20T11:18:53.377Z"
   },
   {
    "duration": 10,
    "start_time": "2021-07-20T11:18:53.396Z"
   },
   {
    "duration": 9,
    "start_time": "2021-07-20T11:18:53.409Z"
   },
   {
    "duration": 47,
    "start_time": "2021-07-20T11:18:53.420Z"
   },
   {
    "duration": 4,
    "start_time": "2021-07-20T11:18:53.469Z"
   },
   {
    "duration": 10,
    "start_time": "2021-07-20T11:18:53.475Z"
   },
   {
    "duration": 6,
    "start_time": "2021-07-20T11:18:53.487Z"
   },
   {
    "duration": 7,
    "start_time": "2021-07-20T11:18:53.495Z"
   },
   {
    "duration": 10,
    "start_time": "2021-07-20T11:18:53.504Z"
   },
   {
    "duration": 5613,
    "start_time": "2021-07-20T11:18:53.516Z"
   },
   {
    "duration": 4,
    "start_time": "2021-07-20T11:18:59.132Z"
   },
   {
    "duration": 38,
    "start_time": "2021-07-20T11:18:59.138Z"
   },
   {
    "duration": 5,
    "start_time": "2021-07-20T11:18:59.178Z"
   },
   {
    "duration": 9,
    "start_time": "2021-07-20T11:18:59.186Z"
   },
   {
    "duration": 5433,
    "start_time": "2021-07-20T11:18:59.198Z"
   },
   {
    "duration": 7,
    "start_time": "2021-07-20T11:19:04.634Z"
   },
   {
    "duration": 36,
    "start_time": "2021-07-20T11:19:04.643Z"
   },
   {
    "duration": 4,
    "start_time": "2021-07-20T11:19:04.681Z"
   },
   {
    "duration": 5382,
    "start_time": "2021-07-20T11:19:04.688Z"
   },
   {
    "duration": 8,
    "start_time": "2021-07-20T11:19:10.072Z"
   },
   {
    "duration": 22,
    "start_time": "2021-07-20T11:19:10.082Z"
   },
   {
    "duration": 6,
    "start_time": "2021-07-20T11:19:10.108Z"
   },
   {
    "duration": 16,
    "start_time": "2021-07-20T11:19:10.117Z"
   },
   {
    "duration": 10,
    "start_time": "2021-07-20T11:19:10.168Z"
   },
   {
    "duration": 14,
    "start_time": "2021-07-20T11:19:10.180Z"
   },
   {
    "duration": 10,
    "start_time": "2021-07-20T11:19:10.197Z"
   },
   {
    "duration": 59,
    "start_time": "2021-07-20T11:19:10.209Z"
   },
   {
    "duration": 15,
    "start_time": "2021-07-20T11:19:10.271Z"
   },
   {
    "duration": 8,
    "start_time": "2021-07-20T11:19:10.289Z"
   },
   {
    "duration": 15,
    "start_time": "2021-07-20T11:19:10.299Z"
   },
   {
    "duration": 53,
    "start_time": "2021-07-20T11:19:10.316Z"
   },
   {
    "duration": 302,
    "start_time": "2021-07-20T11:19:10.371Z"
   },
   {
    "duration": 345,
    "start_time": "2021-07-20T11:19:10.676Z"
   },
   {
    "duration": 8,
    "start_time": "2021-07-20T11:49:57.407Z"
   },
   {
    "duration": 711,
    "start_time": "2021-07-20T11:50:25.018Z"
   },
   {
    "duration": 1635,
    "start_time": "2021-07-20T11:51:28.260Z"
   },
   {
    "duration": 202,
    "start_time": "2021-07-20T11:51:29.898Z"
   },
   {
    "duration": 196,
    "start_time": "2021-07-20T11:51:30.104Z"
   },
   {
    "duration": 185,
    "start_time": "2021-07-20T11:51:30.303Z"
   },
   {
    "duration": 22,
    "start_time": "2021-07-20T11:51:30.490Z"
   },
   {
    "duration": 37,
    "start_time": "2021-07-20T11:51:30.515Z"
   },
   {
    "duration": 42,
    "start_time": "2021-07-20T11:51:30.554Z"
   },
   {
    "duration": 86,
    "start_time": "2021-07-20T11:51:30.600Z"
   },
   {
    "duration": 85,
    "start_time": "2021-07-20T11:51:30.689Z"
   },
   {
    "duration": 102,
    "start_time": "2021-07-20T11:51:30.777Z"
   },
   {
    "duration": 110,
    "start_time": "2021-07-20T11:51:30.881Z"
   },
   {
    "duration": 84,
    "start_time": "2021-07-20T11:51:30.993Z"
   },
   {
    "duration": 69,
    "start_time": "2021-07-20T11:51:31.079Z"
   },
   {
    "duration": 43,
    "start_time": "2021-07-20T11:51:31.167Z"
   },
   {
    "duration": 28445,
    "start_time": "2021-07-20T11:51:31.212Z"
   },
   {
    "duration": 3158,
    "start_time": "2021-07-20T11:51:59.660Z"
   },
   {
    "duration": 8606,
    "start_time": "2021-07-20T11:52:02.820Z"
   },
   {
    "duration": 18,
    "start_time": "2021-07-20T11:52:11.428Z"
   },
   {
    "duration": 19,
    "start_time": "2021-07-20T11:52:11.467Z"
   },
   {
    "duration": 28,
    "start_time": "2021-07-20T11:52:11.488Z"
   },
   {
    "duration": 353,
    "start_time": "2021-07-20T11:52:11.518Z"
   },
   {
    "duration": 337,
    "start_time": "2021-07-20T11:52:11.873Z"
   },
   {
    "duration": 325,
    "start_time": "2021-07-20T11:52:12.215Z"
   },
   {
    "duration": 61,
    "start_time": "2021-07-20T11:52:12.544Z"
   },
   {
    "duration": 28,
    "start_time": "2021-07-20T11:52:12.608Z"
   },
   {
    "duration": 30,
    "start_time": "2021-07-20T11:52:12.638Z"
   },
   {
    "duration": 17,
    "start_time": "2021-07-20T11:52:12.670Z"
   },
   {
    "duration": 570,
    "start_time": "2021-07-20T11:52:12.690Z"
   },
   {
    "duration": -3179,
    "start_time": "2021-07-20T11:52:16.444Z"
   },
   {
    "duration": -3305,
    "start_time": "2021-07-20T11:52:16.571Z"
   },
   {
    "duration": -3428,
    "start_time": "2021-07-20T11:52:16.696Z"
   },
   {
    "duration": -3551,
    "start_time": "2021-07-20T11:52:16.820Z"
   },
   {
    "duration": -3689,
    "start_time": "2021-07-20T11:52:16.960Z"
   },
   {
    "duration": -3891,
    "start_time": "2021-07-20T11:52:17.163Z"
   },
   {
    "duration": -4034,
    "start_time": "2021-07-20T11:52:17.308Z"
   },
   {
    "duration": -4177,
    "start_time": "2021-07-20T11:52:17.453Z"
   },
   {
    "duration": -4339,
    "start_time": "2021-07-20T11:52:17.617Z"
   },
   {
    "duration": -4494,
    "start_time": "2021-07-20T11:52:17.773Z"
   },
   {
    "duration": -4654,
    "start_time": "2021-07-20T11:52:17.934Z"
   },
   {
    "duration": -4812,
    "start_time": "2021-07-20T11:52:18.094Z"
   },
   {
    "duration": -4986,
    "start_time": "2021-07-20T11:52:18.269Z"
   },
   {
    "duration": -5145,
    "start_time": "2021-07-20T11:52:18.430Z"
   },
   {
    "duration": -5302,
    "start_time": "2021-07-20T11:52:18.589Z"
   },
   {
    "duration": -5637,
    "start_time": "2021-07-20T11:52:18.925Z"
   },
   {
    "duration": -5900,
    "start_time": "2021-07-20T11:52:19.189Z"
   },
   {
    "duration": -6026,
    "start_time": "2021-07-20T11:52:19.317Z"
   },
   {
    "duration": -6143,
    "start_time": "2021-07-20T11:52:19.435Z"
   },
   {
    "duration": -6277,
    "start_time": "2021-07-20T11:52:19.570Z"
   },
   {
    "duration": -6416,
    "start_time": "2021-07-20T11:52:19.711Z"
   },
   {
    "duration": -6538,
    "start_time": "2021-07-20T11:52:19.835Z"
   },
   {
    "duration": -6660,
    "start_time": "2021-07-20T11:52:19.959Z"
   },
   {
    "duration": -6781,
    "start_time": "2021-07-20T11:52:20.081Z"
   },
   {
    "duration": -6905,
    "start_time": "2021-07-20T11:52:20.207Z"
   },
   {
    "duration": -7040,
    "start_time": "2021-07-20T11:52:20.343Z"
   },
   {
    "duration": -7179,
    "start_time": "2021-07-20T11:52:20.483Z"
   },
   {
    "duration": -7314,
    "start_time": "2021-07-20T11:52:20.620Z"
   },
   {
    "duration": -7470,
    "start_time": "2021-07-20T11:52:20.777Z"
   },
   {
    "duration": -7688,
    "start_time": "2021-07-20T11:52:20.997Z"
   },
   {
    "duration": -7885,
    "start_time": "2021-07-20T11:52:21.251Z"
   },
   {
    "duration": -8056,
    "start_time": "2021-07-20T11:52:21.424Z"
   },
   {
    "duration": -8184,
    "start_time": "2021-07-20T11:52:21.553Z"
   },
   {
    "duration": -8305,
    "start_time": "2021-07-20T11:52:21.676Z"
   },
   {
    "duration": -8466,
    "start_time": "2021-07-20T11:52:21.838Z"
   },
   {
    "duration": -8612,
    "start_time": "2021-07-20T11:52:21.986Z"
   },
   {
    "duration": -9019,
    "start_time": "2021-07-20T11:52:22.394Z"
   },
   {
    "duration": -9236,
    "start_time": "2021-07-20T11:52:22.613Z"
   },
   {
    "duration": -9417,
    "start_time": "2021-07-20T11:52:22.795Z"
   },
   {
    "duration": -9558,
    "start_time": "2021-07-20T11:52:22.938Z"
   },
   {
    "duration": -9691,
    "start_time": "2021-07-20T11:52:23.072Z"
   },
   {
    "duration": -9874,
    "start_time": "2021-07-20T11:52:23.257Z"
   },
   {
    "duration": -10020,
    "start_time": "2021-07-20T11:52:23.405Z"
   },
   {
    "duration": -10155,
    "start_time": "2021-07-20T11:52:23.542Z"
   },
   {
    "duration": -10326,
    "start_time": "2021-07-20T11:52:23.714Z"
   },
   {
    "duration": -10533,
    "start_time": "2021-07-20T11:52:23.922Z"
   },
   {
    "duration": -10666,
    "start_time": "2021-07-20T11:52:24.057Z"
   },
   {
    "duration": -10799,
    "start_time": "2021-07-20T11:52:24.191Z"
   },
   {
    "duration": -10992,
    "start_time": "2021-07-20T11:52:24.386Z"
   },
   {
    "duration": -11159,
    "start_time": "2021-07-20T11:52:24.555Z"
   },
   {
    "duration": -11431,
    "start_time": "2021-07-20T11:52:24.829Z"
   },
   {
    "duration": -11772,
    "start_time": "2021-07-20T11:52:25.171Z"
   },
   {
    "duration": -11915,
    "start_time": "2021-07-20T11:52:25.316Z"
   },
   {
    "duration": -12218,
    "start_time": "2021-07-20T11:52:25.620Z"
   },
   {
    "duration": -12331,
    "start_time": "2021-07-20T11:52:25.735Z"
   },
   {
    "duration": -12506,
    "start_time": "2021-07-20T11:52:25.911Z"
   },
   {
    "duration": -12564,
    "start_time": "2021-07-20T11:52:26.031Z"
   },
   {
    "duration": -12678,
    "start_time": "2021-07-20T11:52:26.147Z"
   },
   {
    "duration": -12797,
    "start_time": "2021-07-20T11:52:26.267Z"
   },
   {
    "duration": -12902,
    "start_time": "2021-07-20T11:52:26.374Z"
   },
   {
    "duration": -13014,
    "start_time": "2021-07-20T11:52:26.487Z"
   },
   {
    "duration": -13144,
    "start_time": "2021-07-20T11:52:26.619Z"
   },
   {
    "duration": -13444,
    "start_time": "2021-07-20T11:52:26.920Z"
   },
   {
    "duration": -13564,
    "start_time": "2021-07-20T11:52:27.042Z"
   },
   {
    "duration": -13740,
    "start_time": "2021-07-20T11:52:27.219Z"
   },
   {
    "duration": -13878,
    "start_time": "2021-07-20T11:52:27.359Z"
   },
   {
    "duration": -13990,
    "start_time": "2021-07-20T11:52:27.472Z"
   },
   {
    "duration": -14095,
    "start_time": "2021-07-20T11:52:27.579Z"
   },
   {
    "duration": -14223,
    "start_time": "2021-07-20T11:52:27.708Z"
   },
   {
    "duration": -14487,
    "start_time": "2021-07-20T11:52:27.973Z"
   },
   {
    "duration": -14699,
    "start_time": "2021-07-20T11:52:28.187Z"
   },
   {
    "duration": -15029,
    "start_time": "2021-07-20T11:52:28.518Z"
   },
   {
    "duration": -15447,
    "start_time": "2021-07-20T11:52:28.938Z"
   },
   {
    "duration": -15701,
    "start_time": "2021-07-20T11:52:29.193Z"
   },
   {
    "duration": -15860,
    "start_time": "2021-07-20T11:52:29.353Z"
   },
   {
    "duration": -16034,
    "start_time": "2021-07-20T11:52:29.529Z"
   },
   {
    "duration": -16296,
    "start_time": "2021-07-20T11:52:29.792Z"
   },
   {
    "duration": -16575,
    "start_time": "2021-07-20T11:52:30.073Z"
   },
   {
    "duration": -16913,
    "start_time": "2021-07-20T11:52:30.412Z"
   },
   {
    "duration": 4,
    "start_time": "2021-07-20T11:58:47.309Z"
   },
   {
    "duration": 7,
    "start_time": "2021-07-20T12:00:01.618Z"
   },
   {
    "duration": 14,
    "start_time": "2021-07-20T12:00:15.267Z"
   },
   {
    "duration": 12,
    "start_time": "2021-07-20T12:00:53.208Z"
   },
   {
    "duration": 4,
    "start_time": "2021-07-20T12:02:17.403Z"
   },
   {
    "duration": 13,
    "start_time": "2021-07-20T12:03:39.364Z"
   },
   {
    "duration": 15,
    "start_time": "2021-07-20T12:04:15.478Z"
   },
   {
    "duration": 7,
    "start_time": "2021-07-20T12:06:06.142Z"
   },
   {
    "duration": 9,
    "start_time": "2021-07-20T12:06:45.402Z"
   },
   {
    "duration": 533,
    "start_time": "2021-07-20T12:07:13.265Z"
   },
   {
    "duration": 18,
    "start_time": "2021-07-20T12:07:28.829Z"
   },
   {
    "duration": 5,
    "start_time": "2021-07-20T12:08:40.452Z"
   },
   {
    "duration": 5,
    "start_time": "2021-07-20T12:09:19.726Z"
   },
   {
    "duration": 7,
    "start_time": "2021-07-20T12:09:42.761Z"
   },
   {
    "duration": 17,
    "start_time": "2021-07-20T12:12:32.457Z"
   },
   {
    "duration": 25,
    "start_time": "2021-07-20T12:13:03.748Z"
   },
   {
    "duration": 4,
    "start_time": "2021-07-20T12:13:15.686Z"
   },
   {
    "duration": 504,
    "start_time": "2021-07-20T12:13:18.471Z"
   },
   {
    "duration": 22,
    "start_time": "2021-07-20T12:13:44.737Z"
   },
   {
    "duration": 387,
    "start_time": "2021-07-20T12:17:41.715Z"
   },
   {
    "duration": 15,
    "start_time": "2021-07-20T12:17:47.824Z"
   },
   {
    "duration": 6,
    "start_time": "2021-07-20T12:17:51.070Z"
   },
   {
    "duration": 5,
    "start_time": "2021-07-20T12:18:40.776Z"
   },
   {
    "duration": 21,
    "start_time": "2021-07-20T12:18:53.781Z"
   },
   {
    "duration": 13,
    "start_time": "2021-07-20T12:18:58.306Z"
   },
   {
    "duration": 6,
    "start_time": "2021-07-20T12:19:56.821Z"
   },
   {
    "duration": 1584,
    "start_time": "2021-07-20T12:20:44.866Z"
   },
   {
    "duration": 213,
    "start_time": "2021-07-20T12:20:46.453Z"
   },
   {
    "duration": 179,
    "start_time": "2021-07-20T12:20:46.669Z"
   },
   {
    "duration": 180,
    "start_time": "2021-07-20T12:20:46.851Z"
   },
   {
    "duration": 35,
    "start_time": "2021-07-20T12:20:47.034Z"
   },
   {
    "duration": 22,
    "start_time": "2021-07-20T12:20:47.071Z"
   },
   {
    "duration": 22,
    "start_time": "2021-07-20T12:20:47.096Z"
   },
   {
    "duration": 98,
    "start_time": "2021-07-20T12:20:47.122Z"
   },
   {
    "duration": 78,
    "start_time": "2021-07-20T12:20:47.223Z"
   },
   {
    "duration": 96,
    "start_time": "2021-07-20T12:20:47.303Z"
   },
   {
    "duration": 75,
    "start_time": "2021-07-20T12:20:47.401Z"
   },
   {
    "duration": 66,
    "start_time": "2021-07-20T12:20:47.478Z"
   },
   {
    "duration": 96,
    "start_time": "2021-07-20T12:20:47.547Z"
   },
   {
    "duration": 58,
    "start_time": "2021-07-20T12:20:47.646Z"
   },
   {
    "duration": 27375,
    "start_time": "2021-07-20T12:20:47.707Z"
   },
   {
    "duration": 3117,
    "start_time": "2021-07-20T12:21:15.086Z"
   },
   {
    "duration": 8342,
    "start_time": "2021-07-20T12:21:18.206Z"
   },
   {
    "duration": 26,
    "start_time": "2021-07-20T12:21:26.550Z"
   },
   {
    "duration": 19,
    "start_time": "2021-07-20T12:21:26.578Z"
   },
   {
    "duration": 19,
    "start_time": "2021-07-20T12:21:26.599Z"
   },
   {
    "duration": 347,
    "start_time": "2021-07-20T12:21:26.620Z"
   },
   {
    "duration": 323,
    "start_time": "2021-07-20T12:21:26.969Z"
   },
   {
    "duration": 315,
    "start_time": "2021-07-20T12:21:27.298Z"
   },
   {
    "duration": 62,
    "start_time": "2021-07-20T12:21:27.617Z"
   },
   {
    "duration": 26,
    "start_time": "2021-07-20T12:21:27.682Z"
   },
   {
    "duration": 11,
    "start_time": "2021-07-20T12:21:27.711Z"
   },
   {
    "duration": 43,
    "start_time": "2021-07-20T12:21:27.724Z"
   },
   {
    "duration": 4,
    "start_time": "2021-07-20T12:21:27.770Z"
   },
   {
    "duration": 17,
    "start_time": "2021-07-20T12:21:27.777Z"
   },
   {
    "duration": 19,
    "start_time": "2021-07-20T12:21:27.796Z"
   },
   {
    "duration": 62,
    "start_time": "2021-07-20T12:21:27.817Z"
   },
   {
    "duration": 3,
    "start_time": "2021-07-20T12:21:27.882Z"
   },
   {
    "duration": 32,
    "start_time": "2021-07-20T12:21:27.888Z"
   },
   {
    "duration": 14,
    "start_time": "2021-07-20T12:21:27.923Z"
   },
   {
    "duration": 32,
    "start_time": "2021-07-20T12:21:27.940Z"
   },
   {
    "duration": 13,
    "start_time": "2021-07-20T12:21:27.974Z"
   },
   {
    "duration": 32,
    "start_time": "2021-07-20T12:21:27.990Z"
   },
   {
    "duration": 15,
    "start_time": "2021-07-20T12:21:28.024Z"
   },
   {
    "duration": 26,
    "start_time": "2021-07-20T12:21:28.041Z"
   },
   {
    "duration": 5,
    "start_time": "2021-07-20T12:21:28.069Z"
   },
   {
    "duration": 43,
    "start_time": "2021-07-20T12:21:28.077Z"
   },
   {
    "duration": 74,
    "start_time": "2021-07-20T12:21:28.123Z"
   },
   {
    "duration": 3,
    "start_time": "2021-07-20T12:21:28.199Z"
   },
   {
    "duration": 19,
    "start_time": "2021-07-20T12:21:28.204Z"
   },
   {
    "duration": 56,
    "start_time": "2021-07-20T12:21:28.225Z"
   },
   {
    "duration": 17,
    "start_time": "2021-07-20T12:21:28.369Z"
   },
   {
    "duration": 19,
    "start_time": "2021-07-20T12:21:28.389Z"
   },
   {
    "duration": 102,
    "start_time": "2021-07-20T12:21:28.469Z"
   },
   {
    "duration": 21,
    "start_time": "2021-07-20T12:21:28.574Z"
   },
   {
    "duration": 98,
    "start_time": "2021-07-20T12:21:28.673Z"
   },
   {
    "duration": 21,
    "start_time": "2021-07-20T12:21:28.773Z"
   },
   {
    "duration": 286,
    "start_time": "2021-07-20T12:21:28.796Z"
   },
   {
    "duration": 261,
    "start_time": "2021-07-20T12:21:29.085Z"
   },
   {
    "duration": 305,
    "start_time": "2021-07-20T12:21:29.349Z"
   },
   {
    "duration": 22,
    "start_time": "2021-07-20T12:21:29.657Z"
   },
   {
    "duration": 554,
    "start_time": "2021-07-20T12:21:29.682Z"
   },
   {
    "duration": -16094,
    "start_time": "2021-07-20T12:21:46.335Z"
   },
   {
    "duration": -16236,
    "start_time": "2021-07-20T12:21:46.479Z"
   },
   {
    "duration": -16404,
    "start_time": "2021-07-20T12:21:46.648Z"
   },
   {
    "duration": -16538,
    "start_time": "2021-07-20T12:21:46.784Z"
   },
   {
    "duration": -16727,
    "start_time": "2021-07-20T12:21:46.975Z"
   },
   {
    "duration": -16874,
    "start_time": "2021-07-20T12:21:47.123Z"
   },
   {
    "duration": -17115,
    "start_time": "2021-07-20T12:21:47.366Z"
   },
   {
    "duration": -17256,
    "start_time": "2021-07-20T12:21:47.509Z"
   },
   {
    "duration": -17450,
    "start_time": "2021-07-20T12:21:47.704Z"
   },
   {
    "duration": -17595,
    "start_time": "2021-07-20T12:21:47.851Z"
   },
   {
    "duration": -17744,
    "start_time": "2021-07-20T12:21:48.001Z"
   },
   {
    "duration": -17960,
    "start_time": "2021-07-20T12:21:48.219Z"
   },
   {
    "duration": -18133,
    "start_time": "2021-07-20T12:21:48.393Z"
   },
   {
    "duration": -18294,
    "start_time": "2021-07-20T12:21:48.556Z"
   },
   {
    "duration": -18439,
    "start_time": "2021-07-20T12:21:48.702Z"
   },
   {
    "duration": -18668,
    "start_time": "2021-07-20T12:21:48.932Z"
   },
   {
    "duration": -18844,
    "start_time": "2021-07-20T12:21:49.109Z"
   },
   {
    "duration": -19012,
    "start_time": "2021-07-20T12:21:49.279Z"
   },
   {
    "duration": -19153,
    "start_time": "2021-07-20T12:21:49.421Z"
   },
   {
    "duration": -19392,
    "start_time": "2021-07-20T12:21:49.661Z"
   },
   {
    "duration": -19523,
    "start_time": "2021-07-20T12:21:49.794Z"
   },
   {
    "duration": -19718,
    "start_time": "2021-07-20T12:21:49.990Z"
   },
   {
    "duration": -19863,
    "start_time": "2021-07-20T12:21:50.136Z"
   },
   {
    "duration": -20019,
    "start_time": "2021-07-20T12:21:50.293Z"
   },
   {
    "duration": -20219,
    "start_time": "2021-07-20T12:21:50.495Z"
   },
   {
    "duration": -20371,
    "start_time": "2021-07-20T12:21:50.648Z"
   },
   {
    "duration": -20544,
    "start_time": "2021-07-20T12:21:50.823Z"
   },
   {
    "duration": -20696,
    "start_time": "2021-07-20T12:21:50.976Z"
   },
   {
    "duration": -20917,
    "start_time": "2021-07-20T12:21:51.199Z"
   },
   {
    "duration": -21117,
    "start_time": "2021-07-20T12:21:51.400Z"
   },
   {
    "duration": -21265,
    "start_time": "2021-07-20T12:21:51.549Z"
   },
   {
    "duration": -21410,
    "start_time": "2021-07-20T12:21:51.695Z"
   },
   {
    "duration": -21649,
    "start_time": "2021-07-20T12:21:51.936Z"
   },
   {
    "duration": -21783,
    "start_time": "2021-07-20T12:21:52.071Z"
   },
   {
    "duration": -21983,
    "start_time": "2021-07-20T12:21:52.272Z"
   },
   {
    "duration": -22127,
    "start_time": "2021-07-20T12:21:52.417Z"
   },
   {
    "duration": -22273,
    "start_time": "2021-07-20T12:21:52.565Z"
   },
   {
    "duration": -22480,
    "start_time": "2021-07-20T12:21:52.774Z"
   },
   {
    "duration": -22619,
    "start_time": "2021-07-20T12:21:52.914Z"
   },
   {
    "duration": -22797,
    "start_time": "2021-07-20T12:21:53.094Z"
   },
   {
    "duration": -22948,
    "start_time": "2021-07-20T12:21:53.247Z"
   },
   {
    "duration": -23175,
    "start_time": "2021-07-20T12:21:53.476Z"
   },
   {
    "duration": -23310,
    "start_time": "2021-07-20T12:21:53.613Z"
   },
   {
    "duration": -23463,
    "start_time": "2021-07-20T12:21:53.768Z"
   },
   {
    "duration": -23628,
    "start_time": "2021-07-20T12:21:53.934Z"
   },
   {
    "duration": -23717,
    "start_time": "2021-07-20T12:21:54.084Z"
   },
   {
    "duration": -23934,
    "start_time": "2021-07-20T12:21:54.302Z"
   },
   {
    "duration": -24063,
    "start_time": "2021-07-20T12:21:54.433Z"
   },
   {
    "duration": -24215,
    "start_time": "2021-07-20T12:21:54.586Z"
   },
   {
    "duration": -24372,
    "start_time": "2021-07-20T12:21:54.745Z"
   },
   {
    "duration": -24596,
    "start_time": "2021-07-20T12:21:54.970Z"
   },
   {
    "duration": -24752,
    "start_time": "2021-07-20T12:21:55.127Z"
   },
   {
    "duration": 3,
    "start_time": "2021-07-20T12:26:12.431Z"
   },
   {
    "duration": 3,
    "start_time": "2021-07-20T12:26:25.395Z"
   },
   {
    "duration": 13,
    "start_time": "2021-07-20T12:29:24.269Z"
   },
   {
    "duration": 7,
    "start_time": "2021-07-20T12:29:36.855Z"
   },
   {
    "duration": 4,
    "start_time": "2021-07-20T12:29:42.303Z"
   },
   {
    "duration": 5,
    "start_time": "2021-07-20T12:29:44.440Z"
   },
   {
    "duration": 5,
    "start_time": "2021-07-20T12:29:47.784Z"
   },
   {
    "duration": 5,
    "start_time": "2021-07-20T12:29:51.858Z"
   },
   {
    "duration": 4,
    "start_time": "2021-07-20T12:29:54.993Z"
   },
   {
    "duration": 7,
    "start_time": "2021-07-20T12:29:59.856Z"
   },
   {
    "duration": 6,
    "start_time": "2021-07-20T12:30:04.185Z"
   },
   {
    "duration": 297,
    "start_time": "2021-07-20T12:30:06.347Z"
   },
   {
    "duration": 15,
    "start_time": "2021-07-20T12:30:18.841Z"
   },
   {
    "duration": 7,
    "start_time": "2021-07-20T12:30:27.050Z"
   },
   {
    "duration": 8,
    "start_time": "2021-07-20T12:30:30.496Z"
   },
   {
    "duration": 6,
    "start_time": "2021-07-20T12:30:33.688Z"
   },
   {
    "duration": 4,
    "start_time": "2021-07-20T12:30:39.423Z"
   },
   {
    "duration": 4,
    "start_time": "2021-07-20T12:30:42.995Z"
   },
   {
    "duration": 4,
    "start_time": "2021-07-20T12:30:46.758Z"
   },
   {
    "duration": 5,
    "start_time": "2021-07-20T12:31:03.999Z"
   },
   {
    "duration": 5,
    "start_time": "2021-07-20T12:31:07.476Z"
   },
   {
    "duration": 5353,
    "start_time": "2021-07-20T12:31:11.983Z"
   },
   {
    "duration": 5,
    "start_time": "2021-07-20T12:31:24.719Z"
   },
   {
    "duration": 18,
    "start_time": "2021-07-20T12:31:32.466Z"
   },
   {
    "duration": 5,
    "start_time": "2021-07-20T12:31:34.557Z"
   },
   {
    "duration": 7,
    "start_time": "2021-07-20T12:31:41.414Z"
   },
   {
    "duration": 5427,
    "start_time": "2021-07-20T12:31:48.697Z"
   },
   {
    "duration": 7,
    "start_time": "2021-07-20T12:31:55.466Z"
   },
   {
    "duration": 20,
    "start_time": "2021-07-20T12:32:01.663Z"
   },
   {
    "duration": 5,
    "start_time": "2021-07-20T12:32:03.072Z"
   },
   {
    "duration": 5342,
    "start_time": "2021-07-20T12:32:11.383Z"
   },
   {
    "duration": 8,
    "start_time": "2021-07-20T12:32:20.366Z"
   },
   {
    "duration": 18,
    "start_time": "2021-07-20T12:32:25.919Z"
   },
   {
    "duration": 5,
    "start_time": "2021-07-20T12:32:27.358Z"
   },
   {
    "duration": 14,
    "start_time": "2021-07-20T12:32:48.507Z"
   },
   {
    "duration": 9,
    "start_time": "2021-07-20T12:32:54.801Z"
   },
   {
    "duration": 17,
    "start_time": "2021-07-20T12:32:59.242Z"
   },
   {
    "duration": 8,
    "start_time": "2021-07-20T12:33:03.812Z"
   },
   {
    "duration": 8,
    "start_time": "2021-07-20T12:33:07.484Z"
   },
   {
    "duration": 13,
    "start_time": "2021-07-20T12:33:11.634Z"
   },
   {
    "duration": 8,
    "start_time": "2021-07-20T12:33:22.859Z"
   },
   {
    "duration": 7,
    "start_time": "2021-07-20T12:33:26.608Z"
   },
   {
    "duration": 15,
    "start_time": "2021-07-20T12:33:31.664Z"
   },
   {
    "duration": 280,
    "start_time": "2021-07-20T12:33:39.270Z"
   },
   {
    "duration": 259,
    "start_time": "2021-07-20T12:33:54.856Z"
   },
   {
    "duration": 317,
    "start_time": "2021-07-20T12:45:19.468Z"
   },
   {
    "duration": 271,
    "start_time": "2021-07-20T12:56:23.068Z"
   },
   {
    "duration": 280,
    "start_time": "2021-07-20T12:56:43.664Z"
   },
   {
    "duration": 244,
    "start_time": "2021-07-20T12:57:55.498Z"
   },
   {
    "duration": 1481,
    "start_time": "2021-07-20T13:02:56.892Z"
   },
   {
    "duration": 191,
    "start_time": "2021-07-20T13:02:58.376Z"
   },
   {
    "duration": 174,
    "start_time": "2021-07-20T13:02:58.570Z"
   },
   {
    "duration": 182,
    "start_time": "2021-07-20T13:02:58.747Z"
   },
   {
    "duration": 35,
    "start_time": "2021-07-20T13:02:58.932Z"
   },
   {
    "duration": 22,
    "start_time": "2021-07-20T13:02:58.969Z"
   },
   {
    "duration": 23,
    "start_time": "2021-07-20T13:02:58.993Z"
   },
   {
    "duration": 88,
    "start_time": "2021-07-20T13:02:59.020Z"
   },
   {
    "duration": 76,
    "start_time": "2021-07-20T13:02:59.111Z"
   },
   {
    "duration": 87,
    "start_time": "2021-07-20T13:02:59.190Z"
   },
   {
    "duration": 88,
    "start_time": "2021-07-20T13:02:59.279Z"
   },
   {
    "duration": 63,
    "start_time": "2021-07-20T13:02:59.370Z"
   },
   {
    "duration": 88,
    "start_time": "2021-07-20T13:02:59.435Z"
   },
   {
    "duration": 65,
    "start_time": "2021-07-20T13:02:59.526Z"
   },
   {
    "duration": 27484,
    "start_time": "2021-07-20T13:02:59.593Z"
   },
   {
    "duration": 3126,
    "start_time": "2021-07-20T13:03:27.080Z"
   },
   {
    "duration": 8308,
    "start_time": "2021-07-20T13:03:30.208Z"
   },
   {
    "duration": 19,
    "start_time": "2021-07-20T13:03:38.518Z"
   },
   {
    "duration": 40,
    "start_time": "2021-07-20T13:03:38.539Z"
   },
   {
    "duration": 20,
    "start_time": "2021-07-20T13:03:38.582Z"
   },
   {
    "duration": 339,
    "start_time": "2021-07-20T13:03:38.605Z"
   },
   {
    "duration": 326,
    "start_time": "2021-07-20T13:03:38.947Z"
   },
   {
    "duration": 316,
    "start_time": "2021-07-20T13:03:39.279Z"
   },
   {
    "duration": 48,
    "start_time": "2021-07-20T13:03:39.599Z"
   },
   {
    "duration": 42,
    "start_time": "2021-07-20T13:03:39.649Z"
   },
   {
    "duration": 15,
    "start_time": "2021-07-20T13:03:39.694Z"
   },
   {
    "duration": 17,
    "start_time": "2021-07-20T13:03:39.712Z"
   },
   {
    "duration": 4,
    "start_time": "2021-07-20T13:03:39.732Z"
   },
   {
    "duration": 13,
    "start_time": "2021-07-20T13:03:39.767Z"
   },
   {
    "duration": 19,
    "start_time": "2021-07-20T13:03:39.783Z"
   },
   {
    "duration": 65,
    "start_time": "2021-07-20T13:03:39.804Z"
   },
   {
    "duration": 4,
    "start_time": "2021-07-20T13:03:39.871Z"
   },
   {
    "duration": 24,
    "start_time": "2021-07-20T13:03:39.877Z"
   },
   {
    "duration": 13,
    "start_time": "2021-07-20T13:03:39.904Z"
   },
   {
    "duration": 11,
    "start_time": "2021-07-20T13:03:39.920Z"
   },
   {
    "duration": 34,
    "start_time": "2021-07-20T13:03:39.933Z"
   },
   {
    "duration": 34,
    "start_time": "2021-07-20T13:03:39.969Z"
   },
   {
    "duration": 14,
    "start_time": "2021-07-20T13:03:40.005Z"
   },
   {
    "duration": 11,
    "start_time": "2021-07-20T13:03:40.021Z"
   },
   {
    "duration": 12,
    "start_time": "2021-07-20T13:03:40.034Z"
   },
   {
    "duration": 39,
    "start_time": "2021-07-20T13:03:40.048Z"
   },
   {
    "duration": 100,
    "start_time": "2021-07-20T13:03:40.090Z"
   },
   {
    "duration": 4,
    "start_time": "2021-07-20T13:03:40.193Z"
   },
   {
    "duration": 17,
    "start_time": "2021-07-20T13:03:40.200Z"
   },
   {
    "duration": 149,
    "start_time": "2021-07-20T13:03:40.219Z"
   },
   {
    "duration": 19,
    "start_time": "2021-07-20T13:03:40.372Z"
   },
   {
    "duration": 172,
    "start_time": "2021-07-20T13:03:40.394Z"
   },
   {
    "duration": 104,
    "start_time": "2021-07-20T13:03:40.571Z"
   },
   {
    "duration": 17,
    "start_time": "2021-07-20T13:03:40.677Z"
   },
   {
    "duration": 11,
    "start_time": "2021-07-20T13:03:40.769Z"
   },
   {
    "duration": 12,
    "start_time": "2021-07-20T13:03:40.868Z"
   },
   {
    "duration": 288,
    "start_time": "2021-07-20T13:03:40.882Z"
   },
   {
    "duration": 257,
    "start_time": "2021-07-20T13:03:41.173Z"
   },
   {
    "duration": 305,
    "start_time": "2021-07-20T13:03:41.432Z"
   },
   {
    "duration": 6,
    "start_time": "2021-07-20T13:03:41.739Z"
   },
   {
    "duration": 21,
    "start_time": "2021-07-20T13:03:41.747Z"
   },
   {
    "duration": 9,
    "start_time": "2021-07-20T13:03:41.771Z"
   },
   {
    "duration": 8,
    "start_time": "2021-07-20T13:03:41.782Z"
   },
   {
    "duration": 13,
    "start_time": "2021-07-20T13:03:41.792Z"
   },
   {
    "duration": 8,
    "start_time": "2021-07-20T13:03:41.807Z"
   },
   {
    "duration": 12,
    "start_time": "2021-07-20T13:03:41.818Z"
   },
   {
    "duration": 9,
    "start_time": "2021-07-20T13:03:41.832Z"
   },
   {
    "duration": 311,
    "start_time": "2021-07-20T13:03:41.868Z"
   },
   {
    "duration": 14,
    "start_time": "2021-07-20T13:03:42.182Z"
   },
   {
    "duration": 15,
    "start_time": "2021-07-20T13:03:42.198Z"
   },
   {
    "duration": 13,
    "start_time": "2021-07-20T13:03:42.216Z"
   },
   {
    "duration": 8,
    "start_time": "2021-07-20T13:03:42.231Z"
   },
   {
    "duration": 4,
    "start_time": "2021-07-20T13:03:42.268Z"
   },
   {
    "duration": 20,
    "start_time": "2021-07-20T13:03:42.275Z"
   },
   {
    "duration": 19,
    "start_time": "2021-07-20T13:03:42.297Z"
   },
   {
    "duration": 9,
    "start_time": "2021-07-20T13:03:42.319Z"
   },
   {
    "duration": 11,
    "start_time": "2021-07-20T13:03:42.331Z"
   },
   {
    "duration": 5369,
    "start_time": "2021-07-20T13:03:42.344Z"
   },
   {
    "duration": 4,
    "start_time": "2021-07-20T13:03:47.716Z"
   },
   {
    "duration": 25,
    "start_time": "2021-07-20T13:03:47.722Z"
   },
   {
    "duration": 19,
    "start_time": "2021-07-20T13:03:47.750Z"
   },
   {
    "duration": 9,
    "start_time": "2021-07-20T13:03:47.771Z"
   },
   {
    "duration": 5386,
    "start_time": "2021-07-20T13:03:47.783Z"
   },
   {
    "duration": 8,
    "start_time": "2021-07-20T13:03:53.171Z"
   },
   {
    "duration": 21,
    "start_time": "2021-07-20T13:03:53.182Z"
   },
   {
    "duration": 5,
    "start_time": "2021-07-20T13:03:53.206Z"
   },
   {
    "duration": 5391,
    "start_time": "2021-07-20T13:03:53.213Z"
   },
   {
    "duration": 6,
    "start_time": "2021-07-20T13:03:58.606Z"
   },
   {
    "duration": 22,
    "start_time": "2021-07-20T13:03:58.615Z"
   },
   {
    "duration": 29,
    "start_time": "2021-07-20T13:03:58.639Z"
   },
   {
    "duration": 272,
    "start_time": "2021-07-20T13:03:58.670Z"
   },
   {
    "duration": 14,
    "start_time": "2021-07-20T13:03:58.945Z"
   },
   {
    "duration": 8,
    "start_time": "2021-07-20T13:03:58.968Z"
   },
   {
    "duration": 17,
    "start_time": "2021-07-20T13:03:58.978Z"
   },
   {
    "duration": 8,
    "start_time": "2021-07-20T13:03:58.998Z"
   },
   {
    "duration": 9,
    "start_time": "2021-07-20T13:03:59.008Z"
   },
   {
    "duration": 60,
    "start_time": "2021-07-20T13:03:59.020Z"
   },
   {
    "duration": 9,
    "start_time": "2021-07-20T13:03:59.082Z"
   },
   {
    "duration": 8,
    "start_time": "2021-07-20T13:03:59.093Z"
   },
   {
    "duration": 14,
    "start_time": "2021-07-20T13:03:59.104Z"
   },
   {
    "duration": 340,
    "start_time": "2021-07-20T13:03:59.120Z"
   },
   {
    "duration": 349,
    "start_time": "2021-07-20T13:03:59.462Z"
   },
   {
    "duration": 5,
    "start_time": "2021-07-20T16:00:21.854Z"
   },
   {
    "duration": 235,
    "start_time": "2021-07-20T16:00:33.789Z"
   },
   {
    "duration": 1139,
    "start_time": "2021-07-20T16:00:54.795Z"
   },
   {
    "duration": 150,
    "start_time": "2021-07-20T16:00:55.936Z"
   },
   {
    "duration": 144,
    "start_time": "2021-07-20T16:00:56.088Z"
   },
   {
    "duration": 151,
    "start_time": "2021-07-20T16:00:56.234Z"
   },
   {
    "duration": 16,
    "start_time": "2021-07-20T16:00:56.387Z"
   },
   {
    "duration": 23,
    "start_time": "2021-07-20T16:00:56.405Z"
   },
   {
    "duration": 16,
    "start_time": "2021-07-20T16:00:56.430Z"
   },
   {
    "duration": 47,
    "start_time": "2021-07-20T16:00:56.448Z"
   },
   {
    "duration": 46,
    "start_time": "2021-07-20T16:00:56.498Z"
   },
   {
    "duration": 60,
    "start_time": "2021-07-20T16:00:56.546Z"
   },
   {
    "duration": 46,
    "start_time": "2021-07-20T16:00:56.608Z"
   },
   {
    "duration": 51,
    "start_time": "2021-07-20T16:00:56.656Z"
   },
   {
    "duration": 91,
    "start_time": "2021-07-20T16:00:56.708Z"
   },
   {
    "duration": 30,
    "start_time": "2021-07-20T16:00:56.800Z"
   },
   {
    "duration": 16520,
    "start_time": "2021-07-20T16:00:56.885Z"
   },
   {
    "duration": 2111,
    "start_time": "2021-07-20T16:01:13.407Z"
   },
   {
    "duration": 4462,
    "start_time": "2021-07-20T16:01:15.520Z"
   },
   {
    "duration": 12,
    "start_time": "2021-07-20T16:01:19.985Z"
   },
   {
    "duration": 16,
    "start_time": "2021-07-20T16:01:19.998Z"
   },
   {
    "duration": 16,
    "start_time": "2021-07-20T16:01:20.016Z"
   },
   {
    "duration": 221,
    "start_time": "2021-07-20T16:01:20.034Z"
   },
   {
    "duration": 208,
    "start_time": "2021-07-20T16:01:20.257Z"
   },
   {
    "duration": 198,
    "start_time": "2021-07-20T16:01:20.467Z"
   },
   {
    "duration": 41,
    "start_time": "2021-07-20T16:01:20.666Z"
   },
   {
    "duration": 20,
    "start_time": "2021-07-20T16:01:20.708Z"
   },
   {
    "duration": 8,
    "start_time": "2021-07-20T16:01:20.730Z"
   },
   {
    "duration": 14,
    "start_time": "2021-07-20T16:01:20.739Z"
   },
   {
    "duration": 3,
    "start_time": "2021-07-20T16:01:20.754Z"
   },
   {
    "duration": 32,
    "start_time": "2021-07-20T16:01:20.759Z"
   },
   {
    "duration": 14,
    "start_time": "2021-07-20T16:01:20.792Z"
   },
   {
    "duration": 15,
    "start_time": "2021-07-20T16:01:20.807Z"
   },
   {
    "duration": 2,
    "start_time": "2021-07-20T16:01:20.824Z"
   },
   {
    "duration": 15,
    "start_time": "2021-07-20T16:01:20.827Z"
   },
   {
    "duration": 47,
    "start_time": "2021-07-20T16:01:20.844Z"
   },
   {
    "duration": 4,
    "start_time": "2021-07-20T16:01:20.893Z"
   },
   {
    "duration": 5,
    "start_time": "2021-07-20T16:01:20.901Z"
   },
   {
    "duration": 22,
    "start_time": "2021-07-20T16:01:20.908Z"
   },
   {
    "duration": 14,
    "start_time": "2021-07-20T16:01:20.931Z"
   },
   {
    "duration": 4,
    "start_time": "2021-07-20T16:01:20.946Z"
   },
   {
    "duration": 9,
    "start_time": "2021-07-20T16:01:20.952Z"
   },
   {
    "duration": 39,
    "start_time": "2021-07-20T16:01:20.962Z"
   },
   {
    "duration": 40,
    "start_time": "2021-07-20T16:01:21.002Z"
   },
   {
    "duration": 2,
    "start_time": "2021-07-20T16:01:21.044Z"
   },
   {
    "duration": 46,
    "start_time": "2021-07-20T16:01:21.048Z"
   },
   {
    "duration": 91,
    "start_time": "2021-07-20T16:01:21.096Z"
   },
   {
    "duration": 102,
    "start_time": "2021-07-20T16:01:21.190Z"
   },
   {
    "duration": 17,
    "start_time": "2021-07-20T16:01:21.294Z"
   },
   {
    "duration": 101,
    "start_time": "2021-07-20T16:01:21.388Z"
   },
   {
    "duration": 12,
    "start_time": "2021-07-20T16:01:21.491Z"
   },
   {
    "duration": 84,
    "start_time": "2021-07-20T16:01:21.506Z"
   },
   {
    "duration": 10,
    "start_time": "2021-07-20T16:01:21.684Z"
   },
   {
    "duration": 184,
    "start_time": "2021-07-20T16:01:21.696Z"
   },
   {
    "duration": 148,
    "start_time": "2021-07-20T16:01:21.885Z"
   },
   {
    "duration": 183,
    "start_time": "2021-07-20T16:01:22.035Z"
   },
   {
    "duration": 358,
    "start_time": "2021-07-20T16:01:22.220Z"
   },
   {
    "duration": 348,
    "start_time": "2021-07-20T16:01:33.400Z"
   },
   {
    "duration": 35,
    "start_time": "2021-07-20T16:01:43.853Z"
   },
   {
    "duration": 59,
    "start_time": "2021-07-20T16:03:08.014Z"
   },
   {
    "duration": 82,
    "start_time": "2021-07-20T16:03:16.608Z"
   },
   {
    "duration": 49,
    "start_time": "2021-07-20T16:03:32.735Z"
   }
  ],
  "kernelspec": {
   "display_name": "Python 3",
   "language": "python",
   "name": "python3"
  },
  "language_info": {
   "codemirror_mode": {
    "name": "ipython",
    "version": 3
   },
   "file_extension": ".py",
   "mimetype": "text/x-python",
   "name": "python",
   "nbconvert_exporter": "python",
   "pygments_lexer": "ipython3",
   "version": "3.7.0"
  },
  "toc": {
   "base_numbering": 1,
   "nav_menu": {
    "height": "135px",
    "width": "343px"
   },
   "number_sections": true,
   "sideBar": true,
   "skip_h1_title": true,
   "title_cell": "Table of Contents",
   "title_sidebar": "Contents",
   "toc_cell": false,
   "toc_position": {},
   "toc_section_display": true,
   "toc_window_display": false
  }
 },
 "nbformat": 4,
 "nbformat_minor": 2
}
