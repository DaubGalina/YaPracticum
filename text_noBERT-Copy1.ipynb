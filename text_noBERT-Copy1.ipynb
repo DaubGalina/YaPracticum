{
 "cells": [
  {
   "cell_type": "markdown",
   "metadata": {},
   "source": [
    "# Проект для Интернет-магазина"
   ]
  },
  {
   "cell_type": "markdown",
   "metadata": {},
   "source": [
    "Интернет-магазин запускает новый сервис. Теперь пользователи могут редактировать и дополнять описания товаров, как в вики-сообществах. То есть клиенты предлагают свои правки и комментируют изменения других. Магазину нужен инструмент, который будет искать токсичные комментарии и отправлять их на модерацию. \n",
    "\n",
    "Обучите модель классифицировать комментарии на позитивные и негативные. В вашем распоряжении набор данных с разметкой о токсичности правок.\n",
    "\n",
    "Построим модель со значением метрики качества *F1* не меньше 0.75. "
   ]
  },
  {
   "cell_type": "markdown",
   "metadata": {},
   "source": [
    "## Подготовка"
   ]
  },
  {
   "cell_type": "markdown",
   "metadata": {},
   "source": [
    "### Импорт библиотек"
   ]
  },
  {
   "cell_type": "code",
   "execution_count": 1,
   "metadata": {
    "execution": {
     "iopub.execute_input": "2021-09-21T20:51:54.782722Z",
     "iopub.status.busy": "2021-09-21T20:51:54.782266Z",
     "iopub.status.idle": "2021-09-21T20:51:58.360277Z",
     "shell.execute_reply": "2021-09-21T20:51:58.359347Z",
     "shell.execute_reply.started": "2021-09-21T20:51:54.782623Z"
    }
   },
   "outputs": [
    {
     "data": {
      "text/html": [
       "<style type='text/css'>\n",
       ".datatable table.frame { margin-bottom: 0; }\n",
       ".datatable table.frame thead { border-bottom: none; }\n",
       ".datatable table.frame tr.coltypes td {  color: #FFFFFF;  line-height: 6px;  padding: 0 0.5em;}\n",
       ".datatable .bool    { background: #DDDD99; }\n",
       ".datatable .object  { background: #565656; }\n",
       ".datatable .int     { background: #5D9E5D; }\n",
       ".datatable .float   { background: #4040CC; }\n",
       ".datatable .str     { background: #CC4040; }\n",
       ".datatable .time    { background: #40CC40; }\n",
       ".datatable .row_index {  background: var(--jp-border-color3);  border-right: 1px solid var(--jp-border-color0);  color: var(--jp-ui-font-color3);  font-size: 9px;}\n",
       ".datatable .frame tbody td { text-align: left; }\n",
       ".datatable .frame tr.coltypes .row_index {  background: var(--jp-border-color0);}\n",
       ".datatable th:nth-child(2) { padding-left: 12px; }\n",
       ".datatable .hellipsis {  color: var(--jp-cell-editor-border-color);}\n",
       ".datatable .vellipsis {  background: var(--jp-layout-color0);  color: var(--jp-cell-editor-border-color);}\n",
       ".datatable .na {  color: var(--jp-cell-editor-border-color);  font-size: 80%;}\n",
       ".datatable .sp {  opacity: 0.25;}\n",
       ".datatable .footer { font-size: 9px; }\n",
       ".datatable .frame_dimensions {  background: var(--jp-border-color3);  border-top: 1px solid var(--jp-border-color0);  color: var(--jp-ui-font-color3);  display: inline-block;  opacity: 0.6;  padding: 1px 10px 1px 5px;}\n",
       "</style>\n"
      ],
      "text/plain": [
       "<IPython.core.display.HTML object>"
      ]
     },
     "metadata": {},
     "output_type": "display_data"
    }
   ],
   "source": [
    "import pandas as pd\n",
    "import numpy as np\n",
    "import matplotlib.pyplot as plt\n",
    "import nltk\n",
    "from nltk.corpus import stopwords as nltk_stopwords\n",
    "\n",
    "from sklearn.feature_extraction.text import TfidfVectorizer\n",
    "from sklearn.feature_extraction.text import CountVectorizer\n",
    "\n",
    "import re\n",
    "\n",
    "from nltk.tokenize import wordpunct_tokenize\n",
    "from nltk.stem import SnowballStemmer\n",
    "\n",
    "\n",
    "import sklearn.svm\n",
    "from sklearn.model_selection import train_test_split\n",
    "from sklearn.metrics import f1_score\n",
    "from sklearn.model_selection import cross_val_score\n",
    "import optuna\n",
    "\n",
    "from sklearn.linear_model import LogisticRegression\n",
    "from sklearn.ensemble import RandomForestClassifier\n",
    "from lightgbm import LGBMClassifier\n",
    "from catboost import CatBoostClassifier"
   ]
  },
  {
   "cell_type": "markdown",
   "metadata": {},
   "source": [
    "### Чтение таблицы"
   ]
  },
  {
   "cell_type": "code",
   "execution_count": 2,
   "metadata": {
    "execution": {
     "iopub.execute_input": "2021-09-21T20:51:58.362201Z",
     "iopub.status.busy": "2021-09-21T20:51:58.361921Z",
     "iopub.status.idle": "2021-09-21T20:52:00.496845Z",
     "shell.execute_reply": "2021-09-21T20:52:00.496140Z",
     "shell.execute_reply.started": "2021-09-21T20:51:58.362165Z"
    }
   },
   "outputs": [
    {
     "name": "stdout",
     "output_type": "stream",
     "text": [
      "<class 'pandas.core.frame.DataFrame'>\n",
      "RangeIndex: 159571 entries, 0 to 159570\n",
      "Data columns (total 2 columns):\n",
      " #   Column  Non-Null Count   Dtype \n",
      "---  ------  --------------   ----- \n",
      " 0   text    159571 non-null  object\n",
      " 1   toxic   159571 non-null  int64 \n",
      "dtypes: int64(1), object(1)\n",
      "memory usage: 2.4+ MB\n"
     ]
    },
    {
     "data": {
      "text/html": [
       "<div>\n",
       "<style scoped>\n",
       "    .dataframe tbody tr th:only-of-type {\n",
       "        vertical-align: middle;\n",
       "    }\n",
       "\n",
       "    .dataframe tbody tr th {\n",
       "        vertical-align: top;\n",
       "    }\n",
       "\n",
       "    .dataframe thead th {\n",
       "        text-align: right;\n",
       "    }\n",
       "</style>\n",
       "<table border=\"1\" class=\"dataframe\">\n",
       "  <thead>\n",
       "    <tr style=\"text-align: right;\">\n",
       "      <th></th>\n",
       "      <th>text</th>\n",
       "      <th>toxic</th>\n",
       "    </tr>\n",
       "  </thead>\n",
       "  <tbody>\n",
       "    <tr>\n",
       "      <th>0</th>\n",
       "      <td>Explanation\\nWhy the edits made under my usern...</td>\n",
       "      <td>0</td>\n",
       "    </tr>\n",
       "    <tr>\n",
       "      <th>1</th>\n",
       "      <td>D'aww! He matches this background colour I'm s...</td>\n",
       "      <td>0</td>\n",
       "    </tr>\n",
       "    <tr>\n",
       "      <th>2</th>\n",
       "      <td>Hey man, I'm really not trying to edit war. It...</td>\n",
       "      <td>0</td>\n",
       "    </tr>\n",
       "    <tr>\n",
       "      <th>3</th>\n",
       "      <td>\"\\nMore\\nI can't make any real suggestions on ...</td>\n",
       "      <td>0</td>\n",
       "    </tr>\n",
       "    <tr>\n",
       "      <th>4</th>\n",
       "      <td>You, sir, are my hero. Any chance you remember...</td>\n",
       "      <td>0</td>\n",
       "    </tr>\n",
       "  </tbody>\n",
       "</table>\n",
       "</div>"
      ],
      "text/plain": [
       "                                                text  toxic\n",
       "0  Explanation\\nWhy the edits made under my usern...      0\n",
       "1  D'aww! He matches this background colour I'm s...      0\n",
       "2  Hey man, I'm really not trying to edit war. It...      0\n",
       "3  \"\\nMore\\nI can't make any real suggestions on ...      0\n",
       "4  You, sir, are my hero. Any chance you remember...      0"
      ]
     },
     "execution_count": 2,
     "metadata": {},
     "output_type": "execute_result"
    }
   ],
   "source": [
    "data = pd.read_csv(\"../input/toxic-comments/toxic_comments.csv\")\n",
    "data.info()\n",
    "data.head()"
   ]
  },
  {
   "cell_type": "markdown",
   "metadata": {},
   "source": [
    "### Лемматизация"
   ]
  },
  {
   "cell_type": "markdown",
   "metadata": {},
   "source": [
    "#### Очистим текст от лишних знаков"
   ]
  },
  {
   "cell_type": "code",
   "execution_count": 3,
   "metadata": {
    "execution": {
     "iopub.execute_input": "2021-09-21T20:52:00.498381Z",
     "iopub.status.busy": "2021-09-21T20:52:00.498096Z",
     "iopub.status.idle": "2021-09-21T20:52:00.502620Z",
     "shell.execute_reply": "2021-09-21T20:52:00.502037Z",
     "shell.execute_reply.started": "2021-09-21T20:52:00.498353Z"
    }
   },
   "outputs": [],
   "source": [
    "def clear_text(text):\n",
    "    text_re = re.sub(r'[^a-zA-Z]', ' ', text)\n",
    "    text_split = text_re.lower().split()\n",
    "    text_finish = \" \".join(text_split)\n",
    "    return text_finish"
   ]
  },
  {
   "cell_type": "markdown",
   "metadata": {},
   "source": [
    "Сделаем копию таблицы"
   ]
  },
  {
   "cell_type": "code",
   "execution_count": 4,
   "metadata": {
    "execution": {
     "iopub.execute_input": "2021-09-21T20:52:00.504401Z",
     "iopub.status.busy": "2021-09-21T20:52:00.504064Z",
     "iopub.status.idle": "2021-09-21T20:52:00.524521Z",
     "shell.execute_reply": "2021-09-21T20:52:00.523329Z",
     "shell.execute_reply.started": "2021-09-21T20:52:00.504375Z"
    }
   },
   "outputs": [
    {
     "data": {
      "text/html": [
       "<div>\n",
       "<style scoped>\n",
       "    .dataframe tbody tr th:only-of-type {\n",
       "        vertical-align: middle;\n",
       "    }\n",
       "\n",
       "    .dataframe tbody tr th {\n",
       "        vertical-align: top;\n",
       "    }\n",
       "\n",
       "    .dataframe thead th {\n",
       "        text-align: right;\n",
       "    }\n",
       "</style>\n",
       "<table border=\"1\" class=\"dataframe\">\n",
       "  <thead>\n",
       "    <tr style=\"text-align: right;\">\n",
       "      <th></th>\n",
       "      <th>text</th>\n",
       "      <th>toxic</th>\n",
       "    </tr>\n",
       "  </thead>\n",
       "  <tbody>\n",
       "    <tr>\n",
       "      <th>0</th>\n",
       "      <td>Explanation\\nWhy the edits made under my usern...</td>\n",
       "      <td>0</td>\n",
       "    </tr>\n",
       "    <tr>\n",
       "      <th>1</th>\n",
       "      <td>D'aww! He matches this background colour I'm s...</td>\n",
       "      <td>0</td>\n",
       "    </tr>\n",
       "    <tr>\n",
       "      <th>2</th>\n",
       "      <td>Hey man, I'm really not trying to edit war. It...</td>\n",
       "      <td>0</td>\n",
       "    </tr>\n",
       "    <tr>\n",
       "      <th>3</th>\n",
       "      <td>\"\\nMore\\nI can't make any real suggestions on ...</td>\n",
       "      <td>0</td>\n",
       "    </tr>\n",
       "    <tr>\n",
       "      <th>4</th>\n",
       "      <td>You, sir, are my hero. Any chance you remember...</td>\n",
       "      <td>0</td>\n",
       "    </tr>\n",
       "  </tbody>\n",
       "</table>\n",
       "</div>"
      ],
      "text/plain": [
       "                                                text  toxic\n",
       "0  Explanation\\nWhy the edits made under my usern...      0\n",
       "1  D'aww! He matches this background colour I'm s...      0\n",
       "2  Hey man, I'm really not trying to edit war. It...      0\n",
       "3  \"\\nMore\\nI can't make any real suggestions on ...      0\n",
       "4  You, sir, are my hero. Any chance you remember...      0"
      ]
     },
     "execution_count": 4,
     "metadata": {},
     "output_type": "execute_result"
    }
   ],
   "source": [
    "toxic_data = data.copy()\n",
    "toxic_data.head()"
   ]
  },
  {
   "cell_type": "markdown",
   "metadata": {},
   "source": [
    "Применим метод к столбцу с исходным текстом и получим столбец с чистым текстом."
   ]
  },
  {
   "cell_type": "code",
   "execution_count": 5,
   "metadata": {
    "execution": {
     "iopub.execute_input": "2021-09-21T20:52:00.526816Z",
     "iopub.status.busy": "2021-09-21T20:52:00.526046Z",
     "iopub.status.idle": "2021-09-21T20:52:08.395464Z",
     "shell.execute_reply": "2021-09-21T20:52:08.394779Z",
     "shell.execute_reply.started": "2021-09-21T20:52:00.526774Z"
    }
   },
   "outputs": [],
   "source": [
    "toxic_data['clear_text'] = toxic_data['text'].apply(clear_text)"
   ]
  },
  {
   "cell_type": "code",
   "execution_count": 6,
   "metadata": {
    "execution": {
     "iopub.execute_input": "2021-09-21T20:52:08.396926Z",
     "iopub.status.busy": "2021-09-21T20:52:08.396486Z",
     "iopub.status.idle": "2021-09-21T20:52:08.406024Z",
     "shell.execute_reply": "2021-09-21T20:52:08.405272Z",
     "shell.execute_reply.started": "2021-09-21T20:52:08.396885Z"
    }
   },
   "outputs": [
    {
     "data": {
      "text/html": [
       "<div>\n",
       "<style scoped>\n",
       "    .dataframe tbody tr th:only-of-type {\n",
       "        vertical-align: middle;\n",
       "    }\n",
       "\n",
       "    .dataframe tbody tr th {\n",
       "        vertical-align: top;\n",
       "    }\n",
       "\n",
       "    .dataframe thead th {\n",
       "        text-align: right;\n",
       "    }\n",
       "</style>\n",
       "<table border=\"1\" class=\"dataframe\">\n",
       "  <thead>\n",
       "    <tr style=\"text-align: right;\">\n",
       "      <th></th>\n",
       "      <th>text</th>\n",
       "      <th>toxic</th>\n",
       "      <th>clear_text</th>\n",
       "    </tr>\n",
       "  </thead>\n",
       "  <tbody>\n",
       "    <tr>\n",
       "      <th>0</th>\n",
       "      <td>Explanation\\nWhy the edits made under my usern...</td>\n",
       "      <td>0</td>\n",
       "      <td>explanation why the edits made under my userna...</td>\n",
       "    </tr>\n",
       "    <tr>\n",
       "      <th>1</th>\n",
       "      <td>D'aww! He matches this background colour I'm s...</td>\n",
       "      <td>0</td>\n",
       "      <td>d aww he matches this background colour i m se...</td>\n",
       "    </tr>\n",
       "    <tr>\n",
       "      <th>2</th>\n",
       "      <td>Hey man, I'm really not trying to edit war. It...</td>\n",
       "      <td>0</td>\n",
       "      <td>hey man i m really not trying to edit war it s...</td>\n",
       "    </tr>\n",
       "  </tbody>\n",
       "</table>\n",
       "</div>"
      ],
      "text/plain": [
       "                                                text  toxic  \\\n",
       "0  Explanation\\nWhy the edits made under my usern...      0   \n",
       "1  D'aww! He matches this background colour I'm s...      0   \n",
       "2  Hey man, I'm really not trying to edit war. It...      0   \n",
       "\n",
       "                                          clear_text  \n",
       "0  explanation why the edits made under my userna...  \n",
       "1  d aww he matches this background colour i m se...  \n",
       "2  hey man i m really not trying to edit war it s...  "
      ]
     },
     "execution_count": 6,
     "metadata": {},
     "output_type": "execute_result"
    }
   ],
   "source": [
    "toxic_data.head(3)"
   ]
  },
  {
   "cell_type": "markdown",
   "metadata": {},
   "source": [
    "#### Напишем функцию лемматизации с помощью библиотеки nltk.SnowballStemmer"
   ]
  },
  {
   "cell_type": "code",
   "execution_count": 7,
   "metadata": {
    "execution": {
     "iopub.execute_input": "2021-09-21T20:52:08.407372Z",
     "iopub.status.busy": "2021-09-21T20:52:08.407143Z",
     "iopub.status.idle": "2021-09-21T20:52:08.423542Z",
     "shell.execute_reply": "2021-09-21T20:52:08.422832Z",
     "shell.execute_reply.started": "2021-09-21T20:52:08.407346Z"
    }
   },
   "outputs": [],
   "source": [
    "m = SnowballStemmer('english', ignore_stopwords=True)\n",
    "\n",
    "def stem(text):\n",
    "    lemmas = \"\".join(m.stem(text))\n",
    "        \n",
    "    return lemmas"
   ]
  },
  {
   "cell_type": "markdown",
   "metadata": {},
   "source": [
    "Применим метод к каждой строке в столбце с очищенным текстом."
   ]
  },
  {
   "cell_type": "code",
   "execution_count": 8,
   "metadata": {
    "execution": {
     "iopub.execute_input": "2021-09-21T20:52:08.425294Z",
     "iopub.status.busy": "2021-09-21T20:52:08.424892Z",
     "iopub.status.idle": "2021-09-21T20:52:24.166336Z",
     "shell.execute_reply": "2021-09-21T20:52:24.165611Z",
     "shell.execute_reply.started": "2021-09-21T20:52:08.425264Z"
    }
   },
   "outputs": [],
   "source": [
    "toxic_data['lemm_text'] = toxic_data['clear_text'].apply(stem)"
   ]
  },
  {
   "cell_type": "code",
   "execution_count": 9,
   "metadata": {
    "execution": {
     "iopub.execute_input": "2021-09-21T20:52:24.167832Z",
     "iopub.status.busy": "2021-09-21T20:52:24.167528Z",
     "iopub.status.idle": "2021-09-21T20:52:24.178743Z",
     "shell.execute_reply": "2021-09-21T20:52:24.177920Z",
     "shell.execute_reply.started": "2021-09-21T20:52:24.167800Z"
    }
   },
   "outputs": [
    {
     "data": {
      "text/html": [
       "<div>\n",
       "<style scoped>\n",
       "    .dataframe tbody tr th:only-of-type {\n",
       "        vertical-align: middle;\n",
       "    }\n",
       "\n",
       "    .dataframe tbody tr th {\n",
       "        vertical-align: top;\n",
       "    }\n",
       "\n",
       "    .dataframe thead th {\n",
       "        text-align: right;\n",
       "    }\n",
       "</style>\n",
       "<table border=\"1\" class=\"dataframe\">\n",
       "  <thead>\n",
       "    <tr style=\"text-align: right;\">\n",
       "      <th></th>\n",
       "      <th>text</th>\n",
       "      <th>toxic</th>\n",
       "      <th>clear_text</th>\n",
       "      <th>lemm_text</th>\n",
       "    </tr>\n",
       "  </thead>\n",
       "  <tbody>\n",
       "    <tr>\n",
       "      <th>0</th>\n",
       "      <td>Explanation\\nWhy the edits made under my usern...</td>\n",
       "      <td>0</td>\n",
       "      <td>explanation why the edits made under my userna...</td>\n",
       "      <td>explanation why the edits made under my userna...</td>\n",
       "    </tr>\n",
       "    <tr>\n",
       "      <th>1</th>\n",
       "      <td>D'aww! He matches this background colour I'm s...</td>\n",
       "      <td>0</td>\n",
       "      <td>d aww he matches this background colour i m se...</td>\n",
       "      <td>d aww he matches this background colour i m se...</td>\n",
       "    </tr>\n",
       "    <tr>\n",
       "      <th>2</th>\n",
       "      <td>Hey man, I'm really not trying to edit war. It...</td>\n",
       "      <td>0</td>\n",
       "      <td>hey man i m really not trying to edit war it s...</td>\n",
       "      <td>hey man i m really not trying to edit war it s...</td>\n",
       "    </tr>\n",
       "  </tbody>\n",
       "</table>\n",
       "</div>"
      ],
      "text/plain": [
       "                                                text  toxic  \\\n",
       "0  Explanation\\nWhy the edits made under my usern...      0   \n",
       "1  D'aww! He matches this background colour I'm s...      0   \n",
       "2  Hey man, I'm really not trying to edit war. It...      0   \n",
       "\n",
       "                                          clear_text  \\\n",
       "0  explanation why the edits made under my userna...   \n",
       "1  d aww he matches this background colour i m se...   \n",
       "2  hey man i m really not trying to edit war it s...   \n",
       "\n",
       "                                           lemm_text  \n",
       "0  explanation why the edits made under my userna...  \n",
       "1  d aww he matches this background colour i m se...  \n",
       "2  hey man i m really not trying to edit war it s...  "
      ]
     },
     "execution_count": 9,
     "metadata": {},
     "output_type": "execute_result"
    }
   ],
   "source": [
    "toxic_data.head(3)"
   ]
  },
  {
   "cell_type": "markdown",
   "metadata": {},
   "source": [
    "### Разделим данные в таблице на тренировочную и тестовую выборки"
   ]
  },
  {
   "cell_type": "code",
   "execution_count": 10,
   "metadata": {
    "execution": {
     "iopub.execute_input": "2021-09-21T20:52:24.181862Z",
     "iopub.status.busy": "2021-09-21T20:52:24.181618Z",
     "iopub.status.idle": "2021-09-21T20:52:26.855641Z",
     "shell.execute_reply": "2021-09-21T20:52:26.854987Z",
     "shell.execute_reply.started": "2021-09-21T20:52:24.181835Z"
    }
   },
   "outputs": [],
   "source": [
    "corpus = toxic_data['lemm_text'].values.astype('U')"
   ]
  },
  {
   "cell_type": "markdown",
   "metadata": {},
   "source": [
    "Обозначим цели и признаки"
   ]
  },
  {
   "cell_type": "code",
   "execution_count": 11,
   "metadata": {
    "execution": {
     "iopub.execute_input": "2021-09-21T20:52:26.857282Z",
     "iopub.status.busy": "2021-09-21T20:52:26.856608Z",
     "iopub.status.idle": "2021-09-21T20:52:26.860150Z",
     "shell.execute_reply": "2021-09-21T20:52:26.859659Z",
     "shell.execute_reply.started": "2021-09-21T20:52:26.857249Z"
    }
   },
   "outputs": [],
   "source": [
    "target = toxic_data['toxic']\n",
    "features = corpus"
   ]
  },
  {
   "cell_type": "markdown",
   "metadata": {},
   "source": [
    "Тестовую выборку сделаем 30% от общего колличества данных."
   ]
  },
  {
   "cell_type": "code",
   "execution_count": 12,
   "metadata": {
    "execution": {
     "iopub.execute_input": "2021-09-21T20:52:26.861889Z",
     "iopub.status.busy": "2021-09-21T20:52:26.861183Z",
     "iopub.status.idle": "2021-09-21T20:52:26.878841Z",
     "shell.execute_reply": "2021-09-21T20:52:26.878211Z",
     "shell.execute_reply.started": "2021-09-21T20:52:26.861859Z"
    }
   },
   "outputs": [
    {
     "data": {
      "text/plain": [
       "array(['explanation why the edits made under my username hardcore metallica fan were reverted they weren t vandalisms just closure on some gas after i voted at new york dolls fac and please don t remove the template from the talk page since i m retired now',\n",
       "       'd aww he matches this background colour i m seemingly stuck with thanks talk january utc',\n",
       "       'hey man i m really not trying to edit war it s just that this guy is constantly removing relevant information and talking to me through edits instead of my talk page he seems to care more about the formatting than the actual info',\n",
       "       ...,\n",
       "       'spitzer umm theres no actual article for prostitution ring crunch captain',\n",
       "       'and it looks like it was actually you who put on the speedy to have the first version deleted now that i look at it',\n",
       "       'and i really don t think you understand i came here and my idea was bad right away what kind of community goes you have bad ideas go away instead of helping rewrite them'],\n",
       "      dtype='<U5000')"
      ]
     },
     "execution_count": 12,
     "metadata": {},
     "output_type": "execute_result"
    }
   ],
   "source": [
    "features"
   ]
  },
  {
   "cell_type": "code",
   "execution_count": 13,
   "metadata": {
    "execution": {
     "iopub.execute_input": "2021-09-21T20:52:26.880356Z",
     "iopub.status.busy": "2021-09-21T20:52:26.879742Z",
     "iopub.status.idle": "2021-09-21T20:52:29.223558Z",
     "shell.execute_reply": "2021-09-21T20:52:29.222660Z",
     "shell.execute_reply.started": "2021-09-21T20:52:26.880328Z"
    }
   },
   "outputs": [],
   "source": [
    "features_train_0, features_test_0, target_train, target_test = train_test_split(features, target, test_size=0.3, random_state=12345) "
   ]
  },
  {
   "cell_type": "markdown",
   "metadata": {},
   "source": [
    "### Векторизация слов"
   ]
  },
  {
   "cell_type": "markdown",
   "metadata": {},
   "source": [
    "Вычислим TF-IDF для корпуса текстов."
   ]
  },
  {
   "cell_type": "code",
   "execution_count": 14,
   "metadata": {
    "execution": {
     "iopub.execute_input": "2021-09-21T20:52:29.224892Z",
     "iopub.status.busy": "2021-09-21T20:52:29.224659Z",
     "iopub.status.idle": "2021-09-21T20:52:41.730026Z",
     "shell.execute_reply": "2021-09-21T20:52:41.729259Z",
     "shell.execute_reply.started": "2021-09-21T20:52:29.224858Z"
    }
   },
   "outputs": [],
   "source": [
    "stopwords = set('../input/nltk-data/nltk_data/corpora/stopwords/english')\n",
    "\n",
    "\n",
    "count_tf_idf = TfidfVectorizer(stop_words=stopwords)\n",
    "tf_idf = count_tf_idf.fit_transform(features_train_0)"
   ]
  },
  {
   "cell_type": "code",
   "execution_count": 15,
   "metadata": {
    "execution": {
     "iopub.execute_input": "2021-09-21T20:52:41.731329Z",
     "iopub.status.busy": "2021-09-21T20:52:41.731078Z",
     "iopub.status.idle": "2021-09-21T20:52:41.736709Z",
     "shell.execute_reply": "2021-09-21T20:52:41.735906Z",
     "shell.execute_reply.started": "2021-09-21T20:52:41.731302Z"
    }
   },
   "outputs": [
    {
     "name": "stdout",
     "output_type": "stream",
     "text": [
      "Размер матрицы: (111699, 140070)\n"
     ]
    }
   ],
   "source": [
    "print(\"Размер матрицы:\", tf_idf.shape)"
   ]
  },
  {
   "cell_type": "markdown",
   "metadata": {},
   "source": [
    "Тестовые признаки трансформируем, но тренировать не будем"
   ]
  },
  {
   "cell_type": "code",
   "execution_count": 16,
   "metadata": {
    "execution": {
     "iopub.execute_input": "2021-09-21T20:52:41.738027Z",
     "iopub.status.busy": "2021-09-21T20:52:41.737827Z",
     "iopub.status.idle": "2021-09-21T20:52:46.751912Z",
     "shell.execute_reply": "2021-09-21T20:52:46.750894Z",
     "shell.execute_reply.started": "2021-09-21T20:52:41.738005Z"
    }
   },
   "outputs": [
    {
     "name": "stdout",
     "output_type": "stream",
     "text": [
      "Размер тестовой матрицы: (47872, 140070)\n"
     ]
    }
   ],
   "source": [
    "tf_idf_test = count_tf_idf.transform(features_test_0)\n",
    "print(\"Размер тестовой матрицы:\", tf_idf_test.shape)"
   ]
  },
  {
   "cell_type": "markdown",
   "metadata": {},
   "source": [
    "обозначим признаки:"
   ]
  },
  {
   "cell_type": "code",
   "execution_count": 17,
   "metadata": {
    "execution": {
     "iopub.execute_input": "2021-09-21T20:52:46.753659Z",
     "iopub.status.busy": "2021-09-21T20:52:46.753352Z",
     "iopub.status.idle": "2021-09-21T20:52:46.758172Z",
     "shell.execute_reply": "2021-09-21T20:52:46.757201Z",
     "shell.execute_reply.started": "2021-09-21T20:52:46.753617Z"
    }
   },
   "outputs": [],
   "source": [
    "features_train = tf_idf\n",
    "features_test = tf_idf_test"
   ]
  },
  {
   "cell_type": "code",
   "execution_count": 18,
   "metadata": {
    "execution": {
     "iopub.execute_input": "2021-09-21T20:52:46.759583Z",
     "iopub.status.busy": "2021-09-21T20:52:46.759304Z",
     "iopub.status.idle": "2021-09-21T20:52:46.780964Z",
     "shell.execute_reply": "2021-09-21T20:52:46.780136Z",
     "shell.execute_reply.started": "2021-09-21T20:52:46.759545Z"
    }
   },
   "outputs": [
    {
     "data": {
      "text/plain": [
       "<111699x140070 sparse matrix of type '<class 'numpy.float64'>'\n",
       "\twith 4784146 stored elements in Compressed Sparse Row format>"
      ]
     },
     "execution_count": 18,
     "metadata": {},
     "output_type": "execute_result"
    }
   ],
   "source": [
    "features_train"
   ]
  },
  {
   "cell_type": "markdown",
   "metadata": {},
   "source": [
    "### Вывод"
   ]
  },
  {
   "cell_type": "markdown",
   "metadata": {},
   "source": [
    "Мы импортировали необходимые библиотеки в начало проекта, что бы не возникало ошибок, прочитали таблицу, изучили её, очитсили от символов и лемматизировали текст. Потом мы векторизировали текст, превратив его в матрицу признаков для дальнейшего обучения моделей, разбили полученные данные на обучающую и тестовую выборки."
   ]
  },
  {
   "cell_type": "markdown",
   "metadata": {},
   "source": [
    "## Обучение"
   ]
  },
  {
   "cell_type": "markdown",
   "metadata": {},
   "source": [
    "### Модель логистической регрессии"
   ]
  },
  {
   "cell_type": "code",
   "execution_count": 19,
   "metadata": {
    "execution": {
     "iopub.execute_input": "2021-09-21T20:52:46.782721Z",
     "iopub.status.busy": "2021-09-21T20:52:46.782416Z",
     "iopub.status.idle": "2021-09-21T20:52:46.790215Z",
     "shell.execute_reply": "2021-09-21T20:52:46.789513Z",
     "shell.execute_reply.started": "2021-09-21T20:52:46.782683Z"
    }
   },
   "outputs": [],
   "source": [
    "model_log = LogisticRegression(random_state=12345, class_weight='balanced')"
   ]
  },
  {
   "cell_type": "code",
   "execution_count": 20,
   "metadata": {
    "execution": {
     "iopub.execute_input": "2021-09-21T20:52:46.791657Z",
     "iopub.status.busy": "2021-09-21T20:52:46.791283Z",
     "iopub.status.idle": "2021-09-21T20:52:55.848212Z",
     "shell.execute_reply": "2021-09-21T20:52:55.847153Z",
     "shell.execute_reply.started": "2021-09-21T20:52:46.791630Z"
    }
   },
   "outputs": [
    {
     "data": {
      "text/plain": [
       "LogisticRegression(class_weight='balanced', random_state=12345)"
      ]
     },
     "execution_count": 20,
     "metadata": {},
     "output_type": "execute_result"
    }
   ],
   "source": [
    "model_log.fit(features_train, target_train)"
   ]
  },
  {
   "cell_type": "code",
   "execution_count": 21,
   "metadata": {
    "execution": {
     "iopub.execute_input": "2021-09-21T20:52:55.854275Z",
     "iopub.status.busy": "2021-09-21T20:52:55.853897Z",
     "iopub.status.idle": "2021-09-21T20:52:55.908823Z",
     "shell.execute_reply": "2021-09-21T20:52:55.907727Z",
     "shell.execute_reply.started": "2021-09-21T20:52:55.854233Z"
    }
   },
   "outputs": [
    {
     "name": "stdout",
     "output_type": "stream",
     "text": [
      "F1 модели логистической регрессии: 0.75\n"
     ]
    }
   ],
   "source": [
    "predictions_log = model_log.predict(features_test)\n",
    "f1_log = f1_score(target_test, predictions_log)\n",
    "print('F1 модели логистической регрессии:', '{:.2f}'.format(f1_log))"
   ]
  },
  {
   "cell_type": "markdown",
   "metadata": {},
   "source": [
    "### Модель случайного леса"
   ]
  },
  {
   "cell_type": "markdown",
   "metadata": {},
   "source": [
    "Для начала выявим самые подходящие параметры модели с помощью библиотеки optuna."
   ]
  },
  {
   "cell_type": "code",
   "execution_count": 22,
   "metadata": {
    "execution": {
     "iopub.execute_input": "2021-09-21T20:52:55.914690Z",
     "iopub.status.busy": "2021-09-21T20:52:55.914322Z",
     "iopub.status.idle": "2021-09-21T20:55:21.946404Z",
     "shell.execute_reply": "2021-09-21T20:55:21.945445Z",
     "shell.execute_reply.started": "2021-09-21T20:52:55.914647Z"
    }
   },
   "outputs": [
    {
     "name": "stderr",
     "output_type": "stream",
     "text": [
      "\u001b[32m[I 2021-09-21 20:52:55,926]\u001b[0m A new study created in memory with name: no-name-55b67ade-cf75-489e-af26-9f376da34efb\u001b[0m\n",
      "\u001b[32m[I 2021-09-21 20:53:20,803]\u001b[0m Trial 0 finished with value: 0.0010566481912988375 and parameters: {'rf_max_depth': 16.28520726741943, 'rf_n_estimators': 22.94284444341953}. Best is trial 0 with value: 0.0010566481912988375.\u001b[0m\n",
      "\u001b[32m[I 2021-09-21 20:53:51,818]\u001b[0m Trial 1 finished with value: 0.0 and parameters: {'rf_max_depth': 14.521136624547376, 'rf_n_estimators': 36.98042182218922}. Best is trial 0 with value: 0.0010566481912988375.\u001b[0m\n",
      "\u001b[32m[I 2021-09-21 20:54:28,839]\u001b[0m Trial 2 finished with value: 0.0 and parameters: {'rf_max_depth': 14.869674317591386, 'rf_n_estimators': 43.688146233442836}. Best is trial 0 with value: 0.0010566481912988375.\u001b[0m\n",
      "\u001b[32m[I 2021-09-21 20:54:41,107]\u001b[0m Trial 3 finished with value: 0.0 and parameters: {'rf_max_depth': 8.800875873770483, 'rf_n_estimators': 24.917423619595084}. Best is trial 0 with value: 0.0010566481912988375.\u001b[0m\n",
      "\u001b[32m[I 2021-09-21 20:54:55,449]\u001b[0m Trial 4 finished with value: 0.0 and parameters: {'rf_max_depth': 10.140821351327823, 'rf_n_estimators': 23.338396957244857}. Best is trial 0 with value: 0.0010566481912988375.\u001b[0m\n",
      "\u001b[32m[I 2021-09-21 20:55:01,854]\u001b[0m Trial 5 finished with value: 0.0 and parameters: {'rf_max_depth': 6.575677085255241, 'rf_n_estimators': 16.594770391653732}. Best is trial 0 with value: 0.0010566481912988375.\u001b[0m\n",
      "\u001b[32m[I 2021-09-21 20:55:07,200]\u001b[0m Trial 6 finished with value: 0.0 and parameters: {'rf_max_depth': 7.855227022636511, 'rf_n_estimators': 11.21280089385705}. Best is trial 0 with value: 0.0010566481912988375.\u001b[0m\n",
      "\u001b[32m[I 2021-09-21 20:55:10,055]\u001b[0m Trial 7 finished with value: 0.0 and parameters: {'rf_max_depth': 2.126094011749643, 'rf_n_estimators': 15.67516821585794}. Best is trial 0 with value: 0.0010566481912988375.\u001b[0m\n",
      "\u001b[32m[I 2021-09-21 20:55:12,272]\u001b[0m Trial 8 finished with value: 0.0 and parameters: {'rf_max_depth': 2.4888769288541845, 'rf_n_estimators': 11.4080975799837}. Best is trial 0 with value: 0.0010566481912988375.\u001b[0m\n",
      "\u001b[32m[I 2021-09-21 20:55:21,941]\u001b[0m Trial 9 finished with value: 0.0 and parameters: {'rf_max_depth': 2.3012160416601475, 'rf_n_estimators': 64.91161622837895}. Best is trial 0 with value: 0.0010566481912988375.\u001b[0m\n"
     ]
    },
    {
     "name": "stdout",
     "output_type": "stream",
     "text": [
      "FrozenTrial(number=0, values=[0.0010566481912988375], datetime_start=datetime.datetime(2021, 9, 21, 20, 52, 55, 932150), datetime_complete=datetime.datetime(2021, 9, 21, 20, 53, 20, 802563), params={'rf_max_depth': 16.28520726741943, 'rf_n_estimators': 22.94284444341953}, distributions={'rf_max_depth': LogUniformDistribution(high=20.0, low=2.0), 'rf_n_estimators': LogUniformDistribution(high=70.0, low=2.0)}, user_attrs={}, system_attrs={}, intermediate_values={}, trial_id=0, state=TrialState.COMPLETE, value=None)\n"
     ]
    }
   ],
   "source": [
    "def objective(trial):\n",
    "    rf_max_depth = int(trial.suggest_loguniform('rf_max_depth', 2, 20))\n",
    "    rf_n_estimators = int(trial.suggest_loguniform('rf_n_estimators', 2, 70))\n",
    "    classifier_obj = RandomForestClassifier(max_depth=rf_max_depth, n_estimators=rf_n_estimators, random_state=12345)\n",
    "        \n",
    "    score = cross_val_score(classifier_obj, features_train, target_train, scoring='f1', n_jobs=-1, cv=5)\n",
    "    f1 = score.mean()\n",
    "    return f1\n",
    "\n",
    "if __name__ == \"__main__\":\n",
    "    study = optuna.create_study(direction=\"maximize\")\n",
    "    study.optimize(objective, n_trials=10)\n",
    "    print(study.best_trial)"
   ]
  },
  {
   "cell_type": "markdown",
   "metadata": {},
   "source": [
    "Обучим модель."
   ]
  },
  {
   "cell_type": "code",
   "execution_count": 23,
   "metadata": {
    "execution": {
     "iopub.execute_input": "2021-09-21T20:55:21.948152Z",
     "iopub.status.busy": "2021-09-21T20:55:21.947818Z",
     "iopub.status.idle": "2021-09-21T20:55:22.529543Z",
     "shell.execute_reply": "2021-09-21T20:55:22.528985Z",
     "shell.execute_reply.started": "2021-09-21T20:55:21.948114Z"
    }
   },
   "outputs": [
    {
     "name": "stdout",
     "output_type": "stream",
     "text": [
      "F1 модели случайного леса: 0.22\n"
     ]
    }
   ],
   "source": [
    "model_forest = RandomForestClassifier(max_depth=27, n_estimators=2, random_state=12345)\n",
    "model_forest.fit(features_train, target_train)\n",
    "predictions_forest = model_forest.predict(features_test)\n",
    "f1_forest = f1_score(target_test, predictions_forest)\n",
    "print('F1 модели случайного леса:', '{:.2f}'.format(f1_forest))"
   ]
  },
  {
   "cell_type": "markdown",
   "metadata": {},
   "source": [
    "### Модель LightGBM"
   ]
  },
  {
   "cell_type": "code",
   "execution_count": 24,
   "metadata": {
    "execution": {
     "iopub.execute_input": "2021-09-21T20:55:22.531062Z",
     "iopub.status.busy": "2021-09-21T20:55:22.530488Z",
     "iopub.status.idle": "2021-09-21T20:56:09.090900Z",
     "shell.execute_reply": "2021-09-21T20:56:09.090323Z",
     "shell.execute_reply.started": "2021-09-21T20:55:22.531031Z"
    }
   },
   "outputs": [
    {
     "data": {
      "text/plain": [
       "LGBMClassifier(class_weight='balanced', random_state=12345)"
      ]
     },
     "execution_count": 24,
     "metadata": {},
     "output_type": "execute_result"
    }
   ],
   "source": [
    "model_gbm = LGBMClassifier(random_state=12345, class_weight='balanced')\n",
    "model_gbm.fit(features_train, target_train, verbose=10)"
   ]
  },
  {
   "cell_type": "code",
   "execution_count": 25,
   "metadata": {
    "execution": {
     "iopub.execute_input": "2021-09-21T20:56:09.092143Z",
     "iopub.status.busy": "2021-09-21T20:56:09.091822Z",
     "iopub.status.idle": "2021-09-21T20:56:10.333409Z",
     "shell.execute_reply": "2021-09-21T20:56:10.332522Z",
     "shell.execute_reply.started": "2021-09-21T20:56:09.092118Z"
    }
   },
   "outputs": [
    {
     "name": "stdout",
     "output_type": "stream",
     "text": [
      "F1 модели градиентного бустинга библиотеки lightGBM: 0.70\n"
     ]
    }
   ],
   "source": [
    "predictions_gbm = model_gbm.predict(features_test)\n",
    "f1_gbm = f1_score(target_test, predictions_gbm)\n",
    "\n",
    "print('F1 модели градиентного бустинга библиотеки lightGBM:', '{:.2f}'.format(f1_gbm))"
   ]
  },
  {
   "cell_type": "markdown",
   "metadata": {},
   "source": [
    "### Модель CatBoost"
   ]
  },
  {
   "cell_type": "code",
   "execution_count": 26,
   "metadata": {
    "execution": {
     "iopub.execute_input": "2021-09-21T20:56:10.335488Z",
     "iopub.status.busy": "2021-09-21T20:56:10.334910Z",
     "iopub.status.idle": "2021-09-21T20:58:41.097938Z",
     "shell.execute_reply": "2021-09-21T20:58:41.097015Z",
     "shell.execute_reply.started": "2021-09-21T20:56:10.335447Z"
    }
   },
   "outputs": [
    {
     "name": "stdout",
     "output_type": "stream",
     "text": [
      "Learning rate set to 0.5\n",
      "0:\tlearn: 0.3446791\ttotal: 1.88s\tremaining: 3m 6s\n",
      "10:\tlearn: 0.1766995\ttotal: 15s\tremaining: 2m 1s\n",
      "20:\tlearn: 0.1553976\ttotal: 28.2s\tremaining: 1m 45s\n",
      "30:\tlearn: 0.1436973\ttotal: 40.8s\tremaining: 1m 30s\n",
      "40:\tlearn: 0.1351158\ttotal: 53.6s\tremaining: 1m 17s\n",
      "50:\tlearn: 0.1284771\ttotal: 1m 6s\tremaining: 1m 3s\n",
      "60:\tlearn: 0.1226592\ttotal: 1m 19s\tremaining: 50.6s\n",
      "70:\tlearn: 0.1188391\ttotal: 1m 32s\tremaining: 37.7s\n",
      "80:\tlearn: 0.1148276\ttotal: 1m 45s\tremaining: 24.7s\n",
      "90:\tlearn: 0.1123834\ttotal: 1m 58s\tremaining: 11.7s\n",
      "99:\tlearn: 0.1094943\ttotal: 2m 10s\tremaining: 0us\n"
     ]
    },
    {
     "data": {
      "text/plain": [
       "<catboost.core.CatBoostClassifier at 0x7fb1231ae950>"
      ]
     },
     "execution_count": 26,
     "metadata": {},
     "output_type": "execute_result"
    }
   ],
   "source": [
    "model_cat = CatBoostClassifier(iterations=100, random_seed=12345)\n",
    "model_cat.fit(features_train, target_train, verbose=10)"
   ]
  },
  {
   "cell_type": "code",
   "execution_count": 27,
   "metadata": {
    "execution": {
     "iopub.execute_input": "2021-09-21T20:58:41.099904Z",
     "iopub.status.busy": "2021-09-21T20:58:41.099585Z",
     "iopub.status.idle": "2021-09-21T20:58:41.564247Z",
     "shell.execute_reply": "2021-09-21T20:58:41.562783Z",
     "shell.execute_reply.started": "2021-09-21T20:58:41.099865Z"
    }
   },
   "outputs": [
    {
     "name": "stdout",
     "output_type": "stream",
     "text": [
      "F1 модели градиентного бустинга библиотеки CatBoost: 0.75\n"
     ]
    }
   ],
   "source": [
    "predictions_cat = model_cat.predict(features_test)\n",
    "f1_cat = f1_score(target_test, predictions_cat)\n",
    "\n",
    "print('F1 модели градиентного бустинга библиотеки CatBoost:', '{:.2f}'.format(f1_cat))"
   ]
  },
  {
   "cell_type": "markdown",
   "metadata": {},
   "source": [
    "### Вывод"
   ]
  },
  {
   "cell_type": "markdown",
   "metadata": {},
   "source": [
    "Мы обучили несколько моделей на полученных нами признаках. Лучше всех с задачей справилась модель логистической регрессии и CatBoost."
   ]
  },
  {
   "cell_type": "markdown",
   "metadata": {},
   "source": [
    "## Выводы"
   ]
  },
  {
   "cell_type": "markdown",
   "metadata": {},
   "source": [
    "Подведём итоги и выясним, какая же модель справилась с поставленной нами задачей лучше всех.\n",
    "\n",
    "Для наглядности напечатаем таблицу и выведем график сравнения метрик всех наших моделей."
   ]
  },
  {
   "cell_type": "code",
   "execution_count": 28,
   "metadata": {
    "execution": {
     "iopub.execute_input": "2021-09-21T20:58:41.567977Z",
     "iopub.status.busy": "2021-09-21T20:58:41.567762Z",
     "iopub.status.idle": "2021-09-21T20:58:41.849808Z",
     "shell.execute_reply": "2021-09-21T20:58:41.848839Z",
     "shell.execute_reply.started": "2021-09-21T20:58:41.567951Z"
    }
   },
   "outputs": [
    {
     "data": {
      "text/html": [
       "<div>\n",
       "<style scoped>\n",
       "    .dataframe tbody tr th:only-of-type {\n",
       "        vertical-align: middle;\n",
       "    }\n",
       "\n",
       "    .dataframe tbody tr th {\n",
       "        vertical-align: top;\n",
       "    }\n",
       "\n",
       "    .dataframe thead th {\n",
       "        text-align: right;\n",
       "    }\n",
       "</style>\n",
       "<table border=\"1\" class=\"dataframe\">\n",
       "  <thead>\n",
       "    <tr style=\"text-align: right;\">\n",
       "      <th></th>\n",
       "      <th>F1</th>\n",
       "    </tr>\n",
       "  </thead>\n",
       "  <tbody>\n",
       "    <tr>\n",
       "      <th>Линейная регрессия</th>\n",
       "      <td>0.748762</td>\n",
       "    </tr>\n",
       "    <tr>\n",
       "      <th>Случайный лес</th>\n",
       "      <td>0.224708</td>\n",
       "    </tr>\n",
       "    <tr>\n",
       "      <th>LGBM</th>\n",
       "      <td>0.696794</td>\n",
       "    </tr>\n",
       "    <tr>\n",
       "      <th>CatBoost</th>\n",
       "      <td>0.754987</td>\n",
       "    </tr>\n",
       "  </tbody>\n",
       "</table>\n",
       "</div>"
      ],
      "text/plain": [
       "                          F1\n",
       "Линейная регрессия  0.748762\n",
       "Случайный лес       0.224708\n",
       "LGBM                0.696794\n",
       "CatBoost            0.754987"
      ]
     },
     "metadata": {},
     "output_type": "display_data"
    },
    {
     "data": {
      "image/png": "[encoded data removed]",
      "text/plain": [
       "<Figure size 576x288 with 1 Axes>"
      ]
     },
     "metadata": {
      "needs_background": "light"
     },
     "output_type": "display_data"
    }
   ],
   "source": [
    "final_table = pd.DataFrame(index=[\n",
    "    'Линейная регрессия', \n",
    "    'Случайный лес', \n",
    "    'LGBM', \n",
    "    'CatBoost'\n",
    "], columns=['F1'], data=[\n",
    "    f1_log, \n",
    "    f1_forest, \n",
    "    f1_gbm, \n",
    "    f1_cat]\n",
    "                          )\n",
    "\n",
    "display(final_table)\n",
    "final_table.plot.barh(figsize=(8, 4))\n",
    "plt.ylabel('Модели')\n",
    "plt.xlabel('F1')\n",
    "plt.title('F1 моделей')\n",
    "plt.show()"
   ]
  },
  {
   "cell_type": "markdown",
   "metadata": {},
   "source": [
    "**Лучшей из всех моделей оказалась модель логистической регрессии**. \n",
    "\n",
    "Модель логистической регрессии дала нам самую высокую метрику качества F1 и единственная, кто смог преодолеть заявленный порог в 0.75. \n",
    "\n",
    "Модель градиентного бустинга LightGBM была близка к модели регрессии, но всё же оказалась не такиой точной, хотя и обучалась намного дольше по времени. \n",
    "\n",
    "Модель градиентного бустинга CatBoost сравнилась с моделью регрессии, но обучались намного дольше по времени.\n",
    "\n",
    "Самой худшей моделью для распознавания тональности текста оказалась модель случайного леса."
   ]
  },
  {
   "cell_type": "markdown",
   "metadata": {},
   "source": [
    "## Вывод"
   ]
  },
  {
   "cell_type": "markdown",
   "metadata": {},
   "source": [
    "В данном проекте нам была поставлена задача обучить модель классифицировать комментарии на позитивные и негативные. Условием к успешному выполнению проекта была метрика обученной модели F1 не ниже 0.75. \n",
    "\n",
    "Чтобы добиться успеха мы очистили от лишних символов, лемматизировали текст и убрали из него стоп-слова в каждой строке таблицы. После чего придали полученные данные процедуре векторизации текста. Вычислив TF-IDF для корпуса текстов, на выходе мы получили матрицу признаков.\n",
    "\n",
    "Далее нашу матрицу признаков и столбец с целевым признаком мы поделили на тренировочную и тестовую выборки, после чего на тренировочной выборке обучили модели логистической регрессии, случайного леса, а также модели градиентного бустинга LightGBM и CatBoost.\n",
    "\n",
    "Быстрее всех с обучением справилась модель логистической регрессии, т.к. ей не приходилось подбирать параметры.\n",
    "\n",
    "В итоге, когда мы построили таблицу сравнения метрик различных моделей, а также вывели график, мы увидели, что самой точной моделью оказалась модель логистической регрессии и модель градиентного бустинга CatBoost.\n",
    "\n",
    "Для классификации комментариев на позитивные и негативные использовать будем обученную нами **модель логистической регрессии** или **CatBoost**."
   ]
  },
  {
   "cell_type": "code",
   "execution_count": null,
   "metadata": {},
   "outputs": [],
   "source": []
  }
 ],
 "metadata": {
  "kernelspec": {
   "display_name": "Python 3",
   "language": "python",
   "name": "python3"
  },
  "language_info": {
   "codemirror_mode": {
    "name": "ipython",
    "version": 3
   },
   "file_extension": ".py",
   "mimetype": "text/x-python",
   "name": "python",
   "nbconvert_exporter": "python",
   "pygments_lexer": "ipython3",
   "version": "3.7.0"
  },
  "toc": {
   "base_numbering": 1,
   "nav_menu": {},
   "number_sections": true,
   "sideBar": true,
   "skip_h1_title": true,
   "title_cell": "Table of Contents",
   "title_sidebar": "Contents",
   "toc_cell": false,
   "toc_position": {},
   "toc_section_display": true,
   "toc_window_display": false
  }
 },
 "nbformat": 4,
 "nbformat_minor": 2
}
